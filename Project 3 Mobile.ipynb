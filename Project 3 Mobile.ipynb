{
 "cells": [
  {
   "cell_type": "markdown",
   "metadata": {},
   "source": [
    "# Описание проекта  \n",
    "Клиентам предлагают два тарифных плана: «Смарт» и «Ультра». Чтобы скорректировать рекламный бюджет, коммерческий департамент хочет понять, какой тариф приносит больше денег.  \n",
    "Вам предстоит сделать предварительный анализ тарифов на небольшой выборке клиентов. В вашем распоряжении данные 500 пользователей «Мегалайна»: кто они, откуда, каким тарифом пользуются, сколько звонков и сообщений каждый отправил за 2018 год. Нужно проанализировать поведение клиентов и сделать вывод — какой тариф лучше.\n",
    "\n",
    "\n",
    "# Описание тарифов\n",
    "1) Тариф «Смарт»  \n",
    "Ежемесячная плата: 550 рублей\n",
    "Включено 500 минут разговора, 50 сообщений и 15 Гб интернет-трафика\n",
    "Стоимость услуг сверх тарифного пакета: 1. минута разговора: 3 рубля; 2. сообщение: 3 рубля; 3. 1 Гб интернет-трафика: 200 рублей.  \n",
    "\n",
    "2) Тариф «Ультра»  \n",
    "Ежемесячная плата: 1950 рублей\n",
    "Включено 3000 минут разговора, 1000 сообщений и 30 Гб интернет-трафика\n",
    "Стоимость услуг сверх тарифного пакета: 1. минута разговора: 1 рубль; 2. сообщение: 1 рубль; 3. 1 Гб интернет-трафика: 150 рублей.  \n",
    "\n",
    "Примечание:\n",
    "«Мегалайн» всегда округляет секунды до минут, а мегабайты — до гигабайт. Каждый звонок округляется отдельно: даже если он длился всего 1 секунду, будет засчитан как 1 минута.\n",
    "Для веб-трафика отдельные сессии не считаются. Вместо этого общая сумма за месяц округляется в бо́льшую сторону. Если абонент использует 1025 мегабайт в этом месяце, с него возьмут плату за 2 гигабайта."
   ]
  },
  {
   "cell_type": "markdown",
   "metadata": {
    "toc": true
   },
   "source": [
    "<h1>Содержание<span class=\"tocSkip\"></span></h1>\n",
    "<div class=\"toc\"><ul class=\"toc-item\"><li><span><a href=\"#Импорт-основных-библиотек-и-изучение-данных\" data-toc-modified-id=\"Импорт-основных-библиотек-и-изучение-данных-1\"><span class=\"toc-item-num\">1&nbsp;&nbsp;</span>Импорт основных библиотек и изучение данных</a></span><ul class=\"toc-item\"><li><span><a href=\"#Импорт-библиотек-и-настройка-jupyter\" data-toc-modified-id=\"Импорт-библиотек-и-настройка-jupyter-1.1\"><span class=\"toc-item-num\">1.1&nbsp;&nbsp;</span>Импорт библиотек и настройка jupyter</a></span></li><li><span><a href=\"#Импорт-и-изучение-данных\" data-toc-modified-id=\"Импорт-и-изучение-данных-1.2\"><span class=\"toc-item-num\">1.2&nbsp;&nbsp;</span>Импорт и изучение данных</a></span></li><li><span><a href=\"#Выводы\" data-toc-modified-id=\"Выводы-1.3\"><span class=\"toc-item-num\">1.3&nbsp;&nbsp;</span>Выводы</a></span></li></ul></li><li><span><a href=\"#Подготовка-данных\" data-toc-modified-id=\"Подготовка-данных-2\"><span class=\"toc-item-num\">2&nbsp;&nbsp;</span>Подготовка данных</a></span><ul class=\"toc-item\"><li><span><a href=\"#Приведение-столбцов-к-требуемым-типам-данных\" data-toc-modified-id=\"Приведение-столбцов-к-требуемым-типам-данных-2.1\"><span class=\"toc-item-num\">2.1&nbsp;&nbsp;</span>Приведение столбцов к требуемым типам данных</a></span></li><li><span><a href=\"#Проверка-столбца-&quot;Unnamed:-0&quot;\" data-toc-modified-id=\"Проверка-столбца-&quot;Unnamed:-0&quot;-2.2\"><span class=\"toc-item-num\">2.2&nbsp;&nbsp;</span>Проверка столбца \"Unnamed: 0\"</a></span></li><li><span><a href=\"#Проверка-на-дубликаты\" data-toc-modified-id=\"Проверка-на-дубликаты-2.3\"><span class=\"toc-item-num\">2.3&nbsp;&nbsp;</span>Проверка на дубликаты</a></span></li><li><span><a href=\"#Расчет-дополнительных-данных-для-анализа\" data-toc-modified-id=\"Расчет-дополнительных-данных-для-анализа-2.4\"><span class=\"toc-item-num\">2.4&nbsp;&nbsp;</span>Расчет дополнительных данных для анализа</a></span></li><li><span><a href=\"#Выводы\" data-toc-modified-id=\"Выводы-2.5\"><span class=\"toc-item-num\">2.5&nbsp;&nbsp;</span>Выводы</a></span></li></ul></li><li><span><a href=\"#Анализ-данных\" data-toc-modified-id=\"Анализ-данных-3\"><span class=\"toc-item-num\">3&nbsp;&nbsp;</span>Анализ данных</a></span><ul class=\"toc-item\"><li><span><a href=\"#Проверка-средних-и-медианных-значений\" data-toc-modified-id=\"Проверка-средних-и-медианных-значений-3.1\"><span class=\"toc-item-num\">3.1&nbsp;&nbsp;</span>Проверка средних и медианных значений</a></span></li><li><span><a href=\"#Анализ-звонков\" data-toc-modified-id=\"Анализ-звонков-3.2\"><span class=\"toc-item-num\">3.2&nbsp;&nbsp;</span>Анализ звонков</a></span></li><li><span><a href=\"#Анализ-использования-абонентами-мобильного-интернета\" data-toc-modified-id=\"Анализ-использования-абонентами-мобильного-интернета-3.3\"><span class=\"toc-item-num\">3.3&nbsp;&nbsp;</span>Анализ использования абонентами мобильного интернета</a></span></li><li><span><a href=\"#Анализ-использования-абонентами--текстовых-сообщений\" data-toc-modified-id=\"Анализ-использования-абонентами--текстовых-сообщений-3.4\"><span class=\"toc-item-num\">3.4&nbsp;&nbsp;</span>Анализ использования абонентами  текстовых сообщений</a></span></li><li><span><a href=\"#Выводы\" data-toc-modified-id=\"Выводы-3.5\"><span class=\"toc-item-num\">3.5&nbsp;&nbsp;</span>Выводы</a></span></li></ul></li><li><span><a href=\"#Проверка-гипотезы\" data-toc-modified-id=\"Проверка-гипотезы-4\"><span class=\"toc-item-num\">4&nbsp;&nbsp;</span>Проверка гипотезы</a></span><ul class=\"toc-item\"><li><span><a href=\"#Проверка-гипотезы-№1\" data-toc-modified-id=\"Проверка-гипотезы-№1-4.1\"><span class=\"toc-item-num\">4.1&nbsp;&nbsp;</span>Проверка гипотезы №1</a></span></li><li><span><a href=\"#Проверка-гипотезы-№2\" data-toc-modified-id=\"Проверка-гипотезы-№2-4.2\"><span class=\"toc-item-num\">4.2&nbsp;&nbsp;</span>Проверка гипотезы №2</a></span></li><li><span><a href=\"#Выводы\" data-toc-modified-id=\"Выводы-4.3\"><span class=\"toc-item-num\">4.3&nbsp;&nbsp;</span>Выводы</a></span></li></ul></li><li><span><a href=\"#Общий-вывод\" data-toc-modified-id=\"Общий-вывод-5\"><span class=\"toc-item-num\">5&nbsp;&nbsp;</span>Общий вывод</a></span></li><li><span><a href=\"#Финальный-комментарий\" data-toc-modified-id=\"Финальный-комментарий-6\"><span class=\"toc-item-num\">6&nbsp;&nbsp;</span><span style=\"color:green\">Финальный комментарий<span></span></span></a></span></li></ul></div>"
   ]
  },
  {
   "cell_type": "markdown",
   "metadata": {},
   "source": [
    "## Импорт основных библиотек и изучение данных\n",
    "### Импорт библиотек и настройка jupyter"
   ]
  },
  {
   "cell_type": "code",
   "execution_count": 1,
   "metadata": {},
   "outputs": [],
   "source": [
    "import pandas as pd\n",
    "from scipy import stats as st\n",
    "import numpy as np\n",
    "import math\n",
    "import matplotlib.pyplot as plt"
   ]
  },
  {
   "cell_type": "markdown",
   "metadata": {},
   "source": [
    "Делаем преднастройку - ограничиваем видимость для цифр с плавающей запятой в две цифры, а также настраиваем отображение всех колонок."
   ]
  },
  {
   "cell_type": "code",
   "execution_count": 2,
   "metadata": {},
   "outputs": [],
   "source": [
    "pd.set_option('display.float_format', lambda x: '%.2f' % x)\n",
    "pd.set_option('display.max_colwidth', None)"
   ]
  },
  {
   "cell_type": "markdown",
   "metadata": {},
   "source": [
    "### Импорт и изучение данных"
   ]
  },
  {
   "cell_type": "markdown",
   "metadata": {},
   "source": [
    "Загружаем файл с данными."
   ]
  },
  {
   "cell_type": "code",
   "execution_count": 3,
   "metadata": {},
   "outputs": [],
   "source": [
    "df_calls = pd.read_csv('calls.csv')\n",
    "df_internet = pd.read_csv('internet.csv')\n",
    "df_messages = pd.read_csv('messages.csv')\n",
    "df_tariffs = pd.read_csv('tariffs.csv')\n",
    "df_users = pd.read_csv('users.csv')"
   ]
  },
  {
   "cell_type": "markdown",
   "metadata": {},
   "source": [
    "Для изучения данных будем использовать функцию inspect."
   ]
  },
  {
   "cell_type": "code",
   "execution_count": 4,
   "metadata": {},
   "outputs": [],
   "source": [
    "def inspect(df):\n",
    "    display(df.sample(10, random_state=1)) \n",
    "    df.info() \n",
    "    print ('Количество дубликатов -', df.duplicated().sum())\n",
    "    numeric_columns=df.describe().columns\n",
    "    display(df.describe())\n",
    "    display()\n",
    "    df.columns = [x.lower().replace(' ', '_') for x in df.columns.values]\n",
    "    for column_name in df.columns:\n",
    "        if 'datetime' in column_name:\n",
    "            df[column_name] = pd.to_datetime(df[column_name])\n",
    "        else:\n",
    "            display(df[column_name].value_counts())\n",
    "            print(50*'*')\n",
    "    return df"
   ]
  },
  {
   "cell_type": "code",
   "execution_count": 5,
   "metadata": {
    "scrolled": true
   },
   "outputs": [
    {
     "name": "stdout",
     "output_type": "stream",
     "text": [
      "\u001b[1m****************************************************************************************************\u001b[0m\n"
     ]
    },
    {
     "data": {
      "text/html": [
       "<div>\n",
       "<style scoped>\n",
       "    .dataframe tbody tr th:only-of-type {\n",
       "        vertical-align: middle;\n",
       "    }\n",
       "\n",
       "    .dataframe tbody tr th {\n",
       "        vertical-align: top;\n",
       "    }\n",
       "\n",
       "    .dataframe thead th {\n",
       "        text-align: right;\n",
       "    }\n",
       "</style>\n",
       "<table border=\"1\" class=\"dataframe\">\n",
       "  <thead>\n",
       "    <tr style=\"text-align: right;\">\n",
       "      <th></th>\n",
       "      <th>id</th>\n",
       "      <th>call_date</th>\n",
       "      <th>duration</th>\n",
       "      <th>user_id</th>\n",
       "    </tr>\n",
       "  </thead>\n",
       "  <tbody>\n",
       "    <tr>\n",
       "      <th>26953</th>\n",
       "      <td>1066_374</td>\n",
       "      <td>2018-08-26</td>\n",
       "      <td>0.00</td>\n",
       "      <td>1066</td>\n",
       "    </tr>\n",
       "    <tr>\n",
       "      <th>66122</th>\n",
       "      <td>1168_1273</td>\n",
       "      <td>2018-03-28</td>\n",
       "      <td>16.05</td>\n",
       "      <td>1168</td>\n",
       "    </tr>\n",
       "    <tr>\n",
       "      <th>67325</th>\n",
       "      <td>1171_350</td>\n",
       "      <td>2018-09-14</td>\n",
       "      <td>6.23</td>\n",
       "      <td>1171</td>\n",
       "    </tr>\n",
       "    <tr>\n",
       "      <th>74643</th>\n",
       "      <td>1186_465</td>\n",
       "      <td>2018-09-02</td>\n",
       "      <td>0.79</td>\n",
       "      <td>1186</td>\n",
       "    </tr>\n",
       "    <tr>\n",
       "      <th>192311</th>\n",
       "      <td>1472_124</td>\n",
       "      <td>2018-05-04</td>\n",
       "      <td>5.94</td>\n",
       "      <td>1472</td>\n",
       "    </tr>\n",
       "    <tr>\n",
       "      <th>47375</th>\n",
       "      <td>1118_664</td>\n",
       "      <td>2018-10-24</td>\n",
       "      <td>13.41</td>\n",
       "      <td>1118</td>\n",
       "    </tr>\n",
       "    <tr>\n",
       "      <th>91143</th>\n",
       "      <td>1227_563</td>\n",
       "      <td>2018-08-03</td>\n",
       "      <td>15.15</td>\n",
       "      <td>1227</td>\n",
       "    </tr>\n",
       "    <tr>\n",
       "      <th>3818</th>\n",
       "      <td>1010_67</td>\n",
       "      <td>2018-08-16</td>\n",
       "      <td>14.29</td>\n",
       "      <td>1010</td>\n",
       "    </tr>\n",
       "    <tr>\n",
       "      <th>182822</th>\n",
       "      <td>1454_574</td>\n",
       "      <td>2018-09-23</td>\n",
       "      <td>9.98</td>\n",
       "      <td>1454</td>\n",
       "    </tr>\n",
       "    <tr>\n",
       "      <th>187346</th>\n",
       "      <td>1463_0</td>\n",
       "      <td>2018-12-05</td>\n",
       "      <td>10.63</td>\n",
       "      <td>1463</td>\n",
       "    </tr>\n",
       "  </tbody>\n",
       "</table>\n",
       "</div>"
      ],
      "text/plain": [
       "               id   call_date  duration  user_id\n",
       "26953    1066_374  2018-08-26      0.00     1066\n",
       "66122   1168_1273  2018-03-28     16.05     1168\n",
       "67325    1171_350  2018-09-14      6.23     1171\n",
       "74643    1186_465  2018-09-02      0.79     1186\n",
       "192311   1472_124  2018-05-04      5.94     1472\n",
       "47375    1118_664  2018-10-24     13.41     1118\n",
       "91143    1227_563  2018-08-03     15.15     1227\n",
       "3818      1010_67  2018-08-16     14.29     1010\n",
       "182822   1454_574  2018-09-23      9.98     1454\n",
       "187346     1463_0  2018-12-05     10.63     1463"
      ]
     },
     "metadata": {},
     "output_type": "display_data"
    },
    {
     "name": "stdout",
     "output_type": "stream",
     "text": [
      "<class 'pandas.core.frame.DataFrame'>\n",
      "RangeIndex: 202607 entries, 0 to 202606\n",
      "Data columns (total 4 columns):\n",
      " #   Column     Non-Null Count   Dtype  \n",
      "---  ------     --------------   -----  \n",
      " 0   id         202607 non-null  object \n",
      " 1   call_date  202607 non-null  object \n",
      " 2   duration   202607 non-null  float64\n",
      " 3   user_id    202607 non-null  int64  \n",
      "dtypes: float64(1), int64(1), object(2)\n",
      "memory usage: 6.2+ MB\n",
      "Количество дубликатов - 0\n"
     ]
    },
    {
     "data": {
      "text/html": [
       "<div>\n",
       "<style scoped>\n",
       "    .dataframe tbody tr th:only-of-type {\n",
       "        vertical-align: middle;\n",
       "    }\n",
       "\n",
       "    .dataframe tbody tr th {\n",
       "        vertical-align: top;\n",
       "    }\n",
       "\n",
       "    .dataframe thead th {\n",
       "        text-align: right;\n",
       "    }\n",
       "</style>\n",
       "<table border=\"1\" class=\"dataframe\">\n",
       "  <thead>\n",
       "    <tr style=\"text-align: right;\">\n",
       "      <th></th>\n",
       "      <th>duration</th>\n",
       "      <th>user_id</th>\n",
       "    </tr>\n",
       "  </thead>\n",
       "  <tbody>\n",
       "    <tr>\n",
       "      <th>count</th>\n",
       "      <td>202607.00</td>\n",
       "      <td>202607.00</td>\n",
       "    </tr>\n",
       "    <tr>\n",
       "      <th>mean</th>\n",
       "      <td>6.76</td>\n",
       "      <td>1253.94</td>\n",
       "    </tr>\n",
       "    <tr>\n",
       "      <th>std</th>\n",
       "      <td>5.84</td>\n",
       "      <td>144.72</td>\n",
       "    </tr>\n",
       "    <tr>\n",
       "      <th>min</th>\n",
       "      <td>0.00</td>\n",
       "      <td>1000.00</td>\n",
       "    </tr>\n",
       "    <tr>\n",
       "      <th>25%</th>\n",
       "      <td>1.30</td>\n",
       "      <td>1126.00</td>\n",
       "    </tr>\n",
       "    <tr>\n",
       "      <th>50%</th>\n",
       "      <td>6.00</td>\n",
       "      <td>1260.00</td>\n",
       "    </tr>\n",
       "    <tr>\n",
       "      <th>75%</th>\n",
       "      <td>10.70</td>\n",
       "      <td>1379.00</td>\n",
       "    </tr>\n",
       "    <tr>\n",
       "      <th>max</th>\n",
       "      <td>38.00</td>\n",
       "      <td>1499.00</td>\n",
       "    </tr>\n",
       "  </tbody>\n",
       "</table>\n",
       "</div>"
      ],
      "text/plain": [
       "       duration   user_id\n",
       "count 202607.00 202607.00\n",
       "mean       6.76   1253.94\n",
       "std        5.84    144.72\n",
       "min        0.00   1000.00\n",
       "25%        1.30   1126.00\n",
       "50%        6.00   1260.00\n",
       "75%       10.70   1379.00\n",
       "max       38.00   1499.00"
      ]
     },
     "metadata": {},
     "output_type": "display_data"
    },
    {
     "data": {
      "text/plain": [
       "1000_0      1\n",
       "1344_881    1\n",
       "1344_883    1\n",
       "1344_884    1\n",
       "1344_885    1\n",
       "           ..\n",
       "1171_562    1\n",
       "1171_563    1\n",
       "1171_564    1\n",
       "1171_565    1\n",
       "1499_219    1\n",
       "Name: id, Length: 202607, dtype: int64"
      ]
     },
     "metadata": {},
     "output_type": "display_data"
    },
    {
     "name": "stdout",
     "output_type": "stream",
     "text": [
      "**************************************************\n"
     ]
    },
    {
     "data": {
      "text/plain": [
       "2018-12-31    1435\n",
       "2018-12-29    1202\n",
       "2018-12-30    1192\n",
       "2018-12-22    1158\n",
       "2018-12-26    1149\n",
       "              ... \n",
       "2018-01-05      20\n",
       "2018-01-07      18\n",
       "2018-01-02       9\n",
       "2018-01-03       7\n",
       "2018-01-01       5\n",
       "Name: call_date, Length: 365, dtype: int64"
      ]
     },
     "metadata": {},
     "output_type": "display_data"
    },
    {
     "name": "stdout",
     "output_type": "stream",
     "text": [
      "**************************************************\n"
     ]
    },
    {
     "data": {
      "text/plain": [
       "0.00     39613\n",
       "4.49       142\n",
       "5.50       142\n",
       "6.15       141\n",
       "6.38       141\n",
       "         ...  \n",
       "26.94        1\n",
       "32.19        1\n",
       "26.32        1\n",
       "27.41        1\n",
       "26.90        1\n",
       "Name: duration, Length: 2871, dtype: int64"
      ]
     },
     "metadata": {},
     "output_type": "display_data"
    },
    {
     "name": "stdout",
     "output_type": "stream",
     "text": [
      "**************************************************\n"
     ]
    },
    {
     "data": {
      "text/plain": [
       "1377    1760\n",
       "1168    1692\n",
       "1375    1560\n",
       "1453    1440\n",
       "1196    1240\n",
       "        ... \n",
       "1397      33\n",
       "1442      28\n",
       "1373      24\n",
       "1016      20\n",
       "1257      14\n",
       "Name: user_id, Length: 492, dtype: int64"
      ]
     },
     "metadata": {},
     "output_type": "display_data"
    },
    {
     "name": "stdout",
     "output_type": "stream",
     "text": [
      "**************************************************\n",
      "\u001b[1m****************************************************************************************************\u001b[0m\n"
     ]
    },
    {
     "data": {
      "text/html": [
       "<div>\n",
       "<style scoped>\n",
       "    .dataframe tbody tr th:only-of-type {\n",
       "        vertical-align: middle;\n",
       "    }\n",
       "\n",
       "    .dataframe tbody tr th {\n",
       "        vertical-align: top;\n",
       "    }\n",
       "\n",
       "    .dataframe thead th {\n",
       "        text-align: right;\n",
       "    }\n",
       "</style>\n",
       "<table border=\"1\" class=\"dataframe\">\n",
       "  <thead>\n",
       "    <tr style=\"text-align: right;\">\n",
       "      <th></th>\n",
       "      <th>id</th>\n",
       "      <th>call_date</th>\n",
       "      <th>duration</th>\n",
       "      <th>user_id</th>\n",
       "    </tr>\n",
       "  </thead>\n",
       "  <tbody>\n",
       "    <tr>\n",
       "      <th>26953</th>\n",
       "      <td>1066_374</td>\n",
       "      <td>2018-08-26</td>\n",
       "      <td>0.00</td>\n",
       "      <td>1066</td>\n",
       "    </tr>\n",
       "    <tr>\n",
       "      <th>66122</th>\n",
       "      <td>1168_1273</td>\n",
       "      <td>2018-03-28</td>\n",
       "      <td>16.05</td>\n",
       "      <td>1168</td>\n",
       "    </tr>\n",
       "    <tr>\n",
       "      <th>67325</th>\n",
       "      <td>1171_350</td>\n",
       "      <td>2018-09-14</td>\n",
       "      <td>6.23</td>\n",
       "      <td>1171</td>\n",
       "    </tr>\n",
       "    <tr>\n",
       "      <th>74643</th>\n",
       "      <td>1186_465</td>\n",
       "      <td>2018-09-02</td>\n",
       "      <td>0.79</td>\n",
       "      <td>1186</td>\n",
       "    </tr>\n",
       "    <tr>\n",
       "      <th>192311</th>\n",
       "      <td>1472_124</td>\n",
       "      <td>2018-05-04</td>\n",
       "      <td>5.94</td>\n",
       "      <td>1472</td>\n",
       "    </tr>\n",
       "    <tr>\n",
       "      <th>47375</th>\n",
       "      <td>1118_664</td>\n",
       "      <td>2018-10-24</td>\n",
       "      <td>13.41</td>\n",
       "      <td>1118</td>\n",
       "    </tr>\n",
       "    <tr>\n",
       "      <th>91143</th>\n",
       "      <td>1227_563</td>\n",
       "      <td>2018-08-03</td>\n",
       "      <td>15.15</td>\n",
       "      <td>1227</td>\n",
       "    </tr>\n",
       "    <tr>\n",
       "      <th>3818</th>\n",
       "      <td>1010_67</td>\n",
       "      <td>2018-08-16</td>\n",
       "      <td>14.29</td>\n",
       "      <td>1010</td>\n",
       "    </tr>\n",
       "    <tr>\n",
       "      <th>182822</th>\n",
       "      <td>1454_574</td>\n",
       "      <td>2018-09-23</td>\n",
       "      <td>9.98</td>\n",
       "      <td>1454</td>\n",
       "    </tr>\n",
       "    <tr>\n",
       "      <th>187346</th>\n",
       "      <td>1463_0</td>\n",
       "      <td>2018-12-05</td>\n",
       "      <td>10.63</td>\n",
       "      <td>1463</td>\n",
       "    </tr>\n",
       "  </tbody>\n",
       "</table>\n",
       "</div>"
      ],
      "text/plain": [
       "               id   call_date  duration  user_id\n",
       "26953    1066_374  2018-08-26      0.00     1066\n",
       "66122   1168_1273  2018-03-28     16.05     1168\n",
       "67325    1171_350  2018-09-14      6.23     1171\n",
       "74643    1186_465  2018-09-02      0.79     1186\n",
       "192311   1472_124  2018-05-04      5.94     1472\n",
       "47375    1118_664  2018-10-24     13.41     1118\n",
       "91143    1227_563  2018-08-03     15.15     1227\n",
       "3818      1010_67  2018-08-16     14.29     1010\n",
       "182822   1454_574  2018-09-23      9.98     1454\n",
       "187346     1463_0  2018-12-05     10.63     1463"
      ]
     },
     "metadata": {},
     "output_type": "display_data"
    },
    {
     "name": "stdout",
     "output_type": "stream",
     "text": [
      "<class 'pandas.core.frame.DataFrame'>\n",
      "RangeIndex: 202607 entries, 0 to 202606\n",
      "Data columns (total 4 columns):\n",
      " #   Column     Non-Null Count   Dtype  \n",
      "---  ------     --------------   -----  \n",
      " 0   id         202607 non-null  object \n",
      " 1   call_date  202607 non-null  object \n",
      " 2   duration   202607 non-null  float64\n",
      " 3   user_id    202607 non-null  int64  \n",
      "dtypes: float64(1), int64(1), object(2)\n",
      "memory usage: 6.2+ MB\n",
      "Количество дубликатов - 0\n"
     ]
    },
    {
     "data": {
      "text/html": [
       "<div>\n",
       "<style scoped>\n",
       "    .dataframe tbody tr th:only-of-type {\n",
       "        vertical-align: middle;\n",
       "    }\n",
       "\n",
       "    .dataframe tbody tr th {\n",
       "        vertical-align: top;\n",
       "    }\n",
       "\n",
       "    .dataframe thead th {\n",
       "        text-align: right;\n",
       "    }\n",
       "</style>\n",
       "<table border=\"1\" class=\"dataframe\">\n",
       "  <thead>\n",
       "    <tr style=\"text-align: right;\">\n",
       "      <th></th>\n",
       "      <th>duration</th>\n",
       "      <th>user_id</th>\n",
       "    </tr>\n",
       "  </thead>\n",
       "  <tbody>\n",
       "    <tr>\n",
       "      <th>count</th>\n",
       "      <td>202607.00</td>\n",
       "      <td>202607.00</td>\n",
       "    </tr>\n",
       "    <tr>\n",
       "      <th>mean</th>\n",
       "      <td>6.76</td>\n",
       "      <td>1253.94</td>\n",
       "    </tr>\n",
       "    <tr>\n",
       "      <th>std</th>\n",
       "      <td>5.84</td>\n",
       "      <td>144.72</td>\n",
       "    </tr>\n",
       "    <tr>\n",
       "      <th>min</th>\n",
       "      <td>0.00</td>\n",
       "      <td>1000.00</td>\n",
       "    </tr>\n",
       "    <tr>\n",
       "      <th>25%</th>\n",
       "      <td>1.30</td>\n",
       "      <td>1126.00</td>\n",
       "    </tr>\n",
       "    <tr>\n",
       "      <th>50%</th>\n",
       "      <td>6.00</td>\n",
       "      <td>1260.00</td>\n",
       "    </tr>\n",
       "    <tr>\n",
       "      <th>75%</th>\n",
       "      <td>10.70</td>\n",
       "      <td>1379.00</td>\n",
       "    </tr>\n",
       "    <tr>\n",
       "      <th>max</th>\n",
       "      <td>38.00</td>\n",
       "      <td>1499.00</td>\n",
       "    </tr>\n",
       "  </tbody>\n",
       "</table>\n",
       "</div>"
      ],
      "text/plain": [
       "       duration   user_id\n",
       "count 202607.00 202607.00\n",
       "mean       6.76   1253.94\n",
       "std        5.84    144.72\n",
       "min        0.00   1000.00\n",
       "25%        1.30   1126.00\n",
       "50%        6.00   1260.00\n",
       "75%       10.70   1379.00\n",
       "max       38.00   1499.00"
      ]
     },
     "metadata": {},
     "output_type": "display_data"
    },
    {
     "data": {
      "text/plain": [
       "1000_0      1\n",
       "1344_881    1\n",
       "1344_883    1\n",
       "1344_884    1\n",
       "1344_885    1\n",
       "           ..\n",
       "1171_562    1\n",
       "1171_563    1\n",
       "1171_564    1\n",
       "1171_565    1\n",
       "1499_219    1\n",
       "Name: id, Length: 202607, dtype: int64"
      ]
     },
     "metadata": {},
     "output_type": "display_data"
    },
    {
     "name": "stdout",
     "output_type": "stream",
     "text": [
      "**************************************************\n"
     ]
    },
    {
     "data": {
      "text/plain": [
       "2018-12-31    1435\n",
       "2018-12-29    1202\n",
       "2018-12-30    1192\n",
       "2018-12-22    1158\n",
       "2018-12-26    1149\n",
       "              ... \n",
       "2018-01-05      20\n",
       "2018-01-07      18\n",
       "2018-01-02       9\n",
       "2018-01-03       7\n",
       "2018-01-01       5\n",
       "Name: call_date, Length: 365, dtype: int64"
      ]
     },
     "metadata": {},
     "output_type": "display_data"
    },
    {
     "name": "stdout",
     "output_type": "stream",
     "text": [
      "**************************************************\n"
     ]
    },
    {
     "data": {
      "text/plain": [
       "0.00     39613\n",
       "4.49       142\n",
       "5.50       142\n",
       "6.15       141\n",
       "6.38       141\n",
       "         ...  \n",
       "26.94        1\n",
       "32.19        1\n",
       "26.32        1\n",
       "27.41        1\n",
       "26.90        1\n",
       "Name: duration, Length: 2871, dtype: int64"
      ]
     },
     "metadata": {},
     "output_type": "display_data"
    },
    {
     "name": "stdout",
     "output_type": "stream",
     "text": [
      "**************************************************\n"
     ]
    },
    {
     "data": {
      "text/plain": [
       "1377    1760\n",
       "1168    1692\n",
       "1375    1560\n",
       "1453    1440\n",
       "1196    1240\n",
       "        ... \n",
       "1397      33\n",
       "1442      28\n",
       "1373      24\n",
       "1016      20\n",
       "1257      14\n",
       "Name: user_id, Length: 492, dtype: int64"
      ]
     },
     "metadata": {},
     "output_type": "display_data"
    },
    {
     "name": "stdout",
     "output_type": "stream",
     "text": [
      "**************************************************\n",
      "\u001b[1m****************************************************************************************************\u001b[0m\n"
     ]
    },
    {
     "data": {
      "text/html": [
       "<div>\n",
       "<style scoped>\n",
       "    .dataframe tbody tr th:only-of-type {\n",
       "        vertical-align: middle;\n",
       "    }\n",
       "\n",
       "    .dataframe tbody tr th {\n",
       "        vertical-align: top;\n",
       "    }\n",
       "\n",
       "    .dataframe thead th {\n",
       "        text-align: right;\n",
       "    }\n",
       "</style>\n",
       "<table border=\"1\" class=\"dataframe\">\n",
       "  <thead>\n",
       "    <tr style=\"text-align: right;\">\n",
       "      <th></th>\n",
       "      <th>id</th>\n",
       "      <th>call_date</th>\n",
       "      <th>duration</th>\n",
       "      <th>user_id</th>\n",
       "    </tr>\n",
       "  </thead>\n",
       "  <tbody>\n",
       "    <tr>\n",
       "      <th>26953</th>\n",
       "      <td>1066_374</td>\n",
       "      <td>2018-08-26</td>\n",
       "      <td>0.00</td>\n",
       "      <td>1066</td>\n",
       "    </tr>\n",
       "    <tr>\n",
       "      <th>66122</th>\n",
       "      <td>1168_1273</td>\n",
       "      <td>2018-03-28</td>\n",
       "      <td>16.05</td>\n",
       "      <td>1168</td>\n",
       "    </tr>\n",
       "    <tr>\n",
       "      <th>67325</th>\n",
       "      <td>1171_350</td>\n",
       "      <td>2018-09-14</td>\n",
       "      <td>6.23</td>\n",
       "      <td>1171</td>\n",
       "    </tr>\n",
       "    <tr>\n",
       "      <th>74643</th>\n",
       "      <td>1186_465</td>\n",
       "      <td>2018-09-02</td>\n",
       "      <td>0.79</td>\n",
       "      <td>1186</td>\n",
       "    </tr>\n",
       "    <tr>\n",
       "      <th>192311</th>\n",
       "      <td>1472_124</td>\n",
       "      <td>2018-05-04</td>\n",
       "      <td>5.94</td>\n",
       "      <td>1472</td>\n",
       "    </tr>\n",
       "    <tr>\n",
       "      <th>47375</th>\n",
       "      <td>1118_664</td>\n",
       "      <td>2018-10-24</td>\n",
       "      <td>13.41</td>\n",
       "      <td>1118</td>\n",
       "    </tr>\n",
       "    <tr>\n",
       "      <th>91143</th>\n",
       "      <td>1227_563</td>\n",
       "      <td>2018-08-03</td>\n",
       "      <td>15.15</td>\n",
       "      <td>1227</td>\n",
       "    </tr>\n",
       "    <tr>\n",
       "      <th>3818</th>\n",
       "      <td>1010_67</td>\n",
       "      <td>2018-08-16</td>\n",
       "      <td>14.29</td>\n",
       "      <td>1010</td>\n",
       "    </tr>\n",
       "    <tr>\n",
       "      <th>182822</th>\n",
       "      <td>1454_574</td>\n",
       "      <td>2018-09-23</td>\n",
       "      <td>9.98</td>\n",
       "      <td>1454</td>\n",
       "    </tr>\n",
       "    <tr>\n",
       "      <th>187346</th>\n",
       "      <td>1463_0</td>\n",
       "      <td>2018-12-05</td>\n",
       "      <td>10.63</td>\n",
       "      <td>1463</td>\n",
       "    </tr>\n",
       "  </tbody>\n",
       "</table>\n",
       "</div>"
      ],
      "text/plain": [
       "               id   call_date  duration  user_id\n",
       "26953    1066_374  2018-08-26      0.00     1066\n",
       "66122   1168_1273  2018-03-28     16.05     1168\n",
       "67325    1171_350  2018-09-14      6.23     1171\n",
       "74643    1186_465  2018-09-02      0.79     1186\n",
       "192311   1472_124  2018-05-04      5.94     1472\n",
       "47375    1118_664  2018-10-24     13.41     1118\n",
       "91143    1227_563  2018-08-03     15.15     1227\n",
       "3818      1010_67  2018-08-16     14.29     1010\n",
       "182822   1454_574  2018-09-23      9.98     1454\n",
       "187346     1463_0  2018-12-05     10.63     1463"
      ]
     },
     "metadata": {},
     "output_type": "display_data"
    },
    {
     "name": "stdout",
     "output_type": "stream",
     "text": [
      "<class 'pandas.core.frame.DataFrame'>\n",
      "RangeIndex: 202607 entries, 0 to 202606\n",
      "Data columns (total 4 columns):\n",
      " #   Column     Non-Null Count   Dtype  \n",
      "---  ------     --------------   -----  \n",
      " 0   id         202607 non-null  object \n",
      " 1   call_date  202607 non-null  object \n",
      " 2   duration   202607 non-null  float64\n",
      " 3   user_id    202607 non-null  int64  \n",
      "dtypes: float64(1), int64(1), object(2)\n",
      "memory usage: 6.2+ MB\n",
      "Количество дубликатов - 0\n"
     ]
    },
    {
     "data": {
      "text/html": [
       "<div>\n",
       "<style scoped>\n",
       "    .dataframe tbody tr th:only-of-type {\n",
       "        vertical-align: middle;\n",
       "    }\n",
       "\n",
       "    .dataframe tbody tr th {\n",
       "        vertical-align: top;\n",
       "    }\n",
       "\n",
       "    .dataframe thead th {\n",
       "        text-align: right;\n",
       "    }\n",
       "</style>\n",
       "<table border=\"1\" class=\"dataframe\">\n",
       "  <thead>\n",
       "    <tr style=\"text-align: right;\">\n",
       "      <th></th>\n",
       "      <th>duration</th>\n",
       "      <th>user_id</th>\n",
       "    </tr>\n",
       "  </thead>\n",
       "  <tbody>\n",
       "    <tr>\n",
       "      <th>count</th>\n",
       "      <td>202607.00</td>\n",
       "      <td>202607.00</td>\n",
       "    </tr>\n",
       "    <tr>\n",
       "      <th>mean</th>\n",
       "      <td>6.76</td>\n",
       "      <td>1253.94</td>\n",
       "    </tr>\n",
       "    <tr>\n",
       "      <th>std</th>\n",
       "      <td>5.84</td>\n",
       "      <td>144.72</td>\n",
       "    </tr>\n",
       "    <tr>\n",
       "      <th>min</th>\n",
       "      <td>0.00</td>\n",
       "      <td>1000.00</td>\n",
       "    </tr>\n",
       "    <tr>\n",
       "      <th>25%</th>\n",
       "      <td>1.30</td>\n",
       "      <td>1126.00</td>\n",
       "    </tr>\n",
       "    <tr>\n",
       "      <th>50%</th>\n",
       "      <td>6.00</td>\n",
       "      <td>1260.00</td>\n",
       "    </tr>\n",
       "    <tr>\n",
       "      <th>75%</th>\n",
       "      <td>10.70</td>\n",
       "      <td>1379.00</td>\n",
       "    </tr>\n",
       "    <tr>\n",
       "      <th>max</th>\n",
       "      <td>38.00</td>\n",
       "      <td>1499.00</td>\n",
       "    </tr>\n",
       "  </tbody>\n",
       "</table>\n",
       "</div>"
      ],
      "text/plain": [
       "       duration   user_id\n",
       "count 202607.00 202607.00\n",
       "mean       6.76   1253.94\n",
       "std        5.84    144.72\n",
       "min        0.00   1000.00\n",
       "25%        1.30   1126.00\n",
       "50%        6.00   1260.00\n",
       "75%       10.70   1379.00\n",
       "max       38.00   1499.00"
      ]
     },
     "metadata": {},
     "output_type": "display_data"
    },
    {
     "data": {
      "text/plain": [
       "1000_0      1\n",
       "1344_881    1\n",
       "1344_883    1\n",
       "1344_884    1\n",
       "1344_885    1\n",
       "           ..\n",
       "1171_562    1\n",
       "1171_563    1\n",
       "1171_564    1\n",
       "1171_565    1\n",
       "1499_219    1\n",
       "Name: id, Length: 202607, dtype: int64"
      ]
     },
     "metadata": {},
     "output_type": "display_data"
    },
    {
     "name": "stdout",
     "output_type": "stream",
     "text": [
      "**************************************************\n"
     ]
    },
    {
     "data": {
      "text/plain": [
       "2018-12-31    1435\n",
       "2018-12-29    1202\n",
       "2018-12-30    1192\n",
       "2018-12-22    1158\n",
       "2018-12-26    1149\n",
       "              ... \n",
       "2018-01-05      20\n",
       "2018-01-07      18\n",
       "2018-01-02       9\n",
       "2018-01-03       7\n",
       "2018-01-01       5\n",
       "Name: call_date, Length: 365, dtype: int64"
      ]
     },
     "metadata": {},
     "output_type": "display_data"
    },
    {
     "name": "stdout",
     "output_type": "stream",
     "text": [
      "**************************************************\n"
     ]
    },
    {
     "data": {
      "text/plain": [
       "0.00     39613\n",
       "4.49       142\n",
       "5.50       142\n",
       "6.15       141\n",
       "6.38       141\n",
       "         ...  \n",
       "26.94        1\n",
       "32.19        1\n",
       "26.32        1\n",
       "27.41        1\n",
       "26.90        1\n",
       "Name: duration, Length: 2871, dtype: int64"
      ]
     },
     "metadata": {},
     "output_type": "display_data"
    },
    {
     "name": "stdout",
     "output_type": "stream",
     "text": [
      "**************************************************\n"
     ]
    },
    {
     "data": {
      "text/plain": [
       "1377    1760\n",
       "1168    1692\n",
       "1375    1560\n",
       "1453    1440\n",
       "1196    1240\n",
       "        ... \n",
       "1397      33\n",
       "1442      28\n",
       "1373      24\n",
       "1016      20\n",
       "1257      14\n",
       "Name: user_id, Length: 492, dtype: int64"
      ]
     },
     "metadata": {},
     "output_type": "display_data"
    },
    {
     "name": "stdout",
     "output_type": "stream",
     "text": [
      "**************************************************\n",
      "\u001b[1m****************************************************************************************************\u001b[0m\n"
     ]
    },
    {
     "data": {
      "text/html": [
       "<div>\n",
       "<style scoped>\n",
       "    .dataframe tbody tr th:only-of-type {\n",
       "        vertical-align: middle;\n",
       "    }\n",
       "\n",
       "    .dataframe tbody tr th {\n",
       "        vertical-align: top;\n",
       "    }\n",
       "\n",
       "    .dataframe thead th {\n",
       "        text-align: right;\n",
       "    }\n",
       "</style>\n",
       "<table border=\"1\" class=\"dataframe\">\n",
       "  <thead>\n",
       "    <tr style=\"text-align: right;\">\n",
       "      <th></th>\n",
       "      <th>id</th>\n",
       "      <th>call_date</th>\n",
       "      <th>duration</th>\n",
       "      <th>user_id</th>\n",
       "    </tr>\n",
       "  </thead>\n",
       "  <tbody>\n",
       "    <tr>\n",
       "      <th>26953</th>\n",
       "      <td>1066_374</td>\n",
       "      <td>2018-08-26</td>\n",
       "      <td>0.00</td>\n",
       "      <td>1066</td>\n",
       "    </tr>\n",
       "    <tr>\n",
       "      <th>66122</th>\n",
       "      <td>1168_1273</td>\n",
       "      <td>2018-03-28</td>\n",
       "      <td>16.05</td>\n",
       "      <td>1168</td>\n",
       "    </tr>\n",
       "    <tr>\n",
       "      <th>67325</th>\n",
       "      <td>1171_350</td>\n",
       "      <td>2018-09-14</td>\n",
       "      <td>6.23</td>\n",
       "      <td>1171</td>\n",
       "    </tr>\n",
       "    <tr>\n",
       "      <th>74643</th>\n",
       "      <td>1186_465</td>\n",
       "      <td>2018-09-02</td>\n",
       "      <td>0.79</td>\n",
       "      <td>1186</td>\n",
       "    </tr>\n",
       "    <tr>\n",
       "      <th>192311</th>\n",
       "      <td>1472_124</td>\n",
       "      <td>2018-05-04</td>\n",
       "      <td>5.94</td>\n",
       "      <td>1472</td>\n",
       "    </tr>\n",
       "    <tr>\n",
       "      <th>47375</th>\n",
       "      <td>1118_664</td>\n",
       "      <td>2018-10-24</td>\n",
       "      <td>13.41</td>\n",
       "      <td>1118</td>\n",
       "    </tr>\n",
       "    <tr>\n",
       "      <th>91143</th>\n",
       "      <td>1227_563</td>\n",
       "      <td>2018-08-03</td>\n",
       "      <td>15.15</td>\n",
       "      <td>1227</td>\n",
       "    </tr>\n",
       "    <tr>\n",
       "      <th>3818</th>\n",
       "      <td>1010_67</td>\n",
       "      <td>2018-08-16</td>\n",
       "      <td>14.29</td>\n",
       "      <td>1010</td>\n",
       "    </tr>\n",
       "    <tr>\n",
       "      <th>182822</th>\n",
       "      <td>1454_574</td>\n",
       "      <td>2018-09-23</td>\n",
       "      <td>9.98</td>\n",
       "      <td>1454</td>\n",
       "    </tr>\n",
       "    <tr>\n",
       "      <th>187346</th>\n",
       "      <td>1463_0</td>\n",
       "      <td>2018-12-05</td>\n",
       "      <td>10.63</td>\n",
       "      <td>1463</td>\n",
       "    </tr>\n",
       "  </tbody>\n",
       "</table>\n",
       "</div>"
      ],
      "text/plain": [
       "               id   call_date  duration  user_id\n",
       "26953    1066_374  2018-08-26      0.00     1066\n",
       "66122   1168_1273  2018-03-28     16.05     1168\n",
       "67325    1171_350  2018-09-14      6.23     1171\n",
       "74643    1186_465  2018-09-02      0.79     1186\n",
       "192311   1472_124  2018-05-04      5.94     1472\n",
       "47375    1118_664  2018-10-24     13.41     1118\n",
       "91143    1227_563  2018-08-03     15.15     1227\n",
       "3818      1010_67  2018-08-16     14.29     1010\n",
       "182822   1454_574  2018-09-23      9.98     1454\n",
       "187346     1463_0  2018-12-05     10.63     1463"
      ]
     },
     "metadata": {},
     "output_type": "display_data"
    },
    {
     "name": "stdout",
     "output_type": "stream",
     "text": [
      "<class 'pandas.core.frame.DataFrame'>\n",
      "RangeIndex: 202607 entries, 0 to 202606\n",
      "Data columns (total 4 columns):\n",
      " #   Column     Non-Null Count   Dtype  \n",
      "---  ------     --------------   -----  \n",
      " 0   id         202607 non-null  object \n",
      " 1   call_date  202607 non-null  object \n",
      " 2   duration   202607 non-null  float64\n",
      " 3   user_id    202607 non-null  int64  \n",
      "dtypes: float64(1), int64(1), object(2)\n",
      "memory usage: 6.2+ MB\n",
      "Количество дубликатов - 0\n"
     ]
    },
    {
     "data": {
      "text/html": [
       "<div>\n",
       "<style scoped>\n",
       "    .dataframe tbody tr th:only-of-type {\n",
       "        vertical-align: middle;\n",
       "    }\n",
       "\n",
       "    .dataframe tbody tr th {\n",
       "        vertical-align: top;\n",
       "    }\n",
       "\n",
       "    .dataframe thead th {\n",
       "        text-align: right;\n",
       "    }\n",
       "</style>\n",
       "<table border=\"1\" class=\"dataframe\">\n",
       "  <thead>\n",
       "    <tr style=\"text-align: right;\">\n",
       "      <th></th>\n",
       "      <th>duration</th>\n",
       "      <th>user_id</th>\n",
       "    </tr>\n",
       "  </thead>\n",
       "  <tbody>\n",
       "    <tr>\n",
       "      <th>count</th>\n",
       "      <td>202607.00</td>\n",
       "      <td>202607.00</td>\n",
       "    </tr>\n",
       "    <tr>\n",
       "      <th>mean</th>\n",
       "      <td>6.76</td>\n",
       "      <td>1253.94</td>\n",
       "    </tr>\n",
       "    <tr>\n",
       "      <th>std</th>\n",
       "      <td>5.84</td>\n",
       "      <td>144.72</td>\n",
       "    </tr>\n",
       "    <tr>\n",
       "      <th>min</th>\n",
       "      <td>0.00</td>\n",
       "      <td>1000.00</td>\n",
       "    </tr>\n",
       "    <tr>\n",
       "      <th>25%</th>\n",
       "      <td>1.30</td>\n",
       "      <td>1126.00</td>\n",
       "    </tr>\n",
       "    <tr>\n",
       "      <th>50%</th>\n",
       "      <td>6.00</td>\n",
       "      <td>1260.00</td>\n",
       "    </tr>\n",
       "    <tr>\n",
       "      <th>75%</th>\n",
       "      <td>10.70</td>\n",
       "      <td>1379.00</td>\n",
       "    </tr>\n",
       "    <tr>\n",
       "      <th>max</th>\n",
       "      <td>38.00</td>\n",
       "      <td>1499.00</td>\n",
       "    </tr>\n",
       "  </tbody>\n",
       "</table>\n",
       "</div>"
      ],
      "text/plain": [
       "       duration   user_id\n",
       "count 202607.00 202607.00\n",
       "mean       6.76   1253.94\n",
       "std        5.84    144.72\n",
       "min        0.00   1000.00\n",
       "25%        1.30   1126.00\n",
       "50%        6.00   1260.00\n",
       "75%       10.70   1379.00\n",
       "max       38.00   1499.00"
      ]
     },
     "metadata": {},
     "output_type": "display_data"
    },
    {
     "data": {
      "text/plain": [
       "1000_0      1\n",
       "1344_881    1\n",
       "1344_883    1\n",
       "1344_884    1\n",
       "1344_885    1\n",
       "           ..\n",
       "1171_562    1\n",
       "1171_563    1\n",
       "1171_564    1\n",
       "1171_565    1\n",
       "1499_219    1\n",
       "Name: id, Length: 202607, dtype: int64"
      ]
     },
     "metadata": {},
     "output_type": "display_data"
    },
    {
     "name": "stdout",
     "output_type": "stream",
     "text": [
      "**************************************************\n"
     ]
    },
    {
     "data": {
      "text/plain": [
       "2018-12-31    1435\n",
       "2018-12-29    1202\n",
       "2018-12-30    1192\n",
       "2018-12-22    1158\n",
       "2018-12-26    1149\n",
       "              ... \n",
       "2018-01-05      20\n",
       "2018-01-07      18\n",
       "2018-01-02       9\n",
       "2018-01-03       7\n",
       "2018-01-01       5\n",
       "Name: call_date, Length: 365, dtype: int64"
      ]
     },
     "metadata": {},
     "output_type": "display_data"
    },
    {
     "name": "stdout",
     "output_type": "stream",
     "text": [
      "**************************************************\n"
     ]
    },
    {
     "data": {
      "text/plain": [
       "0.00     39613\n",
       "4.49       142\n",
       "5.50       142\n",
       "6.15       141\n",
       "6.38       141\n",
       "         ...  \n",
       "26.94        1\n",
       "32.19        1\n",
       "26.32        1\n",
       "27.41        1\n",
       "26.90        1\n",
       "Name: duration, Length: 2871, dtype: int64"
      ]
     },
     "metadata": {},
     "output_type": "display_data"
    },
    {
     "name": "stdout",
     "output_type": "stream",
     "text": [
      "**************************************************\n"
     ]
    },
    {
     "data": {
      "text/plain": [
       "1377    1760\n",
       "1168    1692\n",
       "1375    1560\n",
       "1453    1440\n",
       "1196    1240\n",
       "        ... \n",
       "1397      33\n",
       "1442      28\n",
       "1373      24\n",
       "1016      20\n",
       "1257      14\n",
       "Name: user_id, Length: 492, dtype: int64"
      ]
     },
     "metadata": {},
     "output_type": "display_data"
    },
    {
     "name": "stdout",
     "output_type": "stream",
     "text": [
      "**************************************************\n"
     ]
    }
   ],
   "source": [
    "for i in [df_calls, df_internet, df_messages, df_tariffs]:\n",
    "    print('\\033[1m' + 100*'*' + '\\033[0m')\n",
    "    inspect(df_calls)"
   ]
  },
  {
   "cell_type": "markdown",
   "metadata": {},
   "source": [
    "### Выводы\n",
    "Таблица df_calls содержит информацию о выполненных звонках абонентов (каждый звонок зафиксирован отдельно).\n",
    "В df_internet зафиксированы все интернет-сессии абонентов за рассматриваемый период.\n",
    "df_messages хранит даты отправки смс-сообщений абонентов.\n",
    "Актуальные тарифы хранятся в таблице df_tariffs.\n",
    "В df_users указан перечень пользователей с их id номерами, а также указана информация об используемых тарифах.\n",
    "\n",
    "Пропуски данных есть только в столбце churn_date. Но так как этот стоблец содержит дату прекращения пользования тарифом, то пропуски в этом столбце говорят, что тариф использовался на момент снятия данного отчета.\n",
    "\n",
    "В таблице df_internet есть неопознанный столбец с названием \"Unnamed: 0\". Далее проверим его.\n",
    "\n",
    "В таблицах df_calls, df_internet и df_messages присутствуют id номера абонентов (user_id). С помощью этого столбца мы сможем сопоставить данные с тарифами, которые использовались абонентами."
   ]
  },
  {
   "cell_type": "markdown",
   "metadata": {},
   "source": [
    "## Подготовка данных \n",
    "В рамках данного шага требуется проверить типы данных в таблицах, а также проверить таблицы на наличие ошибок.  \n",
    "После этого посчитаем для каждого пользователя следующие параметры:  \n",
    "- Количество сделанных звонков и израсходованных минут разговора по месяцам; \n",
    "- Количество отправленных сообщений по месяцам;\n",
    "- Объем израсходованного интернет-трафика по месяцам;\n",
    "- Помесячную выручку с каждого пользователя (абонентская плата по тарифу плюс стоимость сверхнормативных минут, сообщений и интернет-трафика)."
   ]
  },
  {
   "cell_type": "markdown",
   "metadata": {},
   "source": [
    "### Приведение столбцов к требуемым типам данных\n",
    "Первым делом переведем все столбцы с датами в тип даты.  \n",
    "Далее, так как каждый звонок округляется оператором раздельно вверх до минуты, округлим значения в столбце duration таблицы df_calls до целого.  "
   ]
  },
  {
   "cell_type": "code",
   "execution_count": 6,
   "metadata": {},
   "outputs": [],
   "source": [
    "df_calls['call_date'] = pd.to_datetime(df_calls['call_date'], format = '%Y-%m-%d')\n",
    "df_internet['session_date'] = pd.to_datetime(df_internet['session_date'], format = '%Y-%m-%d')\n",
    "df_messages['message_date'] = pd.to_datetime(df_messages['message_date'], format = '%Y-%m-%d')\n",
    "df_users['churn_date'] = pd.to_datetime(df_users['churn_date'], format = '%Y-%m-%d')\n",
    "df_users['reg_date'] = pd.to_datetime(df_users['reg_date'], format = '%Y-%m-%d')\n",
    "\n",
    "df_calls['duration'] = df_calls['duration'].apply(math.ceil)\n"
   ]
  },
  {
   "cell_type": "markdown",
   "metadata": {},
   "source": [
    "### Проверка столбца \"Unnamed: 0\"\n",
    "Ранее мы обнаружили столбец \"Unnamed: 0\" в таблице df_internet, который отсутствует в предоставленном в начале задания описании таблицы. Посмотрим на данные этой таблицы."
   ]
  },
  {
   "cell_type": "code",
   "execution_count": 7,
   "metadata": {},
   "outputs": [
    {
     "data": {
      "text/html": [
       "<div>\n",
       "<style scoped>\n",
       "    .dataframe tbody tr th:only-of-type {\n",
       "        vertical-align: middle;\n",
       "    }\n",
       "\n",
       "    .dataframe tbody tr th {\n",
       "        vertical-align: top;\n",
       "    }\n",
       "\n",
       "    .dataframe thead th {\n",
       "        text-align: right;\n",
       "    }\n",
       "</style>\n",
       "<table border=\"1\" class=\"dataframe\">\n",
       "  <thead>\n",
       "    <tr style=\"text-align: right;\">\n",
       "      <th></th>\n",
       "      <th>Unnamed: 0</th>\n",
       "      <th>id</th>\n",
       "      <th>mb_used</th>\n",
       "      <th>session_date</th>\n",
       "      <th>user_id</th>\n",
       "    </tr>\n",
       "  </thead>\n",
       "  <tbody>\n",
       "    <tr>\n",
       "      <th>0</th>\n",
       "      <td>0</td>\n",
       "      <td>1000_0</td>\n",
       "      <td>112.95</td>\n",
       "      <td>2018-11-25</td>\n",
       "      <td>1000</td>\n",
       "    </tr>\n",
       "    <tr>\n",
       "      <th>1</th>\n",
       "      <td>1</td>\n",
       "      <td>1000_1</td>\n",
       "      <td>1052.81</td>\n",
       "      <td>2018-09-07</td>\n",
       "      <td>1000</td>\n",
       "    </tr>\n",
       "    <tr>\n",
       "      <th>2</th>\n",
       "      <td>2</td>\n",
       "      <td>1000_2</td>\n",
       "      <td>1197.26</td>\n",
       "      <td>2018-06-25</td>\n",
       "      <td>1000</td>\n",
       "    </tr>\n",
       "    <tr>\n",
       "      <th>3</th>\n",
       "      <td>3</td>\n",
       "      <td>1000_3</td>\n",
       "      <td>550.27</td>\n",
       "      <td>2018-08-22</td>\n",
       "      <td>1000</td>\n",
       "    </tr>\n",
       "    <tr>\n",
       "      <th>4</th>\n",
       "      <td>4</td>\n",
       "      <td>1000_4</td>\n",
       "      <td>302.56</td>\n",
       "      <td>2018-09-24</td>\n",
       "      <td>1000</td>\n",
       "    </tr>\n",
       "    <tr>\n",
       "      <th>...</th>\n",
       "      <td>...</td>\n",
       "      <td>...</td>\n",
       "      <td>...</td>\n",
       "      <td>...</td>\n",
       "      <td>...</td>\n",
       "    </tr>\n",
       "    <tr>\n",
       "      <th>149391</th>\n",
       "      <td>149391</td>\n",
       "      <td>1499_152</td>\n",
       "      <td>318.90</td>\n",
       "      <td>2018-10-03</td>\n",
       "      <td>1499</td>\n",
       "    </tr>\n",
       "    <tr>\n",
       "      <th>149392</th>\n",
       "      <td>149392</td>\n",
       "      <td>1499_153</td>\n",
       "      <td>490.13</td>\n",
       "      <td>2018-12-14</td>\n",
       "      <td>1499</td>\n",
       "    </tr>\n",
       "    <tr>\n",
       "      <th>149393</th>\n",
       "      <td>149393</td>\n",
       "      <td>1499_154</td>\n",
       "      <td>0.00</td>\n",
       "      <td>2018-10-27</td>\n",
       "      <td>1499</td>\n",
       "    </tr>\n",
       "    <tr>\n",
       "      <th>149394</th>\n",
       "      <td>149394</td>\n",
       "      <td>1499_155</td>\n",
       "      <td>1246.32</td>\n",
       "      <td>2018-11-26</td>\n",
       "      <td>1499</td>\n",
       "    </tr>\n",
       "    <tr>\n",
       "      <th>149395</th>\n",
       "      <td>149395</td>\n",
       "      <td>1499_156</td>\n",
       "      <td>544.37</td>\n",
       "      <td>2018-10-26</td>\n",
       "      <td>1499</td>\n",
       "    </tr>\n",
       "  </tbody>\n",
       "</table>\n",
       "<p>149396 rows × 5 columns</p>\n",
       "</div>"
      ],
      "text/plain": [
       "        Unnamed: 0        id  mb_used session_date  user_id\n",
       "0                0    1000_0   112.95   2018-11-25     1000\n",
       "1                1    1000_1  1052.81   2018-09-07     1000\n",
       "2                2    1000_2  1197.26   2018-06-25     1000\n",
       "3                3    1000_3   550.27   2018-08-22     1000\n",
       "4                4    1000_4   302.56   2018-09-24     1000\n",
       "...            ...       ...      ...          ...      ...\n",
       "149391      149391  1499_152   318.90   2018-10-03     1499\n",
       "149392      149392  1499_153   490.13   2018-12-14     1499\n",
       "149393      149393  1499_154     0.00   2018-10-27     1499\n",
       "149394      149394  1499_155  1246.32   2018-11-26     1499\n",
       "149395      149395  1499_156   544.37   2018-10-26     1499\n",
       "\n",
       "[149396 rows x 5 columns]"
      ]
     },
     "execution_count": 7,
     "metadata": {},
     "output_type": "execute_result"
    }
   ],
   "source": [
    "df_internet"
   ]
  },
  {
   "cell_type": "markdown",
   "metadata": {},
   "source": [
    "Стоблец \"Unnamed: 0\" похож на задублировавшийся столбец с индексами.  \n",
    "Проверим это предположениями."
   ]
  },
  {
   "cell_type": "code",
   "execution_count": 8,
   "metadata": {},
   "outputs": [
    {
     "data": {
      "text/plain": [
       "True    149396\n",
       "dtype: int64"
      ]
     },
     "execution_count": 8,
     "metadata": {},
     "output_type": "execute_result"
    }
   ],
   "source": [
    "(df_internet['Unnamed: 0'] == df_internet.index).value_counts()"
   ]
  },
  {
   "cell_type": "markdown",
   "metadata": {},
   "source": [
    "Предположение подтвердилось. Так как нам не требуется задублированный столбец с индексами, удалим его."
   ]
  },
  {
   "cell_type": "code",
   "execution_count": 9,
   "metadata": {
    "scrolled": true
   },
   "outputs": [
    {
     "data": {
      "text/plain": [
       "0              0\n",
       "1              1\n",
       "2              2\n",
       "3              3\n",
       "4              4\n",
       "           ...  \n",
       "149391    149391\n",
       "149392    149392\n",
       "149393    149393\n",
       "149394    149394\n",
       "149395    149395\n",
       "Name: Unnamed: 0, Length: 149396, dtype: int64"
      ]
     },
     "execution_count": 9,
     "metadata": {},
     "output_type": "execute_result"
    }
   ],
   "source": [
    "df_internet.pop('Unnamed: 0')"
   ]
  },
  {
   "cell_type": "markdown",
   "metadata": {},
   "source": [
    "Остальные столбцы таблицы имеют корректный формат.  \n",
    "Прим.: Столбец Unnamed: 0 - появляется когда данные сохраняют с использованием индекса - df.to_csv(..., index_col='column'), чтобы его использовать, нужно при открытии указать index=0."
   ]
  },
  {
   "cell_type": "markdown",
   "metadata": {},
   "source": [
    "### Проверка на дубликаты\n",
    "Проверим названия городов, а также названия тарифов, чтобы убедиться, что ошибки отсутствут."
   ]
  },
  {
   "cell_type": "code",
   "execution_count": 10,
   "metadata": {},
   "outputs": [
    {
     "name": "stdout",
     "output_type": "stream",
     "text": [
      "['Архангельск' 'Астрахань' 'Балашиха' 'Барнаул' 'Белгород' 'Брянск'\n",
      " 'Владивосток' 'Владикавказ' 'Владимир' 'Волгоград' 'Волжский' 'Вологда'\n",
      " 'Воронеж' 'Грозный' 'Екатеринбург' 'Иваново' 'Ижевск' 'Иркутск' 'Казань'\n",
      " 'Калининград' 'Калуга' 'Кемерово' 'Киров' 'Кострома' 'Краснодар'\n",
      " 'Красноярск' 'Курган' 'Курск' 'Липецк' 'Магнитогорск' 'Махачкала'\n",
      " 'Москва' 'Мурманск' 'Набережные Челны' 'Нижневартовск' 'Нижний Новгород'\n",
      " 'Нижний Тагил' 'Новокузнецк' 'Новороссийск' 'Новосибирск' 'Омск'\n",
      " 'Оренбург' 'Орёл' 'Пенза' 'Пермь' 'Петрозаводск' 'Подольск'\n",
      " 'Ростов-на-Дону' 'Рязань' 'Самара' 'Санкт-Петербург' 'Саранск' 'Саратов'\n",
      " 'Севастополь' 'Смоленск' 'Сочи' 'Ставрополь' 'Стерлитамак' 'Сургут'\n",
      " 'Тамбов' 'Тверь' 'Тольятти' 'Томск' 'Тула' 'Тюмень' 'Улан-Удэ'\n",
      " 'Ульяновск' 'Уфа' 'Хабаровск' 'Химки' 'Чебоксары' 'Челябинск' 'Череповец'\n",
      " 'Чита' 'Якутск' 'Ярославль']\n",
      "['smart' 'ultra']\n"
     ]
    }
   ],
   "source": [
    "print(df_users['city'].sort_values().unique())\n",
    "print(df_users['tariff'].sort_values().unique())"
   ]
  },
  {
   "cell_type": "markdown",
   "metadata": {},
   "source": [
    "В этих столбцах дубликатов нет.  \n",
    "Проверим таблицы на наличие задублированных строк."
   ]
  },
  {
   "cell_type": "code",
   "execution_count": 11,
   "metadata": {},
   "outputs": [
    {
     "name": "stdout",
     "output_type": "stream",
     "text": [
      "Дублей в таблице 0\n",
      "Дублей в таблице 0\n",
      "Дублей в таблице 0\n",
      "Дублей в таблице 0\n"
     ]
    }
   ],
   "source": [
    "def check(df): \n",
    "    print('Дублей в таблице', len(df[df.duplicated()]))\n",
    "\n",
    "check(df_calls)\n",
    "check(df_internet)\n",
    "check(df_messages)\n",
    "check(df_users)"
   ]
  },
  {
   "cell_type": "markdown",
   "metadata": {},
   "source": [
    "Дубли в таблице отсутствуют.  \n",
    "\n",
    "Перепроверим, все ли данные у нас от 2018 года."
   ]
  },
  {
   "cell_type": "code",
   "execution_count": 12,
   "metadata": {},
   "outputs": [
    {
     "name": "stdout",
     "output_type": "stream",
     "text": [
      "2018    202607\n",
      "Name: call_date, dtype: int64\n",
      "2018    123036\n",
      "Name: message_date, dtype: int64\n",
      "2018    149396\n",
      "Name: session_date, dtype: int64\n"
     ]
    }
   ],
   "source": [
    "print(pd.DatetimeIndex(df_calls['call_date']).year.value_counts())\n",
    "print(pd.DatetimeIndex(df_messages['message_date']).year.value_counts())\n",
    "print(pd.DatetimeIndex(df_internet['session_date']).year.value_counts())"
   ]
  },
  {
   "cell_type": "markdown",
   "metadata": {},
   "source": [
    "### Расчет дополнительных данных для анализа\n",
    "Посчитаем для каждого пользователя количество сделанных звонков и израсходованных минут разговора по месяцам. Результаты сохраним в таблицу df_pivot_calls.   \n",
    "Для этого выделим для каждого звонка месяц в отдельный столбец (год не интересует, т.к. все данные от 2018 года)."
   ]
  },
  {
   "cell_type": "code",
   "execution_count": 13,
   "metadata": {},
   "outputs": [
    {
     "data": {
      "text/html": [
       "<div>\n",
       "<style scoped>\n",
       "    .dataframe tbody tr th:only-of-type {\n",
       "        vertical-align: middle;\n",
       "    }\n",
       "\n",
       "    .dataframe tbody tr th {\n",
       "        vertical-align: top;\n",
       "    }\n",
       "\n",
       "    .dataframe thead th {\n",
       "        text-align: right;\n",
       "    }\n",
       "</style>\n",
       "<table border=\"1\" class=\"dataframe\">\n",
       "  <thead>\n",
       "    <tr style=\"text-align: right;\">\n",
       "      <th></th>\n",
       "      <th></th>\n",
       "      <th>calls_count</th>\n",
       "      <th>calls_sum</th>\n",
       "    </tr>\n",
       "    <tr>\n",
       "      <th>user_id</th>\n",
       "      <th>month</th>\n",
       "      <th></th>\n",
       "      <th></th>\n",
       "    </tr>\n",
       "  </thead>\n",
       "  <tbody>\n",
       "    <tr>\n",
       "      <th rowspan=\"5\" valign=\"top\">1000</th>\n",
       "      <th>5</th>\n",
       "      <td>22</td>\n",
       "      <td>159</td>\n",
       "    </tr>\n",
       "    <tr>\n",
       "      <th>6</th>\n",
       "      <td>43</td>\n",
       "      <td>172</td>\n",
       "    </tr>\n",
       "    <tr>\n",
       "      <th>7</th>\n",
       "      <td>47</td>\n",
       "      <td>340</td>\n",
       "    </tr>\n",
       "    <tr>\n",
       "      <th>8</th>\n",
       "      <td>52</td>\n",
       "      <td>408</td>\n",
       "    </tr>\n",
       "    <tr>\n",
       "      <th>9</th>\n",
       "      <td>58</td>\n",
       "      <td>466</td>\n",
       "    </tr>\n",
       "    <tr>\n",
       "      <th>...</th>\n",
       "      <th>...</th>\n",
       "      <td>...</td>\n",
       "      <td>...</td>\n",
       "    </tr>\n",
       "    <tr>\n",
       "      <th>1498</th>\n",
       "      <th>10</th>\n",
       "      <td>41</td>\n",
       "      <td>247</td>\n",
       "    </tr>\n",
       "    <tr>\n",
       "      <th rowspan=\"4\" valign=\"top\">1499</th>\n",
       "      <th>9</th>\n",
       "      <td>9</td>\n",
       "      <td>70</td>\n",
       "    </tr>\n",
       "    <tr>\n",
       "      <th>10</th>\n",
       "      <td>68</td>\n",
       "      <td>449</td>\n",
       "    </tr>\n",
       "    <tr>\n",
       "      <th>11</th>\n",
       "      <td>74</td>\n",
       "      <td>612</td>\n",
       "    </tr>\n",
       "    <tr>\n",
       "      <th>12</th>\n",
       "      <td>69</td>\n",
       "      <td>492</td>\n",
       "    </tr>\n",
       "  </tbody>\n",
       "</table>\n",
       "<p>3174 rows × 2 columns</p>\n",
       "</div>"
      ],
      "text/plain": [
       "               calls_count  calls_sum\n",
       "user_id month                        \n",
       "1000    5               22        159\n",
       "        6               43        172\n",
       "        7               47        340\n",
       "        8               52        408\n",
       "        9               58        466\n",
       "...                    ...        ...\n",
       "1498    10              41        247\n",
       "1499    9                9         70\n",
       "        10              68        449\n",
       "        11              74        612\n",
       "        12              69        492\n",
       "\n",
       "[3174 rows x 2 columns]"
      ]
     },
     "execution_count": 13,
     "metadata": {},
     "output_type": "execute_result"
    }
   ],
   "source": [
    "df_calls['month'] = pd.DatetimeIndex(df_calls['call_date']).month\n",
    "\n",
    "df_pivot_calls = df_calls.pivot_table(index=['user_id', 'month'], values='duration', \n",
    "                     aggfunc={'count','sum'})\n",
    "# Переименуем столбцы для удобства\n",
    "df_pivot_calls.rename(columns={'count': 'calls_count', 'sum': 'calls_sum'}, inplace=True)\n",
    "df_pivot_calls"
   ]
  },
  {
   "cell_type": "markdown",
   "metadata": {},
   "source": [
    "Следующим шагом аналогичным образом посчитаем количество отправленных сообщений по месяцам. Данные сохраним в таблицу df_pivot_messages.  "
   ]
  },
  {
   "cell_type": "code",
   "execution_count": 14,
   "metadata": {},
   "outputs": [
    {
     "data": {
      "text/html": [
       "<div>\n",
       "<style scoped>\n",
       "    .dataframe tbody tr th:only-of-type {\n",
       "        vertical-align: middle;\n",
       "    }\n",
       "\n",
       "    .dataframe tbody tr th {\n",
       "        vertical-align: top;\n",
       "    }\n",
       "\n",
       "    .dataframe thead th {\n",
       "        text-align: right;\n",
       "    }\n",
       "</style>\n",
       "<table border=\"1\" class=\"dataframe\">\n",
       "  <thead>\n",
       "    <tr style=\"text-align: right;\">\n",
       "      <th></th>\n",
       "      <th></th>\n",
       "      <th>message_sent</th>\n",
       "    </tr>\n",
       "    <tr>\n",
       "      <th>user_id</th>\n",
       "      <th>month</th>\n",
       "      <th></th>\n",
       "    </tr>\n",
       "  </thead>\n",
       "  <tbody>\n",
       "    <tr>\n",
       "      <th rowspan=\"5\" valign=\"top\">1000</th>\n",
       "      <th>5</th>\n",
       "      <td>22</td>\n",
       "    </tr>\n",
       "    <tr>\n",
       "      <th>6</th>\n",
       "      <td>60</td>\n",
       "    </tr>\n",
       "    <tr>\n",
       "      <th>7</th>\n",
       "      <td>75</td>\n",
       "    </tr>\n",
       "    <tr>\n",
       "      <th>8</th>\n",
       "      <td>81</td>\n",
       "    </tr>\n",
       "    <tr>\n",
       "      <th>9</th>\n",
       "      <td>57</td>\n",
       "    </tr>\n",
       "    <tr>\n",
       "      <th>...</th>\n",
       "      <th>...</th>\n",
       "      <td>...</td>\n",
       "    </tr>\n",
       "    <tr>\n",
       "      <th>1498</th>\n",
       "      <th>10</th>\n",
       "      <td>42</td>\n",
       "    </tr>\n",
       "    <tr>\n",
       "      <th rowspan=\"4\" valign=\"top\">1499</th>\n",
       "      <th>9</th>\n",
       "      <td>11</td>\n",
       "    </tr>\n",
       "    <tr>\n",
       "      <th>10</th>\n",
       "      <td>48</td>\n",
       "    </tr>\n",
       "    <tr>\n",
       "      <th>11</th>\n",
       "      <td>59</td>\n",
       "    </tr>\n",
       "    <tr>\n",
       "      <th>12</th>\n",
       "      <td>66</td>\n",
       "    </tr>\n",
       "  </tbody>\n",
       "</table>\n",
       "<p>2717 rows × 1 columns</p>\n",
       "</div>"
      ],
      "text/plain": [
       "               message_sent\n",
       "user_id month              \n",
       "1000    5                22\n",
       "        6                60\n",
       "        7                75\n",
       "        8                81\n",
       "        9                57\n",
       "...                     ...\n",
       "1498    10               42\n",
       "1499    9                11\n",
       "        10               48\n",
       "        11               59\n",
       "        12               66\n",
       "\n",
       "[2717 rows x 1 columns]"
      ]
     },
     "execution_count": 14,
     "metadata": {},
     "output_type": "execute_result"
    }
   ],
   "source": [
    "df_messages['month'] = pd.DatetimeIndex(df_messages['message_date']).month\n",
    "df_pivot_messages = df_messages.pivot_table(index=['user_id', 'month'], values='message_date', \n",
    "                     aggfunc='count')\n",
    "# Переименуем столбец с количеством отправленных сообщений\n",
    "df_pivot_messages.rename(columns={'message_date': 'message_sent'}, inplace=True)\n",
    "df_pivot_messages"
   ]
  },
  {
   "cell_type": "markdown",
   "metadata": {},
   "source": [
    "Находим объем израсходованного трафика по месяцам (df_pivot_internet).  \n",
    "Так как для веб-трафика отдельные сессии не считаются, после нахождения общей суммы за месяц, она будет округлена в большую сторону до гигабайта. В гигабайте 1024 мегабайта."
   ]
  },
  {
   "cell_type": "code",
   "execution_count": 15,
   "metadata": {},
   "outputs": [
    {
     "data": {
      "text/html": [
       "<div>\n",
       "<style scoped>\n",
       "    .dataframe tbody tr th:only-of-type {\n",
       "        vertical-align: middle;\n",
       "    }\n",
       "\n",
       "    .dataframe tbody tr th {\n",
       "        vertical-align: top;\n",
       "    }\n",
       "\n",
       "    .dataframe thead th {\n",
       "        text-align: right;\n",
       "    }\n",
       "</style>\n",
       "<table border=\"1\" class=\"dataframe\">\n",
       "  <thead>\n",
       "    <tr style=\"text-align: right;\">\n",
       "      <th></th>\n",
       "      <th></th>\n",
       "      <th>gb_used</th>\n",
       "    </tr>\n",
       "    <tr>\n",
       "      <th>user_id</th>\n",
       "      <th>month</th>\n",
       "      <th></th>\n",
       "    </tr>\n",
       "  </thead>\n",
       "  <tbody>\n",
       "    <tr>\n",
       "      <th rowspan=\"5\" valign=\"top\">1000</th>\n",
       "      <th>5</th>\n",
       "      <td>3</td>\n",
       "    </tr>\n",
       "    <tr>\n",
       "      <th>6</th>\n",
       "      <td>23</td>\n",
       "    </tr>\n",
       "    <tr>\n",
       "      <th>7</th>\n",
       "      <td>14</td>\n",
       "    </tr>\n",
       "    <tr>\n",
       "      <th>8</th>\n",
       "      <td>14</td>\n",
       "    </tr>\n",
       "    <tr>\n",
       "      <th>9</th>\n",
       "      <td>15</td>\n",
       "    </tr>\n",
       "    <tr>\n",
       "      <th>...</th>\n",
       "      <th>...</th>\n",
       "      <td>...</td>\n",
       "    </tr>\n",
       "    <tr>\n",
       "      <th>1498</th>\n",
       "      <th>10</th>\n",
       "      <td>21</td>\n",
       "    </tr>\n",
       "    <tr>\n",
       "      <th rowspan=\"4\" valign=\"top\">1499</th>\n",
       "      <th>9</th>\n",
       "      <td>2</td>\n",
       "    </tr>\n",
       "    <tr>\n",
       "      <th>10</th>\n",
       "      <td>18</td>\n",
       "    </tr>\n",
       "    <tr>\n",
       "      <th>11</th>\n",
       "      <td>18</td>\n",
       "    </tr>\n",
       "    <tr>\n",
       "      <th>12</th>\n",
       "      <td>13</td>\n",
       "    </tr>\n",
       "  </tbody>\n",
       "</table>\n",
       "<p>3203 rows × 1 columns</p>\n",
       "</div>"
      ],
      "text/plain": [
       "               gb_used\n",
       "user_id month         \n",
       "1000    5            3\n",
       "        6           23\n",
       "        7           14\n",
       "        8           14\n",
       "        9           15\n",
       "...                ...\n",
       "1498    10          21\n",
       "1499    9            2\n",
       "        10          18\n",
       "        11          18\n",
       "        12          13\n",
       "\n",
       "[3203 rows x 1 columns]"
      ]
     },
     "execution_count": 15,
     "metadata": {},
     "output_type": "execute_result"
    }
   ],
   "source": [
    "df_internet['month'] = pd.DatetimeIndex(df_internet['session_date']).month\n",
    "df_pivot_internet = df_internet.pivot_table(index=['user_id', 'month'], values='mb_used', aggfunc='sum')\n",
    "\n",
    "# Переведем мегабайты в гигабайты, переименуем столбец и округлим в соответствии с условиями заказчика\n",
    "df_pivot_internet['mb_used'] = df_pivot_internet['mb_used']/1024\n",
    "df_pivot_internet.rename(columns={'mb_used': 'gb_used'}, inplace=True)\n",
    "df_pivot_internet['gb_used'] = df_pivot_internet['gb_used'].apply(math.ceil)\n",
    "df_pivot_internet"
   ]
  },
  {
   "cell_type": "markdown",
   "metadata": {},
   "source": [
    "Теперь объединим все полученные данные в общую сводную таблицу, на основании которой посчитаем помесячную выручку каждого пользователя.  \n",
    "Для того, чтобы расчитать выручку, подтянем в таблицу информацию по тарифу, который использует каждый пользователь. "
   ]
  },
  {
   "cell_type": "code",
   "execution_count": 16,
   "metadata": {},
   "outputs": [],
   "source": [
    "df_pivot = pd.merge(df_pivot_calls, df_pivot_messages, how='outer', on=['user_id', 'month'])\n",
    "df_pivot = pd.merge(df_pivot, df_pivot_internet, how='outer', on=['user_id', 'month'])"
   ]
  },
  {
   "cell_type": "code",
   "execution_count": 17,
   "metadata": {
    "scrolled": false
   },
   "outputs": [
    {
     "data": {
      "text/html": [
       "<div>\n",
       "<style scoped>\n",
       "    .dataframe tbody tr th:only-of-type {\n",
       "        vertical-align: middle;\n",
       "    }\n",
       "\n",
       "    .dataframe tbody tr th {\n",
       "        vertical-align: top;\n",
       "    }\n",
       "\n",
       "    .dataframe thead th {\n",
       "        text-align: right;\n",
       "    }\n",
       "</style>\n",
       "<table border=\"1\" class=\"dataframe\">\n",
       "  <thead>\n",
       "    <tr style=\"text-align: right;\">\n",
       "      <th></th>\n",
       "      <th></th>\n",
       "      <th>calls_count</th>\n",
       "      <th>calls_sum</th>\n",
       "      <th>message_sent</th>\n",
       "      <th>gb_used</th>\n",
       "    </tr>\n",
       "    <tr>\n",
       "      <th>user_id</th>\n",
       "      <th>month</th>\n",
       "      <th></th>\n",
       "      <th></th>\n",
       "      <th></th>\n",
       "      <th></th>\n",
       "    </tr>\n",
       "  </thead>\n",
       "  <tbody>\n",
       "    <tr>\n",
       "      <th rowspan=\"5\" valign=\"top\">1000</th>\n",
       "      <th>5</th>\n",
       "      <td>22.00</td>\n",
       "      <td>159.00</td>\n",
       "      <td>22.00</td>\n",
       "      <td>3.00</td>\n",
       "    </tr>\n",
       "    <tr>\n",
       "      <th>6</th>\n",
       "      <td>43.00</td>\n",
       "      <td>172.00</td>\n",
       "      <td>60.00</td>\n",
       "      <td>23.00</td>\n",
       "    </tr>\n",
       "    <tr>\n",
       "      <th>7</th>\n",
       "      <td>47.00</td>\n",
       "      <td>340.00</td>\n",
       "      <td>75.00</td>\n",
       "      <td>14.00</td>\n",
       "    </tr>\n",
       "    <tr>\n",
       "      <th>8</th>\n",
       "      <td>52.00</td>\n",
       "      <td>408.00</td>\n",
       "      <td>81.00</td>\n",
       "      <td>14.00</td>\n",
       "    </tr>\n",
       "    <tr>\n",
       "      <th>9</th>\n",
       "      <td>58.00</td>\n",
       "      <td>466.00</td>\n",
       "      <td>57.00</td>\n",
       "      <td>15.00</td>\n",
       "    </tr>\n",
       "    <tr>\n",
       "      <th>...</th>\n",
       "      <th>...</th>\n",
       "      <td>...</td>\n",
       "      <td>...</td>\n",
       "      <td>...</td>\n",
       "      <td>...</td>\n",
       "    </tr>\n",
       "    <tr>\n",
       "      <th rowspan=\"4\" valign=\"top\">1489</th>\n",
       "      <th>9</th>\n",
       "      <td>NaN</td>\n",
       "      <td>NaN</td>\n",
       "      <td>32.00</td>\n",
       "      <td>17.00</td>\n",
       "    </tr>\n",
       "    <tr>\n",
       "      <th>10</th>\n",
       "      <td>NaN</td>\n",
       "      <td>NaN</td>\n",
       "      <td>21.00</td>\n",
       "      <td>20.00</td>\n",
       "    </tr>\n",
       "    <tr>\n",
       "      <th>11</th>\n",
       "      <td>NaN</td>\n",
       "      <td>NaN</td>\n",
       "      <td>20.00</td>\n",
       "      <td>18.00</td>\n",
       "    </tr>\n",
       "    <tr>\n",
       "      <th>12</th>\n",
       "      <td>NaN</td>\n",
       "      <td>NaN</td>\n",
       "      <td>35.00</td>\n",
       "      <td>17.00</td>\n",
       "    </tr>\n",
       "    <tr>\n",
       "      <th>1476</th>\n",
       "      <th>4</th>\n",
       "      <td>NaN</td>\n",
       "      <td>NaN</td>\n",
       "      <td>NaN</td>\n",
       "      <td>1.00</td>\n",
       "    </tr>\n",
       "  </tbody>\n",
       "</table>\n",
       "<p>3214 rows × 4 columns</p>\n",
       "</div>"
      ],
      "text/plain": [
       "               calls_count  calls_sum  message_sent  gb_used\n",
       "user_id month                                               \n",
       "1000    5            22.00     159.00         22.00     3.00\n",
       "        6            43.00     172.00         60.00    23.00\n",
       "        7            47.00     340.00         75.00    14.00\n",
       "        8            52.00     408.00         81.00    14.00\n",
       "        9            58.00     466.00         57.00    15.00\n",
       "...                    ...        ...           ...      ...\n",
       "1489    9              NaN        NaN         32.00    17.00\n",
       "        10             NaN        NaN         21.00    20.00\n",
       "        11             NaN        NaN         20.00    18.00\n",
       "        12             NaN        NaN         35.00    17.00\n",
       "1476    4              NaN        NaN           NaN     1.00\n",
       "\n",
       "[3214 rows x 4 columns]"
      ]
     },
     "execution_count": 17,
     "metadata": {},
     "output_type": "execute_result"
    }
   ],
   "source": [
    "df_pivot"
   ]
  },
  {
   "cell_type": "markdown",
   "metadata": {},
   "source": [
    "Предварительно проверим, есть ли у нас абоненты, которые в рамках периода меняли тарифный план."
   ]
  },
  {
   "cell_type": "code",
   "execution_count": 18,
   "metadata": {},
   "outputs": [
    {
     "data": {
      "text/html": [
       "<div>\n",
       "<style scoped>\n",
       "    .dataframe tbody tr th:only-of-type {\n",
       "        vertical-align: middle;\n",
       "    }\n",
       "\n",
       "    .dataframe tbody tr th {\n",
       "        vertical-align: top;\n",
       "    }\n",
       "\n",
       "    .dataframe thead th {\n",
       "        text-align: right;\n",
       "    }\n",
       "</style>\n",
       "<table border=\"1\" class=\"dataframe\">\n",
       "  <thead>\n",
       "    <tr style=\"text-align: right;\">\n",
       "      <th></th>\n",
       "      <th>tariff</th>\n",
       "    </tr>\n",
       "    <tr>\n",
       "      <th>user_id</th>\n",
       "      <th></th>\n",
       "    </tr>\n",
       "  </thead>\n",
       "  <tbody>\n",
       "  </tbody>\n",
       "</table>\n",
       "</div>"
      ],
      "text/plain": [
       "Empty DataFrame\n",
       "Columns: [tariff]\n",
       "Index: []"
      ]
     },
     "execution_count": 18,
     "metadata": {},
     "output_type": "execute_result"
    }
   ],
   "source": [
    "df_users.pivot_table(index='user_id', values='tariff', \n",
    "                     aggfunc='count').query('tariff != 1')"
   ]
  },
  {
   "cell_type": "markdown",
   "metadata": {},
   "source": [
    "Таких абонентов в наших данных нет.  \n",
    "\n",
    "Добавим в сводную таблицу df_pivot информацию о тарифах и городах абонентов, а также лимиты, заложенные в эти тарифы для более простого расчета выручки с каждого абонента.   \n",
    "Сначала обработаем наш общий массив."
   ]
  },
  {
   "cell_type": "code",
   "execution_count": 19,
   "metadata": {},
   "outputs": [],
   "source": [
    "# Перенесем user_id и месяца из индексов для корректного объединения таблиц\n",
    "df_pivot = df_pivot.reset_index(level=['user_id', 'month'])\n",
    "\n",
    "# Объединяем\n",
    "df_pivot = df_pivot.merge(df_users[['user_id','tariff', 'city']], how='outer', on='user_id')\n",
    "\n",
    "# Заполним образовавшиеся пропуски нулями\n",
    "df_pivot = df_pivot.fillna(0)\n",
    "\n",
    "# Вернем \"съехавший\" при объединении целочисленный тип данных\n",
    "df_pivot = df_pivot.astype({'month': 'int8','calls_count': 'int64', 'calls_sum': 'int64', \n",
    "                            'message_sent': 'int64', 'gb_used': 'int64'})"
   ]
  },
  {
   "cell_type": "markdown",
   "metadata": {},
   "source": [
    "Обработаем таблицу df_tariffs для соединения данных со сводной таблицей \n",
    "для расчета выручки с каждого пользователя из единой таблицы"
   ]
  },
  {
   "cell_type": "code",
   "execution_count": 20,
   "metadata": {},
   "outputs": [],
   "source": [
    "df_tariffs.rename(columns={'tariff_name': 'tariff'}, inplace=True)\n",
    "df_tariffs['mb_per_month_included'] = df_tariffs['mb_per_month_included'].replace({15360: 15, 30720: 30})\n",
    "df_tariffs.rename(columns={'mb_per_month_included': 'gb_per_month_included'}, inplace=True)"
   ]
  },
  {
   "cell_type": "markdown",
   "metadata": {},
   "source": [
    "Объединяем таблицы и вызываем для проверки"
   ]
  },
  {
   "cell_type": "code",
   "execution_count": 21,
   "metadata": {},
   "outputs": [
    {
     "data": {
      "text/html": [
       "<div>\n",
       "<style scoped>\n",
       "    .dataframe tbody tr th:only-of-type {\n",
       "        vertical-align: middle;\n",
       "    }\n",
       "\n",
       "    .dataframe tbody tr th {\n",
       "        vertical-align: top;\n",
       "    }\n",
       "\n",
       "    .dataframe thead th {\n",
       "        text-align: right;\n",
       "    }\n",
       "</style>\n",
       "<table border=\"1\" class=\"dataframe\">\n",
       "  <thead>\n",
       "    <tr style=\"text-align: right;\">\n",
       "      <th></th>\n",
       "      <th>user_id</th>\n",
       "      <th>month</th>\n",
       "      <th>calls_count</th>\n",
       "      <th>calls_sum</th>\n",
       "      <th>message_sent</th>\n",
       "      <th>gb_used</th>\n",
       "      <th>tariff</th>\n",
       "      <th>city</th>\n",
       "      <th>messages_included</th>\n",
       "      <th>gb_per_month_included</th>\n",
       "      <th>minutes_included</th>\n",
       "      <th>rub_monthly_fee</th>\n",
       "      <th>rub_per_gb</th>\n",
       "      <th>rub_per_message</th>\n",
       "      <th>rub_per_minute</th>\n",
       "    </tr>\n",
       "  </thead>\n",
       "  <tbody>\n",
       "    <tr>\n",
       "      <th>0</th>\n",
       "      <td>1000</td>\n",
       "      <td>5</td>\n",
       "      <td>22</td>\n",
       "      <td>159</td>\n",
       "      <td>22</td>\n",
       "      <td>3</td>\n",
       "      <td>ultra</td>\n",
       "      <td>Краснодар</td>\n",
       "      <td>1000</td>\n",
       "      <td>30</td>\n",
       "      <td>3000</td>\n",
       "      <td>1950</td>\n",
       "      <td>150</td>\n",
       "      <td>1</td>\n",
       "      <td>1</td>\n",
       "    </tr>\n",
       "    <tr>\n",
       "      <th>1</th>\n",
       "      <td>1000</td>\n",
       "      <td>6</td>\n",
       "      <td>43</td>\n",
       "      <td>172</td>\n",
       "      <td>60</td>\n",
       "      <td>23</td>\n",
       "      <td>ultra</td>\n",
       "      <td>Краснодар</td>\n",
       "      <td>1000</td>\n",
       "      <td>30</td>\n",
       "      <td>3000</td>\n",
       "      <td>1950</td>\n",
       "      <td>150</td>\n",
       "      <td>1</td>\n",
       "      <td>1</td>\n",
       "    </tr>\n",
       "    <tr>\n",
       "      <th>2</th>\n",
       "      <td>1000</td>\n",
       "      <td>7</td>\n",
       "      <td>47</td>\n",
       "      <td>340</td>\n",
       "      <td>75</td>\n",
       "      <td>14</td>\n",
       "      <td>ultra</td>\n",
       "      <td>Краснодар</td>\n",
       "      <td>1000</td>\n",
       "      <td>30</td>\n",
       "      <td>3000</td>\n",
       "      <td>1950</td>\n",
       "      <td>150</td>\n",
       "      <td>1</td>\n",
       "      <td>1</td>\n",
       "    </tr>\n",
       "    <tr>\n",
       "      <th>3</th>\n",
       "      <td>1000</td>\n",
       "      <td>8</td>\n",
       "      <td>52</td>\n",
       "      <td>408</td>\n",
       "      <td>81</td>\n",
       "      <td>14</td>\n",
       "      <td>ultra</td>\n",
       "      <td>Краснодар</td>\n",
       "      <td>1000</td>\n",
       "      <td>30</td>\n",
       "      <td>3000</td>\n",
       "      <td>1950</td>\n",
       "      <td>150</td>\n",
       "      <td>1</td>\n",
       "      <td>1</td>\n",
       "    </tr>\n",
       "    <tr>\n",
       "      <th>4</th>\n",
       "      <td>1000</td>\n",
       "      <td>9</td>\n",
       "      <td>58</td>\n",
       "      <td>466</td>\n",
       "      <td>57</td>\n",
       "      <td>15</td>\n",
       "      <td>ultra</td>\n",
       "      <td>Краснодар</td>\n",
       "      <td>1000</td>\n",
       "      <td>30</td>\n",
       "      <td>3000</td>\n",
       "      <td>1950</td>\n",
       "      <td>150</td>\n",
       "      <td>1</td>\n",
       "      <td>1</td>\n",
       "    </tr>\n",
       "    <tr>\n",
       "      <th>...</th>\n",
       "      <td>...</td>\n",
       "      <td>...</td>\n",
       "      <td>...</td>\n",
       "      <td>...</td>\n",
       "      <td>...</td>\n",
       "      <td>...</td>\n",
       "      <td>...</td>\n",
       "      <td>...</td>\n",
       "      <td>...</td>\n",
       "      <td>...</td>\n",
       "      <td>...</td>\n",
       "      <td>...</td>\n",
       "      <td>...</td>\n",
       "      <td>...</td>\n",
       "      <td>...</td>\n",
       "    </tr>\n",
       "    <tr>\n",
       "      <th>3211</th>\n",
       "      <td>1489</td>\n",
       "      <td>9</td>\n",
       "      <td>0</td>\n",
       "      <td>0</td>\n",
       "      <td>32</td>\n",
       "      <td>17</td>\n",
       "      <td>smart</td>\n",
       "      <td>Санкт-Петербург</td>\n",
       "      <td>50</td>\n",
       "      <td>15</td>\n",
       "      <td>500</td>\n",
       "      <td>550</td>\n",
       "      <td>200</td>\n",
       "      <td>3</td>\n",
       "      <td>3</td>\n",
       "    </tr>\n",
       "    <tr>\n",
       "      <th>3212</th>\n",
       "      <td>1489</td>\n",
       "      <td>10</td>\n",
       "      <td>0</td>\n",
       "      <td>0</td>\n",
       "      <td>21</td>\n",
       "      <td>20</td>\n",
       "      <td>smart</td>\n",
       "      <td>Санкт-Петербург</td>\n",
       "      <td>50</td>\n",
       "      <td>15</td>\n",
       "      <td>500</td>\n",
       "      <td>550</td>\n",
       "      <td>200</td>\n",
       "      <td>3</td>\n",
       "      <td>3</td>\n",
       "    </tr>\n",
       "    <tr>\n",
       "      <th>3213</th>\n",
       "      <td>1489</td>\n",
       "      <td>11</td>\n",
       "      <td>0</td>\n",
       "      <td>0</td>\n",
       "      <td>20</td>\n",
       "      <td>18</td>\n",
       "      <td>smart</td>\n",
       "      <td>Санкт-Петербург</td>\n",
       "      <td>50</td>\n",
       "      <td>15</td>\n",
       "      <td>500</td>\n",
       "      <td>550</td>\n",
       "      <td>200</td>\n",
       "      <td>3</td>\n",
       "      <td>3</td>\n",
       "    </tr>\n",
       "    <tr>\n",
       "      <th>3214</th>\n",
       "      <td>1489</td>\n",
       "      <td>12</td>\n",
       "      <td>0</td>\n",
       "      <td>0</td>\n",
       "      <td>35</td>\n",
       "      <td>17</td>\n",
       "      <td>smart</td>\n",
       "      <td>Санкт-Петербург</td>\n",
       "      <td>50</td>\n",
       "      <td>15</td>\n",
       "      <td>500</td>\n",
       "      <td>550</td>\n",
       "      <td>200</td>\n",
       "      <td>3</td>\n",
       "      <td>3</td>\n",
       "    </tr>\n",
       "    <tr>\n",
       "      <th>3215</th>\n",
       "      <td>1371</td>\n",
       "      <td>0</td>\n",
       "      <td>0</td>\n",
       "      <td>0</td>\n",
       "      <td>0</td>\n",
       "      <td>0</td>\n",
       "      <td>smart</td>\n",
       "      <td>Омск</td>\n",
       "      <td>50</td>\n",
       "      <td>15</td>\n",
       "      <td>500</td>\n",
       "      <td>550</td>\n",
       "      <td>200</td>\n",
       "      <td>3</td>\n",
       "      <td>3</td>\n",
       "    </tr>\n",
       "  </tbody>\n",
       "</table>\n",
       "<p>3216 rows × 15 columns</p>\n",
       "</div>"
      ],
      "text/plain": [
       "      user_id  month  calls_count  calls_sum  message_sent  gb_used tariff  \\\n",
       "0        1000      5           22        159            22        3  ultra   \n",
       "1        1000      6           43        172            60       23  ultra   \n",
       "2        1000      7           47        340            75       14  ultra   \n",
       "3        1000      8           52        408            81       14  ultra   \n",
       "4        1000      9           58        466            57       15  ultra   \n",
       "...       ...    ...          ...        ...           ...      ...    ...   \n",
       "3211     1489      9            0          0            32       17  smart   \n",
       "3212     1489     10            0          0            21       20  smart   \n",
       "3213     1489     11            0          0            20       18  smart   \n",
       "3214     1489     12            0          0            35       17  smart   \n",
       "3215     1371      0            0          0             0        0  smart   \n",
       "\n",
       "                 city  messages_included  gb_per_month_included  \\\n",
       "0           Краснодар               1000                     30   \n",
       "1           Краснодар               1000                     30   \n",
       "2           Краснодар               1000                     30   \n",
       "3           Краснодар               1000                     30   \n",
       "4           Краснодар               1000                     30   \n",
       "...               ...                ...                    ...   \n",
       "3211  Санкт-Петербург                 50                     15   \n",
       "3212  Санкт-Петербург                 50                     15   \n",
       "3213  Санкт-Петербург                 50                     15   \n",
       "3214  Санкт-Петербург                 50                     15   \n",
       "3215             Омск                 50                     15   \n",
       "\n",
       "      minutes_included  rub_monthly_fee  rub_per_gb  rub_per_message  \\\n",
       "0                 3000             1950         150                1   \n",
       "1                 3000             1950         150                1   \n",
       "2                 3000             1950         150                1   \n",
       "3                 3000             1950         150                1   \n",
       "4                 3000             1950         150                1   \n",
       "...                ...              ...         ...              ...   \n",
       "3211               500              550         200                3   \n",
       "3212               500              550         200                3   \n",
       "3213               500              550         200                3   \n",
       "3214               500              550         200                3   \n",
       "3215               500              550         200                3   \n",
       "\n",
       "      rub_per_minute  \n",
       "0                  1  \n",
       "1                  1  \n",
       "2                  1  \n",
       "3                  1  \n",
       "4                  1  \n",
       "...              ...  \n",
       "3211               3  \n",
       "3212               3  \n",
       "3213               3  \n",
       "3214               3  \n",
       "3215               3  \n",
       "\n",
       "[3216 rows x 15 columns]"
      ]
     },
     "execution_count": 21,
     "metadata": {},
     "output_type": "execute_result"
    }
   ],
   "source": [
    "df_pivot = df_pivot.merge(df_tariffs, how='inner', on='tariff')\n",
    "df_pivot"
   ]
  },
  {
   "cell_type": "markdown",
   "metadata": {},
   "source": [
    "По итогу объединения таблиц у нас появились строки с нулевыми значениями месяца. \n",
    "Проверим эти строки."
   ]
  },
  {
   "cell_type": "code",
   "execution_count": 22,
   "metadata": {
    "scrolled": true
   },
   "outputs": [
    {
     "data": {
      "text/html": [
       "<div>\n",
       "<style scoped>\n",
       "    .dataframe tbody tr th:only-of-type {\n",
       "        vertical-align: middle;\n",
       "    }\n",
       "\n",
       "    .dataframe tbody tr th {\n",
       "        vertical-align: top;\n",
       "    }\n",
       "\n",
       "    .dataframe thead th {\n",
       "        text-align: right;\n",
       "    }\n",
       "</style>\n",
       "<table border=\"1\" class=\"dataframe\">\n",
       "  <thead>\n",
       "    <tr style=\"text-align: right;\">\n",
       "      <th></th>\n",
       "      <th>user_id</th>\n",
       "      <th>month</th>\n",
       "      <th>calls_count</th>\n",
       "      <th>calls_sum</th>\n",
       "      <th>message_sent</th>\n",
       "      <th>gb_used</th>\n",
       "      <th>tariff</th>\n",
       "      <th>city</th>\n",
       "      <th>messages_included</th>\n",
       "      <th>gb_per_month_included</th>\n",
       "      <th>minutes_included</th>\n",
       "      <th>rub_monthly_fee</th>\n",
       "      <th>rub_per_gb</th>\n",
       "      <th>rub_per_message</th>\n",
       "      <th>rub_per_minute</th>\n",
       "    </tr>\n",
       "  </thead>\n",
       "  <tbody>\n",
       "    <tr>\n",
       "      <th>985</th>\n",
       "      <td>1128</td>\n",
       "      <td>0</td>\n",
       "      <td>0</td>\n",
       "      <td>0</td>\n",
       "      <td>0</td>\n",
       "      <td>0</td>\n",
       "      <td>ultra</td>\n",
       "      <td>Волжский</td>\n",
       "      <td>1000</td>\n",
       "      <td>30</td>\n",
       "      <td>3000</td>\n",
       "      <td>1950</td>\n",
       "      <td>150</td>\n",
       "      <td>1</td>\n",
       "      <td>1</td>\n",
       "    </tr>\n",
       "    <tr>\n",
       "      <th>3215</th>\n",
       "      <td>1371</td>\n",
       "      <td>0</td>\n",
       "      <td>0</td>\n",
       "      <td>0</td>\n",
       "      <td>0</td>\n",
       "      <td>0</td>\n",
       "      <td>smart</td>\n",
       "      <td>Омск</td>\n",
       "      <td>50</td>\n",
       "      <td>15</td>\n",
       "      <td>500</td>\n",
       "      <td>550</td>\n",
       "      <td>200</td>\n",
       "      <td>3</td>\n",
       "      <td>3</td>\n",
       "    </tr>\n",
       "  </tbody>\n",
       "</table>\n",
       "</div>"
      ],
      "text/plain": [
       "      user_id  month  calls_count  calls_sum  message_sent  gb_used tariff  \\\n",
       "985      1128      0            0          0             0        0  ultra   \n",
       "3215     1371      0            0          0             0        0  smart   \n",
       "\n",
       "          city  messages_included  gb_per_month_included  minutes_included  \\\n",
       "985   Волжский               1000                     30              3000   \n",
       "3215      Омск                 50                     15               500   \n",
       "\n",
       "      rub_monthly_fee  rub_per_gb  rub_per_message  rub_per_minute  \n",
       "985              1950         150                1               1  \n",
       "3215              550         200                3               3  "
      ]
     },
     "execution_count": 22,
     "metadata": {},
     "output_type": "execute_result"
    }
   ],
   "source": [
    "df_pivot.query('month == 0')"
   ]
  },
  {
   "cell_type": "markdown",
   "metadata": {},
   "source": [
    "По этим строкам все данные нулевые.  \n",
    "Проверим, что это за абоненты."
   ]
  },
  {
   "cell_type": "code",
   "execution_count": 23,
   "metadata": {},
   "outputs": [
    {
     "data": {
      "text/html": [
       "<div>\n",
       "<style scoped>\n",
       "    .dataframe tbody tr th:only-of-type {\n",
       "        vertical-align: middle;\n",
       "    }\n",
       "\n",
       "    .dataframe tbody tr th {\n",
       "        vertical-align: top;\n",
       "    }\n",
       "\n",
       "    .dataframe thead th {\n",
       "        text-align: right;\n",
       "    }\n",
       "</style>\n",
       "<table border=\"1\" class=\"dataframe\">\n",
       "  <thead>\n",
       "    <tr style=\"text-align: right;\">\n",
       "      <th></th>\n",
       "      <th>user_id</th>\n",
       "      <th>age</th>\n",
       "      <th>churn_date</th>\n",
       "      <th>city</th>\n",
       "      <th>first_name</th>\n",
       "      <th>last_name</th>\n",
       "      <th>reg_date</th>\n",
       "      <th>tariff</th>\n",
       "    </tr>\n",
       "  </thead>\n",
       "  <tbody>\n",
       "    <tr>\n",
       "      <th>128</th>\n",
       "      <td>1128</td>\n",
       "      <td>51</td>\n",
       "      <td>2018-12-23</td>\n",
       "      <td>Волжский</td>\n",
       "      <td>Ксения</td>\n",
       "      <td>Агаева</td>\n",
       "      <td>2018-12-15</td>\n",
       "      <td>ultra</td>\n",
       "    </tr>\n",
       "  </tbody>\n",
       "</table>\n",
       "</div>"
      ],
      "text/plain": [
       "     user_id  age churn_date      city first_name last_name   reg_date tariff\n",
       "128     1128   51 2018-12-23  Волжский     Ксения    Агаева 2018-12-15  ultra"
      ]
     },
     "metadata": {},
     "output_type": "display_data"
    },
    {
     "data": {
      "text/html": [
       "<div>\n",
       "<style scoped>\n",
       "    .dataframe tbody tr th:only-of-type {\n",
       "        vertical-align: middle;\n",
       "    }\n",
       "\n",
       "    .dataframe tbody tr th {\n",
       "        vertical-align: top;\n",
       "    }\n",
       "\n",
       "    .dataframe thead th {\n",
       "        text-align: right;\n",
       "    }\n",
       "</style>\n",
       "<table border=\"1\" class=\"dataframe\">\n",
       "  <thead>\n",
       "    <tr style=\"text-align: right;\">\n",
       "      <th></th>\n",
       "      <th>user_id</th>\n",
       "      <th>age</th>\n",
       "      <th>churn_date</th>\n",
       "      <th>city</th>\n",
       "      <th>first_name</th>\n",
       "      <th>last_name</th>\n",
       "      <th>reg_date</th>\n",
       "      <th>tariff</th>\n",
       "    </tr>\n",
       "  </thead>\n",
       "  <tbody>\n",
       "    <tr>\n",
       "      <th>371</th>\n",
       "      <td>1371</td>\n",
       "      <td>50</td>\n",
       "      <td>2018-12-30</td>\n",
       "      <td>Омск</td>\n",
       "      <td>Ириней</td>\n",
       "      <td>Трофимов</td>\n",
       "      <td>2018-12-25</td>\n",
       "      <td>smart</td>\n",
       "    </tr>\n",
       "  </tbody>\n",
       "</table>\n",
       "</div>"
      ],
      "text/plain": [
       "     user_id  age churn_date  city first_name last_name   reg_date tariff\n",
       "371     1371   50 2018-12-30  Омск     Ириней  Трофимов 2018-12-25  smart"
      ]
     },
     "metadata": {},
     "output_type": "display_data"
    }
   ],
   "source": [
    "display(df_users.query('user_id == 1128'))\n",
    "display(df_users.query('user_id == 1371'))"
   ]
  },
  {
   "cell_type": "markdown",
   "metadata": {},
   "source": [
    "Данные абоненты отключили тарифы по истечении примерно недели, не воспользовавшись услугами связи.  \n",
    "Заполним месяц использования для этих абонентов декабрем (даты фактического подключения тарифов), в рамках расчета выручки учтем по ним, что они оплатили только ежемесячную абонентскую плату.  "
   ]
  },
  {
   "cell_type": "code",
   "execution_count": 24,
   "metadata": {},
   "outputs": [],
   "source": [
    "df_pivot['month'] = df_pivot['month'].replace(0, 12)"
   ]
  },
  {
   "cell_type": "markdown",
   "metadata": {},
   "source": [
    "На основе имеющихся в таблице данных рассчитаем итоговую выручку с каждого пользователя за каждый месяц, и добавим ее в столбец total_fee. Она будет равняться абонентской плате плюс перерасходу трафика по звонкам, смс и интернет-трафику."
   ]
  },
  {
   "cell_type": "code",
   "execution_count": 25,
   "metadata": {},
   "outputs": [],
   "source": [
    "def calc_total_fee(data):\n",
    "    calls_fee = 0\n",
    "    message_fee = 0\n",
    "    internet_fee = 0\n",
    "    if data['calls_sum'] >  data['minutes_included']:\n",
    "        calls_fee = (data['calls_sum'] - data['minutes_included']) * data['rub_per_minute']\n",
    "    if data['message_sent'] >  data['messages_included']:\n",
    "        message_fee = (data['message_sent'] - data['messages_included']) * data['rub_per_message'] \n",
    "    if data['gb_used'] >  data['gb_per_month_included']:\n",
    "        internet_fee = (data['gb_used'] - data['gb_per_month_included']) * data['rub_per_gb'] \n",
    "    return data['rub_monthly_fee'] + calls_fee + message_fee + internet_fee"
   ]
  },
  {
   "cell_type": "code",
   "execution_count": 26,
   "metadata": {
    "scrolled": true
   },
   "outputs": [],
   "source": [
    "df_pivot['total_fee'] = df_pivot.apply(calc_total_fee, axis=1)"
   ]
  },
  {
   "cell_type": "markdown",
   "metadata": {},
   "source": [
    "Удалим из таблицы далее не требующиеся \"технические\" столбцы - описание тарифов."
   ]
  },
  {
   "cell_type": "code",
   "execution_count": 27,
   "metadata": {},
   "outputs": [
    {
     "data": {
      "text/html": [
       "<div>\n",
       "<style scoped>\n",
       "    .dataframe tbody tr th:only-of-type {\n",
       "        vertical-align: middle;\n",
       "    }\n",
       "\n",
       "    .dataframe tbody tr th {\n",
       "        vertical-align: top;\n",
       "    }\n",
       "\n",
       "    .dataframe thead th {\n",
       "        text-align: right;\n",
       "    }\n",
       "</style>\n",
       "<table border=\"1\" class=\"dataframe\">\n",
       "  <thead>\n",
       "    <tr style=\"text-align: right;\">\n",
       "      <th></th>\n",
       "      <th>user_id</th>\n",
       "      <th>month</th>\n",
       "      <th>calls_count</th>\n",
       "      <th>calls_sum</th>\n",
       "      <th>message_sent</th>\n",
       "      <th>gb_used</th>\n",
       "      <th>tariff</th>\n",
       "      <th>city</th>\n",
       "      <th>total_fee</th>\n",
       "    </tr>\n",
       "  </thead>\n",
       "  <tbody>\n",
       "    <tr>\n",
       "      <th>0</th>\n",
       "      <td>1000</td>\n",
       "      <td>5</td>\n",
       "      <td>22</td>\n",
       "      <td>159</td>\n",
       "      <td>22</td>\n",
       "      <td>3</td>\n",
       "      <td>ultra</td>\n",
       "      <td>Краснодар</td>\n",
       "      <td>1950</td>\n",
       "    </tr>\n",
       "    <tr>\n",
       "      <th>1</th>\n",
       "      <td>1000</td>\n",
       "      <td>6</td>\n",
       "      <td>43</td>\n",
       "      <td>172</td>\n",
       "      <td>60</td>\n",
       "      <td>23</td>\n",
       "      <td>ultra</td>\n",
       "      <td>Краснодар</td>\n",
       "      <td>1950</td>\n",
       "    </tr>\n",
       "    <tr>\n",
       "      <th>2</th>\n",
       "      <td>1000</td>\n",
       "      <td>7</td>\n",
       "      <td>47</td>\n",
       "      <td>340</td>\n",
       "      <td>75</td>\n",
       "      <td>14</td>\n",
       "      <td>ultra</td>\n",
       "      <td>Краснодар</td>\n",
       "      <td>1950</td>\n",
       "    </tr>\n",
       "    <tr>\n",
       "      <th>3</th>\n",
       "      <td>1000</td>\n",
       "      <td>8</td>\n",
       "      <td>52</td>\n",
       "      <td>408</td>\n",
       "      <td>81</td>\n",
       "      <td>14</td>\n",
       "      <td>ultra</td>\n",
       "      <td>Краснодар</td>\n",
       "      <td>1950</td>\n",
       "    </tr>\n",
       "    <tr>\n",
       "      <th>4</th>\n",
       "      <td>1000</td>\n",
       "      <td>9</td>\n",
       "      <td>58</td>\n",
       "      <td>466</td>\n",
       "      <td>57</td>\n",
       "      <td>15</td>\n",
       "      <td>ultra</td>\n",
       "      <td>Краснодар</td>\n",
       "      <td>1950</td>\n",
       "    </tr>\n",
       "    <tr>\n",
       "      <th>...</th>\n",
       "      <td>...</td>\n",
       "      <td>...</td>\n",
       "      <td>...</td>\n",
       "      <td>...</td>\n",
       "      <td>...</td>\n",
       "      <td>...</td>\n",
       "      <td>...</td>\n",
       "      <td>...</td>\n",
       "      <td>...</td>\n",
       "    </tr>\n",
       "    <tr>\n",
       "      <th>3211</th>\n",
       "      <td>1489</td>\n",
       "      <td>9</td>\n",
       "      <td>0</td>\n",
       "      <td>0</td>\n",
       "      <td>32</td>\n",
       "      <td>17</td>\n",
       "      <td>smart</td>\n",
       "      <td>Санкт-Петербург</td>\n",
       "      <td>950</td>\n",
       "    </tr>\n",
       "    <tr>\n",
       "      <th>3212</th>\n",
       "      <td>1489</td>\n",
       "      <td>10</td>\n",
       "      <td>0</td>\n",
       "      <td>0</td>\n",
       "      <td>21</td>\n",
       "      <td>20</td>\n",
       "      <td>smart</td>\n",
       "      <td>Санкт-Петербург</td>\n",
       "      <td>1550</td>\n",
       "    </tr>\n",
       "    <tr>\n",
       "      <th>3213</th>\n",
       "      <td>1489</td>\n",
       "      <td>11</td>\n",
       "      <td>0</td>\n",
       "      <td>0</td>\n",
       "      <td>20</td>\n",
       "      <td>18</td>\n",
       "      <td>smart</td>\n",
       "      <td>Санкт-Петербург</td>\n",
       "      <td>1150</td>\n",
       "    </tr>\n",
       "    <tr>\n",
       "      <th>3214</th>\n",
       "      <td>1489</td>\n",
       "      <td>12</td>\n",
       "      <td>0</td>\n",
       "      <td>0</td>\n",
       "      <td>35</td>\n",
       "      <td>17</td>\n",
       "      <td>smart</td>\n",
       "      <td>Санкт-Петербург</td>\n",
       "      <td>950</td>\n",
       "    </tr>\n",
       "    <tr>\n",
       "      <th>3215</th>\n",
       "      <td>1371</td>\n",
       "      <td>12</td>\n",
       "      <td>0</td>\n",
       "      <td>0</td>\n",
       "      <td>0</td>\n",
       "      <td>0</td>\n",
       "      <td>smart</td>\n",
       "      <td>Омск</td>\n",
       "      <td>550</td>\n",
       "    </tr>\n",
       "  </tbody>\n",
       "</table>\n",
       "<p>3216 rows × 9 columns</p>\n",
       "</div>"
      ],
      "text/plain": [
       "      user_id  month  calls_count  calls_sum  message_sent  gb_used tariff  \\\n",
       "0        1000      5           22        159            22        3  ultra   \n",
       "1        1000      6           43        172            60       23  ultra   \n",
       "2        1000      7           47        340            75       14  ultra   \n",
       "3        1000      8           52        408            81       14  ultra   \n",
       "4        1000      9           58        466            57       15  ultra   \n",
       "...       ...    ...          ...        ...           ...      ...    ...   \n",
       "3211     1489      9            0          0            32       17  smart   \n",
       "3212     1489     10            0          0            21       20  smart   \n",
       "3213     1489     11            0          0            20       18  smart   \n",
       "3214     1489     12            0          0            35       17  smart   \n",
       "3215     1371     12            0          0             0        0  smart   \n",
       "\n",
       "                 city  total_fee  \n",
       "0           Краснодар       1950  \n",
       "1           Краснодар       1950  \n",
       "2           Краснодар       1950  \n",
       "3           Краснодар       1950  \n",
       "4           Краснодар       1950  \n",
       "...               ...        ...  \n",
       "3211  Санкт-Петербург        950  \n",
       "3212  Санкт-Петербург       1550  \n",
       "3213  Санкт-Петербург       1150  \n",
       "3214  Санкт-Петербург        950  \n",
       "3215             Омск        550  \n",
       "\n",
       "[3216 rows x 9 columns]"
      ]
     },
     "execution_count": 27,
     "metadata": {},
     "output_type": "execute_result"
    }
   ],
   "source": [
    "df_pivot = df_pivot.drop(['messages_included', 'gb_per_month_included', \n",
    "              'minutes_included', 'rub_monthly_fee', 'rub_per_gb', 'rub_per_message', 'rub_per_minute'], axis=1)\n",
    "df_pivot"
   ]
  },
  {
   "cell_type": "markdown",
   "metadata": {},
   "source": [
    "Выполнено. В итоговой таблице df_pivot у нас имеется информация об ежемесячной активности абонентов, а также выручка с каждого абонента.  "
   ]
  },
  {
   "cell_type": "markdown",
   "metadata": {},
   "source": [
    "### Выводы\n",
    "В рамках данного шага мы присвоили всем колонкам требуемый нам тип данных, удалили задублировавшийся столбец с индексами, убедились в отсутствии дубликатов, а также подготовили сводную таблицу в требуемом формате для дальнейшего анализа.  "
   ]
  },
  {
   "cell_type": "markdown",
   "metadata": {},
   "source": [
    "## Анализ данных\n",
    "Проверим поведение клиентов: сколько минут разговора, сколько сообщений и какой объём интернет-трафика требуется пользователям каждого тарифа в месяц.\n",
    "Далее проверим среднее количество, дисперсию и стандартное отклонение по каждой величине. Визуализируем и опишем распределения.\n"
   ]
  },
  {
   "cell_type": "markdown",
   "metadata": {},
   "source": [
    "### Проверка средних и медианных значений\n",
    "Построим сводную таблицу для проверки средних и медианных значений интересующи нас величин для разных тарифов."
   ]
  },
  {
   "cell_type": "code",
   "execution_count": 28,
   "metadata": {
    "scrolled": true
   },
   "outputs": [
    {
     "data": {
      "text/html": [
       "<div>\n",
       "<style scoped>\n",
       "    .dataframe tbody tr th:only-of-type {\n",
       "        vertical-align: middle;\n",
       "    }\n",
       "\n",
       "    .dataframe tbody tr th {\n",
       "        vertical-align: top;\n",
       "    }\n",
       "\n",
       "    .dataframe thead tr th {\n",
       "        text-align: left;\n",
       "    }\n",
       "\n",
       "    .dataframe thead tr:last-of-type th {\n",
       "        text-align: right;\n",
       "    }\n",
       "</style>\n",
       "<table border=\"1\" class=\"dataframe\">\n",
       "  <thead>\n",
       "    <tr>\n",
       "      <th></th>\n",
       "      <th colspan=\"2\" halign=\"left\">calls_sum</th>\n",
       "      <th colspan=\"2\" halign=\"left\">gb_used</th>\n",
       "      <th colspan=\"2\" halign=\"left\">message_sent</th>\n",
       "    </tr>\n",
       "    <tr>\n",
       "      <th></th>\n",
       "      <th>mean</th>\n",
       "      <th>median</th>\n",
       "      <th>mean</th>\n",
       "      <th>median</th>\n",
       "      <th>mean</th>\n",
       "      <th>median</th>\n",
       "    </tr>\n",
       "    <tr>\n",
       "      <th>tariff</th>\n",
       "      <th></th>\n",
       "      <th></th>\n",
       "      <th></th>\n",
       "      <th></th>\n",
       "      <th></th>\n",
       "      <th></th>\n",
       "    </tr>\n",
       "  </thead>\n",
       "  <tbody>\n",
       "    <tr>\n",
       "      <th>smart</th>\n",
       "      <td>417.75</td>\n",
       "      <td>421.50</td>\n",
       "      <td>16.32</td>\n",
       "      <td>17.00</td>\n",
       "      <td>33.37</td>\n",
       "      <td>28.00</td>\n",
       "    </tr>\n",
       "    <tr>\n",
       "      <th>ultra</th>\n",
       "      <td>526.09</td>\n",
       "      <td>518.00</td>\n",
       "      <td>19.47</td>\n",
       "      <td>19.00</td>\n",
       "      <td>49.31</td>\n",
       "      <td>38.00</td>\n",
       "    </tr>\n",
       "  </tbody>\n",
       "</table>\n",
       "</div>"
      ],
      "text/plain": [
       "       calls_sum        gb_used        message_sent       \n",
       "            mean median    mean median         mean median\n",
       "tariff                                                    \n",
       "smart     417.75 421.50   16.32  17.00        33.37  28.00\n",
       "ultra     526.09 518.00   19.47  19.00        49.31  38.00"
      ]
     },
     "execution_count": 28,
     "metadata": {},
     "output_type": "execute_result"
    }
   ],
   "source": [
    "df_pivot.pivot_table(index='tariff', values={'calls_sum', 'message_sent', 'gb_used'}, \n",
    "                     aggfunc={'mean', 'median'})"
   ]
  },
  {
   "cell_type": "markdown",
   "metadata": {},
   "source": [
    "Средние и медианные значения отличаются несильно, что говорит о том, что единичные выбросы в данных не имеют сильное влияние на итоговую картину.  \n",
    "Выделить можно только количество отправленных смс. В случае с текстовыми сообщениями средние значения достаточно сильно отличаются от медианных.  \n",
    "\n",
    "Напомним характеристики каждого из тарифов:  \n",
    "1) Тариф «Смарт»\n",
    "Ежемесячная плата: Включено 500 минут разговора, 50 сообщений и 15 Гб интернет-трафика  \n",
    "2) Тариф «Ультра»\n",
    "Ежемесячная плата: Включено 3000 минут разговора, 1000 сообщений и 30 Гб интернет-трафика  \n",
    "\n",
    "По средним значениям можно сделать следующие выводы:  \n",
    "В среднем абоненты тарифа Смарт ежемесячно используют чуть более 400 минут разговора из 500, пишут около 33 смс-сообщений в месяц при лимите 50, но при этом выходят за рамки включенного в тариф интернет-трафика, перерасходуя чуть больше 1 Гб (что в расчетах приравнивается 2 Гб).  \n",
    "Абоненты тарифа Ультра в среднем ежемесячно используют только чуть более 500 минут разговора при лимите 3000 минут, пишут в среднем не более 50 сообщений при лимите 1000, а также используют около 20 Гб интернет-трафика из 30.  \n",
    "\n",
    "Напишем функцию для автоматического вывода интересующей нас информации по тарифам."
   ]
  },
  {
   "cell_type": "code",
   "execution_count": 30,
   "metadata": {},
   "outputs": [],
   "source": [
    "def desc_func(column, name):\n",
    "    print('Характеристики', name, 'по тарифу Смарт')\n",
    "    print(df_pivot[df_pivot['tariff'] == 'smart'][column].describe())\n",
    "    print('Дисперсия для', name, 'по тарифу Смарт', np.var(df_pivot[df_pivot['tariff'] == 'smart'][column]))\n",
    "    print('')\n",
    "    print('Характеристики', name, 'по тарифу Ультра')\n",
    "    print(df_pivot[df_pivot['tariff'] == 'ultra'][column].describe())\n",
    "    print('Дисперсия для звонков', name, 'Смарт', np.var(df_pivot[df_pivot['tariff'] == 'ultra'][column]))\n",
    "    df_pivot[df_pivot['tariff'] == 'smart'][column].hist(alpha=0.7, bins=50, figsize=(15, 10))\n",
    "    df_pivot[df_pivot['tariff'] == 'ultra'][column].hist(alpha=0.6, bins=50, figsize=(15, 10))\n",
    "    plt.legend(['Смарт', 'Ультра'])\n"
   ]
  },
  {
   "cell_type": "markdown",
   "metadata": {},
   "source": [
    "### Анализ звонков   \n",
    "По средним данным можно сказать следующее: обе категории пользователей (и пользователи тарифа Смарт, и пользователи тарифа Ультра) в среднем укладываются в лимит минут разговора. Однако пользователи тарифа Смарт используют лимит практически полностью, в то время как пользователи тарифа Ультра немногим превышают свой лимит в 3000 минут разговоров в месяц - среднее время разговоров у них составляет 526 минут в месяц.   \n"
   ]
  },
  {
   "cell_type": "code",
   "execution_count": 31,
   "metadata": {},
   "outputs": [
    {
     "name": "stdout",
     "output_type": "stream",
     "text": [
      "Характеристики звонков по тарифу Смарт\n",
      "count   2230.00\n",
      "mean     417.75\n",
      "std      190.48\n",
      "min        0.00\n",
      "25%      282.00\n",
      "50%      421.50\n",
      "75%      545.00\n",
      "max     1435.00\n",
      "Name: calls_sum, dtype: float64\n",
      "Дисперсия для звонков по тарифу Смарт 36265.124153109835\n",
      "\n",
      "Характеристики звонков по тарифу Ультра\n",
      "count    986.00\n",
      "mean     526.09\n",
      "std      317.89\n",
      "min        0.00\n",
      "25%      282.50\n",
      "50%      518.00\n",
      "75%      751.75\n",
      "max     1673.00\n",
      "Name: calls_sum, dtype: float64\n",
      "Дисперсия для звонков звонков Смарт 100950.00623331085\n"
     ]
    },
    {
     "data": {
      "image/png": "[encoded data removed]",
      "text/plain": [
       "<Figure size 1080x720 with 1 Axes>"
      ]
     },
     "metadata": {
      "needs_background": "light"
     },
     "output_type": "display_data"
    },
    {
     "name": "stdout",
     "output_type": "stream",
     "text": [
      "Количество случаев, когда абоненты тарифа Смарт не укладывались в лимит 500 минут в месяц, 754 , что составляет  33.81%\n"
     ]
    }
   ],
   "source": [
    "desc_func('calls_sum', 'звонков')\n",
    "plt.title('Гистограмма распределения израсходованных минут по тарифам Смарт и Ультра в месяц за 2018 год')\n",
    "plt.xlabel('Количество израсходованных минут в месяц, мин.')\n",
    "plt.ylabel('Количество наблюдений')\n",
    "plt.show()\n",
    "print('Количество случаев, когда абоненты тарифа Смарт не укладывались в лимит 500 минут в месяц,', \n",
    "      len(df_pivot[(df_pivot['tariff'] == 'smart') & (df_pivot['calls_sum'] > 500)]), ', что составляет  {:.2%}'\n",
    "      .format(len(df_pivot[(df_pivot['tariff'] == 'smart') & (df_pivot['calls_sum'] > 500)])/\n",
    "              len(df_pivot[df_pivot['tariff'] == 'smart'])))"
   ]
  },
  {
   "cell_type": "markdown",
   "metadata": {},
   "source": [
    "Распределение тарифа Смарт похоже на нормальное с единичными выбросами.  \n",
    "Несмотря на сделанные ранее выводы по средним значениям, в трети случаев абоненты тарифа Смарт не укладывались в тарифный лимит минут телефонной связи. Такие же выводы можно сделать, посмотрев на стандартное отклонение, которое для этого тарифа составляет 190,48\n",
    "\n",
    "Распределение количества наблюдений для тарифа Ультра размыто в границах примерно до 900 минут, что подтверджается высоким стандартным отклонением - ок. 318 при среднем значении 526. Также наблюдаются единичные значения, составляющие \"хвост\" данных.  \n",
    "\n",
    "По обоим тарифам наблюдается большое стандартное отклонение, и, соответствено, очень большая дисперсия.  \n",
    "Также по обоим тарифам есть определенное количество случаев, когда лимит на телефонные разговоры не использовался, или использовался в малом количестве. Одна из возможных причин подобного поведения клиентов - это покупка тарифа для пользования, например, только интернетом."
   ]
  },
  {
   "cell_type": "markdown",
   "metadata": {},
   "source": [
    "### Анализ использования абонентами мобильного интернета  \n",
    "Пользователи тарифа смарт в среднем каждый месяц выходят за лимит 15 Гб интернет-трафика (по факту используя чуть больше 16 Гб (что в расчетах приравнивается 17 за счет округления).  \n",
    "Пользователи ультра в среднем ежемесячно расходуют чуть меньше 20 Гб при лимите 30. "
   ]
  },
  {
   "cell_type": "code",
   "execution_count": 32,
   "metadata": {},
   "outputs": [
    {
     "name": "stdout",
     "output_type": "stream",
     "text": [
      "Характеристики интернет-трафика по тарифу Смарт\n",
      "count   2230.00\n",
      "mean      16.32\n",
      "std        5.76\n",
      "min        0.00\n",
      "25%       13.00\n",
      "50%       17.00\n",
      "75%       20.00\n",
      "max       38.00\n",
      "Name: gb_used, dtype: float64\n",
      "Дисперсия для интернет-трафика по тарифу Смарт 33.118594984817605\n",
      "\n",
      "Характеристики интернет-трафика по тарифу Ультра\n",
      "count   986.00\n",
      "mean     19.47\n",
      "std       9.87\n",
      "min       0.00\n",
      "25%      12.00\n",
      "50%      19.00\n",
      "75%      27.00\n",
      "max      49.00\n",
      "Name: gb_used, dtype: float64\n",
      "Дисперсия для звонков интернет-трафика Смарт 97.27978308900691\n"
     ]
    },
    {
     "data": {
      "image/png": "[encoded data removed]",
      "text/plain": [
       "<Figure size 1080x720 with 1 Axes>"
      ]
     },
     "metadata": {
      "needs_background": "light"
     },
     "output_type": "display_data"
    },
    {
     "name": "stdout",
     "output_type": "stream",
     "text": [
      "Количество случаев, когда абоненты тарифа Смарт не укладывались в лимит 15 Гб в месяц, 1304 , что составляет  58.48%\n",
      "Количество случаев, когда абоненты тарифа Ультра не укладывались в лимит 30 Гб в месяц, 134 , что составляет  13.59%\n"
     ]
    }
   ],
   "source": [
    "desc_func('gb_used', 'интернет-трафика')\n",
    "plt.title('Гистограмма распределения израсходованного интернет-трафика по тарифам Смарт и Ультра в месяц за 2018 год')\n",
    "plt.xlabel('Количество израсходованного интернет-трафика в месяц, Гб')\n",
    "plt.ylabel('Количество наблюдений')\n",
    "plt.show()\n",
    "print('Количество случаев, когда абоненты тарифа Смарт не укладывались в лимит 15 Гб в месяц,', \n",
    "      len(df_pivot[(df_pivot['tariff'] == 'smart') & (df_pivot['gb_used'] > 15)]), ', что составляет  {:.2%}'\n",
    "      .format(len(df_pivot[(df_pivot['tariff'] == 'smart') & (df_pivot['gb_used'] > 15)])/\n",
    "              len(df_pivot[df_pivot['tariff'] == 'smart'])))\n",
    "\n",
    "print('Количество случаев, когда абоненты тарифа Ультра не укладывались в лимит 30 Гб в месяц,', \n",
    "      len(df_pivot[(df_pivot['tariff'] == 'ultra') & (df_pivot['gb_used'] > 30)]), ', что составляет  {:.2%}'\n",
    "      .format(len(df_pivot[(df_pivot['tariff'] == 'ultra') & (df_pivot['gb_used'] > 30)])/\n",
    "              len(df_pivot[df_pivot['tariff'] == 'ultra'])))"
   ]
  },
  {
   "cell_type": "markdown",
   "metadata": {},
   "source": [
    "Видим схожие с распределением телефонных звонков гистограммы.  \n",
    "Стандартное отклонение для тарифа Ультра также \"размазывает\" наблюдения почти по всей оси с количеством израсходованного трафика.  \n",
    "В более, чем половине случаев, абоненты тарифа Смарт не укладываются в свой лимит интернет-трафика (это мы видели и при проверке средних значений выборки).  \n",
    "Пользователи тарифа Ультра не укладывались в лимит 30 Гб в 2018 году в 13,59% случаях."
   ]
  },
  {
   "cell_type": "markdown",
   "metadata": {},
   "source": [
    "### Анализ использования абонентами  текстовых сообщений  \n",
    "Ожидаемо, пользователи не так активно пользуются смс-сообщениями, как другими услугами тарифов.  \n",
    "Средние и медианные значения за месяц по обоим тарифам находятся в пределах лимита тарифа смарт - не более 50 сообщений в месяц (при лимите для тарифа ультра в 1000 сообщений).   \n",
    "Как было указано выше, интересна разница между средними и медианными значениями. "
   ]
  },
  {
   "cell_type": "code",
   "execution_count": 33,
   "metadata": {},
   "outputs": [
    {
     "name": "stdout",
     "output_type": "stream",
     "text": [
      "Характеристики смс-сообщений по тарифу Смарт\n",
      "count   2230.00\n",
      "mean      33.37\n",
      "std       28.23\n",
      "min        0.00\n",
      "25%       10.00\n",
      "50%       28.00\n",
      "75%       51.00\n",
      "max      143.00\n",
      "Name: message_sent, dtype: float64\n",
      "Дисперсия для смс-сообщений по тарифу Смарт 796.5978766916663\n",
      "\n",
      "Характеристики смс-сообщений по тарифу Ультра\n",
      "count   986.00\n",
      "mean     49.31\n",
      "std      47.81\n",
      "min       0.00\n",
      "25%       6.00\n",
      "50%      38.00\n",
      "75%      78.75\n",
      "max     224.00\n",
      "Name: message_sent, dtype: float64\n",
      "Дисперсия для звонков смс-сообщений Смарт 2283.099557085194\n"
     ]
    },
    {
     "data": {
      "image/png": "[encoded data removed]",
      "text/plain": [
       "<Figure size 1080x720 with 1 Axes>"
      ]
     },
     "metadata": {
      "needs_background": "light"
     },
     "output_type": "display_data"
    },
    {
     "name": "stdout",
     "output_type": "stream",
     "text": [
      "Количество случаев, когда абоненты тарифа Смарт не укладывались в лимит 50 смс в месяц, 564 , что составляет  25.29%\n"
     ]
    }
   ],
   "source": [
    "desc_func('message_sent', 'смс-сообщений')\n",
    "plt.title('Гистограмма распределения израсходованных смс-сообщений по тарифам Смарт и Ультра в месяц за 2018 год')\n",
    "plt.xlabel('Количество израсходованных смс-сообщений в месяц, шт')\n",
    "plt.ylabel('Количество наблюдений')\n",
    "plt.show()\n",
    "print('Количество случаев, когда абоненты тарифа Смарт не укладывались в лимит 50 смс в месяц,', \n",
    "      len(df_pivot[(df_pivot['tariff'] == 'smart') & (df_pivot['message_sent'] > 50)]), ', что составляет  {:.2%}'\n",
    "      .format(len(df_pivot[(df_pivot['tariff'] == 'smart') & (df_pivot['message_sent'] > 50)])/\n",
    "              len(df_pivot[df_pivot['tariff'] == 'smart'])))"
   ]
  },
  {
   "cell_type": "markdown",
   "metadata": {},
   "source": [
    "Большое количество абонентов не использовали смс-сообщения, или делали это крайне редко. Этим объясняются средние, медианные значения и достаточно большие отклонения от этих величин.  \n",
    "В около четверти случаях абоненты тарифа Смарт превышают лимит смс-сообщений.  \n",
    "Также видим то, что у распределения тарифа Ультра длинный хвост, что говорит о частоте случаев, когда абоненты этого тарифа активно использовали текстовые сообщения.  "
   ]
  },
  {
   "cell_type": "markdown",
   "metadata": {},
   "source": [
    "### Выводы\n",
    "Распределения израсходованных минут и гигабайт интернета похожи на нормальные с хвостами данных (единичными абонентами, которые разово значительно превышали лимиты рассматриваемых нами величин, или же просто выбивались из общей динамики пользования услугами), но в случае с тарифом Ультра на график сильное влияние оказывает большой разброс значений, который описывается высокими стандартными отклонениями.  \n",
    "\n",
    "Выводы по средним величинам:  \n",
    "- В среднем абоненты тарифа Смарт ежемесячно использовали чуть более 400 минут разговора из 500, писали около 33 смс-сообщений в месяц при лимите 50, но при этом выходили за рамки включенного в тариф интернет-трафика, перерасходуя чуть больше 1 Гб (что в расчетах приравнивается 2 Гб).  \n",
    "- Абоненты тарифа Ультра в среднем ежемесячно использовали только чуть более 500 минут разговора при лимите 3000 минут, писали в среднем не более 50 сообщений при лимите 1000, а также использовали около 20 Гб интернет-трафика из 30.  \n",
    "\n",
    "При детальном анализе каждой величины выявили следующие закономерности:  \n",
    "- Пользователи тарифа Смарт в 2018 году часто превышали заданные тарифным планом лимиты.  \n",
    "В трети случаях (33,81%) абоненты тарифа Смарт не укладывались в ежемесячный лимит минут, почти в 60% случаев (58,48%) - в ежемесячный лимит интернет-трафика. Лимит смс-сообщений был превышен в четверти случаях (25,29%).  \n",
    "\n",
    "- Пользователи тарифа Ультра в 2018 году превышали только лимит интернет-трафика. Факт превышения норматива 30 Гб наблюдался в 13,59% случаев. "
   ]
  },
  {
   "cell_type": "markdown",
   "metadata": {},
   "source": [
    "## Проверка гипотезы\n",
    "На последнем этапе исследования нам необходимо проверить две гипотезы:  \n",
    "1) Средняя выручка пользователей тарифов «Ультра» и «Смарт» различаются;  \n",
    "2) Средняя выручка пользователей из Москвы отличается от выручки пользователей из других регионов.  \n",
    "\n",
    "Для проверки гипотез нам необходимо задать пороговый уровень статистической значимости alpha - вероятность ошибочно отклонить нулевую гипотезу.  \n",
    "Чем меньше alpha-уровень, тем меньше риск совершения этой ошибки.  \n",
    "Для проверки наших гипотез примем пороговый уровень статистической значимости равный 0,05."
   ]
  },
  {
   "cell_type": "markdown",
   "metadata": {},
   "source": [
    "### Проверка гипотезы №1\n",
    "\n",
    "Проверяемая гипотеза: Средняя выручка пользователей тарифов «Ультра» и «Смарт» различаются.\n",
    "\n",
    "- Нулевая гипотеза H₀: средняя выручка пользователей тарифов Ультра и Смарт  равны между собой.  \n",
    "- Альтернативная гипотеза H₁: средняя выручка пользователей двух тарифов не равна.  \n",
    "\n",
    "\n",
    "Альтернативная гипотеза сформулирована как двухсторонняя, так как разница в выручке может быть как в большую сторону, так и в меньшую."
   ]
  },
  {
   "cell_type": "markdown",
   "metadata": {},
   "source": [
    "Для проверки нулевой гипотезы требуется посчитать вероятность получить наблюдаемое на выборке значение при условии, что нулевая гипотеза верна. В зависимости от полученной вероятности сделаем вывод — требуется ли отвергать H₀.   \n",
    "\n",
    "Данная гипотеза будет проверяться посредством проведения t-теста, который сравнивает равенство среднего двух генеральных совокупностей по взятым из них выборкам.  \n",
    "Т-тест нам подходит по следующим причинам:  \n",
    "- Рассматриваемые совокупности не зависят друг от друга. \n",
    "- Выборки имеют большой размер, что, в свою очередь, обеспечивает нормальное распределение средних значений вокруг истинного среднего совокупности.  \n",
    "- Равенство дисперсий будет также компенсироваться размерами наших выборок.\n",
    "\n",
    "\n",
    "Для проведения t-теста возьмем одинаковые случайные выборки из 300 строк по тарифам Ультра и Смарт.  \n",
    "Размер выборок взят произвольно как компромисс между объемом данных и производительностью."
   ]
  },
  {
   "cell_type": "code",
   "execution_count": 34,
   "metadata": {},
   "outputs": [
    {
     "name": "stdout",
     "output_type": "stream",
     "text": [
      "p-значение: 8.081909555489933e-161\n",
      "Отвергаем нулевую гипотезу\n"
     ]
    }
   ],
   "source": [
    "results1 = st.ttest_ind(df_pivot[df_pivot['tariff'] == 'smart']['total_fee'], \n",
    "             df_pivot[df_pivot['tariff'] == 'ultra']['total_fee'])\n",
    "alpha = 0.05\n",
    "print('p-значение:', results1.pvalue)\n",
    "if results1.pvalue < alpha: # сравниваем получившееся p-значение с заданным уровнем статистической значимости:\n",
    "    print(\"Отвергаем нулевую гипотезу\")\n",
    "else:\n",
    "    print(\"Не получилось отвергнуть нулевую гипотезу\")"
   ]
  },
  {
   "cell_type": "markdown",
   "metadata": {},
   "source": [
    "Нулевая гипотеза отвергается. Средняя выручка пользователей тарифов Ультра и Смарт не равна.  \n",
    "p-значение имеет степень более е-100, что говорит почти о несуществующей вероятности совпадения средней выручки тарифов Ультра и Смарт.  \n",
    "Далее определим, какой тариф приносит больше денег (цель нашего исследования).  \n",
    "Для этого воспользуемся теми же таблицами и гистограммами, какими мы пользовались ранее."
   ]
  },
  {
   "cell_type": "code",
   "execution_count": 35,
   "metadata": {},
   "outputs": [
    {
     "name": "stdout",
     "output_type": "stream",
     "text": [
      "Характеристики выручки по тарифу Смарт\n",
      "count   2230.00\n",
      "mean    1289.64\n",
      "std      818.37\n",
      "min      550.00\n",
      "25%      550.00\n",
      "50%     1021.00\n",
      "75%     1750.00\n",
      "max     6770.00\n",
      "Name: total_fee, dtype: float64\n",
      "Дисперсия для выручки по тарифу Смарт 669430.4361979977\n",
      "\n",
      "Характеристики выручки по тарифу Ультра\n",
      "count    986.00\n",
      "mean    2070.03\n",
      "std      376.02\n",
      "min     1950.00\n",
      "25%     1950.00\n",
      "50%     1950.00\n",
      "75%     1950.00\n",
      "max     4800.00\n",
      "Name: total_fee, dtype: float64\n",
      "Дисперсия для звонков выручки Смарт 141244.31956107417\n"
     ]
    },
    {
     "data": {
      "image/png": "[encoded data removed]",
      "text/plain": [
       "<Figure size 1080x720 with 1 Axes>"
      ]
     },
     "metadata": {
      "needs_background": "light"
     },
     "output_type": "display_data"
    },
    {
     "name": "stdout",
     "output_type": "stream",
     "text": [
      "Суммарнная выручка тарифа Смарт за 2018 год 2875901 руб.\n",
      "Суммарнная выручка тарифа Ультра за 2018 год 2041050 руб.\n"
     ]
    }
   ],
   "source": [
    "desc_func('total_fee', 'выручки')\n",
    "plt.title('Гистограмма распределения выручки по тарифам Смарт и Ультра в месяц за 2018 год')\n",
    "plt.xlabel('Выручка, руб.')\n",
    "plt.ylabel('Количество наблюдений')\n",
    "plt.show()\n",
    "print('Суммарнная выручка тарифа Смарт за 2018 год', df_pivot[df_pivot['tariff'] == 'smart']['total_fee'].sum(), 'руб.')\n",
    "print('Суммарнная выручка тарифа Ультра за 2018 год', df_pivot[df_pivot['tariff'] == 'ultra']['total_fee'].sum(), 'руб.')"
   ]
  },
  {
   "cell_type": "markdown",
   "metadata": {},
   "source": [
    "Средняя выручка по тарифу Смарт составляет 1289,64 руб. Медианное значение средней выручки - 1021 руб. Стандартное отклонение для выручки тарифа составляет 818 руб., что говорит об большой неравномерности выручки в зависимости от поведения каждого конкретного пользователя.  \n",
    "\n",
    "Для тарифа Ультра характерна куда менее высокое стандартное отклонение (всего 376 руб. против 818 тарифа Смарт) при средней выручке 2070 руб. Медианное значение тарифа Ультра отличается от средней выручки не настолько сильно, как у тарифа Смарт, и составляет 1950 руб.  \n",
    "\n",
    "Суммарная выручка тарифа Смарт выше, чем у Ультра, но это обосновывается количеством пользователей тарифа Смарт, которое выше более, чем в два раза.  \n",
    "\n",
    "Гипотеза о том, что средняя выручка пользователей тарифов «Ультра» и «Смарт» различается, подтвердилась.  \n",
    "Тариф Ультра более выгоден для компании. "
   ]
  },
  {
   "cell_type": "markdown",
   "metadata": {},
   "source": [
    "### Проверка гипотезы №2\n",
    "\n",
    "Проверяемая гипотеза: Средняя выручка пользователей из Москвы отличается от выручки пользователей из других регионов.  \n",
    "Нулевая и альтернативная гипотезы:\n",
    "- H₀: Средняя выручка пользователей из Москвы равна средней выручке пользователей из других регионов. \n",
    "- H₁: Средняя выручка пользователей из Москвы отличается от выручки пользователей из других регионов.  \n",
    "\n",
    "Для проведения t-теста также возьмем одинаковые случайные выборки из 300 строк."
   ]
  },
  {
   "cell_type": "code",
   "execution_count": 36,
   "metadata": {},
   "outputs": [
    {
     "name": "stdout",
     "output_type": "stream",
     "text": [
      "p-значение: 0.5400751614511182\n",
      "Не получилось отвергнуть нулевую гипотезу\n"
     ]
    }
   ],
   "source": [
    "results2 = st.ttest_ind(df_pivot[df_pivot['city'] == 'Москва']['total_fee'], \n",
    "             df_pivot[df_pivot['city'] != 'Москва']['total_fee'])\n",
    "alpha = 0.05\n",
    "print('p-значение:', results2.pvalue)\n",
    "if results2.pvalue < alpha: # сравниваем получившееся p-значение с заданным уровнем статистической значимости:\n",
    "    print(\"Отвергаем нулевую гипотезу\")\n",
    "else:\n",
    "    print(\"Не получилось отвергнуть нулевую гипотезу\")"
   ]
  },
  {
   "cell_type": "markdown",
   "metadata": {},
   "source": [
    "Подтвердилась нулевая гипотеза, причем с высоким p-значением.  \n",
    "Средняя выручка пользователей из Москвы равна средней выручке пользователей из других регионов.  \n",
    "Дополнительно проверим это на цифрах."
   ]
  },
  {
   "cell_type": "code",
   "execution_count": 37,
   "metadata": {},
   "outputs": [
    {
     "name": "stdout",
     "output_type": "stream",
     "text": [
      "Характеристики выручки для абонентов Москвы в 2018 году\n",
      "count    611.00\n",
      "mean    1546.71\n",
      "std      752.09\n",
      "min      550.00\n",
      "25%      780.50\n",
      "50%     1750.00\n",
      "75%     1950.00\n",
      "max     5321.00\n",
      "Name: total_fee, dtype: float64\n",
      "\n",
      "Характеристики выручки для абонентов других городов в 2018 году\n",
      "count   2605.00\n",
      "mean    1524.73\n",
      "std      808.75\n",
      "min      550.00\n",
      "25%      750.00\n",
      "50%     1583.00\n",
      "75%     1950.00\n",
      "max     6770.00\n",
      "Name: total_fee, dtype: float64\n"
     ]
    },
    {
     "data": {
      "image/png": "[encoded data removed]",
      "text/plain": [
       "<Figure size 1080x720 with 1 Axes>"
      ]
     },
     "metadata": {
      "needs_background": "light"
     },
     "output_type": "display_data"
    }
   ],
   "source": [
    "print('Характеристики выручки для абонентов Москвы в 2018 году')\n",
    "print(df_pivot[df_pivot['city'] == 'Москва']['total_fee'].describe())\n",
    "print('')\n",
    "print('Характеристики выручки для абонентов других городов в 2018 году')\n",
    "print(df_pivot[df_pivot['city'] != 'Москва']['total_fee'].describe())\n",
    "df_pivot[df_pivot['city'] == 'Москва']['total_fee'].hist(alpha=0.7, bins=50, figsize=(15, 10))\n",
    "df_pivot[df_pivot['city'] != 'Москва']['total_fee'].hist(alpha=0.6, bins=50, figsize=(15, 10))\n",
    "plt.title('Гистограмма распределения выручки в разрезе Москва/остальные города')\n",
    "plt.xlabel('Выручка, руб.')\n",
    "plt.ylabel('Количество наблюдений')\n",
    "plt.legend(['Москва', 'Остальные города'])\n",
    "plt.show()"
   ]
  },
  {
   "cell_type": "markdown",
   "metadata": {},
   "source": [
    "### Выводы\n",
    "Одна гипотеза из двух подтвердилась.  \n",
    "Средняя выручка по тарифу Ультра оказалась значительно выше, чем по тарифу Смарт, но при этом средние значения выручки для абонентов Москвы и остальных городов примерно равны. "
   ]
  },
  {
   "cell_type": "markdown",
   "metadata": {},
   "source": [
    "## Общий вывод"
   ]
  },
  {
   "cell_type": "markdown",
   "metadata": {},
   "source": [
    "В рамках задачи по определения наиболее \"денежного\" тарифа были проверены и подготовлены исходные данные, посчитана ежемесяная выручка по каждому абоненту помесячно, после чего проанализировано поведение абонентов тарифов Смарт и Ультра, а также проверено две гипотезы, одна из которых подтвердилась.  \n",
    "\n",
    "Абоненты тарифа Смарт часто превышали заданные тарифом лимиты в 2018 году. Лимит звонков превышался в трети случаев, интернет-трафика - чуть чаще, чем в половине случаев, а лимит смс-сообщений - в четверти.  \n",
    "\n",
    "Абоненты тарифа Ультра в 2018 году превышали лимит только по интернет-трафику (в 13.59% случаев).  \n",
    "\n",
    "Ниже пример распределения значений интернет-трафика в 2018 году для тарифов Смарт и Ультра. "
   ]
  },
  {
   "cell_type": "code",
   "execution_count": 38,
   "metadata": {},
   "outputs": [
    {
     "data": {
      "image/png": "[encoded data removed]",
      "text/plain": [
       "<Figure size 1080x720 with 1 Axes>"
      ]
     },
     "metadata": {
      "needs_background": "light"
     },
     "output_type": "display_data"
    }
   ],
   "source": [
    "df_pivot[df_pivot['tariff'] == 'smart']['gb_used'].hist(alpha=0.7, bins=50, figsize=(15, 10))\n",
    "df_pivot[df_pivot['tariff'] == 'ultra']['gb_used'].hist(alpha=0.6, bins=50, figsize=(15, 10))\n",
    "plt.legend(['Смарт', 'Ультра'])\n",
    "plt.title('Гистограмма распределения израсходованного интернет-трафика по тарифам Смарт и Ультра в месяц за 2018 год')\n",
    "plt.xlabel('Количество израсходованного интернет-трафика в месяц, Гб')\n",
    "plt.ylabel('Количество наблюдений')\n",
    "plt.show()"
   ]
  },
  {
   "cell_type": "markdown",
   "metadata": {},
   "source": [
    "Данное распределение является показательным для выборки. Оно почти аналогично и для телефонных звонков.  \n",
    "Гистограмма распределения значений отправленных текстовых сообщений имеет большое количество приближающихся к нулю значений, а также отсутствие пиков для тарифов Смарт и Ультра на гистограмме.\n",
    "\n",
    "Если говорить про средние величины, то ситуация выглядит следующим образом:\n",
    "В среднем абоненты тарифа Смарт ежемесячно использовали чуть более 400 минут разговора из 500, пишут около 33 смс-сообщений в месяц при лимите 50, но при этом выходили за рамки включенного в тариф интернет-трафика, перерасходуя чуть больше 1 Гб (что в расчетах приравнивается 2 Гб).\n",
    "Абоненты тарифа Ультра в среднем ежемесячно использовали только чуть более 500 минут разговора при лимите 3000 минут, писали в среднем не более 50 сообщений при лимите 1000, а также использовали около 20 Гб интернет-трафика из 30."
   ]
  },
  {
   "cell_type": "markdown",
   "metadata": {},
   "source": [
    "В финале исследования требовалось проверить две гипотезы:\n",
    "1) Средняя выручка пользователей тарифов «Ультра» и «Смарт» различаются;  \n",
    "2) Средняя выручка пользователей из Москвы отличается от выручки пользователей из других регионов.  \n",
    "\n",
    "Первая гипотиза подтвердилась.  \n",
    "Исходя из суммарной выручки за 2018 год можно предположить, что больше денег приносит тариф Смарт. "
   ]
  },
  {
   "cell_type": "code",
   "execution_count": 39,
   "metadata": {},
   "outputs": [
    {
     "name": "stdout",
     "output_type": "stream",
     "text": [
      "Суммарнная выручка тарифа Смарт за 2018 год 2875901 руб.\n",
      "Суммарнная выручка тарифа Ультра за 2018 год 2041050 руб.\n"
     ]
    }
   ],
   "source": [
    "print('Суммарнная выручка тарифа Смарт за 2018 год', df_pivot[df_pivot['tariff'] == 'smart']['total_fee'].sum(), 'руб.')\n",
    "print('Суммарнная выручка тарифа Ультра за 2018 год', df_pivot[df_pivot['tariff'] == 'ultra']['total_fee'].sum(), 'руб.')"
   ]
  },
  {
   "cell_type": "markdown",
   "metadata": {},
   "source": [
    "Однако большая выручка тарифа Смарт объясняется большим количеством абонентов, по сравнению с абонентами тарифа Ультра. В выборке из 3216 строк с данными (каждая строка это месячная выручка конкретного абонента) 2230 строк (что составляет почти 70%) - месячная выручка абонентов тарифа Смарт.  \n",
    "Если говорить про средние, медианные величины и стандартное отклонение, то складывается следующая ситуация:\n",
    "Средняя выручка по тарифу Смарт составляет 1289,64 руб. (при медианном  1021 руб.). Стандартное отклонение выручки по тарифу - 818 руб., что характеризует выручку как неравномерную, зависящую от поведения каждого конкретного абонента (кто-то пользуется тарифом в рамках лимита, кто-то превышает данный лимит).\n",
    "\n",
    "Тарифа Ультра характеризуется средним значением выручки в 2070 руб. при медианном 1950 руб. Стандартное отклонение составляет всего 376 руб. (против 818 тарифа Смарт) при средней выручке 2070 руб.  \n",
    "\n",
    "В целом, несмотря на то, что абоненты тарифа Смарт приносят компании выручку за счет превышения установленных тарифом лимитов, еслим расширить базу абонентов тарифа Ультра, то это даст больший и более предсказуемый прирост выручки, нежели чем то же число абонентов тарифа Смарт.  \n",
    "Основное преимущество тарифа Смарт - его стоимость, которая менее отпугивающая для абонентов. За счет чего выручка по тарифу берет своей \"массовостью\"."
   ]
  },
  {
   "cell_type": "code",
   "execution_count": 40,
   "metadata": {
    "scrolled": false
   },
   "outputs": [
    {
     "data": {
      "image/png": "[encoded data removed]",
      "text/plain": [
       "<Figure size 1080x720 with 1 Axes>"
      ]
     },
     "metadata": {
      "needs_background": "light"
     },
     "output_type": "display_data"
    }
   ],
   "source": [
    "df_pivot[df_pivot['tariff'] == 'smart']['total_fee'].hist(alpha=0.7, bins=50, figsize=(15, 10))\n",
    "df_pivot[df_pivot['tariff'] == 'ultra']['total_fee'].hist(alpha=0.6, bins=50, figsize=(15, 10))\n",
    "plt.legend(['Смарт', 'Ультра'])\n",
    "plt.title('Гистограмма распределения выручки по тарифам Смарт и Ультра в месяц за 2018 год')\n",
    "plt.xlabel('Выручка, руб.')\n",
    "plt.ylabel('Количество наблюдений')\n",
    "plt.show()\n"
   ]
  },
  {
   "cell_type": "markdown",
   "metadata": {},
   "source": [
    "Вторая проверяемая гипотеза не подтвердилась. Средняя выручка в Москве примерно соответствует средней выручке других городов выборки.  \n",
    "Это можно увидеть и по характеристикам ниже, а также по гистограммам, которые, в целом, отличаются только своим масштабом. "
   ]
  },
  {
   "cell_type": "code",
   "execution_count": 41,
   "metadata": {},
   "outputs": [
    {
     "name": "stdout",
     "output_type": "stream",
     "text": [
      "Характеристики выручки для абонентов Москвы в 2018 году\n",
      "count    611.00\n",
      "mean    1546.71\n",
      "std      752.09\n",
      "min      550.00\n",
      "25%      780.50\n",
      "50%     1750.00\n",
      "75%     1950.00\n",
      "max     5321.00\n",
      "Name: total_fee, dtype: float64\n",
      "\n",
      "Характеристики выручки для абонентов других городов в 2018 году\n",
      "count   2605.00\n",
      "mean    1524.73\n",
      "std      808.75\n",
      "min      550.00\n",
      "25%      750.00\n",
      "50%     1583.00\n",
      "75%     1950.00\n",
      "max     6770.00\n",
      "Name: total_fee, dtype: float64\n"
     ]
    },
    {
     "data": {
      "image/png": "[encoded data removed]",
      "text/plain": [
       "<Figure size 1080x720 with 1 Axes>"
      ]
     },
     "metadata": {
      "needs_background": "light"
     },
     "output_type": "display_data"
    }
   ],
   "source": [
    "print('Характеристики выручки для абонентов Москвы в 2018 году')\n",
    "print(df_pivot[df_pivot['city'] == 'Москва']['total_fee'].describe())\n",
    "print('')\n",
    "print('Характеристики выручки для абонентов других городов в 2018 году')\n",
    "print(df_pivot[df_pivot['city'] != 'Москва']['total_fee'].describe())\n",
    "df_pivot[df_pivot['city'] == 'Москва']['total_fee'].hist(alpha=0.7, bins=50, figsize=(15, 10))\n",
    "df_pivot[df_pivot['city'] != 'Москва']['total_fee'].hist(alpha=0.6, bins=50, figsize=(15, 10))\n",
    "plt.title('Гистограмма распределения выручки в разрезе Москва/остальные города в 2018 году')\n",
    "plt.xlabel('Выручка, руб.')\n",
    "plt.ylabel('Количество наблюдений')\n",
    "plt.legend(['Москва', 'Остальные города'])\n",
    "plt.show()"
   ]
  }
 ],
 "metadata": {
  "ExecuteTimeLog": [
   {
    "duration": 282,
    "start_time": "2022-02-07T15:40:26.017Z"
   },
   {
    "duration": 941,
    "start_time": "2022-02-07T15:40:34.706Z"
   },
   {
    "duration": 377,
    "start_time": "2022-02-07T15:40:35.649Z"
   },
   {
    "duration": 50,
    "start_time": "2022-02-07T15:40:36.028Z"
   },
   {
    "duration": 117,
    "start_time": "2022-02-07T15:40:36.080Z"
   },
   {
    "duration": 149,
    "start_time": "2022-02-07T15:40:36.199Z"
   },
   {
    "duration": 12,
    "start_time": "2022-02-07T15:40:36.349Z"
   },
   {
    "duration": 9,
    "start_time": "2022-02-07T15:40:36.363Z"
   },
   {
    "duration": 5,
    "start_time": "2022-02-07T15:40:36.374Z"
   },
   {
    "duration": 5,
    "start_time": "2022-02-07T15:40:36.381Z"
   },
   {
    "duration": 5,
    "start_time": "2022-02-07T15:40:36.412Z"
   },
   {
    "duration": 145,
    "start_time": "2022-02-07T15:40:36.419Z"
   },
   {
    "duration": 64,
    "start_time": "2022-02-07T15:40:36.565Z"
   },
   {
    "duration": 65,
    "start_time": "2022-02-07T15:40:36.630Z"
   },
   {
    "duration": 48,
    "start_time": "2022-02-07T15:40:36.696Z"
   },
   {
    "duration": 47,
    "start_time": "2022-02-07T15:40:36.746Z"
   },
   {
    "duration": 32,
    "start_time": "2022-02-07T15:40:36.794Z"
   },
   {
    "duration": 16,
    "start_time": "2022-02-07T15:40:36.828Z"
   },
   {
    "duration": 11,
    "start_time": "2022-02-07T15:40:36.846Z"
   },
   {
    "duration": 15,
    "start_time": "2022-02-07T15:40:36.859Z"
   },
   {
    "duration": 46,
    "start_time": "2022-02-07T15:40:36.875Z"
   },
   {
    "duration": 22,
    "start_time": "2022-02-07T15:40:36.922Z"
   },
   {
    "duration": 11,
    "start_time": "2022-02-07T15:40:36.945Z"
   },
   {
    "duration": 16,
    "start_time": "2022-02-07T15:40:36.959Z"
   },
   {
    "duration": 3,
    "start_time": "2022-02-07T15:40:36.977Z"
   },
   {
    "duration": 4,
    "start_time": "2022-02-07T15:40:37.012Z"
   },
   {
    "duration": 204,
    "start_time": "2022-02-07T15:40:37.018Z"
   },
   {
    "duration": 2233,
    "start_time": "2022-02-07T15:40:37.224Z"
   },
   {
    "duration": 1737,
    "start_time": "2022-02-07T15:40:37.722Z"
   },
   {
    "duration": 5,
    "start_time": "2022-02-07T15:41:18.520Z"
   },
   {
    "duration": 2249,
    "start_time": "2022-02-07T15:42:12.304Z"
   },
   {
    "duration": 6626,
    "start_time": "2022-02-07T15:42:20.744Z"
   },
   {
    "duration": 218,
    "start_time": "2022-02-07T15:43:03.785Z"
   },
   {
    "duration": 233,
    "start_time": "2022-02-07T15:43:42.060Z"
   },
   {
    "duration": 237,
    "start_time": "2022-02-07T15:43:52.647Z"
   },
   {
    "duration": 6847,
    "start_time": "2022-02-07T15:44:07.246Z"
   },
   {
    "duration": 926,
    "start_time": "2022-02-07T15:44:16.629Z"
   },
   {
    "duration": 384,
    "start_time": "2022-02-07T15:44:17.557Z"
   },
   {
    "duration": 51,
    "start_time": "2022-02-07T15:44:17.943Z"
   },
   {
    "duration": 121,
    "start_time": "2022-02-07T15:44:17.996Z"
   },
   {
    "duration": 146,
    "start_time": "2022-02-07T15:44:18.119Z"
   },
   {
    "duration": 14,
    "start_time": "2022-02-07T15:44:18.266Z"
   },
   {
    "duration": 8,
    "start_time": "2022-02-07T15:44:18.281Z"
   },
   {
    "duration": 21,
    "start_time": "2022-02-07T15:44:18.292Z"
   },
   {
    "duration": 7,
    "start_time": "2022-02-07T15:44:18.315Z"
   },
   {
    "duration": 6,
    "start_time": "2022-02-07T15:44:18.324Z"
   },
   {
    "duration": 166,
    "start_time": "2022-02-07T15:44:18.332Z"
   },
   {
    "duration": 59,
    "start_time": "2022-02-07T15:44:18.500Z"
   },
   {
    "duration": 69,
    "start_time": "2022-02-07T15:44:18.561Z"
   },
   {
    "duration": 37,
    "start_time": "2022-02-07T15:44:18.632Z"
   },
   {
    "duration": 63,
    "start_time": "2022-02-07T15:44:18.671Z"
   },
   {
    "duration": 16,
    "start_time": "2022-02-07T15:44:18.736Z"
   },
   {
    "duration": 18,
    "start_time": "2022-02-07T15:44:18.753Z"
   },
   {
    "duration": 13,
    "start_time": "2022-02-07T15:44:18.773Z"
   },
   {
    "duration": 13,
    "start_time": "2022-02-07T15:44:18.813Z"
   },
   {
    "duration": 11,
    "start_time": "2022-02-07T15:44:18.827Z"
   },
   {
    "duration": 22,
    "start_time": "2022-02-07T15:44:18.839Z"
   },
   {
    "duration": 11,
    "start_time": "2022-02-07T15:44:18.862Z"
   },
   {
    "duration": 47,
    "start_time": "2022-02-07T15:44:18.876Z"
   },
   {
    "duration": 3,
    "start_time": "2022-02-07T15:44:18.924Z"
   },
   {
    "duration": 5,
    "start_time": "2022-02-07T15:44:18.929Z"
   },
   {
    "duration": 236,
    "start_time": "2022-02-07T15:44:18.935Z"
   },
   {
    "duration": 12,
    "start_time": "2022-02-07T15:44:19.173Z"
   },
   {
    "duration": 54,
    "start_time": "2022-02-07T15:44:19.187Z"
   },
   {
    "duration": 13,
    "start_time": "2022-02-07T15:45:13.336Z"
   },
   {
    "duration": 299,
    "start_time": "2022-02-07T15:47:31.866Z"
   },
   {
    "duration": 931,
    "start_time": "2022-02-07T15:48:13.416Z"
   },
   {
    "duration": 374,
    "start_time": "2022-02-07T15:48:14.349Z"
   },
   {
    "duration": 50,
    "start_time": "2022-02-07T15:48:14.725Z"
   },
   {
    "duration": 121,
    "start_time": "2022-02-07T15:48:14.776Z"
   },
   {
    "duration": 158,
    "start_time": "2022-02-07T15:48:14.898Z"
   },
   {
    "duration": 14,
    "start_time": "2022-02-07T15:48:15.057Z"
   },
   {
    "duration": 7,
    "start_time": "2022-02-07T15:48:15.072Z"
   },
   {
    "duration": 5,
    "start_time": "2022-02-07T15:48:15.081Z"
   },
   {
    "duration": 29,
    "start_time": "2022-02-07T15:48:15.088Z"
   },
   {
    "duration": 8,
    "start_time": "2022-02-07T15:48:15.119Z"
   },
   {
    "duration": 162,
    "start_time": "2022-02-07T15:48:15.129Z"
   },
   {
    "duration": 61,
    "start_time": "2022-02-07T15:48:15.292Z"
   },
   {
    "duration": 77,
    "start_time": "2022-02-07T15:48:15.355Z"
   },
   {
    "duration": 39,
    "start_time": "2022-02-07T15:48:15.434Z"
   },
   {
    "duration": 62,
    "start_time": "2022-02-07T15:48:15.475Z"
   },
   {
    "duration": 15,
    "start_time": "2022-02-07T15:48:15.538Z"
   },
   {
    "duration": 16,
    "start_time": "2022-02-07T15:48:15.554Z"
   },
   {
    "duration": 11,
    "start_time": "2022-02-07T15:48:15.571Z"
   },
   {
    "duration": 38,
    "start_time": "2022-02-07T15:48:15.584Z"
   },
   {
    "duration": 11,
    "start_time": "2022-02-07T15:48:15.623Z"
   },
   {
    "duration": 5,
    "start_time": "2022-02-07T15:48:15.636Z"
   },
   {
    "duration": 20,
    "start_time": "2022-02-07T15:48:15.643Z"
   },
   {
    "duration": 11,
    "start_time": "2022-02-07T15:48:15.665Z"
   },
   {
    "duration": 44,
    "start_time": "2022-02-07T15:48:15.678Z"
   },
   {
    "duration": 3,
    "start_time": "2022-02-07T15:48:15.724Z"
   },
   {
    "duration": 7,
    "start_time": "2022-02-07T15:48:15.728Z"
   },
   {
    "duration": 215,
    "start_time": "2022-02-07T15:48:15.738Z"
   },
   {
    "duration": 15,
    "start_time": "2022-02-07T15:48:15.955Z"
   },
   {
    "duration": 51,
    "start_time": "2022-02-07T15:48:15.972Z"
   },
   {
    "duration": 916,
    "start_time": "2022-02-07T15:57:08.531Z"
   },
   {
    "duration": 389,
    "start_time": "2022-02-07T15:57:09.449Z"
   },
   {
    "duration": 50,
    "start_time": "2022-02-07T15:57:09.840Z"
   },
   {
    "duration": 129,
    "start_time": "2022-02-07T15:57:09.892Z"
   },
   {
    "duration": 139,
    "start_time": "2022-02-07T15:57:10.023Z"
   },
   {
    "duration": 11,
    "start_time": "2022-02-07T15:57:10.164Z"
   },
   {
    "duration": 7,
    "start_time": "2022-02-07T15:57:10.177Z"
   },
   {
    "duration": 27,
    "start_time": "2022-02-07T15:57:10.186Z"
   },
   {
    "duration": 6,
    "start_time": "2022-02-07T15:57:10.215Z"
   },
   {
    "duration": 9,
    "start_time": "2022-02-07T15:57:10.222Z"
   },
   {
    "duration": 157,
    "start_time": "2022-02-07T15:57:10.233Z"
   },
   {
    "duration": 59,
    "start_time": "2022-02-07T15:57:10.392Z"
   },
   {
    "duration": 77,
    "start_time": "2022-02-07T15:57:10.453Z"
   },
   {
    "duration": 38,
    "start_time": "2022-02-07T15:57:10.531Z"
   },
   {
    "duration": 60,
    "start_time": "2022-02-07T15:57:10.571Z"
   },
   {
    "duration": 15,
    "start_time": "2022-02-07T15:57:10.632Z"
   },
   {
    "duration": 15,
    "start_time": "2022-02-07T15:57:10.648Z"
   },
   {
    "duration": 11,
    "start_time": "2022-02-07T15:57:10.665Z"
   },
   {
    "duration": 40,
    "start_time": "2022-02-07T15:57:10.678Z"
   },
   {
    "duration": 14,
    "start_time": "2022-02-07T15:57:10.719Z"
   },
   {
    "duration": 6,
    "start_time": "2022-02-07T15:57:10.735Z"
   },
   {
    "duration": 21,
    "start_time": "2022-02-07T15:57:10.743Z"
   },
   {
    "duration": 12,
    "start_time": "2022-02-07T15:57:10.768Z"
   },
   {
    "duration": 21,
    "start_time": "2022-02-07T15:57:10.813Z"
   },
   {
    "duration": 4,
    "start_time": "2022-02-07T15:57:10.836Z"
   },
   {
    "duration": 6,
    "start_time": "2022-02-07T15:57:10.842Z"
   },
   {
    "duration": 219,
    "start_time": "2022-02-07T15:57:10.849Z"
   },
   {
    "duration": 14,
    "start_time": "2022-02-07T15:57:11.069Z"
   },
   {
    "duration": 51,
    "start_time": "2022-02-07T15:57:11.084Z"
   },
   {
    "duration": 316,
    "start_time": "2022-02-07T16:52:10.159Z"
   },
   {
    "duration": 270,
    "start_time": "2022-02-07T16:52:24.215Z"
   },
   {
    "duration": 22,
    "start_time": "2022-02-07T16:52:26.294Z"
   },
   {
    "duration": 18,
    "start_time": "2022-02-07T16:52:45.104Z"
   },
   {
    "duration": 900,
    "start_time": "2022-02-07T17:22:40.459Z"
   },
   {
    "duration": 391,
    "start_time": "2022-02-07T17:22:41.363Z"
   },
   {
    "duration": 51,
    "start_time": "2022-02-07T17:22:41.756Z"
   },
   {
    "duration": 135,
    "start_time": "2022-02-07T17:22:41.809Z"
   },
   {
    "duration": 145,
    "start_time": "2022-02-07T17:22:41.945Z"
   },
   {
    "duration": 21,
    "start_time": "2022-02-07T17:22:42.092Z"
   },
   {
    "duration": 7,
    "start_time": "2022-02-07T17:22:42.115Z"
   },
   {
    "duration": 6,
    "start_time": "2022-02-07T17:22:42.124Z"
   },
   {
    "duration": 6,
    "start_time": "2022-02-07T17:22:42.131Z"
   },
   {
    "duration": 6,
    "start_time": "2022-02-07T17:22:42.139Z"
   },
   {
    "duration": 172,
    "start_time": "2022-02-07T17:22:42.147Z"
   },
   {
    "duration": 50,
    "start_time": "2022-02-07T17:22:42.321Z"
   },
   {
    "duration": 84,
    "start_time": "2022-02-07T17:22:42.373Z"
   },
   {
    "duration": 40,
    "start_time": "2022-02-07T17:22:42.459Z"
   },
   {
    "duration": 55,
    "start_time": "2022-02-07T17:22:42.501Z"
   },
   {
    "duration": 17,
    "start_time": "2022-02-07T17:22:42.558Z"
   },
   {
    "duration": 40,
    "start_time": "2022-02-07T17:22:42.576Z"
   },
   {
    "duration": 12,
    "start_time": "2022-02-07T17:22:42.618Z"
   },
   {
    "duration": 16,
    "start_time": "2022-02-07T17:22:42.632Z"
   },
   {
    "duration": 11,
    "start_time": "2022-02-07T17:22:42.649Z"
   },
   {
    "duration": 4,
    "start_time": "2022-02-07T17:22:42.662Z"
   },
   {
    "duration": 51,
    "start_time": "2022-02-07T17:22:42.669Z"
   },
   {
    "duration": 12,
    "start_time": "2022-02-07T17:22:42.721Z"
   },
   {
    "duration": 20,
    "start_time": "2022-02-07T17:22:42.735Z"
   },
   {
    "duration": 3,
    "start_time": "2022-02-07T17:22:42.757Z"
   },
   {
    "duration": 5,
    "start_time": "2022-02-07T17:22:42.761Z"
   },
   {
    "duration": 218,
    "start_time": "2022-02-07T17:22:42.767Z"
   },
   {
    "duration": 14,
    "start_time": "2022-02-07T17:22:42.987Z"
   },
   {
    "duration": 42,
    "start_time": "2022-02-07T17:22:43.012Z"
   },
   {
    "duration": 18,
    "start_time": "2022-02-07T17:22:43.056Z"
   },
   {
    "duration": 6,
    "start_time": "2022-02-07T17:24:33.538Z"
   },
   {
    "duration": 4,
    "start_time": "2022-02-07T17:25:02.194Z"
   },
   {
    "duration": 424,
    "start_time": "2022-02-07T17:25:28.471Z"
   },
   {
    "duration": 75,
    "start_time": "2022-02-07T17:25:36.322Z"
   },
   {
    "duration": 39,
    "start_time": "2022-02-07T17:25:40.050Z"
   },
   {
    "duration": 77,
    "start_time": "2022-02-07T17:27:39.627Z"
   },
   {
    "duration": 21,
    "start_time": "2022-02-07T17:27:46.170Z"
   },
   {
    "duration": 19,
    "start_time": "2022-02-07T17:27:51.393Z"
   },
   {
    "duration": 26,
    "start_time": "2022-02-07T17:28:15.953Z"
   },
   {
    "duration": 21,
    "start_time": "2022-02-07T17:28:30.706Z"
   },
   {
    "duration": 7,
    "start_time": "2022-02-07T17:33:57.266Z"
   },
   {
    "duration": 15,
    "start_time": "2022-02-07T17:34:04.033Z"
   },
   {
    "duration": 9,
    "start_time": "2022-02-07T17:34:19.136Z"
   },
   {
    "duration": 7,
    "start_time": "2022-02-07T17:35:06.482Z"
   },
   {
    "duration": 5,
    "start_time": "2022-02-07T17:35:18.328Z"
   },
   {
    "duration": 10,
    "start_time": "2022-02-07T17:38:55.505Z"
   },
   {
    "duration": 9,
    "start_time": "2022-02-07T17:39:42.232Z"
   },
   {
    "duration": 12,
    "start_time": "2022-02-07T17:39:55.042Z"
   },
   {
    "duration": 11,
    "start_time": "2022-02-07T17:39:58.964Z"
   },
   {
    "duration": 14,
    "start_time": "2022-02-07T17:40:41.466Z"
   },
   {
    "duration": 243,
    "start_time": "2022-02-07T17:42:55.960Z"
   },
   {
    "duration": 11,
    "start_time": "2022-02-07T17:43:00.912Z"
   },
   {
    "duration": 15,
    "start_time": "2022-02-07T17:43:14.384Z"
   },
   {
    "duration": 10,
    "start_time": "2022-02-07T17:43:58.808Z"
   },
   {
    "duration": 11,
    "start_time": "2022-02-07T17:45:08.152Z"
   },
   {
    "duration": 12,
    "start_time": "2022-02-07T17:45:15.217Z"
   },
   {
    "duration": 536,
    "start_time": "2022-02-07T17:49:50.555Z"
   },
   {
    "duration": 3,
    "start_time": "2022-02-07T17:50:20.823Z"
   },
   {
    "duration": 242,
    "start_time": "2022-02-07T17:50:28.983Z"
   },
   {
    "duration": 458,
    "start_time": "2022-02-07T17:52:16.171Z"
   },
   {
    "duration": 150,
    "start_time": "2022-02-07T17:52:41.215Z"
   },
   {
    "duration": 225,
    "start_time": "2022-02-07T17:54:15.703Z"
   },
   {
    "duration": 225,
    "start_time": "2022-02-07T18:00:31.361Z"
   },
   {
    "duration": 246,
    "start_time": "2022-02-07T18:00:54.573Z"
   },
   {
    "duration": 244,
    "start_time": "2022-02-07T18:01:35.970Z"
   },
   {
    "duration": 310,
    "start_time": "2022-02-07T18:01:48.431Z"
   },
   {
    "duration": 259,
    "start_time": "2022-02-07T18:02:02.567Z"
   },
   {
    "duration": 262,
    "start_time": "2022-02-07T18:02:13.213Z"
   },
   {
    "duration": 249,
    "start_time": "2022-02-07T18:03:06.319Z"
   },
   {
    "duration": 302,
    "start_time": "2022-02-07T18:03:34.821Z"
   },
   {
    "duration": 315,
    "start_time": "2022-02-07T18:03:59.121Z"
   },
   {
    "duration": 388,
    "start_time": "2022-02-07T18:04:05.088Z"
   },
   {
    "duration": 395,
    "start_time": "2022-02-07T18:04:13.482Z"
   },
   {
    "duration": 450,
    "start_time": "2022-02-07T18:04:45.741Z"
   },
   {
    "duration": 583,
    "start_time": "2022-02-07T18:04:54.304Z"
   },
   {
    "duration": 564,
    "start_time": "2022-02-07T18:05:09.950Z"
   },
   {
    "duration": 5,
    "start_time": "2022-02-07T18:08:38.462Z"
   },
   {
    "duration": 7124,
    "start_time": "2022-02-07T18:09:20.014Z"
   },
   {
    "duration": 1001,
    "start_time": "2022-02-07T18:09:46.060Z"
   },
   {
    "duration": 6,
    "start_time": "2022-02-07T18:10:24.726Z"
   },
   {
    "duration": 566,
    "start_time": "2022-02-07T18:10:33.891Z"
   },
   {
    "duration": 7,
    "start_time": "2022-02-07T18:10:40.870Z"
   },
   {
    "duration": 552,
    "start_time": "2022-02-07T18:10:43.670Z"
   },
   {
    "duration": 6,
    "start_time": "2022-02-07T18:11:24.126Z"
   },
   {
    "duration": 5,
    "start_time": "2022-02-07T18:12:19.870Z"
   },
   {
    "duration": 555,
    "start_time": "2022-02-07T18:12:22.046Z"
   },
   {
    "duration": 809,
    "start_time": "2022-02-07T18:12:28.116Z"
   },
   {
    "duration": 5,
    "start_time": "2022-02-07T18:12:41.469Z"
   },
   {
    "duration": 559,
    "start_time": "2022-02-07T18:12:42.900Z"
   },
   {
    "duration": 5,
    "start_time": "2022-02-07T18:12:47.726Z"
   },
   {
    "duration": 553,
    "start_time": "2022-02-07T18:12:49.732Z"
   },
   {
    "duration": 568,
    "start_time": "2022-02-07T18:12:55.015Z"
   },
   {
    "duration": 6,
    "start_time": "2022-02-07T18:15:10.916Z"
   },
   {
    "duration": 570,
    "start_time": "2022-02-07T18:15:13.020Z"
   },
   {
    "duration": 31,
    "start_time": "2022-02-07T18:16:25.332Z"
   },
   {
    "duration": 31,
    "start_time": "2022-02-07T18:16:29.444Z"
   },
   {
    "duration": 31,
    "start_time": "2022-02-07T18:18:12.372Z"
   },
   {
    "duration": 115,
    "start_time": "2022-02-07T18:18:14.813Z"
   },
   {
    "duration": 31,
    "start_time": "2022-02-07T18:18:23.941Z"
   },
   {
    "duration": 32,
    "start_time": "2022-02-07T18:18:26.069Z"
   },
   {
    "duration": 49,
    "start_time": "2022-02-07T18:21:25.555Z"
   },
   {
    "duration": 55,
    "start_time": "2022-02-07T18:21:40.283Z"
   },
   {
    "duration": 228,
    "start_time": "2022-02-07T18:22:12.853Z"
   },
   {
    "duration": 35,
    "start_time": "2022-02-07T18:22:20.605Z"
   },
   {
    "duration": 245,
    "start_time": "2022-02-07T18:22:34.451Z"
   },
   {
    "duration": 54,
    "start_time": "2022-02-07T18:22:42.491Z"
   },
   {
    "duration": 4409,
    "start_time": "2022-02-07T18:22:53.499Z"
   },
   {
    "duration": 56,
    "start_time": "2022-02-07T18:22:58.060Z"
   },
   {
    "duration": 76,
    "start_time": "2022-02-07T18:25:14.498Z"
   },
   {
    "duration": 392,
    "start_time": "2022-02-07T18:25:25.907Z"
   },
   {
    "duration": 176,
    "start_time": "2022-02-07T18:25:35.244Z"
   },
   {
    "duration": 16,
    "start_time": "2022-02-07T18:36:55.618Z"
   },
   {
    "duration": 73,
    "start_time": "2022-02-07T18:37:28.195Z"
   },
   {
    "duration": 11,
    "start_time": "2022-02-07T18:37:47.563Z"
   },
   {
    "duration": 232,
    "start_time": "2022-02-07T18:53:12.946Z"
   },
   {
    "duration": 7,
    "start_time": "2022-02-07T18:53:17.096Z"
   },
   {
    "duration": 417,
    "start_time": "2022-02-07T18:55:25.815Z"
   },
   {
    "duration": 411,
    "start_time": "2022-02-07T18:55:36.817Z"
   },
   {
    "duration": 298,
    "start_time": "2022-02-07T18:55:55.673Z"
   },
   {
    "duration": 304,
    "start_time": "2022-02-07T18:56:07.359Z"
   },
   {
    "duration": 231,
    "start_time": "2022-02-07T18:56:26.969Z"
   },
   {
    "duration": 246,
    "start_time": "2022-02-07T18:56:35.294Z"
   },
   {
    "duration": 259,
    "start_time": "2022-02-07T18:56:50.216Z"
   },
   {
    "duration": 7,
    "start_time": "2022-02-07T18:58:16.879Z"
   },
   {
    "duration": 7,
    "start_time": "2022-02-07T18:58:30.919Z"
   },
   {
    "duration": 7,
    "start_time": "2022-02-07T18:58:56.481Z"
   },
   {
    "duration": 7,
    "start_time": "2022-02-07T18:59:08.460Z"
   },
   {
    "duration": 17,
    "start_time": "2022-02-07T18:59:21.790Z"
   },
   {
    "duration": 221,
    "start_time": "2022-02-07T19:00:33.056Z"
   },
   {
    "duration": 234,
    "start_time": "2022-02-07T19:00:41.879Z"
   },
   {
    "duration": 15,
    "start_time": "2022-02-07T19:00:56.185Z"
   },
   {
    "duration": 13,
    "start_time": "2022-02-07T19:01:04.663Z"
   },
   {
    "duration": 7,
    "start_time": "2022-02-07T19:01:10.695Z"
   },
   {
    "duration": 31,
    "start_time": "2022-02-07T19:01:44.212Z"
   },
   {
    "duration": 54,
    "start_time": "2022-02-07T19:01:53.858Z"
   },
   {
    "duration": 1071,
    "start_time": "2022-02-07T19:02:07.779Z"
   },
   {
    "duration": 367,
    "start_time": "2022-02-07T19:02:08.852Z"
   },
   {
    "duration": 50,
    "start_time": "2022-02-07T19:02:09.221Z"
   },
   {
    "duration": 119,
    "start_time": "2022-02-07T19:02:09.273Z"
   },
   {
    "duration": 150,
    "start_time": "2022-02-07T19:02:09.394Z"
   },
   {
    "duration": 12,
    "start_time": "2022-02-07T19:02:09.546Z"
   },
   {
    "duration": 7,
    "start_time": "2022-02-07T19:02:09.560Z"
   },
   {
    "duration": 6,
    "start_time": "2022-02-07T19:02:09.570Z"
   },
   {
    "duration": 7,
    "start_time": "2022-02-07T19:02:09.578Z"
   },
   {
    "duration": 6,
    "start_time": "2022-02-07T19:02:09.613Z"
   },
   {
    "duration": 170,
    "start_time": "2022-02-07T19:02:09.621Z"
   },
   {
    "duration": 62,
    "start_time": "2022-02-07T19:02:09.793Z"
   },
   {
    "duration": 80,
    "start_time": "2022-02-07T19:02:09.858Z"
   },
   {
    "duration": 41,
    "start_time": "2022-02-07T19:02:09.940Z"
   },
   {
    "duration": 69,
    "start_time": "2022-02-07T19:02:09.983Z"
   },
   {
    "duration": 17,
    "start_time": "2022-02-07T19:02:10.055Z"
   },
   {
    "duration": 18,
    "start_time": "2022-02-07T19:02:10.073Z"
   },
   {
    "duration": 15,
    "start_time": "2022-02-07T19:02:10.113Z"
   },
   {
    "duration": 14,
    "start_time": "2022-02-07T19:02:10.130Z"
   },
   {
    "duration": 13,
    "start_time": "2022-02-07T19:02:10.146Z"
   },
   {
    "duration": 6,
    "start_time": "2022-02-07T19:02:10.162Z"
   },
   {
    "duration": 59,
    "start_time": "2022-02-07T19:02:10.169Z"
   },
   {
    "duration": 12,
    "start_time": "2022-02-07T19:02:10.232Z"
   },
   {
    "duration": 19,
    "start_time": "2022-02-07T19:02:10.247Z"
   },
   {
    "duration": 4,
    "start_time": "2022-02-07T19:02:10.268Z"
   },
   {
    "duration": 6,
    "start_time": "2022-02-07T19:02:10.273Z"
   },
   {
    "duration": 205,
    "start_time": "2022-02-07T19:02:10.312Z"
   },
   {
    "duration": 15,
    "start_time": "2022-02-07T19:02:10.519Z"
   },
   {
    "duration": 86,
    "start_time": "2022-02-07T19:02:10.536Z"
   },
   {
    "duration": 149,
    "start_time": "2022-02-07T19:02:10.624Z"
   },
   {
    "duration": 11,
    "start_time": "2022-02-07T19:02:10.775Z"
   },
   {
    "duration": 7,
    "start_time": "2022-02-07T19:02:10.787Z"
   },
   {
    "duration": 41,
    "start_time": "2022-02-07T19:02:10.812Z"
   },
   {
    "duration": 5,
    "start_time": "2022-02-07T19:02:10.855Z"
   },
   {
    "duration": 568,
    "start_time": "2022-02-07T19:02:10.862Z"
   },
   {
    "duration": 1038,
    "start_time": "2022-02-07T19:02:57.321Z"
   },
   {
    "duration": 377,
    "start_time": "2022-02-07T19:02:58.361Z"
   },
   {
    "duration": 51,
    "start_time": "2022-02-07T19:02:58.740Z"
   },
   {
    "duration": 120,
    "start_time": "2022-02-07T19:02:58.793Z"
   },
   {
    "duration": 135,
    "start_time": "2022-02-07T19:02:58.915Z"
   },
   {
    "duration": 13,
    "start_time": "2022-02-07T19:02:59.052Z"
   },
   {
    "duration": 12,
    "start_time": "2022-02-07T19:02:59.067Z"
   },
   {
    "duration": 5,
    "start_time": "2022-02-07T19:02:59.081Z"
   },
   {
    "duration": 28,
    "start_time": "2022-02-07T19:02:59.088Z"
   },
   {
    "duration": 10,
    "start_time": "2022-02-07T19:02:59.117Z"
   },
   {
    "duration": 164,
    "start_time": "2022-02-07T19:02:59.129Z"
   },
   {
    "duration": 61,
    "start_time": "2022-02-07T19:02:59.294Z"
   },
   {
    "duration": 78,
    "start_time": "2022-02-07T19:02:59.356Z"
   },
   {
    "duration": 40,
    "start_time": "2022-02-07T19:02:59.436Z"
   },
   {
    "duration": 62,
    "start_time": "2022-02-07T19:02:59.478Z"
   },
   {
    "duration": 15,
    "start_time": "2022-02-07T19:02:59.541Z"
   },
   {
    "duration": 15,
    "start_time": "2022-02-07T19:02:59.557Z"
   },
   {
    "duration": 11,
    "start_time": "2022-02-07T19:02:59.574Z"
   },
   {
    "duration": 38,
    "start_time": "2022-02-07T19:02:59.587Z"
   },
   {
    "duration": 11,
    "start_time": "2022-02-07T19:02:59.626Z"
   },
   {
    "duration": 13,
    "start_time": "2022-02-07T19:02:59.639Z"
   },
   {
    "duration": 32,
    "start_time": "2022-02-07T19:02:59.653Z"
   },
   {
    "duration": 12,
    "start_time": "2022-02-07T19:02:59.688Z"
   },
   {
    "duration": 30,
    "start_time": "2022-02-07T19:02:59.702Z"
   },
   {
    "duration": 3,
    "start_time": "2022-02-07T19:02:59.734Z"
   },
   {
    "duration": 6,
    "start_time": "2022-02-07T19:02:59.739Z"
   },
   {
    "duration": 212,
    "start_time": "2022-02-07T19:02:59.747Z"
   },
   {
    "duration": 13,
    "start_time": "2022-02-07T19:02:59.961Z"
   },
   {
    "duration": 2,
    "start_time": "2022-02-07T19:02:59.976Z"
   },
   {
    "duration": 5,
    "start_time": "2022-02-07T19:02:59.979Z"
   },
   {
    "duration": 4,
    "start_time": "2022-02-07T19:02:59.985Z"
   },
   {
    "duration": 91,
    "start_time": "2022-02-07T19:02:59.991Z"
   },
   {
    "duration": 13,
    "start_time": "2022-02-07T19:03:00.071Z"
   },
   {
    "duration": -6,
    "start_time": "2022-02-07T19:03:00.091Z"
   },
   {
    "duration": -10,
    "start_time": "2022-02-07T19:03:00.096Z"
   },
   {
    "duration": 1031,
    "start_time": "2022-02-07T19:03:17.338Z"
   },
   {
    "duration": 389,
    "start_time": "2022-02-07T19:03:18.371Z"
   },
   {
    "duration": 55,
    "start_time": "2022-02-07T19:03:18.762Z"
   },
   {
    "duration": 123,
    "start_time": "2022-02-07T19:03:18.819Z"
   },
   {
    "duration": 146,
    "start_time": "2022-02-07T19:03:18.944Z"
   },
   {
    "duration": 13,
    "start_time": "2022-02-07T19:03:19.091Z"
   },
   {
    "duration": 7,
    "start_time": "2022-02-07T19:03:19.112Z"
   },
   {
    "duration": 5,
    "start_time": "2022-02-07T19:03:19.122Z"
   },
   {
    "duration": 7,
    "start_time": "2022-02-07T19:03:19.129Z"
   },
   {
    "duration": 8,
    "start_time": "2022-02-07T19:03:19.137Z"
   },
   {
    "duration": 191,
    "start_time": "2022-02-07T19:03:19.147Z"
   },
   {
    "duration": 53,
    "start_time": "2022-02-07T19:03:19.340Z"
   },
   {
    "duration": 77,
    "start_time": "2022-02-07T19:03:19.394Z"
   },
   {
    "duration": 55,
    "start_time": "2022-02-07T19:03:19.473Z"
   },
   {
    "duration": 50,
    "start_time": "2022-02-07T19:03:19.530Z"
   },
   {
    "duration": 35,
    "start_time": "2022-02-07T19:03:19.581Z"
   },
   {
    "duration": 17,
    "start_time": "2022-02-07T19:03:19.617Z"
   },
   {
    "duration": 13,
    "start_time": "2022-02-07T19:03:19.636Z"
   },
   {
    "duration": 21,
    "start_time": "2022-02-07T19:03:19.651Z"
   },
   {
    "duration": 49,
    "start_time": "2022-02-07T19:03:19.674Z"
   },
   {
    "duration": 6,
    "start_time": "2022-02-07T19:03:19.725Z"
   },
   {
    "duration": 21,
    "start_time": "2022-02-07T19:03:19.733Z"
   },
   {
    "duration": 65,
    "start_time": "2022-02-07T19:03:19.757Z"
   },
   {
    "duration": 18,
    "start_time": "2022-02-07T19:03:19.824Z"
   },
   {
    "duration": 3,
    "start_time": "2022-02-07T19:03:19.843Z"
   },
   {
    "duration": 4,
    "start_time": "2022-02-07T19:03:19.848Z"
   },
   {
    "duration": 406,
    "start_time": "2022-02-07T19:03:19.854Z"
   },
   {
    "duration": 14,
    "start_time": "2022-02-07T19:03:20.261Z"
   },
   {
    "duration": 35,
    "start_time": "2022-02-07T19:03:20.277Z"
   },
   {
    "duration": 2,
    "start_time": "2022-02-07T19:03:20.314Z"
   },
   {
    "duration": 3,
    "start_time": "2022-02-07T19:03:20.318Z"
   },
   {
    "duration": 5,
    "start_time": "2022-02-07T19:03:20.323Z"
   },
   {
    "duration": 47,
    "start_time": "2022-02-07T19:03:20.329Z"
   },
   {
    "duration": 5,
    "start_time": "2022-02-07T19:03:20.378Z"
   },
   {
    "duration": 553,
    "start_time": "2022-02-07T19:03:20.412Z"
   },
   {
    "duration": 537,
    "start_time": "2022-02-07T19:16:38.631Z"
   },
   {
    "duration": 541,
    "start_time": "2022-02-07T19:17:03.840Z"
   },
   {
    "duration": 541,
    "start_time": "2022-02-07T19:17:40.520Z"
   },
   {
    "duration": 6,
    "start_time": "2022-02-07T19:19:15.446Z"
   },
   {
    "duration": 635,
    "start_time": "2022-02-07T19:19:16.759Z"
   },
   {
    "duration": 11,
    "start_time": "2022-02-07T19:24:43.292Z"
   },
   {
    "duration": 16,
    "start_time": "2022-02-07T19:24:52.816Z"
   },
   {
    "duration": 7,
    "start_time": "2022-02-07T19:25:10.989Z"
   },
   {
    "duration": 93,
    "start_time": "2022-02-07T19:25:38.884Z"
   },
   {
    "duration": 6,
    "start_time": "2022-02-07T19:25:44.310Z"
   },
   {
    "duration": 11,
    "start_time": "2022-02-07T19:28:40.069Z"
   },
   {
    "duration": 9,
    "start_time": "2022-02-07T19:28:52.749Z"
   },
   {
    "duration": 9,
    "start_time": "2022-02-07T19:29:19.018Z"
   },
   {
    "duration": 551,
    "start_time": "2022-02-07T19:34:27.502Z"
   },
   {
    "duration": 532,
    "start_time": "2022-02-07T19:34:59.547Z"
   },
   {
    "duration": 5,
    "start_time": "2022-02-07T19:35:30.533Z"
   },
   {
    "duration": 532,
    "start_time": "2022-02-07T19:35:33.500Z"
   },
   {
    "duration": 528,
    "start_time": "2022-02-07T19:35:37.823Z"
   },
   {
    "duration": 620,
    "start_time": "2022-02-07T19:37:25.892Z"
   },
   {
    "duration": 10,
    "start_time": "2022-02-07T19:37:48.412Z"
   },
   {
    "duration": 581,
    "start_time": "2022-02-07T19:54:00.302Z"
   },
   {
    "duration": 516,
    "start_time": "2022-02-07T19:54:26.850Z"
   },
   {
    "duration": 540,
    "start_time": "2022-02-07T20:06:57.760Z"
   },
   {
    "duration": 553,
    "start_time": "2022-02-07T20:07:11.689Z"
   },
   {
    "duration": 583,
    "start_time": "2022-02-07T20:08:21.647Z"
   },
   {
    "duration": 607,
    "start_time": "2022-02-07T20:08:33.129Z"
   },
   {
    "duration": 556,
    "start_time": "2022-02-07T20:10:47.346Z"
   },
   {
    "duration": 29,
    "start_time": "2022-02-07T20:22:42.942Z"
   },
   {
    "duration": 1042,
    "start_time": "2022-02-08T04:39:00.062Z"
   },
   {
    "duration": 407,
    "start_time": "2022-02-08T04:39:01.106Z"
   },
   {
    "duration": 49,
    "start_time": "2022-02-08T04:39:01.515Z"
   },
   {
    "duration": 132,
    "start_time": "2022-02-08T04:39:01.566Z"
   },
   {
    "duration": 140,
    "start_time": "2022-02-08T04:39:01.700Z"
   },
   {
    "duration": 17,
    "start_time": "2022-02-08T04:39:01.842Z"
   },
   {
    "duration": 7,
    "start_time": "2022-02-08T04:39:01.861Z"
   },
   {
    "duration": 13,
    "start_time": "2022-02-08T04:39:01.870Z"
   },
   {
    "duration": 11,
    "start_time": "2022-02-08T04:39:01.885Z"
   },
   {
    "duration": 19,
    "start_time": "2022-02-08T04:39:01.898Z"
   },
   {
    "duration": 173,
    "start_time": "2022-02-08T04:39:01.918Z"
   },
   {
    "duration": 51,
    "start_time": "2022-02-08T04:39:02.093Z"
   },
   {
    "duration": 66,
    "start_time": "2022-02-08T04:39:02.158Z"
   },
   {
    "duration": 51,
    "start_time": "2022-02-08T04:39:02.225Z"
   },
   {
    "duration": 47,
    "start_time": "2022-02-08T04:39:02.277Z"
   },
   {
    "duration": 14,
    "start_time": "2022-02-08T04:39:02.326Z"
   },
   {
    "duration": 16,
    "start_time": "2022-02-08T04:39:02.359Z"
   },
   {
    "duration": 14,
    "start_time": "2022-02-08T04:39:02.376Z"
   },
   {
    "duration": 26,
    "start_time": "2022-02-08T04:39:02.391Z"
   },
   {
    "duration": 14,
    "start_time": "2022-02-08T04:39:02.418Z"
   },
   {
    "duration": 19,
    "start_time": "2022-02-08T04:39:02.434Z"
   },
   {
    "duration": 21,
    "start_time": "2022-02-08T04:39:02.455Z"
   },
   {
    "duration": 19,
    "start_time": "2022-02-08T04:39:02.478Z"
   },
   {
    "duration": 24,
    "start_time": "2022-02-08T04:39:02.499Z"
   },
   {
    "duration": 8,
    "start_time": "2022-02-08T04:39:02.524Z"
   },
   {
    "duration": 15,
    "start_time": "2022-02-08T04:39:02.534Z"
   },
   {
    "duration": 187,
    "start_time": "2022-02-08T04:39:02.551Z"
   },
   {
    "duration": 19,
    "start_time": "2022-02-08T04:39:02.740Z"
   },
   {
    "duration": 45,
    "start_time": "2022-02-08T04:39:02.761Z"
   },
   {
    "duration": 6,
    "start_time": "2022-02-08T04:39:02.808Z"
   },
   {
    "duration": 530,
    "start_time": "2022-02-08T04:39:02.816Z"
   },
   {
    "duration": 499,
    "start_time": "2022-02-08T04:39:03.348Z"
   },
   {
    "duration": 494,
    "start_time": "2022-02-08T04:39:03.848Z"
   },
   {
    "duration": 32,
    "start_time": "2022-02-08T04:40:12.652Z"
   },
   {
    "duration": 493,
    "start_time": "2022-02-08T04:44:38.100Z"
   },
   {
    "duration": 604,
    "start_time": "2022-02-08T04:44:54.157Z"
   },
   {
    "duration": 491,
    "start_time": "2022-02-08T04:45:10.944Z"
   },
   {
    "duration": 489,
    "start_time": "2022-02-08T04:45:17.996Z"
   },
   {
    "duration": 457,
    "start_time": "2022-02-08T04:45:22.884Z"
   },
   {
    "duration": 479,
    "start_time": "2022-02-08T04:49:11.822Z"
   },
   {
    "duration": 567,
    "start_time": "2022-02-08T04:50:52.850Z"
   },
   {
    "duration": 3,
    "start_time": "2022-02-08T05:26:44.883Z"
   },
   {
    "duration": 207,
    "start_time": "2022-02-08T05:47:18.032Z"
   },
   {
    "duration": 252,
    "start_time": "2022-02-08T05:47:48.614Z"
   },
   {
    "duration": 7,
    "start_time": "2022-02-08T05:48:32.480Z"
   },
   {
    "duration": 8,
    "start_time": "2022-02-08T05:57:38.638Z"
   },
   {
    "duration": 13,
    "start_time": "2022-02-08T05:57:43.742Z"
   },
   {
    "duration": 15,
    "start_time": "2022-02-08T05:57:50.722Z"
   },
   {
    "duration": 15,
    "start_time": "2022-02-08T05:57:51.380Z"
   },
   {
    "duration": 15,
    "start_time": "2022-02-08T05:57:51.799Z"
   },
   {
    "duration": 15,
    "start_time": "2022-02-08T05:57:52.144Z"
   },
   {
    "duration": 15,
    "start_time": "2022-02-08T05:57:52.445Z"
   },
   {
    "duration": 15,
    "start_time": "2022-02-08T05:57:52.774Z"
   },
   {
    "duration": 14,
    "start_time": "2022-02-08T05:57:53.086Z"
   },
   {
    "duration": 15,
    "start_time": "2022-02-08T05:57:53.358Z"
   },
   {
    "duration": 15,
    "start_time": "2022-02-08T05:57:53.670Z"
   },
   {
    "duration": 14,
    "start_time": "2022-02-08T05:57:54.002Z"
   },
   {
    "duration": 15,
    "start_time": "2022-02-08T05:57:54.254Z"
   },
   {
    "duration": 14,
    "start_time": "2022-02-08T05:57:54.582Z"
   },
   {
    "duration": 15,
    "start_time": "2022-02-08T05:57:54.878Z"
   },
   {
    "duration": 15,
    "start_time": "2022-02-08T05:57:55.167Z"
   },
   {
    "duration": 16,
    "start_time": "2022-02-08T05:57:55.476Z"
   },
   {
    "duration": 16,
    "start_time": "2022-02-08T05:57:55.743Z"
   },
   {
    "duration": 16,
    "start_time": "2022-02-08T05:57:56.038Z"
   },
   {
    "duration": 15,
    "start_time": "2022-02-08T05:57:56.326Z"
   },
   {
    "duration": 15,
    "start_time": "2022-02-08T05:57:56.646Z"
   },
   {
    "duration": 15,
    "start_time": "2022-02-08T05:57:56.927Z"
   },
   {
    "duration": 14,
    "start_time": "2022-02-08T05:57:57.247Z"
   },
   {
    "duration": 14,
    "start_time": "2022-02-08T05:57:57.583Z"
   },
   {
    "duration": 11,
    "start_time": "2022-02-08T05:58:10.207Z"
   },
   {
    "duration": 8,
    "start_time": "2022-02-08T05:58:11.997Z"
   },
   {
    "duration": 9,
    "start_time": "2022-02-08T05:58:12.375Z"
   },
   {
    "duration": 8,
    "start_time": "2022-02-08T05:58:12.661Z"
   },
   {
    "duration": 8,
    "start_time": "2022-02-08T05:58:12.869Z"
   },
   {
    "duration": 8,
    "start_time": "2022-02-08T05:58:13.277Z"
   },
   {
    "duration": 9,
    "start_time": "2022-02-08T05:58:13.471Z"
   },
   {
    "duration": 8,
    "start_time": "2022-02-08T05:58:13.662Z"
   },
   {
    "duration": 8,
    "start_time": "2022-02-08T05:58:13.832Z"
   },
   {
    "duration": 9,
    "start_time": "2022-02-08T05:58:13.996Z"
   },
   {
    "duration": 9,
    "start_time": "2022-02-08T05:58:14.181Z"
   },
   {
    "duration": 8,
    "start_time": "2022-02-08T05:58:14.357Z"
   },
   {
    "duration": 9,
    "start_time": "2022-02-08T05:58:14.534Z"
   },
   {
    "duration": 8,
    "start_time": "2022-02-08T05:58:14.701Z"
   },
   {
    "duration": 8,
    "start_time": "2022-02-08T05:58:14.869Z"
   },
   {
    "duration": 9,
    "start_time": "2022-02-08T05:58:15.046Z"
   },
   {
    "duration": 8,
    "start_time": "2022-02-08T05:58:15.212Z"
   },
   {
    "duration": 9,
    "start_time": "2022-02-08T05:58:15.388Z"
   },
   {
    "duration": 9,
    "start_time": "2022-02-08T05:58:15.556Z"
   },
   {
    "duration": 9,
    "start_time": "2022-02-08T05:58:15.732Z"
   },
   {
    "duration": 8,
    "start_time": "2022-02-08T05:58:15.901Z"
   },
   {
    "duration": 9,
    "start_time": "2022-02-08T05:58:16.068Z"
   },
   {
    "duration": 9,
    "start_time": "2022-02-08T05:58:16.237Z"
   },
   {
    "duration": 9,
    "start_time": "2022-02-08T05:58:16.421Z"
   },
   {
    "duration": 8,
    "start_time": "2022-02-08T05:58:16.589Z"
   },
   {
    "duration": 8,
    "start_time": "2022-02-08T05:58:23.278Z"
   },
   {
    "duration": 8,
    "start_time": "2022-02-08T05:58:23.693Z"
   },
   {
    "duration": 9,
    "start_time": "2022-02-08T05:58:23.902Z"
   },
   {
    "duration": 8,
    "start_time": "2022-02-08T05:58:24.119Z"
   },
   {
    "duration": 8,
    "start_time": "2022-02-08T05:58:24.302Z"
   },
   {
    "duration": 8,
    "start_time": "2022-02-08T05:58:24.493Z"
   },
   {
    "duration": 8,
    "start_time": "2022-02-08T05:58:24.671Z"
   },
   {
    "duration": 9,
    "start_time": "2022-02-08T05:58:24.837Z"
   },
   {
    "duration": 9,
    "start_time": "2022-02-08T05:58:25.004Z"
   },
   {
    "duration": 9,
    "start_time": "2022-02-08T05:58:25.367Z"
   },
   {
    "duration": 8,
    "start_time": "2022-02-08T05:58:25.541Z"
   },
   {
    "duration": 8,
    "start_time": "2022-02-08T05:58:25.718Z"
   },
   {
    "duration": 8,
    "start_time": "2022-02-08T05:58:25.893Z"
   },
   {
    "duration": 8,
    "start_time": "2022-02-08T05:58:33.399Z"
   },
   {
    "duration": 8,
    "start_time": "2022-02-08T05:58:33.839Z"
   },
   {
    "duration": 9,
    "start_time": "2022-02-08T05:58:34.089Z"
   },
   {
    "duration": 9,
    "start_time": "2022-02-08T05:58:34.293Z"
   },
   {
    "duration": 12,
    "start_time": "2022-02-08T05:58:34.487Z"
   },
   {
    "duration": 8,
    "start_time": "2022-02-08T05:58:34.698Z"
   },
   {
    "duration": 7,
    "start_time": "2022-02-08T05:58:34.895Z"
   },
   {
    "duration": 10,
    "start_time": "2022-02-08T05:58:35.101Z"
   },
   {
    "duration": 8,
    "start_time": "2022-02-08T05:58:35.286Z"
   },
   {
    "duration": 9,
    "start_time": "2022-02-08T05:58:35.454Z"
   },
   {
    "duration": 9,
    "start_time": "2022-02-08T05:58:35.679Z"
   },
   {
    "duration": 8,
    "start_time": "2022-02-08T05:58:35.862Z"
   },
   {
    "duration": 9,
    "start_time": "2022-02-08T05:58:36.046Z"
   },
   {
    "duration": 8,
    "start_time": "2022-02-08T05:58:36.254Z"
   },
   {
    "duration": 9,
    "start_time": "2022-02-08T05:58:36.494Z"
   },
   {
    "duration": 8,
    "start_time": "2022-02-08T05:58:36.751Z"
   },
   {
    "duration": 8,
    "start_time": "2022-02-08T05:58:40.294Z"
   },
   {
    "duration": 9,
    "start_time": "2022-02-08T05:58:40.696Z"
   },
   {
    "duration": 8,
    "start_time": "2022-02-08T05:58:40.925Z"
   },
   {
    "duration": 9,
    "start_time": "2022-02-08T05:58:41.165Z"
   },
   {
    "duration": 8,
    "start_time": "2022-02-08T05:58:41.373Z"
   },
   {
    "duration": 11,
    "start_time": "2022-02-08T05:58:41.605Z"
   },
   {
    "duration": 8,
    "start_time": "2022-02-08T05:58:41.981Z"
   },
   {
    "duration": 8,
    "start_time": "2022-02-08T05:58:42.213Z"
   },
   {
    "duration": 9,
    "start_time": "2022-02-08T05:58:42.451Z"
   },
   {
    "duration": 8,
    "start_time": "2022-02-08T05:58:42.654Z"
   },
   {
    "duration": 8,
    "start_time": "2022-02-08T05:58:42.845Z"
   },
   {
    "duration": 8,
    "start_time": "2022-02-08T05:58:43.078Z"
   },
   {
    "duration": 8,
    "start_time": "2022-02-08T05:58:43.296Z"
   },
   {
    "duration": 9,
    "start_time": "2022-02-08T05:58:43.501Z"
   },
   {
    "duration": 8,
    "start_time": "2022-02-08T05:58:43.726Z"
   },
   {
    "duration": 9,
    "start_time": "2022-02-08T05:58:43.959Z"
   },
   {
    "duration": 7,
    "start_time": "2022-02-08T05:58:44.166Z"
   },
   {
    "duration": 8,
    "start_time": "2022-02-08T05:58:44.423Z"
   },
   {
    "duration": 8,
    "start_time": "2022-02-08T05:58:44.717Z"
   },
   {
    "duration": 9,
    "start_time": "2022-02-08T05:58:46.510Z"
   },
   {
    "duration": 158,
    "start_time": "2022-02-08T05:59:55.997Z"
   },
   {
    "duration": 10,
    "start_time": "2022-02-08T06:00:06.613Z"
   },
   {
    "duration": 8,
    "start_time": "2022-02-08T06:00:07.565Z"
   },
   {
    "duration": 9,
    "start_time": "2022-02-08T06:00:07.853Z"
   },
   {
    "duration": 8,
    "start_time": "2022-02-08T06:00:08.093Z"
   },
   {
    "duration": 8,
    "start_time": "2022-02-08T06:00:08.294Z"
   },
   {
    "duration": 8,
    "start_time": "2022-02-08T06:00:08.484Z"
   },
   {
    "duration": 7,
    "start_time": "2022-02-08T06:00:08.624Z"
   },
   {
    "duration": 9,
    "start_time": "2022-02-08T06:00:08.790Z"
   },
   {
    "duration": 9,
    "start_time": "2022-02-08T06:00:08.959Z"
   },
   {
    "duration": 8,
    "start_time": "2022-02-08T06:00:09.152Z"
   },
   {
    "duration": 8,
    "start_time": "2022-02-08T06:00:09.304Z"
   },
   {
    "duration": 7,
    "start_time": "2022-02-08T06:00:09.468Z"
   },
   {
    "duration": 8,
    "start_time": "2022-02-08T06:00:09.630Z"
   },
   {
    "duration": 8,
    "start_time": "2022-02-08T06:00:09.806Z"
   },
   {
    "duration": 8,
    "start_time": "2022-02-08T06:00:09.966Z"
   },
   {
    "duration": 8,
    "start_time": "2022-02-08T06:00:10.125Z"
   },
   {
    "duration": 9,
    "start_time": "2022-02-08T06:00:10.300Z"
   },
   {
    "duration": 9,
    "start_time": "2022-02-08T06:00:10.462Z"
   },
   {
    "duration": 9,
    "start_time": "2022-02-08T06:00:10.630Z"
   },
   {
    "duration": 9,
    "start_time": "2022-02-08T06:00:10.806Z"
   },
   {
    "duration": 8,
    "start_time": "2022-02-08T06:00:10.993Z"
   },
   {
    "duration": 9,
    "start_time": "2022-02-08T06:00:11.150Z"
   },
   {
    "duration": 9,
    "start_time": "2022-02-08T06:00:11.326Z"
   },
   {
    "duration": 10,
    "start_time": "2022-02-08T06:00:11.485Z"
   },
   {
    "duration": 9,
    "start_time": "2022-02-08T06:00:11.653Z"
   },
   {
    "duration": 9,
    "start_time": "2022-02-08T06:00:11.830Z"
   },
   {
    "duration": 9,
    "start_time": "2022-02-08T06:00:11.997Z"
   },
   {
    "duration": 9,
    "start_time": "2022-02-08T06:00:12.157Z"
   },
   {
    "duration": 8,
    "start_time": "2022-02-08T06:00:12.325Z"
   },
   {
    "duration": 9,
    "start_time": "2022-02-08T06:00:12.515Z"
   },
   {
    "duration": 8,
    "start_time": "2022-02-08T06:00:12.689Z"
   },
   {
    "duration": 9,
    "start_time": "2022-02-08T06:00:12.829Z"
   },
   {
    "duration": 8,
    "start_time": "2022-02-08T06:00:12.997Z"
   },
   {
    "duration": 8,
    "start_time": "2022-02-08T06:00:13.176Z"
   },
   {
    "duration": 9,
    "start_time": "2022-02-08T06:00:13.336Z"
   },
   {
    "duration": 7,
    "start_time": "2022-02-08T06:00:13.496Z"
   },
   {
    "duration": 8,
    "start_time": "2022-02-08T06:00:13.670Z"
   },
   {
    "duration": 8,
    "start_time": "2022-02-08T06:00:13.830Z"
   },
   {
    "duration": 9,
    "start_time": "2022-02-08T06:00:13.998Z"
   },
   {
    "duration": 968,
    "start_time": "2022-02-08T06:02:36.638Z"
   },
   {
    "duration": 391,
    "start_time": "2022-02-08T06:02:37.608Z"
   },
   {
    "duration": 50,
    "start_time": "2022-02-08T06:02:38.001Z"
   },
   {
    "duration": 129,
    "start_time": "2022-02-08T06:02:38.053Z"
   },
   {
    "duration": 140,
    "start_time": "2022-02-08T06:02:38.184Z"
   },
   {
    "duration": 13,
    "start_time": "2022-02-08T06:02:38.327Z"
   },
   {
    "duration": 20,
    "start_time": "2022-02-08T06:02:38.341Z"
   },
   {
    "duration": 5,
    "start_time": "2022-02-08T06:02:38.363Z"
   },
   {
    "duration": 7,
    "start_time": "2022-02-08T06:02:38.370Z"
   },
   {
    "duration": 7,
    "start_time": "2022-02-08T06:02:38.378Z"
   },
   {
    "duration": 195,
    "start_time": "2022-02-08T06:02:38.387Z"
   },
   {
    "duration": 52,
    "start_time": "2022-02-08T06:02:38.584Z"
   },
   {
    "duration": 78,
    "start_time": "2022-02-08T06:02:38.638Z"
   },
   {
    "duration": 54,
    "start_time": "2022-02-08T06:02:38.718Z"
   },
   {
    "duration": 44,
    "start_time": "2022-02-08T06:02:38.774Z"
   },
   {
    "duration": 15,
    "start_time": "2022-02-08T06:02:38.820Z"
   },
   {
    "duration": 35,
    "start_time": "2022-02-08T06:02:38.837Z"
   },
   {
    "duration": 12,
    "start_time": "2022-02-08T06:02:38.874Z"
   },
   {
    "duration": 13,
    "start_time": "2022-02-08T06:02:38.888Z"
   },
   {
    "duration": 11,
    "start_time": "2022-02-08T06:02:38.903Z"
   },
   {
    "duration": 5,
    "start_time": "2022-02-08T06:02:38.916Z"
   },
   {
    "duration": 47,
    "start_time": "2022-02-08T06:02:38.922Z"
   },
   {
    "duration": 11,
    "start_time": "2022-02-08T06:02:38.972Z"
   },
   {
    "duration": 18,
    "start_time": "2022-02-08T06:02:38.985Z"
   },
   {
    "duration": 3,
    "start_time": "2022-02-08T06:02:39.005Z"
   },
   {
    "duration": 6,
    "start_time": "2022-02-08T06:02:39.010Z"
   },
   {
    "duration": 198,
    "start_time": "2022-02-08T06:02:39.018Z"
   },
   {
    "duration": 15,
    "start_time": "2022-02-08T06:02:39.218Z"
   },
   {
    "duration": 48,
    "start_time": "2022-02-08T06:02:39.234Z"
   },
   {
    "duration": 5,
    "start_time": "2022-02-08T06:02:39.283Z"
   },
   {
    "duration": 507,
    "start_time": "2022-02-08T06:02:39.289Z"
   },
   {
    "duration": 527,
    "start_time": "2022-02-08T06:02:39.798Z"
   },
   {
    "duration": 512,
    "start_time": "2022-02-08T06:02:40.327Z"
   },
   {
    "duration": 19,
    "start_time": "2022-02-08T06:02:40.841Z"
   },
   {
    "duration": 635,
    "start_time": "2022-02-08T06:03:33.477Z"
   },
   {
    "duration": 9,
    "start_time": "2022-02-08T06:03:54.714Z"
   },
   {
    "duration": 8,
    "start_time": "2022-02-08T06:03:55.168Z"
   },
   {
    "duration": 8,
    "start_time": "2022-02-08T06:03:55.376Z"
   },
   {
    "duration": 8,
    "start_time": "2022-02-08T06:03:55.567Z"
   },
   {
    "duration": 8,
    "start_time": "2022-02-08T06:03:55.728Z"
   },
   {
    "duration": 9,
    "start_time": "2022-02-08T06:04:41.481Z"
   },
   {
    "duration": 9,
    "start_time": "2022-02-08T06:05:00.212Z"
   },
   {
    "duration": 9,
    "start_time": "2022-02-08T06:05:00.964Z"
   },
   {
    "duration": 9,
    "start_time": "2022-02-08T06:05:01.186Z"
   },
   {
    "duration": 8,
    "start_time": "2022-02-08T06:05:01.404Z"
   },
   {
    "duration": 10,
    "start_time": "2022-02-08T06:05:01.608Z"
   },
   {
    "duration": 13,
    "start_time": "2022-02-08T06:05:09.055Z"
   },
   {
    "duration": 13,
    "start_time": "2022-02-08T06:05:09.736Z"
   },
   {
    "duration": 13,
    "start_time": "2022-02-08T06:05:09.944Z"
   },
   {
    "duration": 13,
    "start_time": "2022-02-08T06:05:10.127Z"
   },
   {
    "duration": 16,
    "start_time": "2022-02-08T06:05:10.327Z"
   },
   {
    "duration": 13,
    "start_time": "2022-02-08T06:05:10.655Z"
   },
   {
    "duration": 14,
    "start_time": "2022-02-08T06:05:10.856Z"
   },
   {
    "duration": 13,
    "start_time": "2022-02-08T06:05:11.044Z"
   },
   {
    "duration": 13,
    "start_time": "2022-02-08T06:05:11.208Z"
   },
   {
    "duration": 13,
    "start_time": "2022-02-08T06:05:11.374Z"
   },
   {
    "duration": 18,
    "start_time": "2022-02-08T06:05:11.542Z"
   },
   {
    "duration": 13,
    "start_time": "2022-02-08T06:05:11.680Z"
   },
   {
    "duration": 11,
    "start_time": "2022-02-08T06:05:11.849Z"
   },
   {
    "duration": 10,
    "start_time": "2022-02-08T06:05:12.207Z"
   },
   {
    "duration": 12,
    "start_time": "2022-02-08T06:05:12.348Z"
   },
   {
    "duration": 11,
    "start_time": "2022-02-08T06:05:12.618Z"
   },
   {
    "duration": 11,
    "start_time": "2022-02-08T06:05:12.824Z"
   },
   {
    "duration": 11,
    "start_time": "2022-02-08T06:05:12.984Z"
   },
   {
    "duration": 11,
    "start_time": "2022-02-08T06:05:13.161Z"
   },
   {
    "duration": 11,
    "start_time": "2022-02-08T06:05:13.320Z"
   },
   {
    "duration": 12,
    "start_time": "2022-02-08T06:05:13.474Z"
   },
   {
    "duration": 11,
    "start_time": "2022-02-08T06:05:13.632Z"
   },
   {
    "duration": 13,
    "start_time": "2022-02-08T06:05:22.454Z"
   },
   {
    "duration": 11,
    "start_time": "2022-02-08T06:05:22.593Z"
   },
   {
    "duration": 12,
    "start_time": "2022-02-08T06:05:22.720Z"
   },
   {
    "duration": 9,
    "start_time": "2022-02-08T06:08:06.624Z"
   },
   {
    "duration": 9,
    "start_time": "2022-02-08T06:08:08.274Z"
   },
   {
    "duration": 10,
    "start_time": "2022-02-08T12:04:51.411Z"
   },
   {
    "duration": 1071,
    "start_time": "2022-02-08T12:06:04.538Z"
   },
   {
    "duration": 400,
    "start_time": "2022-02-08T12:06:05.611Z"
   },
   {
    "duration": 50,
    "start_time": "2022-02-08T12:06:06.013Z"
   },
   {
    "duration": 120,
    "start_time": "2022-02-08T12:06:06.065Z"
   },
   {
    "duration": 152,
    "start_time": "2022-02-08T12:06:06.187Z"
   },
   {
    "duration": 19,
    "start_time": "2022-02-08T12:06:06.340Z"
   },
   {
    "duration": 7,
    "start_time": "2022-02-08T12:06:06.361Z"
   },
   {
    "duration": 6,
    "start_time": "2022-02-08T12:06:06.370Z"
   },
   {
    "duration": 8,
    "start_time": "2022-02-08T12:06:06.379Z"
   },
   {
    "duration": 9,
    "start_time": "2022-02-08T12:06:06.389Z"
   },
   {
    "duration": 199,
    "start_time": "2022-02-08T12:06:06.399Z"
   },
   {
    "duration": 69,
    "start_time": "2022-02-08T12:06:06.600Z"
   },
   {
    "duration": 71,
    "start_time": "2022-02-08T12:06:06.671Z"
   },
   {
    "duration": 51,
    "start_time": "2022-02-08T12:06:06.743Z"
   },
   {
    "duration": 46,
    "start_time": "2022-02-08T12:06:06.795Z"
   },
   {
    "duration": 29,
    "start_time": "2022-02-08T12:06:06.843Z"
   },
   {
    "duration": 15,
    "start_time": "2022-02-08T12:06:06.874Z"
   },
   {
    "duration": 11,
    "start_time": "2022-02-08T12:06:06.891Z"
   },
   {
    "duration": 16,
    "start_time": "2022-02-08T12:06:06.904Z"
   },
   {
    "duration": 37,
    "start_time": "2022-02-08T12:06:06.922Z"
   },
   {
    "duration": 5,
    "start_time": "2022-02-08T12:06:06.961Z"
   },
   {
    "duration": 25,
    "start_time": "2022-02-08T12:06:06.967Z"
   },
   {
    "duration": 12,
    "start_time": "2022-02-08T12:06:06.994Z"
   },
   {
    "duration": 20,
    "start_time": "2022-02-08T12:06:07.008Z"
   },
   {
    "duration": 3,
    "start_time": "2022-02-08T12:06:07.030Z"
   },
   {
    "duration": 25,
    "start_time": "2022-02-08T12:06:07.035Z"
   },
   {
    "duration": 201,
    "start_time": "2022-02-08T12:06:07.064Z"
   },
   {
    "duration": 14,
    "start_time": "2022-02-08T12:06:07.266Z"
   },
   {
    "duration": 33,
    "start_time": "2022-02-08T12:06:07.281Z"
   },
   {
    "duration": 4,
    "start_time": "2022-02-08T12:06:07.316Z"
   },
   {
    "duration": 544,
    "start_time": "2022-02-08T12:06:07.322Z"
   },
   {
    "duration": 526,
    "start_time": "2022-02-08T12:06:07.868Z"
   },
   {
    "duration": 517,
    "start_time": "2022-02-08T12:06:08.396Z"
   },
   {
    "duration": 8,
    "start_time": "2022-02-08T12:06:08.915Z"
   },
   {
    "duration": 8,
    "start_time": "2022-02-08T12:06:08.924Z"
   },
   {
    "duration": 34,
    "start_time": "2022-02-08T12:06:08.934Z"
   },
   {
    "duration": 14,
    "start_time": "2022-02-08T12:07:22.233Z"
   },
   {
    "duration": 14,
    "start_time": "2022-02-08T12:07:24.447Z"
   },
   {
    "duration": 1067,
    "start_time": "2022-02-08T12:08:10.053Z"
   },
   {
    "duration": 418,
    "start_time": "2022-02-08T12:08:11.121Z"
   },
   {
    "duration": 54,
    "start_time": "2022-02-08T12:08:11.542Z"
   },
   {
    "duration": 142,
    "start_time": "2022-02-08T12:08:11.599Z"
   },
   {
    "duration": 160,
    "start_time": "2022-02-08T12:08:11.743Z"
   },
   {
    "duration": 16,
    "start_time": "2022-02-08T12:08:11.904Z"
   },
   {
    "duration": 10,
    "start_time": "2022-02-08T12:08:11.922Z"
   },
   {
    "duration": 28,
    "start_time": "2022-02-08T12:08:11.934Z"
   },
   {
    "duration": 19,
    "start_time": "2022-02-08T12:08:11.966Z"
   },
   {
    "duration": 17,
    "start_time": "2022-02-08T12:08:11.989Z"
   },
   {
    "duration": 199,
    "start_time": "2022-02-08T12:08:12.008Z"
   },
   {
    "duration": 67,
    "start_time": "2022-02-08T12:08:12.208Z"
   },
   {
    "duration": 81,
    "start_time": "2022-02-08T12:08:12.279Z"
   },
   {
    "duration": 50,
    "start_time": "2022-02-08T12:08:12.363Z"
   },
   {
    "duration": 68,
    "start_time": "2022-02-08T12:08:12.414Z"
   },
   {
    "duration": 16,
    "start_time": "2022-02-08T12:08:12.483Z"
   },
   {
    "duration": 15,
    "start_time": "2022-02-08T12:08:12.501Z"
   },
   {
    "duration": 17,
    "start_time": "2022-02-08T12:08:12.517Z"
   },
   {
    "duration": 14,
    "start_time": "2022-02-08T12:08:12.560Z"
   },
   {
    "duration": 13,
    "start_time": "2022-02-08T12:08:12.576Z"
   },
   {
    "duration": 14,
    "start_time": "2022-02-08T12:08:12.591Z"
   },
   {
    "duration": 53,
    "start_time": "2022-02-08T12:08:12.607Z"
   },
   {
    "duration": 13,
    "start_time": "2022-02-08T12:08:12.662Z"
   },
   {
    "duration": 19,
    "start_time": "2022-02-08T12:08:12.677Z"
   },
   {
    "duration": 4,
    "start_time": "2022-02-08T12:08:12.698Z"
   },
   {
    "duration": 8,
    "start_time": "2022-02-08T12:08:12.704Z"
   },
   {
    "duration": 207,
    "start_time": "2022-02-08T12:08:12.715Z"
   },
   {
    "duration": 15,
    "start_time": "2022-02-08T12:08:12.925Z"
   },
   {
    "duration": 45,
    "start_time": "2022-02-08T12:08:12.943Z"
   },
   {
    "duration": 5,
    "start_time": "2022-02-08T12:08:12.991Z"
   },
   {
    "duration": 541,
    "start_time": "2022-02-08T12:08:12.998Z"
   },
   {
    "duration": 510,
    "start_time": "2022-02-08T12:08:13.541Z"
   },
   {
    "duration": 509,
    "start_time": "2022-02-08T12:08:14.053Z"
   },
   {
    "duration": 9,
    "start_time": "2022-02-08T12:08:14.564Z"
   },
   {
    "duration": 9,
    "start_time": "2022-02-08T12:08:14.575Z"
   },
   {
    "duration": 14,
    "start_time": "2022-02-08T12:08:14.585Z"
   },
   {
    "duration": 9,
    "start_time": "2022-02-08T12:09:24.082Z"
   },
   {
    "duration": 9,
    "start_time": "2022-02-08T12:09:27.898Z"
   },
   {
    "duration": 8,
    "start_time": "2022-02-08T12:09:28.544Z"
   },
   {
    "duration": 10,
    "start_time": "2022-02-08T12:09:29.389Z"
   },
   {
    "duration": 9,
    "start_time": "2022-02-08T12:10:04.824Z"
   },
   {
    "duration": 6,
    "start_time": "2022-02-08T12:31:10.928Z"
   },
   {
    "duration": 16,
    "start_time": "2022-02-08T12:31:13.816Z"
   },
   {
    "duration": 16,
    "start_time": "2022-02-08T12:31:21.140Z"
   },
   {
    "duration": 1070,
    "start_time": "2022-02-08T15:20:48.492Z"
   },
   {
    "duration": 370,
    "start_time": "2022-02-08T15:20:49.565Z"
   },
   {
    "duration": 59,
    "start_time": "2022-02-08T15:20:49.938Z"
   },
   {
    "duration": 128,
    "start_time": "2022-02-08T15:20:49.999Z"
   },
   {
    "duration": 160,
    "start_time": "2022-02-08T15:20:50.129Z"
   },
   {
    "duration": 13,
    "start_time": "2022-02-08T15:20:50.291Z"
   },
   {
    "duration": 8,
    "start_time": "2022-02-08T15:20:50.306Z"
   },
   {
    "duration": 8,
    "start_time": "2022-02-08T15:20:50.315Z"
   },
   {
    "duration": 6,
    "start_time": "2022-02-08T15:20:50.326Z"
   },
   {
    "duration": 32,
    "start_time": "2022-02-08T15:20:50.334Z"
   },
   {
    "duration": 217,
    "start_time": "2022-02-08T15:20:50.368Z"
   },
   {
    "duration": 53,
    "start_time": "2022-02-08T15:20:50.587Z"
   },
   {
    "duration": 84,
    "start_time": "2022-02-08T15:20:50.643Z"
   },
   {
    "duration": 58,
    "start_time": "2022-02-08T15:20:50.728Z"
   },
   {
    "duration": 48,
    "start_time": "2022-02-08T15:20:50.788Z"
   },
   {
    "duration": 35,
    "start_time": "2022-02-08T15:20:50.838Z"
   },
   {
    "duration": 23,
    "start_time": "2022-02-08T15:20:50.875Z"
   },
   {
    "duration": 17,
    "start_time": "2022-02-08T15:20:50.899Z"
   },
   {
    "duration": 20,
    "start_time": "2022-02-08T15:20:50.918Z"
   },
   {
    "duration": 39,
    "start_time": "2022-02-08T15:20:50.940Z"
   },
   {
    "duration": 5,
    "start_time": "2022-02-08T15:20:50.981Z"
   },
   {
    "duration": 30,
    "start_time": "2022-02-08T15:20:50.988Z"
   },
   {
    "duration": 16,
    "start_time": "2022-02-08T15:20:51.020Z"
   },
   {
    "duration": 34,
    "start_time": "2022-02-08T15:20:51.038Z"
   },
   {
    "duration": 5,
    "start_time": "2022-02-08T15:20:51.074Z"
   },
   {
    "duration": 19,
    "start_time": "2022-02-08T15:20:51.081Z"
   },
   {
    "duration": 214,
    "start_time": "2022-02-08T15:20:51.103Z"
   },
   {
    "duration": 15,
    "start_time": "2022-02-08T15:20:51.319Z"
   },
   {
    "duration": 56,
    "start_time": "2022-02-08T15:20:51.336Z"
   },
   {
    "duration": 5,
    "start_time": "2022-02-08T15:20:51.394Z"
   },
   {
    "duration": 604,
    "start_time": "2022-02-08T15:20:51.401Z"
   },
   {
    "duration": 582,
    "start_time": "2022-02-08T15:20:52.007Z"
   },
   {
    "duration": 572,
    "start_time": "2022-02-08T15:20:52.591Z"
   },
   {
    "duration": 10,
    "start_time": "2022-02-08T15:20:53.165Z"
   },
   {
    "duration": 17,
    "start_time": "2022-02-08T15:20:53.178Z"
   },
   {
    "duration": 1165,
    "start_time": "2022-02-08T15:26:39.387Z"
   },
   {
    "duration": 389,
    "start_time": "2022-02-08T15:26:40.554Z"
   },
   {
    "duration": 59,
    "start_time": "2022-02-08T15:26:40.945Z"
   },
   {
    "duration": 135,
    "start_time": "2022-02-08T15:26:41.006Z"
   },
   {
    "duration": 148,
    "start_time": "2022-02-08T15:26:41.159Z"
   },
   {
    "duration": 14,
    "start_time": "2022-02-08T15:26:41.309Z"
   },
   {
    "duration": 7,
    "start_time": "2022-02-08T15:26:41.325Z"
   },
   {
    "duration": 27,
    "start_time": "2022-02-08T15:26:41.336Z"
   },
   {
    "duration": 12,
    "start_time": "2022-02-08T15:26:41.365Z"
   },
   {
    "duration": 6,
    "start_time": "2022-02-08T15:26:41.378Z"
   },
   {
    "duration": 193,
    "start_time": "2022-02-08T15:26:41.385Z"
   },
   {
    "duration": 56,
    "start_time": "2022-02-08T15:26:41.581Z"
   },
   {
    "duration": 85,
    "start_time": "2022-02-08T15:26:41.639Z"
   },
   {
    "duration": 60,
    "start_time": "2022-02-08T15:26:41.725Z"
   },
   {
    "duration": 57,
    "start_time": "2022-02-08T15:26:41.786Z"
   },
   {
    "duration": 30,
    "start_time": "2022-02-08T15:26:41.845Z"
   },
   {
    "duration": 16,
    "start_time": "2022-02-08T15:26:41.876Z"
   },
   {
    "duration": 13,
    "start_time": "2022-02-08T15:26:41.893Z"
   },
   {
    "duration": 14,
    "start_time": "2022-02-08T15:26:41.907Z"
   },
   {
    "duration": 43,
    "start_time": "2022-02-08T15:26:41.922Z"
   },
   {
    "duration": 27,
    "start_time": "2022-02-08T15:26:41.968Z"
   },
   {
    "duration": 23,
    "start_time": "2022-02-08T15:26:41.997Z"
   },
   {
    "duration": 12,
    "start_time": "2022-02-08T15:26:42.023Z"
   },
   {
    "duration": 22,
    "start_time": "2022-02-08T15:26:42.037Z"
   },
   {
    "duration": 3,
    "start_time": "2022-02-08T15:26:42.060Z"
   },
   {
    "duration": 5,
    "start_time": "2022-02-08T15:26:42.065Z"
   },
   {
    "duration": 208,
    "start_time": "2022-02-08T15:26:42.072Z"
   },
   {
    "duration": 16,
    "start_time": "2022-02-08T15:26:42.282Z"
   },
   {
    "duration": 36,
    "start_time": "2022-02-08T15:26:42.300Z"
   },
   {
    "duration": 28,
    "start_time": "2022-02-08T15:26:42.337Z"
   },
   {
    "duration": 559,
    "start_time": "2022-02-08T15:26:42.368Z"
   },
   {
    "duration": 538,
    "start_time": "2022-02-08T15:26:42.929Z"
   },
   {
    "duration": 539,
    "start_time": "2022-02-08T15:26:43.469Z"
   },
   {
    "duration": 8,
    "start_time": "2022-02-08T15:26:44.010Z"
   },
   {
    "duration": 8,
    "start_time": "2022-02-08T15:26:44.019Z"
   },
   {
    "duration": 1019,
    "start_time": "2022-02-08T15:30:08.032Z"
   },
   {
    "duration": 387,
    "start_time": "2022-02-08T15:30:09.053Z"
   },
   {
    "duration": 59,
    "start_time": "2022-02-08T15:30:09.442Z"
   },
   {
    "duration": 133,
    "start_time": "2022-02-08T15:30:09.503Z"
   },
   {
    "duration": 173,
    "start_time": "2022-02-08T15:30:09.638Z"
   },
   {
    "duration": 14,
    "start_time": "2022-02-08T15:30:09.813Z"
   },
   {
    "duration": 28,
    "start_time": "2022-02-08T15:30:09.829Z"
   },
   {
    "duration": 22,
    "start_time": "2022-02-08T15:30:09.866Z"
   },
   {
    "duration": 17,
    "start_time": "2022-02-08T15:30:09.889Z"
   },
   {
    "duration": 18,
    "start_time": "2022-02-08T15:30:09.908Z"
   },
   {
    "duration": 194,
    "start_time": "2022-02-08T15:30:09.928Z"
   },
   {
    "duration": 70,
    "start_time": "2022-02-08T15:30:10.123Z"
   },
   {
    "duration": 84,
    "start_time": "2022-02-08T15:30:10.195Z"
   },
   {
    "duration": 44,
    "start_time": "2022-02-08T15:30:10.281Z"
   },
   {
    "duration": 73,
    "start_time": "2022-02-08T15:30:10.327Z"
   },
   {
    "duration": 15,
    "start_time": "2022-02-08T15:30:10.402Z"
   },
   {
    "duration": 33,
    "start_time": "2022-02-08T15:30:10.418Z"
   },
   {
    "duration": 44,
    "start_time": "2022-02-08T15:30:10.452Z"
   },
   {
    "duration": 28,
    "start_time": "2022-02-08T15:30:10.498Z"
   },
   {
    "duration": 28,
    "start_time": "2022-02-08T15:30:10.528Z"
   },
   {
    "duration": 32,
    "start_time": "2022-02-08T15:30:10.558Z"
   },
   {
    "duration": 42,
    "start_time": "2022-02-08T15:30:10.592Z"
   },
   {
    "duration": 14,
    "start_time": "2022-02-08T15:30:10.638Z"
   },
   {
    "duration": 42,
    "start_time": "2022-02-08T15:30:10.654Z"
   },
   {
    "duration": 18,
    "start_time": "2022-02-08T15:30:10.698Z"
   },
   {
    "duration": 27,
    "start_time": "2022-02-08T15:30:10.718Z"
   },
   {
    "duration": 216,
    "start_time": "2022-02-08T15:30:10.747Z"
   },
   {
    "duration": 18,
    "start_time": "2022-02-08T15:30:10.965Z"
   },
   {
    "duration": 53,
    "start_time": "2022-02-08T15:30:10.985Z"
   },
   {
    "duration": 4,
    "start_time": "2022-02-08T15:30:11.040Z"
   },
   {
    "duration": 584,
    "start_time": "2022-02-08T15:30:11.045Z"
   },
   {
    "duration": 590,
    "start_time": "2022-02-08T15:30:11.630Z"
   },
   {
    "duration": 559,
    "start_time": "2022-02-08T15:30:12.221Z"
   },
   {
    "duration": 11,
    "start_time": "2022-02-08T15:30:12.782Z"
   },
   {
    "duration": 11,
    "start_time": "2022-02-08T15:30:12.795Z"
   },
   {
    "duration": 8,
    "start_time": "2022-02-08T15:44:12.530Z"
   },
   {
    "duration": 9,
    "start_time": "2022-02-08T15:44:13.706Z"
   },
   {
    "duration": 9,
    "start_time": "2022-02-08T15:44:14.138Z"
   },
   {
    "duration": 8,
    "start_time": "2022-02-08T15:44:14.402Z"
   },
   {
    "duration": 9,
    "start_time": "2022-02-08T15:44:14.626Z"
   },
   {
    "duration": 9,
    "start_time": "2022-02-08T15:44:14.840Z"
   },
   {
    "duration": 9,
    "start_time": "2022-02-08T15:44:15.035Z"
   },
   {
    "duration": 10,
    "start_time": "2022-02-08T15:44:15.227Z"
   },
   {
    "duration": 11,
    "start_time": "2022-02-08T15:44:15.411Z"
   },
   {
    "duration": 8,
    "start_time": "2022-02-08T15:44:15.584Z"
   },
   {
    "duration": 8,
    "start_time": "2022-02-08T15:44:15.810Z"
   },
   {
    "duration": 8,
    "start_time": "2022-02-08T15:57:32.240Z"
   },
   {
    "duration": 10,
    "start_time": "2022-02-08T15:57:52.058Z"
   },
   {
    "duration": 10,
    "start_time": "2022-02-08T15:57:53.872Z"
   },
   {
    "duration": 8,
    "start_time": "2022-02-08T15:57:54.340Z"
   },
   {
    "duration": 9,
    "start_time": "2022-02-08T15:57:54.856Z"
   },
   {
    "duration": 9,
    "start_time": "2022-02-08T15:57:55.137Z"
   },
   {
    "duration": 9,
    "start_time": "2022-02-08T15:57:55.409Z"
   },
   {
    "duration": 8,
    "start_time": "2022-02-08T15:57:55.624Z"
   },
   {
    "duration": 9,
    "start_time": "2022-02-08T15:57:55.808Z"
   },
   {
    "duration": 9,
    "start_time": "2022-02-08T15:57:55.986Z"
   },
   {
    "duration": 9,
    "start_time": "2022-02-08T15:57:56.171Z"
   },
   {
    "duration": 8,
    "start_time": "2022-02-08T15:57:56.388Z"
   },
   {
    "duration": 10,
    "start_time": "2022-02-08T15:57:56.509Z"
   },
   {
    "duration": 11,
    "start_time": "2022-02-08T15:57:56.672Z"
   },
   {
    "duration": 10,
    "start_time": "2022-02-08T15:57:56.904Z"
   },
   {
    "duration": 8,
    "start_time": "2022-02-08T15:57:57.104Z"
   },
   {
    "duration": 13,
    "start_time": "2022-02-08T15:57:57.356Z"
   },
   {
    "duration": 8,
    "start_time": "2022-02-08T15:58:08.697Z"
   },
   {
    "duration": 10,
    "start_time": "2022-02-08T15:58:10.337Z"
   },
   {
    "duration": 11,
    "start_time": "2022-02-08T15:58:12.485Z"
   },
   {
    "duration": 9,
    "start_time": "2022-02-08T15:58:12.697Z"
   },
   {
    "duration": 9,
    "start_time": "2022-02-08T15:58:13.336Z"
   },
   {
    "duration": 13,
    "start_time": "2022-02-08T15:58:13.857Z"
   },
   {
    "duration": 8,
    "start_time": "2022-02-08T15:58:14.433Z"
   },
   {
    "duration": 10,
    "start_time": "2022-02-08T16:03:08.001Z"
   },
   {
    "duration": 8,
    "start_time": "2022-02-08T16:03:08.401Z"
   },
   {
    "duration": 11,
    "start_time": "2022-02-08T16:03:08.785Z"
   },
   {
    "duration": 9,
    "start_time": "2022-02-08T16:03:09.041Z"
   },
   {
    "duration": 9,
    "start_time": "2022-02-08T16:03:09.274Z"
   },
   {
    "duration": 11,
    "start_time": "2022-02-08T16:03:09.529Z"
   },
   {
    "duration": 8,
    "start_time": "2022-02-08T16:03:09.798Z"
   },
   {
    "duration": 10,
    "start_time": "2022-02-08T16:03:10.962Z"
   },
   {
    "duration": 488,
    "start_time": "2022-02-08T16:16:29.973Z"
   },
   {
    "duration": 509,
    "start_time": "2022-02-08T16:16:34.602Z"
   },
   {
    "duration": 584,
    "start_time": "2022-02-08T16:20:48.237Z"
   },
   {
    "duration": 486,
    "start_time": "2022-02-08T16:21:10.670Z"
   },
   {
    "duration": 505,
    "start_time": "2022-02-08T16:22:18.220Z"
   },
   {
    "duration": 515,
    "start_time": "2022-02-08T16:22:47.629Z"
   },
   {
    "duration": 518,
    "start_time": "2022-02-08T16:40:08.595Z"
   },
   {
    "duration": 587,
    "start_time": "2022-02-08T16:40:23.044Z"
   },
   {
    "duration": 511,
    "start_time": "2022-02-08T16:43:15.453Z"
   },
   {
    "duration": 508,
    "start_time": "2022-02-08T16:44:10.756Z"
   },
   {
    "duration": 1037,
    "start_time": "2022-02-08T16:49:04.876Z"
   },
   {
    "duration": 374,
    "start_time": "2022-02-08T16:49:05.915Z"
   },
   {
    "duration": 50,
    "start_time": "2022-02-08T16:49:06.291Z"
   },
   {
    "duration": 127,
    "start_time": "2022-02-08T16:49:06.343Z"
   },
   {
    "duration": 136,
    "start_time": "2022-02-08T16:49:06.472Z"
   },
   {
    "duration": 13,
    "start_time": "2022-02-08T16:49:06.610Z"
   },
   {
    "duration": 6,
    "start_time": "2022-02-08T16:49:06.625Z"
   },
   {
    "duration": 25,
    "start_time": "2022-02-08T16:49:06.634Z"
   },
   {
    "duration": 7,
    "start_time": "2022-02-08T16:49:06.661Z"
   },
   {
    "duration": 9,
    "start_time": "2022-02-08T16:49:06.670Z"
   },
   {
    "duration": 206,
    "start_time": "2022-02-08T16:49:06.680Z"
   },
   {
    "duration": 53,
    "start_time": "2022-02-08T16:49:06.888Z"
   },
   {
    "duration": 76,
    "start_time": "2022-02-08T16:49:06.958Z"
   },
   {
    "duration": 52,
    "start_time": "2022-02-08T16:49:07.036Z"
   },
   {
    "duration": 52,
    "start_time": "2022-02-08T16:49:07.089Z"
   },
   {
    "duration": 30,
    "start_time": "2022-02-08T16:49:07.143Z"
   },
   {
    "duration": 22,
    "start_time": "2022-02-08T16:49:07.174Z"
   },
   {
    "duration": 33,
    "start_time": "2022-02-08T16:49:07.198Z"
   },
   {
    "duration": 24,
    "start_time": "2022-02-08T16:49:07.233Z"
   },
   {
    "duration": 27,
    "start_time": "2022-02-08T16:49:07.259Z"
   },
   {
    "duration": 25,
    "start_time": "2022-02-08T16:49:07.287Z"
   },
   {
    "duration": 29,
    "start_time": "2022-02-08T16:49:07.313Z"
   },
   {
    "duration": 18,
    "start_time": "2022-02-08T16:49:07.345Z"
   },
   {
    "duration": 42,
    "start_time": "2022-02-08T16:49:07.365Z"
   },
   {
    "duration": 22,
    "start_time": "2022-02-08T16:49:07.408Z"
   },
   {
    "duration": 34,
    "start_time": "2022-02-08T16:49:07.431Z"
   },
   {
    "duration": 210,
    "start_time": "2022-02-08T16:49:07.467Z"
   },
   {
    "duration": 15,
    "start_time": "2022-02-08T16:49:07.678Z"
   },
   {
    "duration": 31,
    "start_time": "2022-02-08T16:49:07.695Z"
   },
   {
    "duration": 5,
    "start_time": "2022-02-08T16:49:07.727Z"
   },
   {
    "duration": 551,
    "start_time": "2022-02-08T16:49:07.734Z"
   },
   {
    "duration": 524,
    "start_time": "2022-02-08T16:49:08.286Z"
   },
   {
    "duration": 510,
    "start_time": "2022-02-08T16:49:08.812Z"
   },
   {
    "duration": 9,
    "start_time": "2022-02-08T16:49:09.323Z"
   },
   {
    "duration": 526,
    "start_time": "2022-02-08T16:49:09.333Z"
   },
   {
    "duration": 8,
    "start_time": "2022-02-08T16:49:09.860Z"
   },
   {
    "duration": 8,
    "start_time": "2022-02-08T16:56:18.619Z"
   },
   {
    "duration": 9,
    "start_time": "2022-02-08T16:56:19.139Z"
   },
   {
    "duration": 8,
    "start_time": "2022-02-08T16:56:19.569Z"
   },
   {
    "duration": 9,
    "start_time": "2022-02-08T16:56:19.979Z"
   },
   {
    "duration": 9,
    "start_time": "2022-02-08T16:56:20.211Z"
   },
   {
    "duration": 9,
    "start_time": "2022-02-08T16:56:20.675Z"
   },
   {
    "duration": 9,
    "start_time": "2022-02-08T16:56:20.981Z"
   },
   {
    "duration": 9,
    "start_time": "2022-02-08T16:56:21.285Z"
   },
   {
    "duration": 9,
    "start_time": "2022-02-08T16:56:21.595Z"
   },
   {
    "duration": 11,
    "start_time": "2022-02-08T16:56:21.894Z"
   },
   {
    "duration": 9,
    "start_time": "2022-02-08T16:56:22.178Z"
   },
   {
    "duration": 8,
    "start_time": "2022-02-08T16:56:22.555Z"
   },
   {
    "duration": 8,
    "start_time": "2022-02-08T16:56:22.867Z"
   },
   {
    "duration": 9,
    "start_time": "2022-02-08T16:56:23.760Z"
   },
   {
    "duration": 9,
    "start_time": "2022-02-08T17:02:39.852Z"
   },
   {
    "duration": 9,
    "start_time": "2022-02-08T17:02:40.386Z"
   },
   {
    "duration": 9,
    "start_time": "2022-02-08T17:02:40.748Z"
   },
   {
    "duration": 92,
    "start_time": "2022-02-08T17:02:41.060Z"
   },
   {
    "duration": 8,
    "start_time": "2022-02-08T17:02:41.547Z"
   },
   {
    "duration": 9,
    "start_time": "2022-02-08T17:02:41.963Z"
   },
   {
    "duration": 10,
    "start_time": "2022-02-08T17:02:42.531Z"
   },
   {
    "duration": 10,
    "start_time": "2022-02-08T17:02:43.011Z"
   },
   {
    "duration": 10,
    "start_time": "2022-02-08T17:02:43.325Z"
   },
   {
    "duration": 10,
    "start_time": "2022-02-08T17:02:43.595Z"
   },
   {
    "duration": 10,
    "start_time": "2022-02-08T17:02:43.890Z"
   },
   {
    "duration": 11,
    "start_time": "2022-02-08T17:02:44.163Z"
   },
   {
    "duration": 10,
    "start_time": "2022-02-08T17:02:44.443Z"
   },
   {
    "duration": 10,
    "start_time": "2022-02-08T17:02:44.731Z"
   },
   {
    "duration": 14,
    "start_time": "2022-02-08T17:02:45.195Z"
   },
   {
    "duration": 8,
    "start_time": "2022-02-08T17:02:45.547Z"
   },
   {
    "duration": 9,
    "start_time": "2022-02-08T17:02:45.851Z"
   },
   {
    "duration": 13,
    "start_time": "2022-02-08T17:02:46.147Z"
   },
   {
    "duration": 11,
    "start_time": "2022-02-08T17:02:46.504Z"
   },
   {
    "duration": 12,
    "start_time": "2022-02-08T17:02:47.139Z"
   },
   {
    "duration": 248,
    "start_time": "2022-02-08T17:12:28.788Z"
   },
   {
    "duration": 45,
    "start_time": "2022-02-08T17:13:06.962Z"
   },
   {
    "duration": 43,
    "start_time": "2022-02-08T17:13:09.635Z"
   },
   {
    "duration": 47,
    "start_time": "2022-02-08T17:13:28.158Z"
   },
   {
    "duration": 42,
    "start_time": "2022-02-08T17:13:42.355Z"
   },
   {
    "duration": 149,
    "start_time": "2022-02-08T17:14:21.073Z"
   },
   {
    "duration": 473,
    "start_time": "2022-02-08T17:14:41.802Z"
   },
   {
    "duration": 483,
    "start_time": "2022-02-08T17:15:41.027Z"
   },
   {
    "duration": 503,
    "start_time": "2022-02-08T17:21:39.099Z"
   },
   {
    "duration": 500,
    "start_time": "2022-02-08T17:22:55.602Z"
   },
   {
    "duration": 523,
    "start_time": "2022-02-08T17:23:09.372Z"
   },
   {
    "duration": 503,
    "start_time": "2022-02-08T17:24:21.062Z"
   },
   {
    "duration": 63,
    "start_time": "2022-02-08T17:24:29.792Z"
   },
   {
    "duration": 510,
    "start_time": "2022-02-08T17:24:33.268Z"
   },
   {
    "duration": 494,
    "start_time": "2022-02-08T17:24:43.546Z"
   },
   {
    "duration": 226,
    "start_time": "2022-02-08T17:26:16.913Z"
   },
   {
    "duration": 618,
    "start_time": "2022-02-08T17:28:16.101Z"
   },
   {
    "duration": 562,
    "start_time": "2022-02-08T17:28:35.658Z"
   },
   {
    "duration": 494,
    "start_time": "2022-02-08T17:28:43.057Z"
   },
   {
    "duration": 537,
    "start_time": "2022-02-08T17:29:22.483Z"
   },
   {
    "duration": 495,
    "start_time": "2022-02-08T17:52:38.822Z"
   },
   {
    "duration": 27702,
    "start_time": "2022-02-08T17:52:48.624Z"
   },
   {
    "duration": 515,
    "start_time": "2022-02-08T17:53:49.430Z"
   },
   {
    "duration": 1237,
    "start_time": "2022-02-08T17:54:58.822Z"
   },
   {
    "duration": 502,
    "start_time": "2022-02-08T17:55:09.167Z"
   },
   {
    "duration": 486,
    "start_time": "2022-02-08T17:55:30.695Z"
   },
   {
    "duration": 590,
    "start_time": "2022-02-08T17:55:52.741Z"
   },
   {
    "duration": 528,
    "start_time": "2022-02-08T17:56:42.134Z"
   },
   {
    "duration": 628,
    "start_time": "2022-02-08T17:56:54.631Z"
   },
   {
    "duration": 435,
    "start_time": "2022-02-08T17:57:18.898Z"
   },
   {
    "duration": 557,
    "start_time": "2022-02-08T17:57:23.934Z"
   },
   {
    "duration": 6,
    "start_time": "2022-02-08T17:58:09.910Z"
   },
   {
    "duration": 1096,
    "start_time": "2022-02-08T17:58:16.141Z"
   },
   {
    "duration": 921,
    "start_time": "2022-02-08T17:58:17.239Z"
   },
   {
    "duration": 54,
    "start_time": "2022-02-08T17:58:18.162Z"
   },
   {
    "duration": 151,
    "start_time": "2022-02-08T17:58:18.218Z"
   },
   {
    "duration": 150,
    "start_time": "2022-02-08T17:58:18.371Z"
   },
   {
    "duration": 15,
    "start_time": "2022-02-08T17:58:18.523Z"
   },
   {
    "duration": 23,
    "start_time": "2022-02-08T17:58:18.541Z"
   },
   {
    "duration": 6,
    "start_time": "2022-02-08T17:58:18.568Z"
   },
   {
    "duration": 8,
    "start_time": "2022-02-08T17:58:18.576Z"
   },
   {
    "duration": 13,
    "start_time": "2022-02-08T17:58:18.586Z"
   },
   {
    "duration": 209,
    "start_time": "2022-02-08T17:58:18.600Z"
   },
   {
    "duration": 65,
    "start_time": "2022-02-08T17:58:18.811Z"
   },
   {
    "duration": 71,
    "start_time": "2022-02-08T17:58:18.878Z"
   },
   {
    "duration": 45,
    "start_time": "2022-02-08T17:58:18.959Z"
   },
   {
    "duration": 68,
    "start_time": "2022-02-08T17:58:19.005Z"
   },
   {
    "duration": 16,
    "start_time": "2022-02-08T17:58:19.075Z"
   },
   {
    "duration": 17,
    "start_time": "2022-02-08T17:58:19.093Z"
   },
   {
    "duration": 15,
    "start_time": "2022-02-08T17:58:19.112Z"
   },
   {
    "duration": 36,
    "start_time": "2022-02-08T17:58:19.129Z"
   },
   {
    "duration": 13,
    "start_time": "2022-02-08T17:58:19.167Z"
   },
   {
    "duration": 7,
    "start_time": "2022-02-08T17:58:19.182Z"
   },
   {
    "duration": 22,
    "start_time": "2022-02-08T17:58:19.191Z"
   },
   {
    "duration": 13,
    "start_time": "2022-02-08T17:58:19.216Z"
   },
   {
    "duration": 21,
    "start_time": "2022-02-08T17:58:19.259Z"
   },
   {
    "duration": 9,
    "start_time": "2022-02-08T17:58:19.282Z"
   },
   {
    "duration": 28,
    "start_time": "2022-02-08T17:58:19.293Z"
   },
   {
    "duration": 201,
    "start_time": "2022-02-08T17:58:19.322Z"
   },
   {
    "duration": 15,
    "start_time": "2022-02-08T17:58:19.525Z"
   },
   {
    "duration": 68,
    "start_time": "2022-02-08T17:58:19.542Z"
   },
   {
    "duration": 5,
    "start_time": "2022-02-08T17:58:19.611Z"
   },
   {
    "duration": 631,
    "start_time": "2022-02-08T17:58:19.617Z"
   },
   {
    "duration": 617,
    "start_time": "2022-02-08T17:58:20.249Z"
   },
   {
    "duration": 605,
    "start_time": "2022-02-08T17:58:20.868Z"
   },
   {
    "duration": 8,
    "start_time": "2022-02-08T17:58:21.475Z"
   },
   {
    "duration": 618,
    "start_time": "2022-02-08T17:58:21.484Z"
   },
   {
    "duration": 9,
    "start_time": "2022-02-08T17:58:22.104Z"
   },
   {
    "duration": 695,
    "start_time": "2022-02-08T17:58:22.115Z"
   },
   {
    "duration": 540,
    "start_time": "2022-02-08T18:39:21.989Z"
   },
   {
    "duration": 537,
    "start_time": "2022-02-08T18:40:18.479Z"
   },
   {
    "duration": 9,
    "start_time": "2022-02-08T18:48:24.013Z"
   },
   {
    "duration": 14,
    "start_time": "2022-02-08T18:51:37.093Z"
   },
   {
    "duration": 531,
    "start_time": "2022-02-08T19:02:11.997Z"
   },
   {
    "duration": 538,
    "start_time": "2022-02-08T19:04:02.539Z"
   },
   {
    "duration": 624,
    "start_time": "2022-02-08T19:05:09.667Z"
   },
   {
    "duration": 1484,
    "start_time": "2022-02-13T16:30:32.077Z"
   },
   {
    "duration": 539,
    "start_time": "2022-02-13T16:30:33.565Z"
   },
   {
    "duration": 79,
    "start_time": "2022-02-13T16:30:34.107Z"
   },
   {
    "duration": 373,
    "start_time": "2022-02-13T16:30:34.190Z"
   },
   {
    "duration": 415,
    "start_time": "2022-02-13T16:30:34.565Z"
   },
   {
    "duration": 42,
    "start_time": "2022-02-13T16:30:34.983Z"
   },
   {
    "duration": 142,
    "start_time": "2022-02-13T16:30:35.028Z"
   },
   {
    "duration": 162,
    "start_time": "2022-02-13T16:30:35.175Z"
   },
   {
    "duration": 177,
    "start_time": "2022-02-13T16:30:35.340Z"
   },
   {
    "duration": 88,
    "start_time": "2022-02-13T16:30:35.520Z"
   },
   {
    "duration": 406,
    "start_time": "2022-02-13T16:30:35.611Z"
   },
   {
    "duration": 83,
    "start_time": "2022-02-13T16:30:36.024Z"
   },
   {
    "duration": 167,
    "start_time": "2022-02-13T16:30:36.110Z"
   },
   {
    "duration": 201,
    "start_time": "2022-02-13T16:30:36.279Z"
   },
   {
    "duration": 162,
    "start_time": "2022-02-13T16:30:36.483Z"
   },
   {
    "duration": 194,
    "start_time": "2022-02-13T16:30:36.648Z"
   },
   {
    "duration": 241,
    "start_time": "2022-02-13T16:30:36.845Z"
   },
   {
    "duration": 247,
    "start_time": "2022-02-13T16:30:37.089Z"
   },
   {
    "duration": 224,
    "start_time": "2022-02-13T16:30:37.338Z"
   },
   {
    "duration": 269,
    "start_time": "2022-02-13T16:30:37.565Z"
   },
   {
    "duration": 200,
    "start_time": "2022-02-13T16:30:37.837Z"
   },
   {
    "duration": 196,
    "start_time": "2022-02-13T16:30:38.040Z"
   },
   {
    "duration": 189,
    "start_time": "2022-02-13T16:30:38.243Z"
   },
   {
    "duration": 263,
    "start_time": "2022-02-13T16:30:38.436Z"
   },
   {
    "duration": 228,
    "start_time": "2022-02-13T16:30:38.703Z"
   },
   {
    "duration": 171,
    "start_time": "2022-02-13T16:30:38.934Z"
   },
   {
    "duration": 498,
    "start_time": "2022-02-13T16:30:39.108Z"
   },
   {
    "duration": 36,
    "start_time": "2022-02-13T16:30:39.609Z"
   },
   {
    "duration": 283,
    "start_time": "2022-02-13T16:30:39.647Z"
   },
   {
    "duration": 100,
    "start_time": "2022-02-13T16:30:39.933Z"
   },
   {
    "duration": 1221,
    "start_time": "2022-02-13T16:30:40.035Z"
   },
   {
    "duration": 1016,
    "start_time": "2022-02-13T16:30:41.258Z"
   },
   {
    "duration": 969,
    "start_time": "2022-02-13T16:30:42.277Z"
   },
   {
    "duration": 13,
    "start_time": "2022-02-13T16:30:43.249Z"
   },
   {
    "duration": 1065,
    "start_time": "2022-02-13T16:30:43.264Z"
   },
   {
    "duration": 14,
    "start_time": "2022-02-13T16:30:44.332Z"
   },
   {
    "duration": 1742,
    "start_time": "2022-02-13T16:30:44.349Z"
   },
   {
    "duration": 961,
    "start_time": "2022-02-13T16:30:46.095Z"
   },
   {
    "duration": 14,
    "start_time": "2022-02-13T16:30:47.059Z"
   },
   {
    "duration": 1086,
    "start_time": "2022-02-13T16:30:47.075Z"
   },
   {
    "duration": 979,
    "start_time": "2022-02-13T16:30:48.164Z"
   },
   {
    "duration": 6,
    "start_time": "2022-02-13T17:04:02.488Z"
   },
   {
    "duration": 70,
    "start_time": "2022-02-13T17:04:08.940Z"
   },
   {
    "duration": 327,
    "start_time": "2022-02-13T17:57:48.484Z"
   },
   {
    "duration": 1123,
    "start_time": "2022-02-13T17:57:58.057Z"
   },
   {
    "duration": 417,
    "start_time": "2022-02-13T17:57:59.182Z"
   },
   {
    "duration": 56,
    "start_time": "2022-02-13T17:57:59.601Z"
   },
   {
    "duration": 135,
    "start_time": "2022-02-13T17:57:59.659Z"
   },
   {
    "duration": 156,
    "start_time": "2022-02-13T17:57:59.795Z"
   },
   {
    "duration": 14,
    "start_time": "2022-02-13T17:57:59.953Z"
   },
   {
    "duration": 9,
    "start_time": "2022-02-13T17:57:59.969Z"
   },
   {
    "duration": 5,
    "start_time": "2022-02-13T17:57:59.980Z"
   },
   {
    "duration": 32,
    "start_time": "2022-02-13T17:57:59.987Z"
   },
   {
    "duration": 22,
    "start_time": "2022-02-13T17:58:00.022Z"
   },
   {
    "duration": 228,
    "start_time": "2022-02-13T17:58:00.046Z"
   },
   {
    "duration": 84,
    "start_time": "2022-02-13T17:58:00.276Z"
   },
   {
    "duration": 104,
    "start_time": "2022-02-13T17:58:00.363Z"
   },
   {
    "duration": 69,
    "start_time": "2022-02-13T17:58:00.470Z"
   },
   {
    "duration": 79,
    "start_time": "2022-02-13T17:58:00.541Z"
   },
   {
    "duration": 27,
    "start_time": "2022-02-13T17:58:00.622Z"
   },
   {
    "duration": 26,
    "start_time": "2022-02-13T17:58:00.651Z"
   },
   {
    "duration": 46,
    "start_time": "2022-02-13T17:58:00.679Z"
   },
   {
    "duration": 28,
    "start_time": "2022-02-13T17:58:00.727Z"
   },
   {
    "duration": 22,
    "start_time": "2022-02-13T17:58:00.758Z"
   },
   {
    "duration": 11,
    "start_time": "2022-02-13T17:58:00.782Z"
   },
   {
    "duration": 61,
    "start_time": "2022-02-13T17:58:00.795Z"
   },
   {
    "duration": 20,
    "start_time": "2022-02-13T17:58:00.861Z"
   },
   {
    "duration": 40,
    "start_time": "2022-02-13T17:58:00.884Z"
   },
   {
    "duration": 5,
    "start_time": "2022-02-13T17:58:00.927Z"
   },
   {
    "duration": 7,
    "start_time": "2022-02-13T17:58:00.934Z"
   },
   {
    "duration": 361,
    "start_time": "2022-02-13T17:58:00.943Z"
   },
   {
    "duration": 28,
    "start_time": "2022-02-13T17:58:01.307Z"
   },
   {
    "duration": 50,
    "start_time": "2022-02-13T17:58:01.337Z"
   },
   {
    "duration": 7,
    "start_time": "2022-02-13T17:58:01.389Z"
   },
   {
    "duration": 860,
    "start_time": "2022-02-13T17:58:01.398Z"
   },
   {
    "duration": 736,
    "start_time": "2022-02-13T17:58:02.260Z"
   },
   {
    "duration": 580,
    "start_time": "2022-02-13T17:58:02.997Z"
   },
   {
    "duration": 8,
    "start_time": "2022-02-13T17:58:03.579Z"
   },
   {
    "duration": 608,
    "start_time": "2022-02-13T17:58:03.589Z"
   },
   {
    "duration": 19,
    "start_time": "2022-02-13T17:58:04.199Z"
   },
   {
    "duration": 667,
    "start_time": "2022-02-13T17:58:04.220Z"
   },
   {
    "duration": 555,
    "start_time": "2022-02-13T17:58:04.889Z"
   },
   {
    "duration": 8,
    "start_time": "2022-02-13T17:58:05.445Z"
   },
   {
    "duration": 567,
    "start_time": "2022-02-13T17:58:05.455Z"
   },
   {
    "duration": 559,
    "start_time": "2022-02-13T17:58:06.025Z"
   },
   {
    "duration": 43,
    "start_time": "2022-02-13T17:58:32.965Z"
   },
   {
    "duration": 127,
    "start_time": "2022-02-13T17:59:22.292Z"
   },
   {
    "duration": 10,
    "start_time": "2022-02-13T18:22:30.630Z"
   },
   {
    "duration": 9,
    "start_time": "2022-02-13T18:22:31.369Z"
   },
   {
    "duration": 10,
    "start_time": "2022-02-13T18:22:31.750Z"
   },
   {
    "duration": 8,
    "start_time": "2022-02-13T18:22:31.943Z"
   },
   {
    "duration": 10,
    "start_time": "2022-02-13T18:22:46.542Z"
   },
   {
    "duration": 8,
    "start_time": "2022-02-13T18:22:47.919Z"
   },
   {
    "duration": 9,
    "start_time": "2022-02-13T18:22:48.415Z"
   },
   {
    "duration": 9,
    "start_time": "2022-02-13T18:22:48.686Z"
   },
   {
    "duration": 9,
    "start_time": "2022-02-13T18:22:48.853Z"
   },
   {
    "duration": 1365,
    "start_time": "2022-02-14T07:15:20.247Z"
   },
   {
    "duration": 488,
    "start_time": "2022-02-14T07:15:21.615Z"
   },
   {
    "duration": 73,
    "start_time": "2022-02-14T07:15:22.106Z"
   },
   {
    "duration": 200,
    "start_time": "2022-02-14T07:15:22.182Z"
   },
   {
    "duration": 197,
    "start_time": "2022-02-14T07:15:22.384Z"
   },
   {
    "duration": 18,
    "start_time": "2022-02-14T07:15:22.584Z"
   },
   {
    "duration": 12,
    "start_time": "2022-02-14T07:15:22.604Z"
   },
   {
    "duration": 6,
    "start_time": "2022-02-14T07:15:22.620Z"
   },
   {
    "duration": 10,
    "start_time": "2022-02-14T07:15:22.660Z"
   },
   {
    "duration": 11,
    "start_time": "2022-02-14T07:15:22.672Z"
   },
   {
    "duration": 247,
    "start_time": "2022-02-14T07:15:22.685Z"
   },
   {
    "duration": 91,
    "start_time": "2022-02-14T07:15:22.934Z"
   },
   {
    "duration": 104,
    "start_time": "2022-02-14T07:15:23.027Z"
   },
   {
    "duration": 73,
    "start_time": "2022-02-14T07:15:23.133Z"
   },
   {
    "duration": 84,
    "start_time": "2022-02-14T07:15:23.208Z"
   },
   {
    "duration": 24,
    "start_time": "2022-02-14T07:15:23.294Z"
   },
   {
    "duration": 41,
    "start_time": "2022-02-14T07:15:23.320Z"
   },
   {
    "duration": 23,
    "start_time": "2022-02-14T07:15:23.364Z"
   },
   {
    "duration": 24,
    "start_time": "2022-02-14T07:15:23.390Z"
   },
   {
    "duration": 54,
    "start_time": "2022-02-14T07:15:23.416Z"
   },
   {
    "duration": 8,
    "start_time": "2022-02-14T07:15:23.473Z"
   },
   {
    "duration": 33,
    "start_time": "2022-02-14T07:15:23.483Z"
   },
   {
    "duration": 52,
    "start_time": "2022-02-14T07:15:23.521Z"
   },
   {
    "duration": 29,
    "start_time": "2022-02-14T07:15:23.576Z"
   },
   {
    "duration": 5,
    "start_time": "2022-02-14T07:15:23.607Z"
   },
   {
    "duration": 5,
    "start_time": "2022-02-14T07:15:23.614Z"
   },
   {
    "duration": 369,
    "start_time": "2022-02-14T07:15:23.621Z"
   },
   {
    "duration": 23,
    "start_time": "2022-02-14T07:15:23.992Z"
   },
   {
    "duration": 74,
    "start_time": "2022-02-14T07:15:24.017Z"
   },
   {
    "duration": 8,
    "start_time": "2022-02-14T07:15:24.094Z"
   },
   {
    "duration": 927,
    "start_time": "2022-02-14T07:15:24.105Z"
   },
   {
    "duration": 908,
    "start_time": "2022-02-14T07:15:25.034Z"
   },
   {
    "duration": 1031,
    "start_time": "2022-02-14T07:15:25.944Z"
   },
   {
    "duration": 9,
    "start_time": "2022-02-14T07:15:26.977Z"
   },
   {
    "duration": 922,
    "start_time": "2022-02-14T07:15:26.989Z"
   },
   {
    "duration": 14,
    "start_time": "2022-02-14T07:15:27.914Z"
   },
   {
    "duration": 975,
    "start_time": "2022-02-14T07:15:27.931Z"
   },
   {
    "duration": 864,
    "start_time": "2022-02-14T07:15:28.908Z"
   },
   {
    "duration": 10,
    "start_time": "2022-02-14T07:15:29.774Z"
   },
   {
    "duration": 905,
    "start_time": "2022-02-14T07:15:29.787Z"
   },
   {
    "duration": 906,
    "start_time": "2022-02-14T07:15:30.694Z"
   }
  ],
  "kernelspec": {
   "display_name": "Python 3 (ipykernel)",
   "language": "python",
   "name": "python3"
  },
  "language_info": {
   "codemirror_mode": {
    "name": "ipython",
    "version": 3
   },
   "file_extension": ".py",
   "mimetype": "text/x-python",
   "name": "python",
   "nbconvert_exporter": "python",
   "pygments_lexer": "ipython3",
   "version": "3.9.7"
  },
  "toc": {
   "base_numbering": 1,
   "nav_menu": {
    "height": "111px",
    "width": "314px"
   },
   "number_sections": true,
   "sideBar": true,
   "skip_h1_title": true,
   "title_cell": "Содержание",
   "title_sidebar": "Contents",
   "toc_cell": true,
   "toc_position": {
    "height": "calc(100% - 180px)",
    "left": "10px",
    "top": "150px",
    "width": "356.797px"
   },
   "toc_section_display": true,
   "toc_window_display": true
  }
 },
 "nbformat": 4,
 "nbformat_minor": 2
}
