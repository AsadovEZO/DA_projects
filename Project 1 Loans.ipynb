{
 "cells": [
  {
   "cell_type": "markdown",
   "metadata": {},
   "source": [
    "# Исследование надёжности заёмщиков\n",
    "\n",
    "Заказчик — кредитный отдел банка. Нужно разобраться, влияет ли семейное положение и количество детей клиента на факт погашения кредита в срок. Входные данные от банка — статистика о платёжеспособности клиентов.\n",
    "\n",
    "Результаты исследования будут учтены при построении модели **кредитного скоринга** — специальной системы, которая оценивает способность потенциального заёмщика вернуть кредит банку."
   ]
  },
  {
   "cell_type": "markdown",
   "metadata": {},
   "source": [
    "## Импорт основных библиотек и данных. Изучение данных и их подготовка к анализу"
   ]
  },
  {
   "cell_type": "markdown",
   "metadata": {},
   "source": [
    "### Импорт библиотек и файлов с данными"
   ]
  },
  {
   "cell_type": "code",
   "execution_count": 1,
   "metadata": {},
   "outputs": [],
   "source": [
    "import pandas as pd\n",
    "# Импортируем библиотеку pymystem3 для лемматизации данных о целях получения кредита\n",
    "from pymystem3 import Mystem"
   ]
  },
  {
   "cell_type": "markdown",
   "metadata": {},
   "source": [
    "Делаем преднастройку - ограничиваем видимость для цифр с плавающей запятой в две цифры, а также настраиваем отображение всех колонок."
   ]
  },
  {
   "cell_type": "code",
   "execution_count": 2,
   "metadata": {},
   "outputs": [],
   "source": [
    "pd.set_option('display.float_format', lambda x: '%.2f' % x)\n",
    "pd.set_option('display.max_colwidth', None)"
   ]
  },
  {
   "cell_type": "markdown",
   "metadata": {},
   "source": [
    "### Импорт и изучение данных"
   ]
  },
  {
   "cell_type": "code",
   "execution_count": 3,
   "metadata": {},
   "outputs": [],
   "source": [
    "df = pd.read_csv('data.csv')"
   ]
  },
  {
   "cell_type": "markdown",
   "metadata": {},
   "source": [
    "Для изучения данных будем использовать функцию inspect."
   ]
  },
  {
   "cell_type": "code",
   "execution_count": 4,
   "metadata": {},
   "outputs": [],
   "source": [
    "def inspect(df):\n",
    "    display(df.sample(10, random_state=1)) \n",
    "    df.info() \n",
    "    print ('Количество дубликатов -', df.duplicated().sum())\n",
    "    numeric_columns=df.describe().columns\n",
    "    display(df.describe())\n",
    "    display()\n",
    "    df.columns = [x.lower().replace(' ', '_') for x in df.columns.values]\n",
    "    for column_name in df.columns:\n",
    "        if 'datetime' in column_name:\n",
    "            df[column_name] = pd.to_datetime(df[column_name])\n",
    "        else:\n",
    "            display(df[column_name].value_counts())\n",
    "            print(50*'*')\n",
    "    return df"
   ]
  },
  {
   "cell_type": "code",
   "execution_count": 5,
   "metadata": {
    "scrolled": true
   },
   "outputs": [
    {
     "data": {
      "text/html": [
       "<div>\n",
       "<style scoped>\n",
       "    .dataframe tbody tr th:only-of-type {\n",
       "        vertical-align: middle;\n",
       "    }\n",
       "\n",
       "    .dataframe tbody tr th {\n",
       "        vertical-align: top;\n",
       "    }\n",
       "\n",
       "    .dataframe thead th {\n",
       "        text-align: right;\n",
       "    }\n",
       "</style>\n",
       "<table border=\"1\" class=\"dataframe\">\n",
       "  <thead>\n",
       "    <tr style=\"text-align: right;\">\n",
       "      <th></th>\n",
       "      <th>children</th>\n",
       "      <th>days_employed</th>\n",
       "      <th>dob_years</th>\n",
       "      <th>education</th>\n",
       "      <th>education_id</th>\n",
       "      <th>family_status</th>\n",
       "      <th>family_status_id</th>\n",
       "      <th>gender</th>\n",
       "      <th>income_type</th>\n",
       "      <th>debt</th>\n",
       "      <th>total_income</th>\n",
       "      <th>purpose</th>\n",
       "    </tr>\n",
       "  </thead>\n",
       "  <tbody>\n",
       "    <tr>\n",
       "      <th>1383</th>\n",
       "      <td>0</td>\n",
       "      <td>353802.81</td>\n",
       "      <td>37</td>\n",
       "      <td>среднее</td>\n",
       "      <td>1</td>\n",
       "      <td>вдовец / вдова</td>\n",
       "      <td>2</td>\n",
       "      <td>F</td>\n",
       "      <td>пенсионер</td>\n",
       "      <td>0</td>\n",
       "      <td>216452.23</td>\n",
       "      <td>строительство недвижимости</td>\n",
       "    </tr>\n",
       "    <tr>\n",
       "      <th>300</th>\n",
       "      <td>1</td>\n",
       "      <td>-359.19</td>\n",
       "      <td>33</td>\n",
       "      <td>СРЕДНЕЕ</td>\n",
       "      <td>1</td>\n",
       "      <td>гражданский брак</td>\n",
       "      <td>1</td>\n",
       "      <td>M</td>\n",
       "      <td>сотрудник</td>\n",
       "      <td>0</td>\n",
       "      <td>223001.62</td>\n",
       "      <td>на проведение свадьбы</td>\n",
       "    </tr>\n",
       "    <tr>\n",
       "      <th>6565</th>\n",
       "      <td>2</td>\n",
       "      <td>-1064.85</td>\n",
       "      <td>35</td>\n",
       "      <td>среднее</td>\n",
       "      <td>1</td>\n",
       "      <td>гражданский брак</td>\n",
       "      <td>1</td>\n",
       "      <td>F</td>\n",
       "      <td>компаньон</td>\n",
       "      <td>0</td>\n",
       "      <td>163591.21</td>\n",
       "      <td>свадьба</td>\n",
       "    </tr>\n",
       "    <tr>\n",
       "      <th>17027</th>\n",
       "      <td>0</td>\n",
       "      <td>NaN</td>\n",
       "      <td>48</td>\n",
       "      <td>высшее</td>\n",
       "      <td>0</td>\n",
       "      <td>гражданский брак</td>\n",
       "      <td>1</td>\n",
       "      <td>F</td>\n",
       "      <td>сотрудник</td>\n",
       "      <td>0</td>\n",
       "      <td>NaN</td>\n",
       "      <td>операции с жильем</td>\n",
       "    </tr>\n",
       "    <tr>\n",
       "      <th>4077</th>\n",
       "      <td>0</td>\n",
       "      <td>-7059.10</td>\n",
       "      <td>45</td>\n",
       "      <td>высшее</td>\n",
       "      <td>0</td>\n",
       "      <td>гражданский брак</td>\n",
       "      <td>1</td>\n",
       "      <td>F</td>\n",
       "      <td>компаньон</td>\n",
       "      <td>1</td>\n",
       "      <td>194820.19</td>\n",
       "      <td>сыграть свадьбу</td>\n",
       "    </tr>\n",
       "    <tr>\n",
       "      <th>10437</th>\n",
       "      <td>0</td>\n",
       "      <td>-2258.30</td>\n",
       "      <td>50</td>\n",
       "      <td>среднее</td>\n",
       "      <td>1</td>\n",
       "      <td>женат / замужем</td>\n",
       "      <td>0</td>\n",
       "      <td>F</td>\n",
       "      <td>сотрудник</td>\n",
       "      <td>0</td>\n",
       "      <td>146768.25</td>\n",
       "      <td>операции с коммерческой недвижимостью</td>\n",
       "    </tr>\n",
       "    <tr>\n",
       "      <th>9631</th>\n",
       "      <td>1</td>\n",
       "      <td>-1045.75</td>\n",
       "      <td>23</td>\n",
       "      <td>среднее</td>\n",
       "      <td>1</td>\n",
       "      <td>женат / замужем</td>\n",
       "      <td>0</td>\n",
       "      <td>M</td>\n",
       "      <td>сотрудник</td>\n",
       "      <td>0</td>\n",
       "      <td>81734.57</td>\n",
       "      <td>операции с коммерческой недвижимостью</td>\n",
       "    </tr>\n",
       "    <tr>\n",
       "      <th>19867</th>\n",
       "      <td>0</td>\n",
       "      <td>NaN</td>\n",
       "      <td>39</td>\n",
       "      <td>среднее</td>\n",
       "      <td>1</td>\n",
       "      <td>женат / замужем</td>\n",
       "      <td>0</td>\n",
       "      <td>M</td>\n",
       "      <td>сотрудник</td>\n",
       "      <td>0</td>\n",
       "      <td>NaN</td>\n",
       "      <td>дополнительное образование</td>\n",
       "    </tr>\n",
       "    <tr>\n",
       "      <th>9124</th>\n",
       "      <td>0</td>\n",
       "      <td>-282.19</td>\n",
       "      <td>48</td>\n",
       "      <td>среднее</td>\n",
       "      <td>1</td>\n",
       "      <td>в разводе</td>\n",
       "      <td>3</td>\n",
       "      <td>F</td>\n",
       "      <td>компаньон</td>\n",
       "      <td>0</td>\n",
       "      <td>284275.68</td>\n",
       "      <td>строительство жилой недвижимости</td>\n",
       "    </tr>\n",
       "    <tr>\n",
       "      <th>19634</th>\n",
       "      <td>0</td>\n",
       "      <td>-1320.10</td>\n",
       "      <td>46</td>\n",
       "      <td>среднее</td>\n",
       "      <td>1</td>\n",
       "      <td>женат / замужем</td>\n",
       "      <td>0</td>\n",
       "      <td>F</td>\n",
       "      <td>компаньон</td>\n",
       "      <td>0</td>\n",
       "      <td>184569.03</td>\n",
       "      <td>автомобили</td>\n",
       "    </tr>\n",
       "  </tbody>\n",
       "</table>\n",
       "</div>"
      ],
      "text/plain": [
       "       children  days_employed  dob_years education  education_id  \\\n",
       "1383          0      353802.81         37   среднее             1   \n",
       "300           1        -359.19         33   СРЕДНЕЕ             1   \n",
       "6565          2       -1064.85         35   среднее             1   \n",
       "17027         0            NaN         48    высшее             0   \n",
       "4077          0       -7059.10         45    высшее             0   \n",
       "10437         0       -2258.30         50   среднее             1   \n",
       "9631          1       -1045.75         23   среднее             1   \n",
       "19867         0            NaN         39   среднее             1   \n",
       "9124          0        -282.19         48   среднее             1   \n",
       "19634         0       -1320.10         46   среднее             1   \n",
       "\n",
       "          family_status  family_status_id gender income_type  debt  \\\n",
       "1383     вдовец / вдова                 2      F   пенсионер     0   \n",
       "300    гражданский брак                 1      M   сотрудник     0   \n",
       "6565   гражданский брак                 1      F   компаньон     0   \n",
       "17027  гражданский брак                 1      F   сотрудник     0   \n",
       "4077   гражданский брак                 1      F   компаньон     1   \n",
       "10437   женат / замужем                 0      F   сотрудник     0   \n",
       "9631    женат / замужем                 0      M   сотрудник     0   \n",
       "19867   женат / замужем                 0      M   сотрудник     0   \n",
       "9124          в разводе                 3      F   компаньон     0   \n",
       "19634   женат / замужем                 0      F   компаньон     0   \n",
       "\n",
       "       total_income                                purpose  \n",
       "1383      216452.23             строительство недвижимости  \n",
       "300       223001.62                  на проведение свадьбы  \n",
       "6565      163591.21                                свадьба  \n",
       "17027           NaN                      операции с жильем  \n",
       "4077      194820.19                        сыграть свадьбу  \n",
       "10437     146768.25  операции с коммерческой недвижимостью  \n",
       "9631       81734.57  операции с коммерческой недвижимостью  \n",
       "19867           NaN             дополнительное образование  \n",
       "9124      284275.68       строительство жилой недвижимости  \n",
       "19634     184569.03                             автомобили  "
      ]
     },
     "metadata": {},
     "output_type": "display_data"
    },
    {
     "name": "stdout",
     "output_type": "stream",
     "text": [
      "<class 'pandas.core.frame.DataFrame'>\n",
      "RangeIndex: 21525 entries, 0 to 21524\n",
      "Data columns (total 12 columns):\n",
      " #   Column            Non-Null Count  Dtype  \n",
      "---  ------            --------------  -----  \n",
      " 0   children          21525 non-null  int64  \n",
      " 1   days_employed     19351 non-null  float64\n",
      " 2   dob_years         21525 non-null  int64  \n",
      " 3   education         21525 non-null  object \n",
      " 4   education_id      21525 non-null  int64  \n",
      " 5   family_status     21525 non-null  object \n",
      " 6   family_status_id  21525 non-null  int64  \n",
      " 7   gender            21525 non-null  object \n",
      " 8   income_type       21525 non-null  object \n",
      " 9   debt              21525 non-null  int64  \n",
      " 10  total_income      19351 non-null  float64\n",
      " 11  purpose           21525 non-null  object \n",
      "dtypes: float64(2), int64(5), object(5)\n",
      "memory usage: 2.0+ MB\n",
      "Количество дубликатов - 54\n"
     ]
    },
    {
     "data": {
      "text/html": [
       "<div>\n",
       "<style scoped>\n",
       "    .dataframe tbody tr th:only-of-type {\n",
       "        vertical-align: middle;\n",
       "    }\n",
       "\n",
       "    .dataframe tbody tr th {\n",
       "        vertical-align: top;\n",
       "    }\n",
       "\n",
       "    .dataframe thead th {\n",
       "        text-align: right;\n",
       "    }\n",
       "</style>\n",
       "<table border=\"1\" class=\"dataframe\">\n",
       "  <thead>\n",
       "    <tr style=\"text-align: right;\">\n",
       "      <th></th>\n",
       "      <th>children</th>\n",
       "      <th>days_employed</th>\n",
       "      <th>dob_years</th>\n",
       "      <th>education_id</th>\n",
       "      <th>family_status_id</th>\n",
       "      <th>debt</th>\n",
       "      <th>total_income</th>\n",
       "    </tr>\n",
       "  </thead>\n",
       "  <tbody>\n",
       "    <tr>\n",
       "      <th>count</th>\n",
       "      <td>21525.00</td>\n",
       "      <td>19351.00</td>\n",
       "      <td>21525.00</td>\n",
       "      <td>21525.00</td>\n",
       "      <td>21525.00</td>\n",
       "      <td>21525.00</td>\n",
       "      <td>19351.00</td>\n",
       "    </tr>\n",
       "    <tr>\n",
       "      <th>mean</th>\n",
       "      <td>0.54</td>\n",
       "      <td>63046.50</td>\n",
       "      <td>43.29</td>\n",
       "      <td>0.82</td>\n",
       "      <td>0.97</td>\n",
       "      <td>0.08</td>\n",
       "      <td>167422.30</td>\n",
       "    </tr>\n",
       "    <tr>\n",
       "      <th>std</th>\n",
       "      <td>1.38</td>\n",
       "      <td>140827.31</td>\n",
       "      <td>12.57</td>\n",
       "      <td>0.55</td>\n",
       "      <td>1.42</td>\n",
       "      <td>0.27</td>\n",
       "      <td>102971.57</td>\n",
       "    </tr>\n",
       "    <tr>\n",
       "      <th>min</th>\n",
       "      <td>-1.00</td>\n",
       "      <td>-18388.95</td>\n",
       "      <td>0.00</td>\n",
       "      <td>0.00</td>\n",
       "      <td>0.00</td>\n",
       "      <td>0.00</td>\n",
       "      <td>20667.26</td>\n",
       "    </tr>\n",
       "    <tr>\n",
       "      <th>25%</th>\n",
       "      <td>0.00</td>\n",
       "      <td>-2747.42</td>\n",
       "      <td>33.00</td>\n",
       "      <td>1.00</td>\n",
       "      <td>0.00</td>\n",
       "      <td>0.00</td>\n",
       "      <td>103053.15</td>\n",
       "    </tr>\n",
       "    <tr>\n",
       "      <th>50%</th>\n",
       "      <td>0.00</td>\n",
       "      <td>-1203.37</td>\n",
       "      <td>42.00</td>\n",
       "      <td>1.00</td>\n",
       "      <td>0.00</td>\n",
       "      <td>0.00</td>\n",
       "      <td>145017.94</td>\n",
       "    </tr>\n",
       "    <tr>\n",
       "      <th>75%</th>\n",
       "      <td>1.00</td>\n",
       "      <td>-291.10</td>\n",
       "      <td>53.00</td>\n",
       "      <td>1.00</td>\n",
       "      <td>1.00</td>\n",
       "      <td>0.00</td>\n",
       "      <td>203435.07</td>\n",
       "    </tr>\n",
       "    <tr>\n",
       "      <th>max</th>\n",
       "      <td>20.00</td>\n",
       "      <td>401755.40</td>\n",
       "      <td>75.00</td>\n",
       "      <td>4.00</td>\n",
       "      <td>4.00</td>\n",
       "      <td>1.00</td>\n",
       "      <td>2265604.03</td>\n",
       "    </tr>\n",
       "  </tbody>\n",
       "</table>\n",
       "</div>"
      ],
      "text/plain": [
       "       children  days_employed  dob_years  education_id  family_status_id  \\\n",
       "count  21525.00       19351.00   21525.00      21525.00          21525.00   \n",
       "mean       0.54       63046.50      43.29          0.82              0.97   \n",
       "std        1.38      140827.31      12.57          0.55              1.42   \n",
       "min       -1.00      -18388.95       0.00          0.00              0.00   \n",
       "25%        0.00       -2747.42      33.00          1.00              0.00   \n",
       "50%        0.00       -1203.37      42.00          1.00              0.00   \n",
       "75%        1.00        -291.10      53.00          1.00              1.00   \n",
       "max       20.00      401755.40      75.00          4.00              4.00   \n",
       "\n",
       "          debt  total_income  \n",
       "count 21525.00      19351.00  \n",
       "mean      0.08     167422.30  \n",
       "std       0.27     102971.57  \n",
       "min       0.00      20667.26  \n",
       "25%       0.00     103053.15  \n",
       "50%       0.00     145017.94  \n",
       "75%       0.00     203435.07  \n",
       "max       1.00    2265604.03  "
      ]
     },
     "metadata": {},
     "output_type": "display_data"
    },
    {
     "data": {
      "text/plain": [
       " 0     14149\n",
       " 1      4818\n",
       " 2      2055\n",
       " 3       330\n",
       " 20       76\n",
       "-1        47\n",
       " 4        41\n",
       " 5         9\n",
       "Name: children, dtype: int64"
      ]
     },
     "metadata": {},
     "output_type": "display_data"
    },
    {
     "name": "stdout",
     "output_type": "stream",
     "text": [
      "**************************************************\n"
     ]
    },
    {
     "data": {
      "text/plain": [
       "-8437.67     1\n",
       "-3507.82     1\n",
       "354500.42    1\n",
       "-769.72      1\n",
       "-3963.59     1\n",
       "            ..\n",
       "-1099.96     1\n",
       "-209.98      1\n",
       "398099.39    1\n",
       "-1271.04     1\n",
       "-1984.51     1\n",
       "Name: days_employed, Length: 19351, dtype: int64"
      ]
     },
     "metadata": {},
     "output_type": "display_data"
    },
    {
     "name": "stdout",
     "output_type": "stream",
     "text": [
      "**************************************************\n"
     ]
    },
    {
     "data": {
      "text/plain": [
       "35    617\n",
       "40    609\n",
       "41    607\n",
       "34    603\n",
       "38    598\n",
       "42    597\n",
       "33    581\n",
       "39    573\n",
       "31    560\n",
       "36    555\n",
       "44    547\n",
       "29    545\n",
       "30    540\n",
       "48    538\n",
       "37    537\n",
       "50    514\n",
       "43    513\n",
       "32    510\n",
       "49    508\n",
       "28    503\n",
       "45    497\n",
       "27    493\n",
       "56    487\n",
       "52    484\n",
       "47    480\n",
       "54    479\n",
       "46    475\n",
       "58    461\n",
       "57    460\n",
       "53    459\n",
       "51    448\n",
       "59    444\n",
       "55    443\n",
       "26    408\n",
       "60    377\n",
       "25    357\n",
       "61    355\n",
       "62    352\n",
       "63    269\n",
       "64    265\n",
       "24    264\n",
       "23    254\n",
       "65    194\n",
       "22    183\n",
       "66    183\n",
       "67    167\n",
       "21    111\n",
       "0     101\n",
       "68     99\n",
       "69     85\n",
       "70     65\n",
       "71     58\n",
       "20     51\n",
       "72     33\n",
       "19     14\n",
       "73      8\n",
       "74      6\n",
       "75      1\n",
       "Name: dob_years, dtype: int64"
      ]
     },
     "metadata": {},
     "output_type": "display_data"
    },
    {
     "name": "stdout",
     "output_type": "stream",
     "text": [
      "**************************************************\n"
     ]
    },
    {
     "data": {
      "text/plain": [
       "среднее                13750\n",
       "высшее                  4718\n",
       "СРЕДНЕЕ                  772\n",
       "Среднее                  711\n",
       "неоконченное высшее      668\n",
       "ВЫСШЕЕ                   274\n",
       "Высшее                   268\n",
       "начальное                250\n",
       "Неоконченное высшее       47\n",
       "НЕОКОНЧЕННОЕ ВЫСШЕЕ       29\n",
       "НАЧАЛЬНОЕ                 17\n",
       "Начальное                 15\n",
       "ученая степень             4\n",
       "Ученая степень             1\n",
       "УЧЕНАЯ СТЕПЕНЬ             1\n",
       "Name: education, dtype: int64"
      ]
     },
     "metadata": {},
     "output_type": "display_data"
    },
    {
     "name": "stdout",
     "output_type": "stream",
     "text": [
      "**************************************************\n"
     ]
    },
    {
     "data": {
      "text/plain": [
       "1    15233\n",
       "0     5260\n",
       "2      744\n",
       "3      282\n",
       "4        6\n",
       "Name: education_id, dtype: int64"
      ]
     },
     "metadata": {},
     "output_type": "display_data"
    },
    {
     "name": "stdout",
     "output_type": "stream",
     "text": [
      "**************************************************\n"
     ]
    },
    {
     "data": {
      "text/plain": [
       "женат / замужем          12380\n",
       "гражданский брак          4177\n",
       "Не женат / не замужем     2813\n",
       "в разводе                 1195\n",
       "вдовец / вдова             960\n",
       "Name: family_status, dtype: int64"
      ]
     },
     "metadata": {},
     "output_type": "display_data"
    },
    {
     "name": "stdout",
     "output_type": "stream",
     "text": [
      "**************************************************\n"
     ]
    },
    {
     "data": {
      "text/plain": [
       "0    12380\n",
       "1     4177\n",
       "4     2813\n",
       "3     1195\n",
       "2      960\n",
       "Name: family_status_id, dtype: int64"
      ]
     },
     "metadata": {},
     "output_type": "display_data"
    },
    {
     "name": "stdout",
     "output_type": "stream",
     "text": [
      "**************************************************\n"
     ]
    },
    {
     "data": {
      "text/plain": [
       "F      14236\n",
       "M       7288\n",
       "XNA        1\n",
       "Name: gender, dtype: int64"
      ]
     },
     "metadata": {},
     "output_type": "display_data"
    },
    {
     "name": "stdout",
     "output_type": "stream",
     "text": [
      "**************************************************\n"
     ]
    },
    {
     "data": {
      "text/plain": [
       "сотрудник          11119\n",
       "компаньон           5085\n",
       "пенсионер           3856\n",
       "госслужащий         1459\n",
       "безработный            2\n",
       "предприниматель        2\n",
       "студент                1\n",
       "в декрете              1\n",
       "Name: income_type, dtype: int64"
      ]
     },
     "metadata": {},
     "output_type": "display_data"
    },
    {
     "name": "stdout",
     "output_type": "stream",
     "text": [
      "**************************************************\n"
     ]
    },
    {
     "data": {
      "text/plain": [
       "0    19784\n",
       "1     1741\n",
       "Name: debt, dtype: int64"
      ]
     },
     "metadata": {},
     "output_type": "display_data"
    },
    {
     "name": "stdout",
     "output_type": "stream",
     "text": [
      "**************************************************\n"
     ]
    },
    {
     "data": {
      "text/plain": [
       "253875.64    1\n",
       "157691.85    1\n",
       "70113.90     1\n",
       "116196.52    1\n",
       "157205.83    1\n",
       "            ..\n",
       "168880.59    1\n",
       "148042.72    1\n",
       "60039.33     1\n",
       "175979.76    1\n",
       "82047.42     1\n",
       "Name: total_income, Length: 19351, dtype: int64"
      ]
     },
     "metadata": {},
     "output_type": "display_data"
    },
    {
     "name": "stdout",
     "output_type": "stream",
     "text": [
      "**************************************************\n"
     ]
    },
    {
     "data": {
      "text/plain": [
       "свадьба                                   797\n",
       "на проведение свадьбы                     777\n",
       "сыграть свадьбу                           774\n",
       "операции с недвижимостью                  676\n",
       "покупка коммерческой недвижимости         664\n",
       "покупка жилья для сдачи                   653\n",
       "операции с жильем                         653\n",
       "операции с коммерческой недвижимостью     651\n",
       "покупка жилья                             647\n",
       "жилье                                     647\n",
       "покупка жилья для семьи                   641\n",
       "строительство собственной недвижимости    635\n",
       "недвижимость                              634\n",
       "операции со своей недвижимостью           630\n",
       "строительство жилой недвижимости          626\n",
       "покупка недвижимости                      624\n",
       "строительство недвижимости                620\n",
       "покупка своего жилья                      620\n",
       "ремонт жилью                              612\n",
       "покупка жилой недвижимости                607\n",
       "на покупку своего автомобиля              505\n",
       "заняться высшим образованием              496\n",
       "автомобиль                                495\n",
       "сделка с подержанным автомобилем          489\n",
       "свой автомобиль                           480\n",
       "на покупку подержанного автомобиля        479\n",
       "автомобили                                478\n",
       "на покупку автомобиля                     472\n",
       "дополнительное образование                462\n",
       "приобретение автомобиля                   462\n",
       "сделка с автомобилем                      455\n",
       "высшее образование                        453\n",
       "образование                               447\n",
       "получение дополнительного образования     447\n",
       "получение образования                     443\n",
       "профильное образование                    436\n",
       "получение высшего образования             426\n",
       "заняться образованием                     412\n",
       "Name: purpose, dtype: int64"
      ]
     },
     "metadata": {},
     "output_type": "display_data"
    },
    {
     "name": "stdout",
     "output_type": "stream",
     "text": [
      "**************************************************\n"
     ]
    },
    {
     "data": {
      "text/html": [
       "<div>\n",
       "<style scoped>\n",
       "    .dataframe tbody tr th:only-of-type {\n",
       "        vertical-align: middle;\n",
       "    }\n",
       "\n",
       "    .dataframe tbody tr th {\n",
       "        vertical-align: top;\n",
       "    }\n",
       "\n",
       "    .dataframe thead th {\n",
       "        text-align: right;\n",
       "    }\n",
       "</style>\n",
       "<table border=\"1\" class=\"dataframe\">\n",
       "  <thead>\n",
       "    <tr style=\"text-align: right;\">\n",
       "      <th></th>\n",
       "      <th>children</th>\n",
       "      <th>days_employed</th>\n",
       "      <th>dob_years</th>\n",
       "      <th>education</th>\n",
       "      <th>education_id</th>\n",
       "      <th>family_status</th>\n",
       "      <th>family_status_id</th>\n",
       "      <th>gender</th>\n",
       "      <th>income_type</th>\n",
       "      <th>debt</th>\n",
       "      <th>total_income</th>\n",
       "      <th>purpose</th>\n",
       "    </tr>\n",
       "  </thead>\n",
       "  <tbody>\n",
       "    <tr>\n",
       "      <th>0</th>\n",
       "      <td>1</td>\n",
       "      <td>-8437.67</td>\n",
       "      <td>42</td>\n",
       "      <td>высшее</td>\n",
       "      <td>0</td>\n",
       "      <td>женат / замужем</td>\n",
       "      <td>0</td>\n",
       "      <td>F</td>\n",
       "      <td>сотрудник</td>\n",
       "      <td>0</td>\n",
       "      <td>253875.64</td>\n",
       "      <td>покупка жилья</td>\n",
       "    </tr>\n",
       "    <tr>\n",
       "      <th>1</th>\n",
       "      <td>1</td>\n",
       "      <td>-4024.80</td>\n",
       "      <td>36</td>\n",
       "      <td>среднее</td>\n",
       "      <td>1</td>\n",
       "      <td>женат / замужем</td>\n",
       "      <td>0</td>\n",
       "      <td>F</td>\n",
       "      <td>сотрудник</td>\n",
       "      <td>0</td>\n",
       "      <td>112080.01</td>\n",
       "      <td>приобретение автомобиля</td>\n",
       "    </tr>\n",
       "    <tr>\n",
       "      <th>2</th>\n",
       "      <td>0</td>\n",
       "      <td>-5623.42</td>\n",
       "      <td>33</td>\n",
       "      <td>Среднее</td>\n",
       "      <td>1</td>\n",
       "      <td>женат / замужем</td>\n",
       "      <td>0</td>\n",
       "      <td>M</td>\n",
       "      <td>сотрудник</td>\n",
       "      <td>0</td>\n",
       "      <td>145885.95</td>\n",
       "      <td>покупка жилья</td>\n",
       "    </tr>\n",
       "    <tr>\n",
       "      <th>3</th>\n",
       "      <td>3</td>\n",
       "      <td>-4124.75</td>\n",
       "      <td>32</td>\n",
       "      <td>среднее</td>\n",
       "      <td>1</td>\n",
       "      <td>женат / замужем</td>\n",
       "      <td>0</td>\n",
       "      <td>M</td>\n",
       "      <td>сотрудник</td>\n",
       "      <td>0</td>\n",
       "      <td>267628.55</td>\n",
       "      <td>дополнительное образование</td>\n",
       "    </tr>\n",
       "    <tr>\n",
       "      <th>4</th>\n",
       "      <td>0</td>\n",
       "      <td>340266.07</td>\n",
       "      <td>53</td>\n",
       "      <td>среднее</td>\n",
       "      <td>1</td>\n",
       "      <td>гражданский брак</td>\n",
       "      <td>1</td>\n",
       "      <td>F</td>\n",
       "      <td>пенсионер</td>\n",
       "      <td>0</td>\n",
       "      <td>158616.08</td>\n",
       "      <td>сыграть свадьбу</td>\n",
       "    </tr>\n",
       "    <tr>\n",
       "      <th>...</th>\n",
       "      <td>...</td>\n",
       "      <td>...</td>\n",
       "      <td>...</td>\n",
       "      <td>...</td>\n",
       "      <td>...</td>\n",
       "      <td>...</td>\n",
       "      <td>...</td>\n",
       "      <td>...</td>\n",
       "      <td>...</td>\n",
       "      <td>...</td>\n",
       "      <td>...</td>\n",
       "      <td>...</td>\n",
       "    </tr>\n",
       "    <tr>\n",
       "      <th>21520</th>\n",
       "      <td>1</td>\n",
       "      <td>-4529.32</td>\n",
       "      <td>43</td>\n",
       "      <td>среднее</td>\n",
       "      <td>1</td>\n",
       "      <td>гражданский брак</td>\n",
       "      <td>1</td>\n",
       "      <td>F</td>\n",
       "      <td>компаньон</td>\n",
       "      <td>0</td>\n",
       "      <td>224791.86</td>\n",
       "      <td>операции с жильем</td>\n",
       "    </tr>\n",
       "    <tr>\n",
       "      <th>21521</th>\n",
       "      <td>0</td>\n",
       "      <td>343937.40</td>\n",
       "      <td>67</td>\n",
       "      <td>среднее</td>\n",
       "      <td>1</td>\n",
       "      <td>женат / замужем</td>\n",
       "      <td>0</td>\n",
       "      <td>F</td>\n",
       "      <td>пенсионер</td>\n",
       "      <td>0</td>\n",
       "      <td>155999.81</td>\n",
       "      <td>сделка с автомобилем</td>\n",
       "    </tr>\n",
       "    <tr>\n",
       "      <th>21522</th>\n",
       "      <td>1</td>\n",
       "      <td>-2113.35</td>\n",
       "      <td>38</td>\n",
       "      <td>среднее</td>\n",
       "      <td>1</td>\n",
       "      <td>гражданский брак</td>\n",
       "      <td>1</td>\n",
       "      <td>M</td>\n",
       "      <td>сотрудник</td>\n",
       "      <td>1</td>\n",
       "      <td>89672.56</td>\n",
       "      <td>недвижимость</td>\n",
       "    </tr>\n",
       "    <tr>\n",
       "      <th>21523</th>\n",
       "      <td>3</td>\n",
       "      <td>-3112.48</td>\n",
       "      <td>38</td>\n",
       "      <td>среднее</td>\n",
       "      <td>1</td>\n",
       "      <td>женат / замужем</td>\n",
       "      <td>0</td>\n",
       "      <td>M</td>\n",
       "      <td>сотрудник</td>\n",
       "      <td>1</td>\n",
       "      <td>244093.05</td>\n",
       "      <td>на покупку своего автомобиля</td>\n",
       "    </tr>\n",
       "    <tr>\n",
       "      <th>21524</th>\n",
       "      <td>2</td>\n",
       "      <td>-1984.51</td>\n",
       "      <td>40</td>\n",
       "      <td>среднее</td>\n",
       "      <td>1</td>\n",
       "      <td>женат / замужем</td>\n",
       "      <td>0</td>\n",
       "      <td>F</td>\n",
       "      <td>сотрудник</td>\n",
       "      <td>0</td>\n",
       "      <td>82047.42</td>\n",
       "      <td>на покупку автомобиля</td>\n",
       "    </tr>\n",
       "  </tbody>\n",
       "</table>\n",
       "<p>21525 rows × 12 columns</p>\n",
       "</div>"
      ],
      "text/plain": [
       "       children  days_employed  dob_years education  education_id  \\\n",
       "0             1       -8437.67         42    высшее             0   \n",
       "1             1       -4024.80         36   среднее             1   \n",
       "2             0       -5623.42         33   Среднее             1   \n",
       "3             3       -4124.75         32   среднее             1   \n",
       "4             0      340266.07         53   среднее             1   \n",
       "...         ...            ...        ...       ...           ...   \n",
       "21520         1       -4529.32         43   среднее             1   \n",
       "21521         0      343937.40         67   среднее             1   \n",
       "21522         1       -2113.35         38   среднее             1   \n",
       "21523         3       -3112.48         38   среднее             1   \n",
       "21524         2       -1984.51         40   среднее             1   \n",
       "\n",
       "          family_status  family_status_id gender income_type  debt  \\\n",
       "0       женат / замужем                 0      F   сотрудник     0   \n",
       "1       женат / замужем                 0      F   сотрудник     0   \n",
       "2       женат / замужем                 0      M   сотрудник     0   \n",
       "3       женат / замужем                 0      M   сотрудник     0   \n",
       "4      гражданский брак                 1      F   пенсионер     0   \n",
       "...                 ...               ...    ...         ...   ...   \n",
       "21520  гражданский брак                 1      F   компаньон     0   \n",
       "21521   женат / замужем                 0      F   пенсионер     0   \n",
       "21522  гражданский брак                 1      M   сотрудник     1   \n",
       "21523   женат / замужем                 0      M   сотрудник     1   \n",
       "21524   женат / замужем                 0      F   сотрудник     0   \n",
       "\n",
       "       total_income                       purpose  \n",
       "0         253875.64                 покупка жилья  \n",
       "1         112080.01       приобретение автомобиля  \n",
       "2         145885.95                 покупка жилья  \n",
       "3         267628.55    дополнительное образование  \n",
       "4         158616.08               сыграть свадьбу  \n",
       "...             ...                           ...  \n",
       "21520     224791.86             операции с жильем  \n",
       "21521     155999.81          сделка с автомобилем  \n",
       "21522      89672.56                  недвижимость  \n",
       "21523     244093.05  на покупку своего автомобиля  \n",
       "21524      82047.42         на покупку автомобиля  \n",
       "\n",
       "[21525 rows x 12 columns]"
      ]
     },
     "execution_count": 5,
     "metadata": {},
     "output_type": "execute_result"
    }
   ],
   "source": [
    "# Дополнительно посмотрим на данные таблицы.\n",
    "inspect(df)"
   ]
  },
  {
   "cell_type": "markdown",
   "metadata": {},
   "source": [
    "**Вывод**"
   ]
  },
  {
   "cell_type": "markdown",
   "metadata": {},
   "source": [
    "В таблице 21525 строк.  \n",
    "В столбцах days_employed и total_income есть пропуски. Пропуски более, чем у 10% данных. Удаление этих данных может повлиять на итоги исследования. Поэтому пропуски будут заполняться вручную. \n",
    "\n",
    "\n",
    "Столбцы с категориальными переменными: education, education_id, family_status, family_status_id, gender, income_type, debt, purpose.  \n",
    "Столбцы с количественными переменными: children, days_employed, dob_years, total_income.\n",
    "\n",
    "Пропуски данных в столбцах days_employed (общий трудовой стаж в днях) и в total_income (ежемесячный доход). Так как значения переменных этих столбцов количественные, пропуски будут заполняться характерными значениями.  \n",
    "\n",
    "Просмотр данных таблицы позволил увидеть ошибки заполнения данных. Столбец days_employed имеет отрицательные значения.  \n",
    "По первым 20 строкам можно предположить, что отрицательные значения могут быть связаны со столбцом income_type. Значения отрицательные у всех категорий заемщиков, кроме пенсионеров. Возможно, знак минус имеет смыслоразличительное значение в данном случае.   \n",
    "\n",
    "В данных 54 дубликата.  \n",
    "\n",
    "Так как  для решения поставленной задачи стаж работы заемщиков не требуется, указанные выше гипотезы в данный момент проверяться не будут. Но заполним и эти пропуски данными для будущих исследований.  "
   ]
  },
  {
   "cell_type": "markdown",
   "metadata": {},
   "source": [
    "## Предобработка данных"
   ]
  },
  {
   "cell_type": "markdown",
   "metadata": {},
   "source": [
    "### Обработка пропусков"
   ]
  },
  {
   "cell_type": "code",
   "execution_count": 6,
   "metadata": {},
   "outputs": [
    {
     "data": {
      "text/html": [
       "<div>\n",
       "<style scoped>\n",
       "    .dataframe tbody tr th:only-of-type {\n",
       "        vertical-align: middle;\n",
       "    }\n",
       "\n",
       "    .dataframe tbody tr th {\n",
       "        vertical-align: top;\n",
       "    }\n",
       "\n",
       "    .dataframe thead th {\n",
       "        text-align: right;\n",
       "    }\n",
       "</style>\n",
       "<table border=\"1\" class=\"dataframe\">\n",
       "  <thead>\n",
       "    <tr style=\"text-align: right;\">\n",
       "      <th></th>\n",
       "      <th>children</th>\n",
       "      <th>days_employed</th>\n",
       "      <th>dob_years</th>\n",
       "      <th>education</th>\n",
       "      <th>education_id</th>\n",
       "      <th>family_status</th>\n",
       "      <th>family_status_id</th>\n",
       "      <th>gender</th>\n",
       "      <th>income_type</th>\n",
       "      <th>debt</th>\n",
       "      <th>total_income</th>\n",
       "      <th>purpose</th>\n",
       "    </tr>\n",
       "  </thead>\n",
       "  <tbody>\n",
       "    <tr>\n",
       "      <th>12</th>\n",
       "      <td>0</td>\n",
       "      <td>NaN</td>\n",
       "      <td>65</td>\n",
       "      <td>среднее</td>\n",
       "      <td>1</td>\n",
       "      <td>гражданский брак</td>\n",
       "      <td>1</td>\n",
       "      <td>M</td>\n",
       "      <td>пенсионер</td>\n",
       "      <td>0</td>\n",
       "      <td>NaN</td>\n",
       "      <td>сыграть свадьбу</td>\n",
       "    </tr>\n",
       "    <tr>\n",
       "      <th>26</th>\n",
       "      <td>0</td>\n",
       "      <td>NaN</td>\n",
       "      <td>41</td>\n",
       "      <td>среднее</td>\n",
       "      <td>1</td>\n",
       "      <td>женат / замужем</td>\n",
       "      <td>0</td>\n",
       "      <td>M</td>\n",
       "      <td>госслужащий</td>\n",
       "      <td>0</td>\n",
       "      <td>NaN</td>\n",
       "      <td>образование</td>\n",
       "    </tr>\n",
       "    <tr>\n",
       "      <th>29</th>\n",
       "      <td>0</td>\n",
       "      <td>NaN</td>\n",
       "      <td>63</td>\n",
       "      <td>среднее</td>\n",
       "      <td>1</td>\n",
       "      <td>Не женат / не замужем</td>\n",
       "      <td>4</td>\n",
       "      <td>F</td>\n",
       "      <td>пенсионер</td>\n",
       "      <td>0</td>\n",
       "      <td>NaN</td>\n",
       "      <td>строительство жилой недвижимости</td>\n",
       "    </tr>\n",
       "    <tr>\n",
       "      <th>41</th>\n",
       "      <td>0</td>\n",
       "      <td>NaN</td>\n",
       "      <td>50</td>\n",
       "      <td>среднее</td>\n",
       "      <td>1</td>\n",
       "      <td>женат / замужем</td>\n",
       "      <td>0</td>\n",
       "      <td>F</td>\n",
       "      <td>госслужащий</td>\n",
       "      <td>0</td>\n",
       "      <td>NaN</td>\n",
       "      <td>сделка с подержанным автомобилем</td>\n",
       "    </tr>\n",
       "    <tr>\n",
       "      <th>55</th>\n",
       "      <td>0</td>\n",
       "      <td>NaN</td>\n",
       "      <td>54</td>\n",
       "      <td>среднее</td>\n",
       "      <td>1</td>\n",
       "      <td>гражданский брак</td>\n",
       "      <td>1</td>\n",
       "      <td>F</td>\n",
       "      <td>пенсионер</td>\n",
       "      <td>1</td>\n",
       "      <td>NaN</td>\n",
       "      <td>сыграть свадьбу</td>\n",
       "    </tr>\n",
       "    <tr>\n",
       "      <th>...</th>\n",
       "      <td>...</td>\n",
       "      <td>...</td>\n",
       "      <td>...</td>\n",
       "      <td>...</td>\n",
       "      <td>...</td>\n",
       "      <td>...</td>\n",
       "      <td>...</td>\n",
       "      <td>...</td>\n",
       "      <td>...</td>\n",
       "      <td>...</td>\n",
       "      <td>...</td>\n",
       "      <td>...</td>\n",
       "    </tr>\n",
       "    <tr>\n",
       "      <th>21489</th>\n",
       "      <td>2</td>\n",
       "      <td>NaN</td>\n",
       "      <td>47</td>\n",
       "      <td>Среднее</td>\n",
       "      <td>1</td>\n",
       "      <td>женат / замужем</td>\n",
       "      <td>0</td>\n",
       "      <td>M</td>\n",
       "      <td>компаньон</td>\n",
       "      <td>0</td>\n",
       "      <td>NaN</td>\n",
       "      <td>сделка с автомобилем</td>\n",
       "    </tr>\n",
       "    <tr>\n",
       "      <th>21495</th>\n",
       "      <td>1</td>\n",
       "      <td>NaN</td>\n",
       "      <td>50</td>\n",
       "      <td>среднее</td>\n",
       "      <td>1</td>\n",
       "      <td>гражданский брак</td>\n",
       "      <td>1</td>\n",
       "      <td>F</td>\n",
       "      <td>сотрудник</td>\n",
       "      <td>0</td>\n",
       "      <td>NaN</td>\n",
       "      <td>свадьба</td>\n",
       "    </tr>\n",
       "    <tr>\n",
       "      <th>21497</th>\n",
       "      <td>0</td>\n",
       "      <td>NaN</td>\n",
       "      <td>48</td>\n",
       "      <td>ВЫСШЕЕ</td>\n",
       "      <td>0</td>\n",
       "      <td>женат / замужем</td>\n",
       "      <td>0</td>\n",
       "      <td>F</td>\n",
       "      <td>компаньон</td>\n",
       "      <td>0</td>\n",
       "      <td>NaN</td>\n",
       "      <td>строительство недвижимости</td>\n",
       "    </tr>\n",
       "    <tr>\n",
       "      <th>21502</th>\n",
       "      <td>1</td>\n",
       "      <td>NaN</td>\n",
       "      <td>42</td>\n",
       "      <td>среднее</td>\n",
       "      <td>1</td>\n",
       "      <td>женат / замужем</td>\n",
       "      <td>0</td>\n",
       "      <td>F</td>\n",
       "      <td>сотрудник</td>\n",
       "      <td>0</td>\n",
       "      <td>NaN</td>\n",
       "      <td>строительство жилой недвижимости</td>\n",
       "    </tr>\n",
       "    <tr>\n",
       "      <th>21510</th>\n",
       "      <td>2</td>\n",
       "      <td>NaN</td>\n",
       "      <td>28</td>\n",
       "      <td>среднее</td>\n",
       "      <td>1</td>\n",
       "      <td>женат / замужем</td>\n",
       "      <td>0</td>\n",
       "      <td>F</td>\n",
       "      <td>сотрудник</td>\n",
       "      <td>0</td>\n",
       "      <td>NaN</td>\n",
       "      <td>приобретение автомобиля</td>\n",
       "    </tr>\n",
       "  </tbody>\n",
       "</table>\n",
       "<p>2174 rows × 12 columns</p>\n",
       "</div>"
      ],
      "text/plain": [
       "       children  days_employed  dob_years education  education_id  \\\n",
       "12            0            NaN         65   среднее             1   \n",
       "26            0            NaN         41   среднее             1   \n",
       "29            0            NaN         63   среднее             1   \n",
       "41            0            NaN         50   среднее             1   \n",
       "55            0            NaN         54   среднее             1   \n",
       "...         ...            ...        ...       ...           ...   \n",
       "21489         2            NaN         47   Среднее             1   \n",
       "21495         1            NaN         50   среднее             1   \n",
       "21497         0            NaN         48    ВЫСШЕЕ             0   \n",
       "21502         1            NaN         42   среднее             1   \n",
       "21510         2            NaN         28   среднее             1   \n",
       "\n",
       "               family_status  family_status_id gender  income_type  debt  \\\n",
       "12          гражданский брак                 1      M    пенсионер     0   \n",
       "26           женат / замужем                 0      M  госслужащий     0   \n",
       "29     Не женат / не замужем                 4      F    пенсионер     0   \n",
       "41           женат / замужем                 0      F  госслужащий     0   \n",
       "55          гражданский брак                 1      F    пенсионер     1   \n",
       "...                      ...               ...    ...          ...   ...   \n",
       "21489        женат / замужем                 0      M    компаньон     0   \n",
       "21495       гражданский брак                 1      F    сотрудник     0   \n",
       "21497        женат / замужем                 0      F    компаньон     0   \n",
       "21502        женат / замужем                 0      F    сотрудник     0   \n",
       "21510        женат / замужем                 0      F    сотрудник     0   \n",
       "\n",
       "       total_income                           purpose  \n",
       "12              NaN                   сыграть свадьбу  \n",
       "26              NaN                       образование  \n",
       "29              NaN  строительство жилой недвижимости  \n",
       "41              NaN  сделка с подержанным автомобилем  \n",
       "55              NaN                   сыграть свадьбу  \n",
       "...             ...                               ...  \n",
       "21489           NaN              сделка с автомобилем  \n",
       "21495           NaN                           свадьба  \n",
       "21497           NaN        строительство недвижимости  \n",
       "21502           NaN  строительство жилой недвижимости  \n",
       "21510           NaN           приобретение автомобиля  \n",
       "\n",
       "[2174 rows x 12 columns]"
      ]
     },
     "execution_count": 6,
     "metadata": {},
     "output_type": "execute_result"
    }
   ],
   "source": [
    "# Проверим строки с пропусками в столбце days_employed\n",
    "df[df['days_employed'].isna()]"
   ]
  },
  {
   "cell_type": "markdown",
   "metadata": {},
   "source": [
    "После проверки пустых значений в столбце days_employed появилось предположение, что пропуски в столбцах total_income и days_employed будут у одних и тех же строк.  \n",
    "Проверим это."
   ]
  },
  {
   "cell_type": "code",
   "execution_count": 7,
   "metadata": {},
   "outputs": [
    {
     "data": {
      "text/html": [
       "<div>\n",
       "<style scoped>\n",
       "    .dataframe tbody tr th:only-of-type {\n",
       "        vertical-align: middle;\n",
       "    }\n",
       "\n",
       "    .dataframe tbody tr th {\n",
       "        vertical-align: top;\n",
       "    }\n",
       "\n",
       "    .dataframe thead th {\n",
       "        text-align: right;\n",
       "    }\n",
       "</style>\n",
       "<table border=\"1\" class=\"dataframe\">\n",
       "  <thead>\n",
       "    <tr style=\"text-align: right;\">\n",
       "      <th></th>\n",
       "      <th>children</th>\n",
       "      <th>days_employed</th>\n",
       "      <th>dob_years</th>\n",
       "      <th>education</th>\n",
       "      <th>education_id</th>\n",
       "      <th>family_status</th>\n",
       "      <th>family_status_id</th>\n",
       "      <th>gender</th>\n",
       "      <th>income_type</th>\n",
       "      <th>debt</th>\n",
       "      <th>total_income</th>\n",
       "      <th>purpose</th>\n",
       "    </tr>\n",
       "  </thead>\n",
       "  <tbody>\n",
       "    <tr>\n",
       "      <th>12</th>\n",
       "      <td>0</td>\n",
       "      <td>NaN</td>\n",
       "      <td>65</td>\n",
       "      <td>среднее</td>\n",
       "      <td>1</td>\n",
       "      <td>гражданский брак</td>\n",
       "      <td>1</td>\n",
       "      <td>M</td>\n",
       "      <td>пенсионер</td>\n",
       "      <td>0</td>\n",
       "      <td>NaN</td>\n",
       "      <td>сыграть свадьбу</td>\n",
       "    </tr>\n",
       "    <tr>\n",
       "      <th>26</th>\n",
       "      <td>0</td>\n",
       "      <td>NaN</td>\n",
       "      <td>41</td>\n",
       "      <td>среднее</td>\n",
       "      <td>1</td>\n",
       "      <td>женат / замужем</td>\n",
       "      <td>0</td>\n",
       "      <td>M</td>\n",
       "      <td>госслужащий</td>\n",
       "      <td>0</td>\n",
       "      <td>NaN</td>\n",
       "      <td>образование</td>\n",
       "    </tr>\n",
       "    <tr>\n",
       "      <th>29</th>\n",
       "      <td>0</td>\n",
       "      <td>NaN</td>\n",
       "      <td>63</td>\n",
       "      <td>среднее</td>\n",
       "      <td>1</td>\n",
       "      <td>Не женат / не замужем</td>\n",
       "      <td>4</td>\n",
       "      <td>F</td>\n",
       "      <td>пенсионер</td>\n",
       "      <td>0</td>\n",
       "      <td>NaN</td>\n",
       "      <td>строительство жилой недвижимости</td>\n",
       "    </tr>\n",
       "    <tr>\n",
       "      <th>41</th>\n",
       "      <td>0</td>\n",
       "      <td>NaN</td>\n",
       "      <td>50</td>\n",
       "      <td>среднее</td>\n",
       "      <td>1</td>\n",
       "      <td>женат / замужем</td>\n",
       "      <td>0</td>\n",
       "      <td>F</td>\n",
       "      <td>госслужащий</td>\n",
       "      <td>0</td>\n",
       "      <td>NaN</td>\n",
       "      <td>сделка с подержанным автомобилем</td>\n",
       "    </tr>\n",
       "    <tr>\n",
       "      <th>55</th>\n",
       "      <td>0</td>\n",
       "      <td>NaN</td>\n",
       "      <td>54</td>\n",
       "      <td>среднее</td>\n",
       "      <td>1</td>\n",
       "      <td>гражданский брак</td>\n",
       "      <td>1</td>\n",
       "      <td>F</td>\n",
       "      <td>пенсионер</td>\n",
       "      <td>1</td>\n",
       "      <td>NaN</td>\n",
       "      <td>сыграть свадьбу</td>\n",
       "    </tr>\n",
       "    <tr>\n",
       "      <th>...</th>\n",
       "      <td>...</td>\n",
       "      <td>...</td>\n",
       "      <td>...</td>\n",
       "      <td>...</td>\n",
       "      <td>...</td>\n",
       "      <td>...</td>\n",
       "      <td>...</td>\n",
       "      <td>...</td>\n",
       "      <td>...</td>\n",
       "      <td>...</td>\n",
       "      <td>...</td>\n",
       "      <td>...</td>\n",
       "    </tr>\n",
       "    <tr>\n",
       "      <th>21489</th>\n",
       "      <td>2</td>\n",
       "      <td>NaN</td>\n",
       "      <td>47</td>\n",
       "      <td>Среднее</td>\n",
       "      <td>1</td>\n",
       "      <td>женат / замужем</td>\n",
       "      <td>0</td>\n",
       "      <td>M</td>\n",
       "      <td>компаньон</td>\n",
       "      <td>0</td>\n",
       "      <td>NaN</td>\n",
       "      <td>сделка с автомобилем</td>\n",
       "    </tr>\n",
       "    <tr>\n",
       "      <th>21495</th>\n",
       "      <td>1</td>\n",
       "      <td>NaN</td>\n",
       "      <td>50</td>\n",
       "      <td>среднее</td>\n",
       "      <td>1</td>\n",
       "      <td>гражданский брак</td>\n",
       "      <td>1</td>\n",
       "      <td>F</td>\n",
       "      <td>сотрудник</td>\n",
       "      <td>0</td>\n",
       "      <td>NaN</td>\n",
       "      <td>свадьба</td>\n",
       "    </tr>\n",
       "    <tr>\n",
       "      <th>21497</th>\n",
       "      <td>0</td>\n",
       "      <td>NaN</td>\n",
       "      <td>48</td>\n",
       "      <td>ВЫСШЕЕ</td>\n",
       "      <td>0</td>\n",
       "      <td>женат / замужем</td>\n",
       "      <td>0</td>\n",
       "      <td>F</td>\n",
       "      <td>компаньон</td>\n",
       "      <td>0</td>\n",
       "      <td>NaN</td>\n",
       "      <td>строительство недвижимости</td>\n",
       "    </tr>\n",
       "    <tr>\n",
       "      <th>21502</th>\n",
       "      <td>1</td>\n",
       "      <td>NaN</td>\n",
       "      <td>42</td>\n",
       "      <td>среднее</td>\n",
       "      <td>1</td>\n",
       "      <td>женат / замужем</td>\n",
       "      <td>0</td>\n",
       "      <td>F</td>\n",
       "      <td>сотрудник</td>\n",
       "      <td>0</td>\n",
       "      <td>NaN</td>\n",
       "      <td>строительство жилой недвижимости</td>\n",
       "    </tr>\n",
       "    <tr>\n",
       "      <th>21510</th>\n",
       "      <td>2</td>\n",
       "      <td>NaN</td>\n",
       "      <td>28</td>\n",
       "      <td>среднее</td>\n",
       "      <td>1</td>\n",
       "      <td>женат / замужем</td>\n",
       "      <td>0</td>\n",
       "      <td>F</td>\n",
       "      <td>сотрудник</td>\n",
       "      <td>0</td>\n",
       "      <td>NaN</td>\n",
       "      <td>приобретение автомобиля</td>\n",
       "    </tr>\n",
       "  </tbody>\n",
       "</table>\n",
       "<p>2174 rows × 12 columns</p>\n",
       "</div>"
      ],
      "text/plain": [
       "       children  days_employed  dob_years education  education_id  \\\n",
       "12            0            NaN         65   среднее             1   \n",
       "26            0            NaN         41   среднее             1   \n",
       "29            0            NaN         63   среднее             1   \n",
       "41            0            NaN         50   среднее             1   \n",
       "55            0            NaN         54   среднее             1   \n",
       "...         ...            ...        ...       ...           ...   \n",
       "21489         2            NaN         47   Среднее             1   \n",
       "21495         1            NaN         50   среднее             1   \n",
       "21497         0            NaN         48    ВЫСШЕЕ             0   \n",
       "21502         1            NaN         42   среднее             1   \n",
       "21510         2            NaN         28   среднее             1   \n",
       "\n",
       "               family_status  family_status_id gender  income_type  debt  \\\n",
       "12          гражданский брак                 1      M    пенсионер     0   \n",
       "26           женат / замужем                 0      M  госслужащий     0   \n",
       "29     Не женат / не замужем                 4      F    пенсионер     0   \n",
       "41           женат / замужем                 0      F  госслужащий     0   \n",
       "55          гражданский брак                 1      F    пенсионер     1   \n",
       "...                      ...               ...    ...          ...   ...   \n",
       "21489        женат / замужем                 0      M    компаньон     0   \n",
       "21495       гражданский брак                 1      F    сотрудник     0   \n",
       "21497        женат / замужем                 0      F    компаньон     0   \n",
       "21502        женат / замужем                 0      F    сотрудник     0   \n",
       "21510        женат / замужем                 0      F    сотрудник     0   \n",
       "\n",
       "       total_income                           purpose  \n",
       "12              NaN                   сыграть свадьбу  \n",
       "26              NaN                       образование  \n",
       "29              NaN  строительство жилой недвижимости  \n",
       "41              NaN  сделка с подержанным автомобилем  \n",
       "55              NaN                   сыграть свадьбу  \n",
       "...             ...                               ...  \n",
       "21489           NaN              сделка с автомобилем  \n",
       "21495           NaN                           свадьба  \n",
       "21497           NaN        строительство недвижимости  \n",
       "21502           NaN  строительство жилой недвижимости  \n",
       "21510           NaN           приобретение автомобиля  \n",
       "\n",
       "[2174 rows x 12 columns]"
      ]
     },
     "execution_count": 7,
     "metadata": {},
     "output_type": "execute_result"
    }
   ],
   "source": [
    "df[(df['days_employed'].isna()) & (df['total_income'].isna())]"
   ]
  },
  {
   "cell_type": "markdown",
   "metadata": {},
   "source": [
    "Предположение оказалось верным. Всего, по полученным в самом начале данным, пропусков 2174, в полученном массиве их также 2174.  \n",
    "Заполним пропуски в столбце трудового стажа (столбец days_employed).  \n",
    "Медиана будет использоваться для того, чтобы избежать неточностей метода расчета среднего арифметического\n",
    "в ситуациях, когда в данных есть слишком маленькие или слишком большие значения, которые могут повлиять на результат."
   ]
  },
  {
   "cell_type": "code",
   "execution_count": 8,
   "metadata": {},
   "outputs": [
    {
     "data": {
      "text/html": [
       "<div>\n",
       "<style scoped>\n",
       "    .dataframe tbody tr th:only-of-type {\n",
       "        vertical-align: middle;\n",
       "    }\n",
       "\n",
       "    .dataframe tbody tr th {\n",
       "        vertical-align: top;\n",
       "    }\n",
       "\n",
       "    .dataframe thead th {\n",
       "        text-align: right;\n",
       "    }\n",
       "</style>\n",
       "<table border=\"1\" class=\"dataframe\">\n",
       "  <thead>\n",
       "    <tr style=\"text-align: right;\">\n",
       "      <th></th>\n",
       "      <th>children</th>\n",
       "      <th>days_employed</th>\n",
       "      <th>dob_years</th>\n",
       "      <th>education</th>\n",
       "      <th>education_id</th>\n",
       "      <th>family_status</th>\n",
       "      <th>family_status_id</th>\n",
       "      <th>gender</th>\n",
       "      <th>income_type</th>\n",
       "      <th>debt</th>\n",
       "      <th>total_income</th>\n",
       "      <th>purpose</th>\n",
       "    </tr>\n",
       "  </thead>\n",
       "  <tbody>\n",
       "  </tbody>\n",
       "</table>\n",
       "</div>"
      ],
      "text/plain": [
       "Empty DataFrame\n",
       "Columns: [children, days_employed, dob_years, education, education_id, family_status, family_status_id, gender, income_type, debt, total_income, purpose]\n",
       "Index: []"
      ]
     },
     "execution_count": 8,
     "metadata": {},
     "output_type": "execute_result"
    }
   ],
   "source": [
    "# Создаем массив с индексами строк с пустыми значениями для замены значений циклом \n",
    "df_nan_rows = df[df['days_employed'].isna()].index\n",
    "\n",
    "# Создаем массив с уникальными значениями возраста для заполнения пропущенных значений возраста циклом.\n",
    "unique_dob_years = df['dob_years'].unique()\n",
    "\n",
    "# Заполняем пропуски (решил делать циклом, а не через .fillna(), т.к. при замене пропусков в столбце с доходом \n",
    "#цикл будет нагладнее, хоть и занимать больше времени для обработки):\n",
    "for row in df_nan_rows:\n",
    "    for year in unique_dob_years:\n",
    "        if df.loc[row, 'dob_years'] == year:\n",
    "            df.loc[row, 'days_employed'] = df[df['dob_years'] == year]['days_employed'].median()\n",
    "\n",
    "# Проверяем массив на наличие пустых значений в столбце days_employed:\n",
    "df[df['days_employed'].isna()]"
   ]
  },
  {
   "cell_type": "markdown",
   "metadata": {},
   "source": [
    "Пустых значений не осталось.   \n",
    "\n",
    "Недостающую информацию о доходах будем также заполнять медианными значениями.  \n",
    "Расчет медианных значений для определения дохода каждого конкретного заемщика будем брать исходя из количества детей, образования и типа занятости."
   ]
  },
  {
   "cell_type": "code",
   "execution_count": 9,
   "metadata": {
    "scrolled": true
   },
   "outputs": [
    {
     "name": "stdout",
     "output_type": "stream",
     "text": [
      "<class 'pandas.core.frame.DataFrame'>\n",
      "RangeIndex: 21525 entries, 0 to 21524\n",
      "Data columns (total 12 columns):\n",
      " #   Column            Non-Null Count  Dtype  \n",
      "---  ------            --------------  -----  \n",
      " 0   children          21525 non-null  int64  \n",
      " 1   days_employed     21525 non-null  float64\n",
      " 2   dob_years         21525 non-null  int64  \n",
      " 3   education         21525 non-null  object \n",
      " 4   education_id      21525 non-null  int64  \n",
      " 5   family_status     21525 non-null  object \n",
      " 6   family_status_id  21525 non-null  int64  \n",
      " 7   gender            21525 non-null  object \n",
      " 8   income_type       21525 non-null  object \n",
      " 9   debt              21525 non-null  int64  \n",
      " 10  total_income      21525 non-null  float64\n",
      " 11  purpose           21525 non-null  object \n",
      "dtypes: float64(2), int64(5), object(5)\n",
      "memory usage: 2.0+ MB\n"
     ]
    }
   ],
   "source": [
    "# Делаем массивы для уникальных значений кол-ва детей, образования и типа занятости:\n",
    "df_children_unique = df['children'].unique()\n",
    "df_education_unique = df['education_id'].unique()\n",
    "df_income_type_unique = df['income_type'].unique()\n",
    "\n",
    "# Циклом осуществляем перебор значений:\n",
    "for row in df_nan_rows:\n",
    "    for children_unique in df_children_unique:\n",
    "        for education_unique in df_education_unique: \n",
    "            for income_type_unique in df_income_type_unique: \n",
    "                if (df.loc[row, 'children'] == children_unique) & (df.loc[row, 'education_id'] == education_unique) & (df.loc[row, 'income_type'] == income_type_unique):\n",
    "                    df.loc[row, 'total_income'] = df[(df['children'] == children_unique) & \n",
    "                                                     (df['education_id'] == education_unique) & \n",
    "                                                     (df['income_type'] == income_type_unique)]['total_income'].median()\n",
    "\n",
    "# Проверим наличие нулевых значений через .info():\n",
    "df.info()\n",
    "\n",
    "# Продумать альтернативу через apply"
   ]
  },
  {
   "cell_type": "markdown",
   "metadata": {},
   "source": [
    "Все пропуски заполнены."
   ]
  },
  {
   "cell_type": "markdown",
   "metadata": {},
   "source": [
    "**Вывод**"
   ]
  },
  {
   "cell_type": "markdown",
   "metadata": {},
   "source": [
    "Отсутствие данных в столбцах days_employed и total_income связано между собой. Данные о ежемесячном доходе отсутствуют по тем строкам, по которым отсутствует общий трудовой стаж.  \n",
    "Возможными причинами отсутствия данных могут быть: ошибки при вводе данных, отсутствие официального стажа работы у конкретных заемщиков (и, соответственно, официального ежемесячного дохода).  \n",
    "Также предполагаю, что если ведется дополнительная проверка стажа и дохода со стороны кредитного отдела банка, то отсутствие данных может являться следствием того, что предоставленные заемщиками данные не прошли проверку.  \n",
    "\n",
    "Данные о стаже были заполнены медианными значениями для каждого возраста отдельно.  \n",
    "Данные о ежемесячном доходе были заполнены медианными значениями на основании имеющейся статистики в таблице с учетом количества детей у заемщиков, уровня образования и типа занятости.\n"
   ]
  },
  {
   "cell_type": "markdown",
   "metadata": {},
   "source": [
    "### Замена типа данных\n",
    "Заменим тип данных у столбцов days_employed и total_income с float на int (данные этих столбцов не требуют детализации до долей, целого остатка будет достаточно для проведения анализа).  "
   ]
  },
  {
   "cell_type": "code",
   "execution_count": 10,
   "metadata": {},
   "outputs": [
    {
     "name": "stdout",
     "output_type": "stream",
     "text": [
      "<class 'pandas.core.frame.DataFrame'>\n",
      "RangeIndex: 21525 entries, 0 to 21524\n",
      "Data columns (total 12 columns):\n",
      " #   Column            Non-Null Count  Dtype \n",
      "---  ------            --------------  ----- \n",
      " 0   children          21525 non-null  int64 \n",
      " 1   days_employed     21525 non-null  int32 \n",
      " 2   dob_years         21525 non-null  int64 \n",
      " 3   education         21525 non-null  object\n",
      " 4   education_id      21525 non-null  int64 \n",
      " 5   family_status     21525 non-null  object\n",
      " 6   family_status_id  21525 non-null  int64 \n",
      " 7   gender            21525 non-null  object\n",
      " 8   income_type       21525 non-null  object\n",
      " 9   debt              21525 non-null  int64 \n",
      " 10  total_income      21525 non-null  int32 \n",
      " 11  purpose           21525 non-null  object\n",
      "dtypes: int32(2), int64(5), object(5)\n",
      "memory usage: 1.8+ MB\n"
     ]
    }
   ],
   "source": [
    "df = df.astype({'days_employed': 'int32', 'total_income': 'int32'})\n",
    "df.info()"
   ]
  },
  {
   "cell_type": "markdown",
   "metadata": {},
   "source": [
    "**Вывод**"
   ]
  },
  {
   "cell_type": "markdown",
   "metadata": {},
   "source": [
    "Мы заменили тип данных у столбцов days_employed и total_income с float на int, т.к. данные этих столбцов\n",
    "не требуют детализации до долей, целого остатка будет достаточно для проведения анализа.  \n",
    "Столбцы education, family_status, gender, income_type и purpose хранят текстовые данные. Для них тип данных object подходит.  \n",
    "Остальные стобцы имеют тип данных int, что также нам подходит."
   ]
  },
  {
   "cell_type": "markdown",
   "metadata": {},
   "source": [
    "### Обработка дубликатов\n",
    "Всего 54 задублированные строки. Т.к. это меньше половины доли процента, удаление этих данных не повлияет на итоги исследования. "
   ]
  },
  {
   "cell_type": "code",
   "execution_count": 11,
   "metadata": {},
   "outputs": [
    {
     "data": {
      "text/plain": [
       "54"
      ]
     },
     "execution_count": 11,
     "metadata": {},
     "output_type": "execute_result"
    }
   ],
   "source": [
    "# Проверим кол-во полных дубликатов в таблице:\n",
    "df.duplicated().sum()"
   ]
  },
  {
   "cell_type": "code",
   "execution_count": 12,
   "metadata": {},
   "outputs": [
    {
     "data": {
      "text/plain": [
       "0"
      ]
     },
     "execution_count": 12,
     "metadata": {},
     "output_type": "execute_result"
    }
   ],
   "source": [
    "# Удаляем строки-дубли:\n",
    "df = df.drop_duplicates().reset_index(drop = True)\n",
    "\n",
    "# Перепроверяем кол-во полных дубликатов в таблице:\n",
    "df.duplicated().sum()"
   ]
  },
  {
   "cell_type": "markdown",
   "metadata": {},
   "source": [
    "Строк-дублей в таблице больше нет."
   ]
  },
  {
   "cell_type": "code",
   "execution_count": 13,
   "metadata": {
    "scrolled": true
   },
   "outputs": [
    {
     "data": {
      "text/plain": [
       "среднее                13705\n",
       "высшее                  4710\n",
       "СРЕДНЕЕ                  772\n",
       "Среднее                  711\n",
       "неоконченное высшее      668\n",
       "ВЫСШЕЕ                   273\n",
       "Высшее                   268\n",
       "начальное                250\n",
       "Неоконченное высшее       47\n",
       "НЕОКОНЧЕННОЕ ВЫСШЕЕ       29\n",
       "НАЧАЛЬНОЕ                 17\n",
       "Начальное                 15\n",
       "ученая степень             4\n",
       "Ученая степень             1\n",
       "УЧЕНАЯ СТЕПЕНЬ             1\n",
       "Name: education, dtype: int64"
      ]
     },
     "execution_count": 13,
     "metadata": {},
     "output_type": "execute_result"
    }
   ],
   "source": [
    "# Проверим дубли в столбце education:\n",
    "df['education'].value_counts()"
   ]
  },
  {
   "cell_type": "markdown",
   "metadata": {},
   "source": [
    "В столбце много неявных дублей, которые можно устранить посредством приведения всех букв к единому регистру."
   ]
  },
  {
   "cell_type": "code",
   "execution_count": 14,
   "metadata": {},
   "outputs": [
    {
     "data": {
      "text/plain": [
       "среднее                15188\n",
       "высшее                  5251\n",
       "неоконченное высшее      744\n",
       "начальное                282\n",
       "ученая степень             6\n",
       "Name: education, dtype: int64"
      ]
     },
     "execution_count": 14,
     "metadata": {},
     "output_type": "execute_result"
    }
   ],
   "source": [
    "df['education'] = df['education'].str.lower()\n",
    "df['education'].value_counts()"
   ]
  },
  {
   "cell_type": "markdown",
   "metadata": {},
   "source": [
    "Перепроверим данные на дубликаты после приведения значений к нижнему регистру. "
   ]
  },
  {
   "cell_type": "code",
   "execution_count": 15,
   "metadata": {},
   "outputs": [
    {
     "data": {
      "text/plain": [
       "17"
      ]
     },
     "execution_count": 15,
     "metadata": {},
     "output_type": "execute_result"
    }
   ],
   "source": [
    "df.duplicated().sum()"
   ]
  },
  {
   "cell_type": "markdown",
   "metadata": {},
   "source": [
    "Появилось 17 дубликатов. Удалим полученные дубликаты."
   ]
  },
  {
   "cell_type": "code",
   "execution_count": 16,
   "metadata": {},
   "outputs": [],
   "source": [
    "df = df.drop_duplicates().reset_index(drop = True)"
   ]
  },
  {
   "cell_type": "code",
   "execution_count": 17,
   "metadata": {},
   "outputs": [
    {
     "data": {
      "text/plain": [
       "женат / замужем          12339\n",
       "гражданский брак          4151\n",
       "Не женат / не замужем     2810\n",
       "в разводе                 1195\n",
       "вдовец / вдова             959\n",
       "Name: family_status, dtype: int64"
      ]
     },
     "execution_count": 17,
     "metadata": {},
     "output_type": "execute_result"
    }
   ],
   "source": [
    "# Проверим дубли в столбце family_status:\n",
    "df['family_status'].value_counts()"
   ]
  },
  {
   "cell_type": "markdown",
   "metadata": {},
   "source": [
    "В этом столбце дубликатов нет."
   ]
  },
  {
   "cell_type": "code",
   "execution_count": 18,
   "metadata": {},
   "outputs": [
    {
     "data": {
      "text/plain": [
       "сотрудник          11084\n",
       "компаньон           5078\n",
       "пенсионер           3829\n",
       "госслужащий         1457\n",
       "безработный            2\n",
       "предприниматель        2\n",
       "студент                1\n",
       "в декрете              1\n",
       "Name: income_type, dtype: int64"
      ]
     },
     "execution_count": 18,
     "metadata": {},
     "output_type": "execute_result"
    }
   ],
   "source": [
    "# Проверим дубли в столбце income_type:\n",
    "df['income_type'].value_counts()"
   ]
  },
  {
   "cell_type": "markdown",
   "metadata": {},
   "source": [
    "Дубликатов в этом стоблце нет. Можно обратить внимание на статусы \"сотрудник\", \"компаньон\" и \"предприниматель\".  \n",
    "Но без дополнительной консультации с заказчиком для самостоятельного принятия решения не хватает информации. "
   ]
  },
  {
   "cell_type": "markdown",
   "metadata": {},
   "source": [
    "**Вывод**"
   ]
  },
  {
   "cell_type": "markdown",
   "metadata": {},
   "source": [
    "В таблице было 54 задублированные строки. Мы удалили строки-дубли и обновили индексацию строк.  \n",
    "Дубли строк могли появиться в случае ошибки ввода, или в случае повторного обращение того же заемщика в кредитный отдел банка.  \n",
    "\n",
    "Далее мы проверили  неявные дубликаты в столбцах education, family_status и income_type. Устранили дубликаты в столбце education, связанные с разницей регистров букв. Эти ошибки связаны, скорее всего, с тем, что данное поле заполняется сотрудниками вручную, и нет маски ввода/ограничений по вводу данных в поле.  "
   ]
  },
  {
   "cell_type": "markdown",
   "metadata": {},
   "source": [
    "### Лемматизация"
   ]
  },
  {
   "cell_type": "code",
   "execution_count": null,
   "metadata": {},
   "outputs": [],
   "source": [
    "m = Mystem() \n",
    "\n",
    "# Лемматизируем данные, добавляем их в отдельную таблицу tags:\n",
    "tags = []\n",
    "for i in range(len(df['purpose'])):\n",
    "    tags.append(m.lemmatize(df.loc[i, 'purpose']))\n",
    "\n",
    "# Добавляем леммитизированные данные в новый столбец purpose_tags таблицы tags:    \n",
    "df['purpose_tags'] = pd.Series(tags)\n",
    "\n",
    "# Проверяем таблицу с новым столбцом\n",
    "df"
   ]
  },
  {
   "cell_type": "markdown",
   "metadata": {},
   "source": [
    "**Вывод**  \n",
    "\n",
    "Мы лемматизировали (привели все слова столбца purpose к их леммам - к их словарным формам) информацию о целях получения кредита для упрощения последующего анализа влияния цели кредита на своевременный возврат кредита в срок. "
   ]
  },
  {
   "cell_type": "markdown",
   "metadata": {},
   "source": [
    "### Категоризация данных\n",
    "Вынесем уровень образования и семейный статус в отдельные словари для удобства дальнейшего обращения к данным таблиц.  "
   ]
  },
  {
   "cell_type": "code",
   "execution_count": null,
   "metadata": {},
   "outputs": [],
   "source": [
    "# Сделаем словарь для уровня образования:\n",
    "education_dict = df[['education_id', 'education']]\n",
    "education_dict = education_dict.drop_duplicates().reset_index(drop = True)\n",
    "education_dict"
   ]
  },
  {
   "cell_type": "code",
   "execution_count": null,
   "metadata": {},
   "outputs": [],
   "source": [
    "# Делаем аналогичный словарь для семейного статуса:\n",
    "family_status_dict = df[['family_status_id', 'family_status']]\n",
    "family_status_dict = family_status_dict.drop_duplicates().reset_index(drop = True)\n",
    "family_status_dict"
   ]
  },
  {
   "cell_type": "markdown",
   "metadata": {},
   "source": [
    "Категоризируем данные столбца purpose_tags для дальнейшего анализа."
   ]
  },
  {
   "cell_type": "code",
   "execution_count": null,
   "metadata": {
    "scrolled": true
   },
   "outputs": [],
   "source": [
    "# Для этого сначала посмотрим, какие уникальные значения встречаются в этом столбце:\n",
    "\n",
    "df['purpose_tags'].value_counts()"
   ]
  },
  {
   "cell_type": "markdown",
   "metadata": {},
   "source": [
    "Все цели можно поделить на следующие категории: 1) автомобиль; 2) свадьба; 3) недвижимость/жилье; 4) образование.  \n",
    "Заменим данные типа Series в столбце purpose_tags на выделенные выше категории.   \n",
    "Для этого напишем функцию, которая пройдет по всем строкам массива, и возвратит нужную категорию, если она присутствует в строке. Добавим в функцию условие try/except для избежания ошибок при отработке кода:  \n"
   ]
  },
  {
   "cell_type": "code",
   "execution_count": null,
   "metadata": {},
   "outputs": [],
   "source": [
    "def categorize(data):\n",
    "    for i in range(len(data['purpose_tags'])):\n",
    "        try:\n",
    "            if 'автомобиль' in data.loc[i, 'purpose_tags']:\n",
    "                data.loc[i, 'purpose_tags'] = 'автомобиль'\n",
    "            elif 'свадьба' in data.loc[i, 'purpose_tags']:\n",
    "                data.loc[i, 'purpose_tags'] = 'свадьба'\n",
    "            elif 'недвижимость' in data.loc[i, 'purpose_tags']:\n",
    "                data.loc[i, 'purpose_tags'] = 'недвижимость'\n",
    "            elif 'жилье' in data.loc[i, 'purpose_tags']:\n",
    "                data.loc[i, 'purpose_tags'] = 'недвижимость'\n",
    "            elif 'образование' in data.loc[i, 'purpose_tags']:\n",
    "                data.loc[i, 'purpose_tags'] = 'образование'\n",
    "        except:\n",
    "            data.loc[i, 'purpose_tags'] = 'error'\n",
    "\n",
    "# Так как жилье и недвижимость синонимичные понятия, в обоих случаях будем присваивать категорию 'недвижимость'.\n",
    "# Применим функцию к таблице, заменим значение столбца purpose_tags на категории:\n",
    "\n",
    "categorize(df)\n"
   ]
  },
  {
   "cell_type": "code",
   "execution_count": null,
   "metadata": {},
   "outputs": [],
   "source": [
    "# Переименуем столбец purpose_tags в category и проверим таблицу на предмет наличие категории error:\n",
    "df.rename(columns={'purpose_tags': 'category'}, inplace=True)\n",
    "df['category'].value_counts()"
   ]
  },
  {
   "cell_type": "markdown",
   "metadata": {},
   "source": [
    "**Вывод**  \n",
    "\n",
    "Были созданы словари уровня образования и семейного статуса заемщиков для дальнейшего упрощения работы с данными таблицы.  \n",
    "\n",
    "Выделенные в рамках лемматизации словарные формы слов были категоризированы на четыре группы.\n",
    "Основные причины, по которым заемщики брали кредит: 1) автомобиль; 2) свадьба; 3) недвижимость; 4) образование. \n",
    "Эти категории были добавлены в таблицу в столбец 'category'."
   ]
  },
  {
   "cell_type": "markdown",
   "metadata": {},
   "source": [
    "## Ответьте на вопросы"
   ]
  },
  {
   "cell_type": "markdown",
   "metadata": {},
   "source": [
    "- Есть ли зависимость между наличием детей и возвратом кредита в срок?"
   ]
  },
  {
   "cell_type": "code",
   "execution_count": null,
   "metadata": {},
   "outputs": [],
   "source": [
    "# Проверим количество уникальных значений в столбце children: \n",
    "df['children'].value_counts()"
   ]
  },
  {
   "cell_type": "markdown",
   "metadata": {},
   "source": [
    "В данных есть артефакты: -1 ребенок и 20 детей. Всего этих значений 123. Это чуть больше 0,57% от общего количества данных.  \n",
    "Можно предположить, что \"-1\" - это написанное с ошибкой \"1\", а \"20\" - это \"2\". У нас нет возможности проконсультироваться с заказчиком для определения точной причины этих ошибок.  \n",
    "\n",
    "Так как количество этих данных мал в масштабе массива данных, было бы целесообразно удалить эти данные.  \n",
    "Но в связи с тем, что нам потребуется рассчитать не только зависимость между наличием детей и возвратом кредита в срок, \n",
    "оставим эти данные, скорректировав данные о количестве детей на \"1\" и \"2\"."
   ]
  },
  {
   "cell_type": "code",
   "execution_count": null,
   "metadata": {},
   "outputs": [],
   "source": [
    "df['children'] = df['children'].replace(-1, 1)\n",
    "df['children'] = df['children'].replace(20, 2)\n",
    "\n",
    "# Проверяем обновленные данные по столбцу children:\n",
    "df['children'].value_counts()"
   ]
  },
  {
   "cell_type": "markdown",
   "metadata": {},
   "source": [
    "Проверим количество долгов в разрезе количества детей:"
   ]
  },
  {
   "cell_type": "code",
   "execution_count": null,
   "metadata": {},
   "outputs": [],
   "source": [
    "df.pivot_table(index=['children'], values='debt', aggfunc='sum')\n",
    "print(df.pivot_table(index=['children'], values='debt', aggfunc='sum')) "
   ]
  },
  {
   "cell_type": "markdown",
   "metadata": {},
   "source": [
    "Выведем процент заемщиков с наличинем задолженностей по возврату кретитов в разрезе количества детей, чтобы ответить на поставленный вопрос. "
   ]
  },
  {
   "cell_type": "code",
   "execution_count": null,
   "metadata": {},
   "outputs": [],
   "source": [
    "# Выведем таблицу через display(), отсортируем ее по возрастанию доли задолженности,\n",
    "#и перемиенуем столбец с итогами расчетов для большей наглядности:\n",
    "df_child_pivot = df.pivot_table(index=['children'], values='debt', aggfunc='mean').sort_values('debt')\n",
    "df_child_pivot.rename(columns={'debt': 'Доля заемщиков с задолженностью'}, inplace=True)\n",
    "display(df_child_pivot) "
   ]
  },
  {
   "cell_type": "markdown",
   "metadata": {},
   "source": [
    "**Вывод**"
   ]
  },
  {
   "cell_type": "markdown",
   "metadata": {},
   "source": [
    "Согласно предоставленным заказчиком данным, определенная зависимость между наличием детей и вовзвратом кредита в срок наблюдается, хоть корреляция и не сильно выраженная.  \n",
    "Люди, не имеющие детей, чаще возвращают кредит в срок, нежели чем те, кто имеет от одного до четырех детей (ок. 7,5% заемщиков без детей имели ранее задолженности по кредитам).  \n",
    "Среди тех заемщиков, у кого от одного до четырех детей, наименьшее количество задолженностей по возвратам кредитов имели те, у кого три ребенка (ок. 8,2% заемщиков имели задолженности). Далее идут заемщики с одним ребенком (~9,5%). Наибольшее количество задолженностей по кредитам имели заемщики с четыремя детьми - 9,7% заемщиков.  \n",
    "У людей с 5 детьми не имелось задолженностей по возврату кредитов вообще. Однако данная выборка нерепрезентативна - в таблице предоставлена информация о 9 заемщиках с пятью детьми; данных недостаточно, чтобы экстраполировать выводы для построения модели кредитного скроллинга.\n",
    "\n",
    "Результаты полученного среза могут быть связаны с тем, что наличие детей налагает на человека больше обязательств (в т.ч. финансовых), а также предполагает больше непредсказуемых трат.  \n",
    "Неожиданно меньше задолженностей по кредитам у людей с тремя детьми. Возможно, это связано с тем, что люди, имеющие трех детей, более взвешенно принимали решении о рождении третьего ребенка (имея понимание о расходах и обязательствах). Допускаю, своего рода, \"эффект масштаба\"."
   ]
  },
  {
   "cell_type": "markdown",
   "metadata": {},
   "source": [
    "- Есть ли зависимость между семейным положением и возвратом кредита в срок?"
   ]
  },
  {
   "cell_type": "code",
   "execution_count": null,
   "metadata": {},
   "outputs": [],
   "source": [
    "print(df['family_status'].value_counts())"
   ]
  },
  {
   "cell_type": "code",
   "execution_count": null,
   "metadata": {
    "scrolled": true
   },
   "outputs": [],
   "source": [
    "df_fam_stat_pivot = df.pivot_table(index=['family_status'], values='debt', aggfunc='mean').sort_values('debt')\n",
    "df_fam_stat_pivot.rename(columns={'debt': 'Доля заемщиков с задолженностью'}, inplace=True)\n",
    "display(df_fam_stat_pivot) "
   ]
  },
  {
   "cell_type": "markdown",
   "metadata": {},
   "source": [
    "**Вывод**"
   ]
  },
  {
   "cell_type": "markdown",
   "metadata": {},
   "source": [
    "Зависимость между семейным положением и возвратом кредита в срок также прослеживается. В данном случае более явная, нежели чем в первом случае.  \n",
    "Чаще всего в срок возвращали кредит те заемщики, которые утратили своего партнера (ок. 6,6% заемщиков имели просроченные кредиты). Больше просроченных задолженностей имели люди в разводе и в официальном браке (7,1% и 7,5% просроченных кредитов).  \n",
    "Наибольшее количество задолженностей по кредитам имели люди в граджанском браке и холостые люди (9,3% и 9,7%).  \n",
    "\n",
    "Наличие официальных отношений (даже бывших) может говорить о том, что человек более ответственно относится к возврату кредита в срок."
   ]
  },
  {
   "cell_type": "markdown",
   "metadata": {},
   "source": [
    "- Есть ли зависимость между уровнем дохода и возвратом кредита в срок?"
   ]
  },
  {
   "cell_type": "markdown",
   "metadata": {},
   "source": [
    "Для корректного анализа зависимости между уровнем дохода и возвратом кредита в срок потребуется категоризировать уровни дохода.  \n",
    "Разобьем данные на следующие категории: 1) до 100000; 2) от 100000 до 150000; 3) от 150000 до 200000; 4) более 200000 (категории были выбраны в соответствии с количеством данных в таблице).  \n",
    "Добавим категории в отдельный столбец income_category."
   ]
  },
  {
   "cell_type": "code",
   "execution_count": null,
   "metadata": {},
   "outputs": [],
   "source": [
    "for i in range(len(df['total_income'])):\n",
    "    if df.loc[i, 'total_income'] < 100000:\n",
    "        df.loc[i, 'income_category'] = 'до 100000'\n",
    "    elif 100000 <= df.loc[i, 'total_income'] < 150000:\n",
    "        df.loc[i, 'income_category'] = 'от 100000 до 150000'\n",
    "    elif 150000 <= df.loc[i, 'total_income'] < 200000:\n",
    "        df.loc[i, 'income_category'] = 'от 150000 до 200000'\n",
    "    else: df.loc[i, 'income_category'] = 'более 200000'\n",
    "  \n",
    "    "
   ]
  },
  {
   "cell_type": "code",
   "execution_count": null,
   "metadata": {},
   "outputs": [],
   "source": [
    "df['income_category'].value_counts()  "
   ]
  },
  {
   "cell_type": "code",
   "execution_count": null,
   "metadata": {},
   "outputs": [],
   "source": [
    "df_income_pivot = df.pivot_table(index=['income_category'], values='debt', aggfunc='mean').sort_values('debt')\n",
    "df_income_pivot.rename(columns={'debt': 'Доля заемщиков с задолженностью'}, inplace=True)\n",
    "display(df_income_pivot) "
   ]
  },
  {
   "cell_type": "markdown",
   "metadata": {},
   "source": [
    "**Вывод**"
   ]
  },
  {
   "cell_type": "markdown",
   "metadata": {},
   "source": [
    "Все заемщики были разбиты на 4 категории в зависимости от уровня дохода: 1) до 100000; 2) от 100000 до 150000; 3) от 150000 до 200000; 4) более 200000.\n",
    "Зависимость между возвратом кредитов в срок и доходом таккже прослеживается. \n",
    "Меньше всего задолженностей по кредитам у людей с достатком более 200000 руб. (почти 7%). Далее идет категория с доходом до 100000 руб. (7,9% заемщиков с долгами по кредитам).  \n",
    "У остальных двух категорий 8,5% и почти 8,8% заемщиков имели задолженность за кредиты. Наибольшее количество задолженностей у категории людей с доходом от 100000 до 150000 руб.  \n",
    "\n",
    "Полагаю, что у людей с доходом более 200000 руб. есть больше возможностей для своевременного возврата кредита.  \n",
    "Люди с доходом до 100000 руб. чуть более бережно обходятся со своими финансками, чем остальные заемщики (с доходом до 200000 руб.)."
   ]
  },
  {
   "cell_type": "markdown",
   "metadata": {},
   "source": [
    "- Как разные цели кредита влияют на его возврат в срок?"
   ]
  },
  {
   "cell_type": "code",
   "execution_count": null,
   "metadata": {},
   "outputs": [],
   "source": [
    "df_purpose_pivot = df.pivot_table(index=['category'], values='debt', aggfunc='mean').sort_values('debt')\n",
    "df_purpose_pivot.rename(columns={'debt': 'Доля заемщиков с задолженностью'}, inplace=True)\n",
    "display(df_purpose_pivot) "
   ]
  },
  {
   "cell_type": "markdown",
   "metadata": {},
   "source": [
    "**Вывод**"
   ]
  },
  {
   "cell_type": "markdown",
   "metadata": {},
   "source": [
    "Цели кредита также влияют на своевременный возврат кредита в срок. \n",
    "Те, кто берет кредит на недвижимость и на свадьбу, чаще не имеют задолженностей по кредитам, нежели чем те, кто берет кредит на образование или для покупки автомобиля. \n",
    "Наименьшая доля задолженностей по кредитам среди тех, кто берет кредит на покупку недвижимости (7,2%). Кредит на покупку недвижимости важный и отвественный шаг, поэтому человек, который планирует брать кредит на эти нужды, заранее заботится о своей кредитной истории.\n",
    "Следующая категория - заемщики, которые берут кредиты на свадьбу (ок. 8% заемщиков имеют задолженности по кредитам).\n",
    "Наибольшее количество задолженностей по кредитам - кредиты, получаемые на образование и на приобретение автомобия (9,2% и 9,3%).  "
   ]
  },
  {
   "cell_type": "markdown",
   "metadata": {},
   "source": [
    "## Общий вывод"
   ]
  },
  {
   "cell_type": "markdown",
   "metadata": {},
   "source": [
    "При построении модели кредитного скоринга желательно учесть наличие детей у заемщика, его семейное положение, уровень дохода и цели кредита. Разница в доле заемщиков, которые не вернут кредит в срок, между категориями каждого среза может составлять до 3%.  \n",
    "Идеальный портрет заемщика: вдова без детей с доходом от 200000 рублей, которая приобретает в кредит недвижимость. "
   ]
  }
 ],
 "metadata": {
  "ExecuteTimeLog": [
   {
    "duration": 659,
    "start_time": "2022-01-06T07:30:17.321Z"
   },
   {
    "duration": 2,
    "start_time": "2022-01-06T08:09:06.806Z"
   },
   {
    "duration": 25,
    "start_time": "2022-01-06T08:20:48.298Z"
   },
   {
    "duration": 21,
    "start_time": "2022-01-06T08:29:25.574Z"
   },
   {
    "duration": 19,
    "start_time": "2022-01-06T08:29:55.195Z"
   },
   {
    "duration": 76,
    "start_time": "2022-01-06T09:15:29.525Z"
   },
   {
    "duration": 22,
    "start_time": "2022-01-06T09:15:36.870Z"
   },
   {
    "duration": 20,
    "start_time": "2022-01-06T09:16:34.664Z"
   },
   {
    "duration": 20,
    "start_time": "2022-01-06T09:16:57.677Z"
   },
   {
    "duration": 8,
    "start_time": "2022-01-06T09:27:28.236Z"
   },
   {
    "duration": 7,
    "start_time": "2022-01-06T09:27:52.985Z"
   },
   {
    "duration": 22,
    "start_time": "2022-01-06T09:38:37.944Z"
   },
   {
    "duration": 756,
    "start_time": "2022-01-06T09:41:21.774Z"
   },
   {
    "duration": 7,
    "start_time": "2022-01-06T09:41:28.381Z"
   },
   {
    "duration": 11,
    "start_time": "2022-01-06T09:54:07.783Z"
   },
   {
    "duration": 19,
    "start_time": "2022-01-06T09:59:23.941Z"
   },
   {
    "duration": 12,
    "start_time": "2022-01-06T09:59:36.482Z"
   },
   {
    "duration": 14,
    "start_time": "2022-01-06T09:59:54.918Z"
   },
   {
    "duration": 550,
    "start_time": "2022-01-06T10:10:20.797Z"
   },
   {
    "duration": 19,
    "start_time": "2022-01-06T10:10:21.349Z"
   },
   {
    "duration": 22,
    "start_time": "2022-01-06T10:10:21.370Z"
   },
   {
    "duration": 18,
    "start_time": "2022-01-06T10:10:21.394Z"
   },
   {
    "duration": 28,
    "start_time": "2022-01-06T10:10:21.414Z"
   },
   {
    "duration": 12,
    "start_time": "2022-01-06T10:10:21.444Z"
   },
   {
    "duration": 4,
    "start_time": "2022-01-06T10:10:21.457Z"
   },
   {
    "duration": 14,
    "start_time": "2022-01-06T10:14:16.239Z"
   },
   {
    "duration": 27,
    "start_time": "2022-01-06T10:14:33.473Z"
   },
   {
    "duration": 20,
    "start_time": "2022-01-06T10:14:59.458Z"
   },
   {
    "duration": 20,
    "start_time": "2022-01-06T10:17:00.683Z"
   },
   {
    "duration": 6,
    "start_time": "2022-01-06T10:17:30.421Z"
   },
   {
    "duration": 19,
    "start_time": "2022-01-06T10:19:17.552Z"
   },
   {
    "duration": 4,
    "start_time": "2022-01-07T06:57:45.733Z"
   },
   {
    "duration": 415,
    "start_time": "2022-01-07T06:58:56.944Z"
   },
   {
    "duration": 803,
    "start_time": "2022-01-07T06:59:09.075Z"
   },
   {
    "duration": 32,
    "start_time": "2022-01-07T06:59:09.881Z"
   },
   {
    "duration": 55,
    "start_time": "2022-01-07T06:59:09.916Z"
   },
   {
    "duration": 39,
    "start_time": "2022-01-07T06:59:09.974Z"
   },
   {
    "duration": 4,
    "start_time": "2022-01-07T06:59:10.016Z"
   },
   {
    "duration": 4,
    "start_time": "2022-01-07T06:59:22.678Z"
   },
   {
    "duration": 7,
    "start_time": "2022-01-07T06:59:28.269Z"
   },
   {
    "duration": 443,
    "start_time": "2022-01-07T07:06:55.641Z"
   },
   {
    "duration": 15,
    "start_time": "2022-01-07T07:07:01.596Z"
   },
   {
    "duration": 35,
    "start_time": "2022-01-07T07:07:16.492Z"
   },
   {
    "duration": 10,
    "start_time": "2022-01-07T07:07:34.235Z"
   },
   {
    "duration": 10,
    "start_time": "2022-01-07T07:09:07.849Z"
   },
   {
    "duration": 8,
    "start_time": "2022-01-07T07:12:21.036Z"
   },
   {
    "duration": 359,
    "start_time": "2022-01-07T07:16:11.487Z"
   },
   {
    "duration": 10,
    "start_time": "2022-01-07T07:16:47.678Z"
   },
   {
    "duration": 38,
    "start_time": "2022-01-07T07:16:55.687Z"
   },
   {
    "duration": -1716,
    "start_time": "2022-01-07T07:17:06.513Z"
   },
   {
    "duration": 2423,
    "start_time": "2022-01-07T07:17:07.918Z"
   },
   {
    "duration": 40,
    "start_time": "2022-01-07T07:17:12.454Z"
   },
   {
    "duration": 2590,
    "start_time": "2022-01-07T07:17:15.975Z"
   },
   {
    "duration": 9351,
    "start_time": "2022-01-07T07:17:34.406Z"
   },
   {
    "duration": 41,
    "start_time": "2022-01-07T07:17:54.045Z"
   },
   {
    "duration": 9670,
    "start_time": "2022-01-07T07:20:58.432Z"
   },
   {
    "duration": 9177,
    "start_time": "2022-01-07T07:21:36.056Z"
   },
   {
    "duration": 14,
    "start_time": "2022-01-07T07:22:05.536Z"
   },
   {
    "duration": 14,
    "start_time": "2022-01-07T07:22:09.744Z"
   },
   {
    "duration": 378,
    "start_time": "2022-01-07T07:22:15.952Z"
   },
   {
    "duration": 15,
    "start_time": "2022-01-07T07:22:19.272Z"
   },
   {
    "duration": 35,
    "start_time": "2022-01-07T07:24:09.997Z"
   },
   {
    "duration": 2289,
    "start_time": "2022-01-07T07:24:42.876Z"
   },
   {
    "duration": 55,
    "start_time": "2022-01-07T07:24:57.901Z"
   },
   {
    "duration": 14,
    "start_time": "2022-01-07T07:25:39.180Z"
   },
   {
    "duration": 9585,
    "start_time": "2022-01-07T07:25:45.940Z"
   },
   {
    "duration": 8930,
    "start_time": "2022-01-07T07:25:57.779Z"
   },
   {
    "duration": 11,
    "start_time": "2022-01-07T07:26:15.194Z"
   },
   {
    "duration": 358,
    "start_time": "2022-01-07T07:29:09.564Z"
   },
   {
    "duration": 335,
    "start_time": "2022-01-07T07:29:16.272Z"
   },
   {
    "duration": 9,
    "start_time": "2022-01-07T07:29:21.414Z"
   },
   {
    "duration": 21,
    "start_time": "2022-01-07T07:29:26.449Z"
   },
   {
    "duration": 55,
    "start_time": "2022-01-07T07:29:40.373Z"
   },
   {
    "duration": 12,
    "start_time": "2022-01-07T07:32:59.322Z"
   },
   {
    "duration": 10,
    "start_time": "2022-01-07T07:33:18.625Z"
   },
   {
    "duration": 117,
    "start_time": "2022-01-07T07:36:46.744Z"
   },
   {
    "duration": 22,
    "start_time": "2022-01-07T07:36:51.620Z"
   },
   {
    "duration": 12,
    "start_time": "2022-01-07T07:37:01.748Z"
   },
   {
    "duration": 11,
    "start_time": "2022-01-07T07:37:07.772Z"
   },
   {
    "duration": 128,
    "start_time": "2022-01-07T07:37:19.116Z"
   },
   {
    "duration": -1751,
    "start_time": "2022-01-07T07:37:35.029Z"
   },
   {
    "duration": 9291,
    "start_time": "2022-01-07T07:37:39.003Z"
   },
   {
    "duration": 8960,
    "start_time": "2022-01-07T07:38:14.754Z"
   },
   {
    "duration": 10,
    "start_time": "2022-01-07T07:38:25.882Z"
   },
   {
    "duration": 6373,
    "start_time": "2022-01-07T07:38:50.730Z"
   },
   {
    "duration": 6777,
    "start_time": "2022-01-07T07:40:13.144Z"
   },
   {
    "duration": 5,
    "start_time": "2022-01-07T07:40:24.208Z"
   },
   {
    "duration": -1755,
    "start_time": "2022-01-07T07:41:29.965Z"
   },
   {
    "duration": 780,
    "start_time": "2022-01-07T07:41:39.410Z"
   },
   {
    "duration": 33,
    "start_time": "2022-01-07T07:41:40.193Z"
   },
   {
    "duration": 50,
    "start_time": "2022-01-07T07:41:40.230Z"
   },
   {
    "duration": 33,
    "start_time": "2022-01-07T07:41:40.283Z"
   },
   {
    "duration": 6572,
    "start_time": "2022-01-07T07:41:40.319Z"
   },
   {
    "duration": 7343,
    "start_time": "2022-01-07T07:42:04.640Z"
   },
   {
    "duration": 1375,
    "start_time": "2022-01-07T07:42:53.037Z"
   },
   {
    "duration": 1031,
    "start_time": "2022-01-07T07:43:08.940Z"
   },
   {
    "duration": 50,
    "start_time": "2022-01-07T07:43:09.974Z"
   },
   {
    "duration": 57,
    "start_time": "2022-01-07T07:43:10.027Z"
   },
   {
    "duration": 35,
    "start_time": "2022-01-07T07:43:10.086Z"
   },
   {
    "duration": 6476,
    "start_time": "2022-01-07T07:43:10.123Z"
   },
   {
    "duration": 11,
    "start_time": "2022-01-07T07:44:57.437Z"
   },
   {
    "duration": 962,
    "start_time": "2022-01-07T07:45:04.930Z"
   },
   {
    "duration": 36,
    "start_time": "2022-01-07T07:45:05.895Z"
   },
   {
    "duration": 60,
    "start_time": "2022-01-07T07:45:05.935Z"
   },
   {
    "duration": 71,
    "start_time": "2022-01-07T07:45:05.998Z"
   },
   {
    "duration": 15,
    "start_time": "2022-01-07T07:45:06.072Z"
   },
   {
    "duration": 7041,
    "start_time": "2022-01-07T07:45:16.961Z"
   },
   {
    "duration": 28,
    "start_time": "2022-01-07T07:45:35.849Z"
   },
   {
    "duration": 16,
    "start_time": "2022-01-07T07:46:31.473Z"
   },
   {
    "duration": 17,
    "start_time": "2022-01-07T07:46:52.135Z"
   },
   {
    "duration": 22,
    "start_time": "2022-01-07T07:47:16.047Z"
   },
   {
    "duration": 16,
    "start_time": "2022-01-07T07:53:49.963Z"
   },
   {
    "duration": 120,
    "start_time": "2022-01-07T08:24:03.711Z"
   },
   {
    "duration": 6,
    "start_time": "2022-01-07T08:24:33.134Z"
   },
   {
    "duration": 27,
    "start_time": "2022-01-07T08:24:45.046Z"
   },
   {
    "duration": 807,
    "start_time": "2022-01-07T08:25:01.595Z"
   },
   {
    "duration": 32,
    "start_time": "2022-01-07T08:25:02.405Z"
   },
   {
    "duration": 48,
    "start_time": "2022-01-07T08:25:02.440Z"
   },
   {
    "duration": 33,
    "start_time": "2022-01-07T08:25:02.491Z"
   },
   {
    "duration": 6571,
    "start_time": "2022-01-07T08:25:02.527Z"
   },
   {
    "duration": 434,
    "start_time": "2022-01-07T08:25:09.101Z"
   },
   {
    "duration": 348,
    "start_time": "2022-01-07T08:25:39.459Z"
   },
   {
    "duration": 1078,
    "start_time": "2022-01-07T08:30:06.870Z"
   },
   {
    "duration": 50,
    "start_time": "2022-01-07T08:30:07.952Z"
   },
   {
    "duration": 67,
    "start_time": "2022-01-07T08:30:08.006Z"
   },
   {
    "duration": 43,
    "start_time": "2022-01-07T08:30:08.077Z"
   },
   {
    "duration": 6638,
    "start_time": "2022-01-07T08:30:08.122Z"
   },
   {
    "duration": 38571,
    "start_time": "2022-01-07T08:30:14.763Z"
   },
   {
    "duration": 57096,
    "start_time": "2022-01-07T08:34:16.848Z"
   },
   {
    "duration": 8,
    "start_time": "2022-01-07T09:00:49.816Z"
   },
   {
    "duration": 8,
    "start_time": "2022-01-07T09:01:06.239Z"
   },
   {
    "duration": 23,
    "start_time": "2022-01-07T09:01:15.536Z"
   },
   {
    "duration": 19,
    "start_time": "2022-01-07T09:01:31.879Z"
   },
   {
    "duration": 17,
    "start_time": "2022-01-07T09:01:53.502Z"
   },
   {
    "duration": 23,
    "start_time": "2022-01-07T09:13:18.048Z"
   },
   {
    "duration": 1092,
    "start_time": "2022-01-07T09:13:34.497Z"
   },
   {
    "duration": 47,
    "start_time": "2022-01-07T09:13:35.593Z"
   },
   {
    "duration": 61,
    "start_time": "2022-01-07T09:13:35.644Z"
   },
   {
    "duration": 67,
    "start_time": "2022-01-07T09:13:35.708Z"
   },
   {
    "duration": 8987,
    "start_time": "2022-01-07T09:13:35.778Z"
   },
   {
    "duration": 48749,
    "start_time": "2022-01-07T09:13:44.767Z"
   },
   {
    "duration": 20,
    "start_time": "2022-01-07T09:14:33.519Z"
   },
   {
    "duration": 418,
    "start_time": "2022-01-07T09:17:11.135Z"
   },
   {
    "duration": 332,
    "start_time": "2022-01-07T09:18:16.725Z"
   },
   {
    "duration": 26,
    "start_time": "2022-01-07T09:18:44.749Z"
   },
   {
    "duration": 50,
    "start_time": "2022-01-07T09:18:55.540Z"
   },
   {
    "duration": 36,
    "start_time": "2022-01-07T09:19:15.130Z"
   },
   {
    "duration": 21,
    "start_time": "2022-01-07T09:19:21.428Z"
   },
   {
    "duration": 22,
    "start_time": "2022-01-07T09:19:54.531Z"
   },
   {
    "duration": 22,
    "start_time": "2022-01-07T09:22:24.620Z"
   },
   {
    "duration": 22,
    "start_time": "2022-01-07T09:22:26.815Z"
   },
   {
    "duration": 26,
    "start_time": "2022-01-07T09:22:28.982Z"
   },
   {
    "duration": 50,
    "start_time": "2022-01-07T09:25:26.371Z"
   },
   {
    "duration": 44,
    "start_time": "2022-01-07T09:25:44.786Z"
   },
   {
    "duration": 56,
    "start_time": "2022-01-07T09:25:51.227Z"
   },
   {
    "duration": 11,
    "start_time": "2022-01-07T09:38:29.459Z"
   },
   {
    "duration": 326,
    "start_time": "2022-01-07T09:44:07.020Z"
   },
   {
    "duration": 26,
    "start_time": "2022-01-07T09:45:00.446Z"
   },
   {
    "duration": 10,
    "start_time": "2022-01-07T09:47:59.886Z"
   },
   {
    "duration": 14,
    "start_time": "2022-01-07T09:48:32.743Z"
   },
   {
    "duration": 11,
    "start_time": "2022-01-07T09:52:03.306Z"
   },
   {
    "duration": 448,
    "start_time": "2022-01-07T12:48:51.421Z"
   },
   {
    "duration": 1046,
    "start_time": "2022-01-07T12:48:59.332Z"
   },
   {
    "duration": 34,
    "start_time": "2022-01-07T12:49:00.382Z"
   },
   {
    "duration": 63,
    "start_time": "2022-01-07T12:49:00.422Z"
   },
   {
    "duration": 39,
    "start_time": "2022-01-07T12:49:00.489Z"
   },
   {
    "duration": 6808,
    "start_time": "2022-01-07T12:49:00.530Z"
   },
   {
    "duration": 41162,
    "start_time": "2022-01-07T12:49:07.341Z"
   },
   {
    "duration": 18,
    "start_time": "2022-01-07T12:49:48.506Z"
   },
   {
    "duration": 41,
    "start_time": "2022-01-07T12:49:48.526Z"
   },
   {
    "duration": 43,
    "start_time": "2022-01-07T12:49:48.570Z"
   },
   {
    "duration": 9,
    "start_time": "2022-01-07T12:49:48.615Z"
   },
   {
    "duration": 55,
    "start_time": "2022-01-07T12:49:48.627Z"
   },
   {
    "duration": 13,
    "start_time": "2022-01-07T12:49:48.685Z"
   },
   {
    "duration": 10,
    "start_time": "2022-01-07T12:49:48.701Z"
   },
   {
    "duration": 376,
    "start_time": "2022-01-07T12:49:48.713Z"
   },
   {
    "duration": 12,
    "start_time": "2022-01-07T12:51:20.667Z"
   },
   {
    "duration": 5457,
    "start_time": "2022-01-07T12:52:30.264Z"
   },
   {
    "duration": 913,
    "start_time": "2022-01-07T12:52:47.632Z"
   },
   {
    "duration": 1693,
    "start_time": "2022-01-07T13:10:11.142Z"
   },
   {
    "duration": 1386,
    "start_time": "2022-01-07T13:10:54.529Z"
   },
   {
    "duration": 1411,
    "start_time": "2022-01-07T13:11:04.160Z"
   },
   {
    "duration": 1096,
    "start_time": "2022-01-07T13:14:25.077Z"
   },
   {
    "duration": 1370,
    "start_time": "2022-01-07T13:16:36.872Z"
   },
   {
    "duration": 1031,
    "start_time": "2022-01-07T13:16:51.336Z"
   },
   {
    "duration": 1004,
    "start_time": "2022-01-07T13:18:04.407Z"
   },
   {
    "duration": 1271,
    "start_time": "2022-01-07T13:18:48.846Z"
   },
   {
    "duration": 995,
    "start_time": "2022-01-07T13:19:08.774Z"
   },
   {
    "duration": 1000,
    "start_time": "2022-01-07T13:19:12.270Z"
   },
   {
    "duration": 1245,
    "start_time": "2022-01-07T13:19:32.501Z"
   },
   {
    "duration": 1261,
    "start_time": "2022-01-07T13:22:33.313Z"
   },
   {
    "duration": 1257,
    "start_time": "2022-01-07T13:22:47.410Z"
   },
   {
    "duration": 1447,
    "start_time": "2022-01-07T13:23:35.752Z"
   },
   {
    "duration": 1269,
    "start_time": "2022-01-07T13:23:49.511Z"
   },
   {
    "duration": 1579,
    "start_time": "2022-01-07T13:31:03.413Z"
   },
   {
    "duration": 7780,
    "start_time": "2022-01-07T13:31:09.868Z"
   },
   {
    "duration": 7432,
    "start_time": "2022-01-07T13:31:42.324Z"
   },
   {
    "duration": 1749,
    "start_time": "2022-01-07T13:32:12.284Z"
   },
   {
    "duration": 1669,
    "start_time": "2022-01-07T13:32:20.788Z"
   },
   {
    "duration": 291,
    "start_time": "2022-01-07T13:32:51.611Z"
   },
   {
    "duration": 39,
    "start_time": "2022-01-07T13:32:59.403Z"
   },
   {
    "duration": 262,
    "start_time": "2022-01-07T13:33:09.834Z"
   },
   {
    "duration": 251,
    "start_time": "2022-01-07T13:34:38.369Z"
   },
   {
    "duration": 48,
    "start_time": "2022-01-07T13:34:43.240Z"
   },
   {
    "duration": 43,
    "start_time": "2022-01-07T13:35:01.344Z"
   },
   {
    "duration": 1245,
    "start_time": "2022-01-07T13:35:27.913Z"
   },
   {
    "duration": 1700,
    "start_time": "2022-01-07T13:42:59.645Z"
   },
   {
    "duration": 856,
    "start_time": "2022-01-07T15:16:55.104Z"
   },
   {
    "duration": 32,
    "start_time": "2022-01-07T15:16:55.963Z"
   },
   {
    "duration": 45,
    "start_time": "2022-01-07T15:16:55.999Z"
   },
   {
    "duration": 32,
    "start_time": "2022-01-07T15:16:56.046Z"
   },
   {
    "duration": 6528,
    "start_time": "2022-01-07T15:16:56.080Z"
   },
   {
    "duration": 39781,
    "start_time": "2022-01-07T15:17:02.617Z"
   },
   {
    "duration": 27,
    "start_time": "2022-01-07T15:17:42.401Z"
   },
   {
    "duration": 21,
    "start_time": "2022-01-07T15:17:42.431Z"
   },
   {
    "duration": 71,
    "start_time": "2022-01-07T15:17:42.455Z"
   },
   {
    "duration": 10,
    "start_time": "2022-01-07T15:17:42.528Z"
   },
   {
    "duration": 25,
    "start_time": "2022-01-07T15:17:42.540Z"
   },
   {
    "duration": 9,
    "start_time": "2022-01-07T15:17:42.568Z"
   },
   {
    "duration": 40,
    "start_time": "2022-01-07T15:17:42.579Z"
   },
   {
    "duration": 1388,
    "start_time": "2022-01-07T15:17:42.621Z"
   },
   {
    "duration": 1541,
    "start_time": "2022-01-07T15:20:07.416Z"
   },
   {
    "duration": 400,
    "start_time": "2022-01-07T15:23:33.135Z"
   },
   {
    "duration": 418,
    "start_time": "2022-01-07T15:25:02.693Z"
   },
   {
    "duration": 516,
    "start_time": "2022-01-07T15:25:08.869Z"
   },
   {
    "duration": 341,
    "start_time": "2022-01-07T15:25:15.206Z"
   },
   {
    "duration": 8,
    "start_time": "2022-01-07T15:26:37.003Z"
   },
   {
    "duration": 6,
    "start_time": "2022-01-07T15:26:44.171Z"
   },
   {
    "duration": 9,
    "start_time": "2022-01-07T15:26:53.218Z"
   },
   {
    "duration": 376,
    "start_time": "2022-01-07T15:27:10.418Z"
   },
   {
    "duration": 331,
    "start_time": "2022-01-07T15:27:19.498Z"
   },
   {
    "duration": 6,
    "start_time": "2022-01-07T15:28:07.128Z"
   },
   {
    "duration": 8,
    "start_time": "2022-01-07T15:28:42.775Z"
   },
   {
    "duration": 398,
    "start_time": "2022-01-07T15:28:51.296Z"
   },
   {
    "duration": 347,
    "start_time": "2022-01-07T15:33:16.658Z"
   },
   {
    "duration": 447,
    "start_time": "2022-01-07T15:33:43.041Z"
   },
   {
    "duration": 349,
    "start_time": "2022-01-07T15:33:46.393Z"
   },
   {
    "duration": 6,
    "start_time": "2022-01-07T15:34:14.601Z"
   },
   {
    "duration": 906,
    "start_time": "2022-01-07T15:34:24.951Z"
   },
   {
    "duration": 910,
    "start_time": "2022-01-07T15:34:39.263Z"
   },
   {
    "duration": 930,
    "start_time": "2022-01-07T15:36:22.766Z"
   },
   {
    "duration": 946,
    "start_time": "2022-01-07T15:36:27.645Z"
   },
   {
    "duration": 957,
    "start_time": "2022-01-07T15:36:37.046Z"
   },
   {
    "duration": 5287,
    "start_time": "2022-01-07T15:36:52.005Z"
   },
   {
    "duration": 377,
    "start_time": "2022-01-07T15:41:06.664Z"
   },
   {
    "duration": 8492,
    "start_time": "2022-01-07T15:41:20.247Z"
   },
   {
    "duration": 5348,
    "start_time": "2022-01-07T15:42:14.742Z"
   },
   {
    "duration": 11116,
    "start_time": "2022-01-07T15:43:29.267Z"
   },
   {
    "duration": 10008,
    "start_time": "2022-01-07T15:44:04.579Z"
   },
   {
    "duration": 5374,
    "start_time": "2022-01-07T15:47:06.045Z"
   },
   {
    "duration": 5391,
    "start_time": "2022-01-07T15:47:16.271Z"
   },
   {
    "duration": 870,
    "start_time": "2022-01-07T15:47:34.398Z"
   },
   {
    "duration": 32,
    "start_time": "2022-01-07T15:47:35.271Z"
   },
   {
    "duration": 43,
    "start_time": "2022-01-07T15:47:35.305Z"
   },
   {
    "duration": 33,
    "start_time": "2022-01-07T15:47:35.351Z"
   },
   {
    "duration": 6654,
    "start_time": "2022-01-07T15:47:35.387Z"
   },
   {
    "duration": 40395,
    "start_time": "2022-01-07T15:47:42.044Z"
   },
   {
    "duration": 22,
    "start_time": "2022-01-07T15:48:22.441Z"
   },
   {
    "duration": 23,
    "start_time": "2022-01-07T15:48:22.467Z"
   },
   {
    "duration": 54,
    "start_time": "2022-01-07T15:48:22.492Z"
   },
   {
    "duration": 10,
    "start_time": "2022-01-07T15:48:22.548Z"
   },
   {
    "duration": 25,
    "start_time": "2022-01-07T15:48:22.560Z"
   },
   {
    "duration": 14,
    "start_time": "2022-01-07T15:48:22.588Z"
   },
   {
    "duration": 15,
    "start_time": "2022-01-07T15:48:22.605Z"
   },
   {
    "duration": 592,
    "start_time": "2022-01-07T15:48:22.623Z"
   },
   {
    "duration": 5285,
    "start_time": "2022-01-07T15:49:22.922Z"
   },
   {
    "duration": 5556,
    "start_time": "2022-01-07T15:57:40.737Z"
   },
   {
    "duration": 2891,
    "start_time": "2022-01-07T16:09:24.730Z"
   },
   {
    "duration": 9081,
    "start_time": "2022-01-07T16:09:33.064Z"
   },
   {
    "duration": 363,
    "start_time": "2022-01-07T16:09:50.681Z"
   },
   {
    "duration": 346,
    "start_time": "2022-01-07T16:09:59.792Z"
   },
   {
    "duration": 342,
    "start_time": "2022-01-07T16:11:57.430Z"
   },
   {
    "duration": 5456,
    "start_time": "2022-01-07T16:12:02.669Z"
   },
   {
    "duration": 5333,
    "start_time": "2022-01-07T16:12:14.069Z"
   },
   {
    "duration": -63,
    "start_time": "2022-01-07T16:15:12.804Z"
   },
   {
    "duration": 5318,
    "start_time": "2022-01-07T16:15:26.706Z"
   },
   {
    "duration": 919,
    "start_time": "2022-01-07T16:15:52.909Z"
   },
   {
    "duration": 32,
    "start_time": "2022-01-07T16:15:53.831Z"
   },
   {
    "duration": 54,
    "start_time": "2022-01-07T16:15:53.866Z"
   },
   {
    "duration": 35,
    "start_time": "2022-01-07T16:15:53.923Z"
   },
   {
    "duration": 6981,
    "start_time": "2022-01-07T16:15:53.960Z"
   },
   {
    "duration": 41553,
    "start_time": "2022-01-07T16:16:00.944Z"
   },
   {
    "duration": 25,
    "start_time": "2022-01-07T16:16:42.500Z"
   },
   {
    "duration": 22,
    "start_time": "2022-01-07T16:16:42.528Z"
   },
   {
    "duration": 44,
    "start_time": "2022-01-07T16:16:42.553Z"
   },
   {
    "duration": 19,
    "start_time": "2022-01-07T16:16:42.600Z"
   },
   {
    "duration": 36,
    "start_time": "2022-01-07T16:16:42.621Z"
   },
   {
    "duration": 11,
    "start_time": "2022-01-07T16:16:42.659Z"
   },
   {
    "duration": 10,
    "start_time": "2022-01-07T16:16:42.672Z"
   },
   {
    "duration": 521,
    "start_time": "2022-01-07T16:16:42.684Z"
   },
   {
    "duration": -57,
    "start_time": "2022-01-07T16:16:43.265Z"
   },
   {
    "duration": 5400,
    "start_time": "2022-01-07T16:17:21.607Z"
   },
   {
    "duration": 8545,
    "start_time": "2022-01-07T16:17:38.158Z"
   },
   {
    "duration": 8474,
    "start_time": "2022-01-07T16:19:27.618Z"
   },
   {
    "duration": 357,
    "start_time": "2022-01-07T16:19:46.460Z"
   },
   {
    "duration": 5668,
    "start_time": "2022-01-07T16:20:07.555Z"
   },
   {
    "duration": 5314,
    "start_time": "2022-01-07T16:20:18.091Z"
   },
   {
    "duration": 9101,
    "start_time": "2022-01-07T16:22:50.440Z"
   },
   {
    "duration": 435,
    "start_time": "2022-01-07T16:23:07.350Z"
   },
   {
    "duration": 1370,
    "start_time": "2022-01-07T16:30:11.685Z"
   },
   {
    "duration": 1277,
    "start_time": "2022-01-07T16:30:20.669Z"
   },
   {
    "duration": 1437,
    "start_time": "2022-01-07T16:30:37.069Z"
   },
   {
    "duration": 10916,
    "start_time": "2022-01-07T16:32:28.866Z"
   },
   {
    "duration": 8655,
    "start_time": "2022-01-07T16:32:56.185Z"
   },
   {
    "duration": 9669,
    "start_time": "2022-01-07T16:33:17.650Z"
   },
   {
    "duration": 9831,
    "start_time": "2022-01-07T16:33:32.546Z"
   },
   {
    "duration": 531,
    "start_time": "2022-01-07T16:36:25.749Z"
   },
   {
    "duration": 126,
    "start_time": "2022-01-07T16:36:31.709Z"
   },
   {
    "duration": 346,
    "start_time": "2022-01-07T16:36:35.981Z"
   },
   {
    "duration": -84,
    "start_time": "2022-01-07T16:37:59.335Z"
   },
   {
    "duration": 5631,
    "start_time": "2022-01-07T16:39:05.609Z"
   },
   {
    "duration": 5649,
    "start_time": "2022-01-07T16:39:44.009Z"
   },
   {
    "duration": 5519,
    "start_time": "2022-01-07T16:39:56.537Z"
   },
   {
    "duration": 5199,
    "start_time": "2022-01-07T16:40:45.889Z"
   },
   {
    "duration": 5680,
    "start_time": "2022-01-07T16:41:09.359Z"
   },
   {
    "duration": 5801,
    "start_time": "2022-01-07T16:41:22.431Z"
   },
   {
    "duration": 5482,
    "start_time": "2022-01-07T16:41:34.462Z"
   },
   {
    "duration": 5301,
    "start_time": "2022-01-07T16:41:42.438Z"
   },
   {
    "duration": 5505,
    "start_time": "2022-01-07T16:43:31.259Z"
   },
   {
    "duration": 5275,
    "start_time": "2022-01-07T16:49:48.123Z"
   },
   {
    "duration": 27,
    "start_time": "2022-01-07T17:12:38.020Z"
   },
   {
    "duration": 17,
    "start_time": "2022-01-07T17:12:43.907Z"
   },
   {
    "duration": 16,
    "start_time": "2022-01-07T17:13:01.589Z"
   },
   {
    "duration": 15,
    "start_time": "2022-01-07T17:16:06.705Z"
   },
   {
    "duration": 3,
    "start_time": "2022-01-07T17:24:28.684Z"
   },
   {
    "duration": 3,
    "start_time": "2022-01-07T17:24:39.756Z"
   },
   {
    "duration": 704,
    "start_time": "2022-01-08T06:23:31.262Z"
   },
   {
    "duration": 19,
    "start_time": "2022-01-08T06:23:31.968Z"
   },
   {
    "duration": 22,
    "start_time": "2022-01-08T06:23:31.989Z"
   },
   {
    "duration": 31,
    "start_time": "2022-01-08T06:23:32.012Z"
   },
   {
    "duration": 3719,
    "start_time": "2022-01-08T06:23:32.045Z"
   },
   {
    "duration": 20017,
    "start_time": "2022-01-08T06:23:35.765Z"
   },
   {
    "duration": 13,
    "start_time": "2022-01-08T06:23:55.783Z"
   },
   {
    "duration": 13,
    "start_time": "2022-01-08T06:23:55.798Z"
   },
   {
    "duration": 46,
    "start_time": "2022-01-08T06:23:55.813Z"
   },
   {
    "duration": 6,
    "start_time": "2022-01-08T06:23:55.860Z"
   },
   {
    "duration": 17,
    "start_time": "2022-01-08T06:23:55.868Z"
   },
   {
    "duration": 9,
    "start_time": "2022-01-08T06:23:55.886Z"
   },
   {
    "duration": 9,
    "start_time": "2022-01-08T06:23:55.896Z"
   },
   {
    "duration": 3806,
    "start_time": "2022-01-08T06:23:55.906Z"
   },
   {
    "duration": 28,
    "start_time": "2022-01-08T06:23:59.714Z"
   },
   {
    "duration": 11,
    "start_time": "2022-01-08T06:23:59.743Z"
   },
   {
    "duration": 3,
    "start_time": "2022-01-08T06:23:59.756Z"
   },
   {
    "duration": 23,
    "start_time": "2022-01-08T06:42:30.069Z"
   },
   {
    "duration": 26,
    "start_time": "2022-01-08T06:45:45.217Z"
   },
   {
    "duration": 12,
    "start_time": "2022-01-08T06:46:10.386Z"
   },
   {
    "duration": 4,
    "start_time": "2022-01-08T06:55:05.277Z"
   },
   {
    "duration": 4909,
    "start_time": "2022-01-08T06:55:16.003Z"
   },
   {
    "duration": 4,
    "start_time": "2022-01-08T06:55:23.366Z"
   },
   {
    "duration": 4,
    "start_time": "2022-01-08T06:55:28.782Z"
   },
   {
    "duration": 4,
    "start_time": "2022-01-08T06:55:31.902Z"
   },
   {
    "duration": 201,
    "start_time": "2022-01-08T07:09:41.673Z"
   },
   {
    "duration": 5704,
    "start_time": "2022-01-08T07:10:07.339Z"
   },
   {
    "duration": 257,
    "start_time": "2022-01-08T07:10:23.540Z"
   },
   {
    "duration": 223,
    "start_time": "2022-01-08T07:10:38.979Z"
   },
   {
    "duration": 309,
    "start_time": "2022-01-08T07:11:30.985Z"
   },
   {
    "duration": 25,
    "start_time": "2022-01-08T07:11:43.609Z"
   },
   {
    "duration": 6,
    "start_time": "2022-01-08T07:11:52.682Z"
   },
   {
    "duration": 6,
    "start_time": "2022-01-08T07:13:31.039Z"
   },
   {
    "duration": 6,
    "start_time": "2022-01-08T07:15:02.909Z"
   },
   {
    "duration": 6,
    "start_time": "2022-01-08T07:15:37.157Z"
   },
   {
    "duration": 6,
    "start_time": "2022-01-08T07:16:38.699Z"
   },
   {
    "duration": 6,
    "start_time": "2022-01-08T07:17:33.185Z"
   },
   {
    "duration": 24953,
    "start_time": "2022-01-08T07:21:38.029Z"
   },
   {
    "duration": 16809,
    "start_time": "2022-01-08T07:31:17.944Z"
   },
   {
    "duration": -2212,
    "start_time": "2022-01-08T07:33:19.693Z"
   },
   {
    "duration": 16567,
    "start_time": "2022-01-08T07:33:34.112Z"
   },
   {
    "duration": 588,
    "start_time": "2022-01-08T07:36:02.730Z"
   },
   {
    "duration": 368,
    "start_time": "2022-01-08T07:36:21.433Z"
   },
   {
    "duration": 325,
    "start_time": "2022-01-08T07:36:41.000Z"
   },
   {
    "duration": 332,
    "start_time": "2022-01-08T07:37:25.560Z"
   },
   {
    "duration": 16287,
    "start_time": "2022-01-08T07:44:50.230Z"
   },
   {
    "duration": 16348,
    "start_time": "2022-01-08T07:45:34.309Z"
   },
   {
    "duration": 16539,
    "start_time": "2022-01-08T07:57:45.181Z"
   },
   {
    "duration": 5096,
    "start_time": "2022-01-08T07:58:07.325Z"
   },
   {
    "duration": 592,
    "start_time": "2022-01-08T07:58:35.059Z"
   },
   {
    "duration": 18,
    "start_time": "2022-01-08T07:58:35.652Z"
   },
   {
    "duration": 21,
    "start_time": "2022-01-08T07:58:35.672Z"
   },
   {
    "duration": 17,
    "start_time": "2022-01-08T07:58:35.695Z"
   },
   {
    "duration": 3679,
    "start_time": "2022-01-08T07:58:35.714Z"
   },
   {
    "duration": 20639,
    "start_time": "2022-01-08T07:58:39.395Z"
   },
   {
    "duration": 16,
    "start_time": "2022-01-08T07:59:00.036Z"
   },
   {
    "duration": 18,
    "start_time": "2022-01-08T07:59:00.054Z"
   },
   {
    "duration": 28,
    "start_time": "2022-01-08T07:59:00.074Z"
   },
   {
    "duration": 7,
    "start_time": "2022-01-08T07:59:00.104Z"
   },
   {
    "duration": 44,
    "start_time": "2022-01-08T07:59:00.112Z"
   },
   {
    "duration": 8,
    "start_time": "2022-01-08T07:59:00.158Z"
   },
   {
    "duration": 15,
    "start_time": "2022-01-08T07:59:00.168Z"
   },
   {
    "duration": 4081,
    "start_time": "2022-01-08T07:59:00.185Z"
   },
   {
    "duration": 16,
    "start_time": "2022-01-08T07:59:04.269Z"
   },
   {
    "duration": 11,
    "start_time": "2022-01-08T07:59:04.287Z"
   },
   {
    "duration": 49,
    "start_time": "2022-01-08T07:59:04.300Z"
   },
   {
    "duration": 24478,
    "start_time": "2022-01-08T07:59:04.351Z"
   },
   {
    "duration": 11,
    "start_time": "2022-01-08T07:59:28.830Z"
   },
   {
    "duration": 551,
    "start_time": "2022-01-08T10:27:44.273Z"
   },
   {
    "duration": 18,
    "start_time": "2022-01-08T10:27:44.826Z"
   },
   {
    "duration": 18,
    "start_time": "2022-01-08T10:27:44.845Z"
   },
   {
    "duration": 17,
    "start_time": "2022-01-08T10:27:44.864Z"
   },
   {
    "duration": 3660,
    "start_time": "2022-01-08T10:27:44.883Z"
   },
   {
    "duration": 19551,
    "start_time": "2022-01-08T10:27:48.545Z"
   },
   {
    "duration": 13,
    "start_time": "2022-01-08T10:28:08.098Z"
   },
   {
    "duration": 26,
    "start_time": "2022-01-08T10:28:08.113Z"
   },
   {
    "duration": 24,
    "start_time": "2022-01-08T10:28:08.141Z"
   },
   {
    "duration": 6,
    "start_time": "2022-01-08T10:28:08.167Z"
   },
   {
    "duration": 16,
    "start_time": "2022-01-08T10:28:08.175Z"
   },
   {
    "duration": 6,
    "start_time": "2022-01-08T10:28:08.192Z"
   },
   {
    "duration": 31,
    "start_time": "2022-01-08T10:28:08.199Z"
   },
   {
    "duration": 3925,
    "start_time": "2022-01-08T10:28:08.232Z"
   },
   {
    "duration": 14,
    "start_time": "2022-01-08T10:28:12.158Z"
   },
   {
    "duration": 8,
    "start_time": "2022-01-08T10:28:12.173Z"
   },
   {
    "duration": 45,
    "start_time": "2022-01-08T10:28:12.183Z"
   },
   {
    "duration": 23470,
    "start_time": "2022-01-08T10:28:12.229Z"
   },
   {
    "duration": 9,
    "start_time": "2022-01-08T10:28:35.700Z"
   },
   {
    "duration": 413,
    "start_time": "2022-01-08T11:06:27.228Z"
   },
   {
    "duration": 10,
    "start_time": "2022-01-08T11:06:50.258Z"
   },
   {
    "duration": 11,
    "start_time": "2022-01-08T11:09:01.145Z"
   },
   {
    "duration": 13,
    "start_time": "2022-01-08T11:15:44.967Z"
   },
   {
    "duration": 781,
    "start_time": "2022-01-08T13:18:56.295Z"
   },
   {
    "duration": 33,
    "start_time": "2022-01-08T13:18:57.078Z"
   },
   {
    "duration": 54,
    "start_time": "2022-01-08T13:18:57.118Z"
   },
   {
    "duration": 37,
    "start_time": "2022-01-08T13:18:57.175Z"
   },
   {
    "duration": 10910,
    "start_time": "2022-01-08T13:18:57.215Z"
   },
   {
    "duration": 49985,
    "start_time": "2022-01-08T13:19:08.128Z"
   },
   {
    "duration": 21,
    "start_time": "2022-01-08T13:19:58.117Z"
   },
   {
    "duration": 24,
    "start_time": "2022-01-08T13:19:58.160Z"
   },
   {
    "duration": 81,
    "start_time": "2022-01-08T13:19:58.187Z"
   },
   {
    "duration": 10,
    "start_time": "2022-01-08T13:19:58.271Z"
   },
   {
    "duration": 26,
    "start_time": "2022-01-08T13:19:58.283Z"
   },
   {
    "duration": 9,
    "start_time": "2022-01-08T13:19:58.312Z"
   },
   {
    "duration": 42,
    "start_time": "2022-01-08T13:19:58.324Z"
   },
   {
    "duration": 6770,
    "start_time": "2022-01-08T13:19:58.370Z"
   },
   {
    "duration": 34,
    "start_time": "2022-01-08T13:20:05.143Z"
   },
   {
    "duration": 19,
    "start_time": "2022-01-08T13:20:05.179Z"
   },
   {
    "duration": 70,
    "start_time": "2022-01-08T13:20:05.201Z"
   },
   {
    "duration": 39944,
    "start_time": "2022-01-08T13:20:05.274Z"
   },
   {
    "duration": 13,
    "start_time": "2022-01-08T13:20:45.221Z"
   },
   {
    "duration": 35,
    "start_time": "2022-01-08T13:20:45.236Z"
   },
   {
    "duration": 20,
    "start_time": "2022-01-08T13:20:45.274Z"
   },
   {
    "duration": 60,
    "start_time": "2022-01-08T13:20:45.299Z"
   },
   {
    "duration": 17,
    "start_time": "2022-01-08T13:20:45.362Z"
   },
   {
    "duration": 898,
    "start_time": "2022-01-09T07:03:45.019Z"
   },
   {
    "duration": 947,
    "start_time": "2022-01-09T07:03:56.382Z"
   },
   {
    "duration": 33,
    "start_time": "2022-01-09T07:03:57.332Z"
   },
   {
    "duration": 59,
    "start_time": "2022-01-09T07:03:57.369Z"
   },
   {
    "duration": 36,
    "start_time": "2022-01-09T07:03:57.432Z"
   },
   {
    "duration": 6554,
    "start_time": "2022-01-09T07:03:57.471Z"
   },
   {
    "duration": 39506,
    "start_time": "2022-01-09T07:04:04.027Z"
   },
   {
    "duration": 18,
    "start_time": "2022-01-09T07:04:43.536Z"
   },
   {
    "duration": 22,
    "start_time": "2022-01-09T07:04:43.557Z"
   },
   {
    "duration": 72,
    "start_time": "2022-01-09T07:04:43.581Z"
   },
   {
    "duration": 10,
    "start_time": "2022-01-09T07:04:43.655Z"
   },
   {
    "duration": 49,
    "start_time": "2022-01-09T07:04:43.668Z"
   },
   {
    "duration": 10,
    "start_time": "2022-01-09T07:04:43.719Z"
   },
   {
    "duration": 13,
    "start_time": "2022-01-09T07:04:43.732Z"
   },
   {
    "duration": 5190,
    "start_time": "2022-01-09T07:04:43.748Z"
   },
   {
    "duration": 23,
    "start_time": "2022-01-09T07:04:48.941Z"
   },
   {
    "duration": 17,
    "start_time": "2022-01-09T07:04:48.966Z"
   },
   {
    "duration": 43,
    "start_time": "2022-01-09T07:04:49.018Z"
   },
   {
    "duration": 38457,
    "start_time": "2022-01-09T07:04:49.064Z"
   },
   {
    "duration": 12,
    "start_time": "2022-01-09T07:05:27.523Z"
   },
   {
    "duration": 18,
    "start_time": "2022-01-09T07:05:27.538Z"
   },
   {
    "duration": 9595,
    "start_time": "2022-01-09T07:05:27.558Z"
   },
   {
    "duration": 1267,
    "start_time": "2022-01-09T07:05:35.888Z"
   },
   {
    "duration": 1261,
    "start_time": "2022-01-09T07:05:35.896Z"
   },
   {
    "duration": 1256,
    "start_time": "2022-01-09T07:05:35.902Z"
   },
   {
    "duration": 8656,
    "start_time": "2022-01-09T07:08:58.341Z"
   },
   {
    "duration": 116,
    "start_time": "2022-01-09T07:09:10.852Z"
   },
   {
    "duration": 9281,
    "start_time": "2022-01-09T07:09:23.658Z"
   },
   {
    "duration": 8367,
    "start_time": "2022-01-09T07:09:40.195Z"
   },
   {
    "duration": 9283,
    "start_time": "2022-01-09T07:10:01.155Z"
   },
   {
    "duration": 9245,
    "start_time": "2022-01-09T07:10:33.934Z"
   },
   {
    "duration": 373,
    "start_time": "2022-01-09T07:11:23.546Z"
   },
   {
    "duration": 349,
    "start_time": "2022-01-09T07:11:31.323Z"
   },
   {
    "duration": 336,
    "start_time": "2022-01-09T07:11:38.764Z"
   },
   {
    "duration": 424,
    "start_time": "2022-01-09T07:11:51.508Z"
   },
   {
    "duration": 35,
    "start_time": "2022-01-09T07:11:55.466Z"
   },
   {
    "duration": 18,
    "start_time": "2022-01-09T07:13:09.166Z"
   },
   {
    "duration": 7,
    "start_time": "2022-01-09T07:13:59.626Z"
   },
   {
    "duration": 11,
    "start_time": "2022-01-09T07:17:48.032Z"
   },
   {
    "duration": 8,
    "start_time": "2022-01-09T07:18:29.211Z"
   },
   {
    "duration": 34,
    "start_time": "2022-01-09T07:18:58.290Z"
   },
   {
    "duration": 31,
    "start_time": "2022-01-09T07:20:02.808Z"
   },
   {
    "duration": 27,
    "start_time": "2022-01-09T07:23:34.097Z"
   },
   {
    "duration": 153,
    "start_time": "2022-01-09T07:43:25.336Z"
   },
   {
    "duration": 329,
    "start_time": "2022-01-09T07:43:31.422Z"
   },
   {
    "duration": 321,
    "start_time": "2022-01-09T07:43:39.327Z"
   },
   {
    "duration": 10,
    "start_time": "2022-01-09T07:43:50.478Z"
   },
   {
    "duration": 16,
    "start_time": "2022-01-09T07:44:03.907Z"
   },
   {
    "duration": 11,
    "start_time": "2022-01-09T07:45:42.718Z"
   },
   {
    "duration": 16,
    "start_time": "2022-01-09T07:45:50.142Z"
   },
   {
    "duration": 16,
    "start_time": "2022-01-09T07:45:53.057Z"
   },
   {
    "duration": 12,
    "start_time": "2022-01-09T07:46:03.982Z"
   },
   {
    "duration": 19,
    "start_time": "2022-01-09T07:46:10.287Z"
   },
   {
    "duration": 17,
    "start_time": "2022-01-09T07:46:14.760Z"
   },
   {
    "duration": 16,
    "start_time": "2022-01-09T07:46:29.830Z"
   },
   {
    "duration": 14,
    "start_time": "2022-01-09T07:46:40.015Z"
   },
   {
    "duration": 814,
    "start_time": "2022-01-09T07:46:54.825Z"
   },
   {
    "duration": 31,
    "start_time": "2022-01-09T07:46:55.641Z"
   },
   {
    "duration": 48,
    "start_time": "2022-01-09T07:46:55.675Z"
   },
   {
    "duration": 32,
    "start_time": "2022-01-09T07:46:55.726Z"
   },
   {
    "duration": 6825,
    "start_time": "2022-01-09T07:46:55.761Z"
   },
   {
    "duration": 38115,
    "start_time": "2022-01-09T07:47:02.588Z"
   },
   {
    "duration": 26,
    "start_time": "2022-01-09T07:47:40.706Z"
   },
   {
    "duration": 21,
    "start_time": "2022-01-09T07:47:40.735Z"
   },
   {
    "duration": 67,
    "start_time": "2022-01-09T07:47:40.759Z"
   },
   {
    "duration": 10,
    "start_time": "2022-01-09T07:47:40.828Z"
   },
   {
    "duration": 22,
    "start_time": "2022-01-09T07:47:40.841Z"
   },
   {
    "duration": 11,
    "start_time": "2022-01-09T07:47:40.866Z"
   },
   {
    "duration": 43,
    "start_time": "2022-01-09T07:47:40.879Z"
   },
   {
    "duration": 5127,
    "start_time": "2022-01-09T07:47:40.925Z"
   },
   {
    "duration": 23,
    "start_time": "2022-01-09T07:47:46.055Z"
   },
   {
    "duration": 37,
    "start_time": "2022-01-09T07:47:46.081Z"
   },
   {
    "duration": 35,
    "start_time": "2022-01-09T07:47:46.121Z"
   },
   {
    "duration": 38098,
    "start_time": "2022-01-09T07:47:46.159Z"
   },
   {
    "duration": 13,
    "start_time": "2022-01-09T07:48:24.259Z"
   },
   {
    "duration": 7,
    "start_time": "2022-01-09T07:48:24.274Z"
   },
   {
    "duration": 41,
    "start_time": "2022-01-09T07:48:24.284Z"
   },
   {
    "duration": 27,
    "start_time": "2022-01-09T07:48:24.327Z"
   },
   {
    "duration": 18,
    "start_time": "2022-01-09T07:48:24.358Z"
   },
   {
    "duration": 51,
    "start_time": "2022-01-09T07:48:24.379Z"
   },
   {
    "duration": 18,
    "start_time": "2022-01-09T07:48:24.432Z"
   },
   {
    "duration": 19,
    "start_time": "2022-01-09T07:48:42.799Z"
   },
   {
    "duration": 17,
    "start_time": "2022-01-09T07:49:29.440Z"
   },
   {
    "duration": 532,
    "start_time": "2022-01-09T07:49:51.495Z"
   },
   {
    "duration": 15,
    "start_time": "2022-01-09T07:51:42.305Z"
   },
   {
    "duration": 23,
    "start_time": "2022-01-09T07:51:51.410Z"
   },
   {
    "duration": 15,
    "start_time": "2022-01-09T07:53:02.232Z"
   },
   {
    "duration": 588,
    "start_time": "2022-01-09T17:27:43.702Z"
   },
   {
    "duration": 21,
    "start_time": "2022-01-09T17:27:44.292Z"
   },
   {
    "duration": 22,
    "start_time": "2022-01-09T17:27:44.316Z"
   },
   {
    "duration": 20,
    "start_time": "2022-01-09T17:27:44.340Z"
   },
   {
    "duration": 4030,
    "start_time": "2022-01-09T17:27:44.362Z"
   },
   {
    "duration": 21837,
    "start_time": "2022-01-09T17:27:48.394Z"
   },
   {
    "duration": 13,
    "start_time": "2022-01-09T17:28:10.233Z"
   },
   {
    "duration": 14,
    "start_time": "2022-01-09T17:28:10.248Z"
   },
   {
    "duration": 50,
    "start_time": "2022-01-09T17:28:10.265Z"
   },
   {
    "duration": 7,
    "start_time": "2022-01-09T17:28:10.317Z"
   },
   {
    "duration": 19,
    "start_time": "2022-01-09T17:28:10.325Z"
   },
   {
    "duration": 7,
    "start_time": "2022-01-09T17:28:10.346Z"
   },
   {
    "duration": 8,
    "start_time": "2022-01-09T17:28:10.355Z"
   },
   {
    "duration": 3913,
    "start_time": "2022-01-09T17:28:10.365Z"
   },
   {
    "duration": 24,
    "start_time": "2022-01-09T17:28:14.280Z"
   },
   {
    "duration": 11,
    "start_time": "2022-01-09T17:28:14.305Z"
   },
   {
    "duration": 25,
    "start_time": "2022-01-09T17:28:14.318Z"
   },
   {
    "duration": 26384,
    "start_time": "2022-01-09T17:28:14.344Z"
   },
   {
    "duration": 10,
    "start_time": "2022-01-09T17:28:40.729Z"
   },
   {
    "duration": 37,
    "start_time": "2022-01-09T17:28:40.741Z"
   },
   {
    "duration": 28,
    "start_time": "2022-01-09T17:28:40.780Z"
   },
   {
    "duration": 25,
    "start_time": "2022-01-09T17:28:40.810Z"
   },
   {
    "duration": 31,
    "start_time": "2022-01-09T17:28:40.837Z"
   },
   {
    "duration": 24,
    "start_time": "2022-01-09T17:28:40.869Z"
   },
   {
    "duration": 16,
    "start_time": "2022-01-09T17:28:40.895Z"
   },
   {
    "duration": 640,
    "start_time": "2022-01-09T17:44:59.004Z"
   },
   {
    "duration": 22,
    "start_time": "2022-01-09T17:44:59.646Z"
   },
   {
    "duration": 32,
    "start_time": "2022-01-09T17:44:59.670Z"
   },
   {
    "duration": 22,
    "start_time": "2022-01-09T17:44:59.704Z"
   },
   {
    "duration": 4219,
    "start_time": "2022-01-09T17:44:59.728Z"
   },
   {
    "duration": 22377,
    "start_time": "2022-01-09T17:45:03.949Z"
   },
   {
    "duration": 14,
    "start_time": "2022-01-09T17:45:26.328Z"
   },
   {
    "duration": 18,
    "start_time": "2022-01-09T17:45:26.344Z"
   },
   {
    "duration": 56,
    "start_time": "2022-01-09T17:45:26.365Z"
   },
   {
    "duration": 7,
    "start_time": "2022-01-09T17:45:26.424Z"
   },
   {
    "duration": 18,
    "start_time": "2022-01-09T17:45:26.433Z"
   },
   {
    "duration": 8,
    "start_time": "2022-01-09T17:45:26.452Z"
   },
   {
    "duration": 37,
    "start_time": "2022-01-09T17:45:26.462Z"
   },
   {
    "duration": 4369,
    "start_time": "2022-01-09T17:45:26.501Z"
   },
   {
    "duration": 29,
    "start_time": "2022-01-09T17:45:30.872Z"
   },
   {
    "duration": 13,
    "start_time": "2022-01-09T17:45:30.904Z"
   },
   {
    "duration": 35,
    "start_time": "2022-01-09T17:45:30.918Z"
   },
   {
    "duration": 26193,
    "start_time": "2022-01-09T17:45:30.954Z"
   },
   {
    "duration": 9,
    "start_time": "2022-01-09T17:45:57.149Z"
   },
   {
    "duration": 23,
    "start_time": "2022-01-09T17:45:57.159Z"
   },
   {
    "duration": 40,
    "start_time": "2022-01-09T17:45:57.183Z"
   },
   {
    "duration": 11,
    "start_time": "2022-01-09T17:45:57.225Z"
   },
   {
    "duration": 11,
    "start_time": "2022-01-09T17:45:57.238Z"
   },
   {
    "duration": 39,
    "start_time": "2022-01-09T17:45:57.251Z"
   },
   {
    "duration": 37,
    "start_time": "2022-01-09T17:45:57.292Z"
   },
   {
    "duration": 17,
    "start_time": "2022-01-09T17:45:57.331Z"
   },
   {
    "duration": 592,
    "start_time": "2022-01-09T17:46:51.497Z"
   },
   {
    "duration": 20,
    "start_time": "2022-01-09T17:46:52.091Z"
   },
   {
    "duration": 20,
    "start_time": "2022-01-09T17:46:52.115Z"
   },
   {
    "duration": 22,
    "start_time": "2022-01-09T17:46:52.137Z"
   },
   {
    "duration": 3898,
    "start_time": "2022-01-09T17:46:52.160Z"
   },
   {
    "duration": 21775,
    "start_time": "2022-01-09T17:46:56.060Z"
   },
   {
    "duration": 14,
    "start_time": "2022-01-09T17:47:17.837Z"
   },
   {
    "duration": 14,
    "start_time": "2022-01-09T17:47:17.853Z"
   },
   {
    "duration": 48,
    "start_time": "2022-01-09T17:47:17.869Z"
   },
   {
    "duration": 7,
    "start_time": "2022-01-09T17:47:17.919Z"
   },
   {
    "duration": 17,
    "start_time": "2022-01-09T17:47:17.928Z"
   },
   {
    "duration": 7,
    "start_time": "2022-01-09T17:47:17.946Z"
   },
   {
    "duration": 8,
    "start_time": "2022-01-09T17:47:17.954Z"
   },
   {
    "duration": 3815,
    "start_time": "2022-01-09T17:47:17.991Z"
   },
   {
    "duration": 18,
    "start_time": "2022-01-09T17:47:21.808Z"
   },
   {
    "duration": 10,
    "start_time": "2022-01-09T17:47:21.828Z"
   },
   {
    "duration": 24,
    "start_time": "2022-01-09T17:47:21.839Z"
   },
   {
    "duration": 25952,
    "start_time": "2022-01-09T17:47:21.891Z"
   },
   {
    "duration": 9,
    "start_time": "2022-01-09T17:47:47.844Z"
   },
   {
    "duration": 5,
    "start_time": "2022-01-09T17:47:47.855Z"
   },
   {
    "duration": 31,
    "start_time": "2022-01-09T17:47:47.861Z"
   },
   {
    "duration": 11,
    "start_time": "2022-01-09T17:47:47.895Z"
   },
   {
    "duration": 3,
    "start_time": "2022-01-09T17:47:47.908Z"
   },
   {
    "duration": 13,
    "start_time": "2022-01-09T17:47:47.912Z"
   },
   {
    "duration": 15,
    "start_time": "2022-01-09T17:47:47.927Z"
   },
   {
    "duration": 11,
    "start_time": "2022-01-09T17:47:47.943Z"
   },
   {
    "duration": 8,
    "start_time": "2022-01-09T17:48:05.323Z"
   },
   {
    "duration": 635,
    "start_time": "2022-01-09T17:48:15.265Z"
   },
   {
    "duration": 21,
    "start_time": "2022-01-09T17:48:15.902Z"
   },
   {
    "duration": 22,
    "start_time": "2022-01-09T17:48:15.928Z"
   },
   {
    "duration": 45,
    "start_time": "2022-01-09T17:48:15.952Z"
   },
   {
    "duration": 3894,
    "start_time": "2022-01-09T17:48:16.000Z"
   },
   {
    "duration": 21464,
    "start_time": "2022-01-09T17:48:19.895Z"
   },
   {
    "duration": 14,
    "start_time": "2022-01-09T17:48:41.361Z"
   },
   {
    "duration": 27,
    "start_time": "2022-01-09T17:48:41.377Z"
   },
   {
    "duration": 29,
    "start_time": "2022-01-09T17:48:41.406Z"
   },
   {
    "duration": 8,
    "start_time": "2022-01-09T17:48:41.437Z"
   },
   {
    "duration": 19,
    "start_time": "2022-01-09T17:48:41.446Z"
   },
   {
    "duration": 28,
    "start_time": "2022-01-09T17:48:41.467Z"
   },
   {
    "duration": 9,
    "start_time": "2022-01-09T17:48:41.497Z"
   },
   {
    "duration": 3958,
    "start_time": "2022-01-09T17:48:41.508Z"
   },
   {
    "duration": 29,
    "start_time": "2022-01-09T17:48:45.468Z"
   },
   {
    "duration": 11,
    "start_time": "2022-01-09T17:48:45.498Z"
   },
   {
    "duration": 24,
    "start_time": "2022-01-09T17:48:45.511Z"
   },
   {
    "duration": 26102,
    "start_time": "2022-01-09T17:48:45.537Z"
   },
   {
    "duration": 9,
    "start_time": "2022-01-09T17:49:11.641Z"
   },
   {
    "duration": 7,
    "start_time": "2022-01-09T17:49:11.652Z"
   },
   {
    "duration": 8,
    "start_time": "2022-01-09T17:49:11.661Z"
   },
   {
    "duration": 27,
    "start_time": "2022-01-09T17:49:11.672Z"
   },
   {
    "duration": 2,
    "start_time": "2022-01-09T17:49:11.701Z"
   },
   {
    "duration": 13,
    "start_time": "2022-01-09T17:49:11.705Z"
   },
   {
    "duration": 15,
    "start_time": "2022-01-09T17:49:11.720Z"
   },
   {
    "duration": 12,
    "start_time": "2022-01-09T17:49:11.736Z"
   },
   {
    "duration": 17,
    "start_time": "2022-01-09T17:54:57.915Z"
   },
   {
    "duration": 13,
    "start_time": "2022-01-09T17:55:40.332Z"
   },
   {
    "duration": 341,
    "start_time": "2022-01-09T17:57:59.569Z"
   },
   {
    "duration": 12,
    "start_time": "2022-01-09T17:58:06.650Z"
   },
   {
    "duration": 158,
    "start_time": "2022-01-09T18:01:33.166Z"
   },
   {
    "duration": 13,
    "start_time": "2022-01-09T18:01:39.686Z"
   },
   {
    "duration": 16,
    "start_time": "2022-01-09T18:02:48.669Z"
   },
   {
    "duration": 14,
    "start_time": "2022-01-09T18:05:21.262Z"
   },
   {
    "duration": 49,
    "start_time": "2022-01-09T18:05:53.097Z"
   },
   {
    "duration": 14,
    "start_time": "2022-01-09T18:06:08.680Z"
   },
   {
    "duration": 14,
    "start_time": "2022-01-09T18:06:15.169Z"
   },
   {
    "duration": 15,
    "start_time": "2022-01-09T18:08:18.469Z"
   },
   {
    "duration": 11,
    "start_time": "2022-01-09T18:11:05.854Z"
   },
   {
    "duration": 11,
    "start_time": "2022-01-09T18:11:18.658Z"
   },
   {
    "duration": 10,
    "start_time": "2022-01-09T18:11:19.401Z"
   },
   {
    "duration": 8,
    "start_time": "2022-01-09T18:11:25.032Z"
   },
   {
    "duration": 14,
    "start_time": "2022-01-09T18:11:27.802Z"
   },
   {
    "duration": 614,
    "start_time": "2022-01-09T18:11:34.117Z"
   },
   {
    "duration": 21,
    "start_time": "2022-01-09T18:11:34.733Z"
   },
   {
    "duration": 33,
    "start_time": "2022-01-09T18:11:34.756Z"
   },
   {
    "duration": 21,
    "start_time": "2022-01-09T18:11:34.791Z"
   },
   {
    "duration": 3975,
    "start_time": "2022-01-09T18:11:34.813Z"
   },
   {
    "duration": 21585,
    "start_time": "2022-01-09T18:11:38.791Z"
   },
   {
    "duration": 23,
    "start_time": "2022-01-09T18:12:00.378Z"
   },
   {
    "duration": 17,
    "start_time": "2022-01-09T18:12:00.403Z"
   },
   {
    "duration": 39,
    "start_time": "2022-01-09T18:12:00.424Z"
   },
   {
    "duration": 30,
    "start_time": "2022-01-09T18:12:00.466Z"
   },
   {
    "duration": 28,
    "start_time": "2022-01-09T18:12:00.498Z"
   },
   {
    "duration": 24,
    "start_time": "2022-01-09T18:12:00.528Z"
   },
   {
    "duration": 24,
    "start_time": "2022-01-09T18:12:00.553Z"
   },
   {
    "duration": 3939,
    "start_time": "2022-01-09T18:12:00.579Z"
   },
   {
    "duration": 16,
    "start_time": "2022-01-09T18:12:04.520Z"
   },
   {
    "duration": 10,
    "start_time": "2022-01-09T18:12:04.537Z"
   },
   {
    "duration": 43,
    "start_time": "2022-01-09T18:12:04.549Z"
   },
   {
    "duration": 25998,
    "start_time": "2022-01-09T18:12:04.594Z"
   },
   {
    "duration": 10,
    "start_time": "2022-01-09T18:12:30.594Z"
   },
   {
    "duration": 15,
    "start_time": "2022-01-09T18:12:30.606Z"
   },
   {
    "duration": 20,
    "start_time": "2022-01-09T18:12:30.622Z"
   },
   {
    "duration": 25,
    "start_time": "2022-01-09T18:12:30.644Z"
   },
   {
    "duration": 23,
    "start_time": "2022-01-09T18:12:30.670Z"
   },
   {
    "duration": 41,
    "start_time": "2022-01-09T18:12:30.695Z"
   },
   {
    "duration": 24,
    "start_time": "2022-01-09T18:12:30.738Z"
   },
   {
    "duration": 31,
    "start_time": "2022-01-09T18:12:30.764Z"
   },
   {
    "duration": 15,
    "start_time": "2022-01-09T18:14:10.086Z"
   },
   {
    "duration": 14,
    "start_time": "2022-01-09T18:14:25.526Z"
   },
   {
    "duration": 14,
    "start_time": "2022-01-09T18:14:38.501Z"
   },
   {
    "duration": 14,
    "start_time": "2022-01-09T18:34:08.534Z"
   },
   {
    "duration": 16,
    "start_time": "2022-01-09T18:34:15.956Z"
   },
   {
    "duration": 15,
    "start_time": "2022-01-09T18:34:46.437Z"
   },
   {
    "duration": 196,
    "start_time": "2022-01-09T18:36:12.035Z"
   },
   {
    "duration": 18,
    "start_time": "2022-01-09T18:36:18.799Z"
   },
   {
    "duration": 25,
    "start_time": "2022-01-09T18:36:29.778Z"
   },
   {
    "duration": 20,
    "start_time": "2022-01-09T18:39:37.359Z"
   },
   {
    "duration": 7,
    "start_time": "2022-01-09T18:40:03.361Z"
   },
   {
    "duration": 15,
    "start_time": "2022-01-09T18:40:06.070Z"
   },
   {
    "duration": 17,
    "start_time": "2022-01-09T19:10:42.574Z"
   },
   {
    "duration": 17,
    "start_time": "2022-01-09T19:10:46.369Z"
   },
   {
    "duration": 23,
    "start_time": "2022-01-09T19:11:10.722Z"
   },
   {
    "duration": 44,
    "start_time": "2022-01-09T19:37:10.602Z"
   },
   {
    "duration": 47,
    "start_time": "2022-01-09T19:37:18.514Z"
   },
   {
    "duration": 48,
    "start_time": "2022-01-09T19:37:44.689Z"
   },
   {
    "duration": 42,
    "start_time": "2022-01-09T19:38:02.921Z"
   },
   {
    "duration": 22696,
    "start_time": "2022-01-09T19:38:07.937Z"
   },
   {
    "duration": 22987,
    "start_time": "2022-01-09T19:39:43.464Z"
   },
   {
    "duration": 19407,
    "start_time": "2022-01-09T19:43:09.147Z"
   },
   {
    "duration": 8,
    "start_time": "2022-01-09T19:44:29.393Z"
   },
   {
    "duration": 18765,
    "start_time": "2022-01-09T19:46:44.263Z"
   },
   {
    "duration": 7,
    "start_time": "2022-01-09T19:48:11.731Z"
   },
   {
    "duration": 17704,
    "start_time": "2022-01-09T19:50:22.930Z"
   },
   {
    "duration": 8,
    "start_time": "2022-01-09T19:52:00.799Z"
   },
   {
    "duration": 137,
    "start_time": "2022-01-09T19:52:38.278Z"
   },
   {
    "duration": 16,
    "start_time": "2022-01-09T19:53:31.198Z"
   },
   {
    "duration": 15,
    "start_time": "2022-01-09T20:33:49.066Z"
   },
   {
    "duration": 620,
    "start_time": "2022-01-09T20:50:02.296Z"
   },
   {
    "duration": 22,
    "start_time": "2022-01-09T20:50:02.918Z"
   },
   {
    "duration": 21,
    "start_time": "2022-01-09T20:50:02.942Z"
   },
   {
    "duration": 37,
    "start_time": "2022-01-09T20:50:02.965Z"
   },
   {
    "duration": 4064,
    "start_time": "2022-01-09T20:50:03.004Z"
   },
   {
    "duration": 21790,
    "start_time": "2022-01-09T20:50:07.070Z"
   },
   {
    "duration": 13,
    "start_time": "2022-01-09T20:50:28.862Z"
   },
   {
    "duration": 27,
    "start_time": "2022-01-09T20:50:28.877Z"
   },
   {
    "duration": 35,
    "start_time": "2022-01-09T20:50:28.907Z"
   },
   {
    "duration": 9,
    "start_time": "2022-01-09T20:50:28.944Z"
   },
   {
    "duration": 48,
    "start_time": "2022-01-09T20:50:28.954Z"
   },
   {
    "duration": 8,
    "start_time": "2022-01-09T20:50:29.004Z"
   },
   {
    "duration": 8,
    "start_time": "2022-01-09T20:50:29.014Z"
   },
   {
    "duration": 4281,
    "start_time": "2022-01-09T20:50:29.024Z"
   },
   {
    "duration": 17,
    "start_time": "2022-01-09T20:50:33.308Z"
   },
   {
    "duration": 12,
    "start_time": "2022-01-09T20:50:33.327Z"
   },
   {
    "duration": 53,
    "start_time": "2022-01-09T20:50:33.341Z"
   },
   {
    "duration": 25449,
    "start_time": "2022-01-09T20:50:33.396Z"
   },
   {
    "duration": 9,
    "start_time": "2022-01-09T20:50:58.847Z"
   },
   {
    "duration": 6,
    "start_time": "2022-01-09T20:50:58.858Z"
   },
   {
    "duration": 8,
    "start_time": "2022-01-09T20:50:58.865Z"
   },
   {
    "duration": 15,
    "start_time": "2022-01-09T20:50:58.892Z"
   },
   {
    "duration": 14,
    "start_time": "2022-01-09T20:50:58.910Z"
   },
   {
    "duration": 6,
    "start_time": "2022-01-09T20:50:58.925Z"
   },
   {
    "duration": 15,
    "start_time": "2022-01-09T20:50:58.933Z"
   },
   {
    "duration": 22556,
    "start_time": "2022-01-09T20:50:58.950Z"
   },
   {
    "duration": 8,
    "start_time": "2022-01-09T20:51:21.507Z"
   },
   {
    "duration": 17,
    "start_time": "2022-01-09T20:51:21.516Z"
   },
   {
    "duration": 15,
    "start_time": "2022-01-09T20:51:21.536Z"
   },
   {
    "duration": 1010,
    "start_time": "2022-01-11T09:21:54.057Z"
   },
   {
    "duration": 32,
    "start_time": "2022-01-11T09:21:55.070Z"
   },
   {
    "duration": 58,
    "start_time": "2022-01-11T09:21:55.105Z"
   },
   {
    "duration": 35,
    "start_time": "2022-01-11T09:21:55.167Z"
   },
   {
    "duration": 6704,
    "start_time": "2022-01-11T09:21:55.205Z"
   },
   {
    "duration": 43320,
    "start_time": "2022-01-11T09:22:01.912Z"
   },
   {
    "duration": 39,
    "start_time": "2022-01-11T09:22:45.236Z"
   },
   {
    "duration": 30,
    "start_time": "2022-01-11T09:22:45.278Z"
   },
   {
    "duration": 85,
    "start_time": "2022-01-11T09:22:45.314Z"
   },
   {
    "duration": 14,
    "start_time": "2022-01-11T09:22:45.404Z"
   },
   {
    "duration": 64,
    "start_time": "2022-01-11T09:22:45.421Z"
   },
   {
    "duration": 12,
    "start_time": "2022-01-11T09:22:45.487Z"
   },
   {
    "duration": 17,
    "start_time": "2022-01-11T09:22:45.502Z"
   },
   {
    "duration": 5899,
    "start_time": "2022-01-11T09:22:45.523Z"
   },
   {
    "duration": 23,
    "start_time": "2022-01-11T09:22:51.424Z"
   },
   {
    "duration": 18,
    "start_time": "2022-01-11T09:22:51.463Z"
   },
   {
    "duration": 45,
    "start_time": "2022-01-11T09:22:51.484Z"
   },
   {
    "duration": 39170,
    "start_time": "2022-01-11T09:22:51.532Z"
   },
   {
    "duration": 13,
    "start_time": "2022-01-11T09:23:30.705Z"
   },
   {
    "duration": 16,
    "start_time": "2022-01-11T09:23:30.721Z"
   },
   {
    "duration": 30,
    "start_time": "2022-01-11T09:23:30.739Z"
   },
   {
    "duration": 31,
    "start_time": "2022-01-11T09:23:30.772Z"
   },
   {
    "duration": 21,
    "start_time": "2022-01-11T09:23:30.805Z"
   },
   {
    "duration": 37,
    "start_time": "2022-01-11T09:23:30.829Z"
   },
   {
    "duration": 40,
    "start_time": "2022-01-11T09:23:30.869Z"
   },
   {
    "duration": 38634,
    "start_time": "2022-01-11T09:23:30.912Z"
   },
   {
    "duration": 18,
    "start_time": "2022-01-11T09:24:09.551Z"
   },
   {
    "duration": 23,
    "start_time": "2022-01-11T09:24:09.572Z"
   },
   {
    "duration": 22,
    "start_time": "2022-01-11T09:24:09.598Z"
   },
   {
    "duration": 27,
    "start_time": "2022-01-11T09:28:55.132Z"
   }
  ],
  "kernelspec": {
   "display_name": "Python 3 (ipykernel)",
   "language": "python",
   "name": "python3"
  },
  "language_info": {
   "codemirror_mode": {
    "name": "ipython",
    "version": 3
   },
   "file_extension": ".py",
   "mimetype": "text/x-python",
   "name": "python",
   "nbconvert_exporter": "python",
   "pygments_lexer": "ipython3",
   "version": "3.9.7"
  },
  "toc": {
   "base_numbering": 1,
   "nav_menu": {},
   "number_sections": true,
   "sideBar": true,
   "skip_h1_title": true,
   "title_cell": "Table of Contents",
   "title_sidebar": "Contents",
   "toc_cell": false,
   "toc_position": {
    "height": "calc(100% - 180px)",
    "left": "10px",
    "top": "150px",
    "width": "248px"
   },
   "toc_section_display": true,
   "toc_window_display": true
  }
 },
 "nbformat": 4,
 "nbformat_minor": 2
}
